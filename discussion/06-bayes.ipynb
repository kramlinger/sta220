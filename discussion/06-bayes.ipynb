{
 "cells": [
  {
   "cell_type": "code",
   "execution_count": 1,
   "id": "9138f899",
   "metadata": {},
   "outputs": [],
   "source": [
    "from nltk.corpus import names\n",
    "import nltk\n",
    "import re\n",
    "import random\n",
    "import numpy as np"
   ]
  },
  {
   "cell_type": "code",
   "execution_count": 2,
   "id": "9825b1b6",
   "metadata": {},
   "outputs": [],
   "source": [
    "names = ([(name, 'male') for name in names.words('male.txt')] + \n",
    "         [(name, 'female') for name in names.words('female.txt')])\n",
    "random.shuffle(names)"
   ]
  },
  {
   "cell_type": "code",
   "execution_count": 3,
   "id": "7eeb307b",
   "metadata": {},
   "outputs": [],
   "source": [
    "def last_syllable(word):\n",
    "    word=word.lower()\n",
    "    if len(word) < 3: \n",
    "        return {'feature': word}\n",
    "    else: \n",
    "        pattern=r'(?:[^aeiouy][*aeiouy][^aeiouy]e$)|(?:[^aeiouy][*aeiouy]*[^aeiouy]*$)'\n",
    "        return {'feature': re.findall(pattern, word)[0]}"
   ]
  },
  {
   "cell_type": "code",
   "execution_count": 4,
   "id": "a5372f1f",
   "metadata": {},
   "outputs": [
    {
     "data": {
      "text/plain": [
       "'ter'"
      ]
     },
     "execution_count": 4,
     "metadata": {},
     "output_type": "execute_result"
    }
   ],
   "source": [
    "word='Peter'\n",
    "\n",
    "pattern=r'(?:[^aeiouy][*aeiouy][^aeiouy]e$)|(?:[^aeiouy][*aeiouy]*[^aeiouy]*$)'\n",
    "re.findall(pattern, word)[0]"
   ]
  },
  {
   "cell_type": "code",
   "execution_count": 5,
   "id": "804724f1",
   "metadata": {},
   "outputs": [
    {
     "data": {
      "text/plain": [
       "{'feature': 'ty'}"
      ]
     },
     "execution_count": 5,
     "metadata": {},
     "output_type": "execute_result"
    }
   ],
   "source": [
    "last_syllable(\"Trinity\")"
   ]
  },
  {
   "cell_type": "code",
   "execution_count": 6,
   "id": "49d378b8",
   "metadata": {},
   "outputs": [],
   "source": [
    "featuresets = [(last_syllable(n), g) for n, g in names]\n",
    "train_set, test_set = featuresets[200:], featuresets[:200]\n",
    "\n",
    "classifier = nltk.NaiveBayesClassifier.train(train_set)"
   ]
  },
  {
   "cell_type": "code",
   "execution_count": 7,
   "id": "6988a434",
   "metadata": {},
   "outputs": [
    {
     "data": {
      "text/plain": [
       "0.3002869618251314"
      ]
     },
     "execution_count": 7,
     "metadata": {},
     "output_type": "execute_result"
    }
   ],
   "source": [
    "classifier.prob_classify(last_syllable('Esther')).prob('female')"
   ]
  },
  {
   "cell_type": "code",
   "execution_count": 8,
   "id": "ea86cc15",
   "metadata": {},
   "outputs": [
    {
     "data": {
      "text/plain": [
       "1567"
      ]
     },
     "execution_count": 8,
     "metadata": {},
     "output_type": "execute_result"
    }
   ],
   "source": [
    "features = {f['feature'] for f, g in train_set}\n",
    "len(features)"
   ]
  },
  {
   "cell_type": "code",
   "execution_count": 9,
   "id": "15781bc0",
   "metadata": {},
   "outputs": [
    {
     "data": {
      "text/plain": [
       "7944"
      ]
     },
     "execution_count": 9,
     "metadata": {},
     "output_type": "execute_result"
    }
   ],
   "source": [
    "len(names)"
   ]
  },
  {
   "cell_type": "code",
   "execution_count": 10,
   "id": "b04eef99",
   "metadata": {},
   "outputs": [],
   "source": [
    "probs = [classifier.prob_classify(a).prob('female') for a, b in test_set]\n",
    "labels = [True if a == 'female' else False for _, a in test_set]"
   ]
  },
  {
   "cell_type": "code",
   "execution_count": 11,
   "id": "930136be",
   "metadata": {},
   "outputs": [
    {
     "data": {
      "text/plain": [
       "[True, True, False, True, False, True, True, True, False, False]"
      ]
     },
     "execution_count": 11,
     "metadata": {},
     "output_type": "execute_result"
    }
   ],
   "source": [
    "labels[:10]"
   ]
  },
  {
   "cell_type": "code",
   "execution_count": 12,
   "id": "bcf260ec",
   "metadata": {},
   "outputs": [],
   "source": [
    "def get_probs(fun):\n",
    "\n",
    "    featuresets = [(fun(n), g) for n, g in names]\n",
    "    train_set, test_set = featuresets[2000:], featuresets[:2000]\n",
    "\n",
    "    classifier = nltk.NaiveBayesClassifier.train(train_set)\n",
    "    \n",
    "    global labels\n",
    "    labels = [True if a == 'female' else False for _, a in test_set]\n",
    "    \n",
    "    return [classifier.prob_classify(a).prob('female') for a, b in test_set]"
   ]
  },
  {
   "cell_type": "code",
   "execution_count": 13,
   "id": "d0fb3d84",
   "metadata": {},
   "outputs": [],
   "source": [
    "def last_letter(word):\n",
    "    return {'feature': word[-1]}"
   ]
  },
  {
   "cell_type": "code",
   "execution_count": 14,
   "id": "7d563b14",
   "metadata": {},
   "outputs": [],
   "source": [
    "def first_last_letter(word):\n",
    "    return {'first': word[0], 'last': word[-1]}"
   ]
  },
  {
   "cell_type": "code",
   "execution_count": 15,
   "id": "d0692bf6",
   "metadata": {},
   "outputs": [],
   "source": [
    "def vowels_ratio(word):\n",
    "    word=word.lower()\n",
    "    return {'feature': len(re.sub('[^aeiouy]*', '', word)) / len(word)} "
   ]
  },
  {
   "cell_type": "markdown",
   "id": "25706b13",
   "metadata": {},
   "source": [
    "$$P(label|featureS) \\propto P(featureS|labels) P(label)$$"
   ]
  },
  {
   "cell_type": "markdown",
   "id": "7afafdec",
   "metadata": {},
   "source": [
    "$$P(featureS|labels) = P(feature 1|labels) \\cdot\\dots\\cdot P(feature n|labels)$$"
   ]
  },
  {
   "cell_type": "code",
   "execution_count": 16,
   "id": "dd3fe215",
   "metadata": {},
   "outputs": [],
   "source": [
    "def consonants_vowels(word):\n",
    "    word=word.lower()\n",
    "    return {'vowels': len(re.sub('[^aeiouy]*', '', word)), \n",
    "            'conson': len(re.sub('[aeiouy]*', '', word))} "
   ]
  },
  {
   "cell_type": "code",
   "execution_count": 26,
   "id": "d2cdb7ad",
   "metadata": {},
   "outputs": [
    {
     "data": {
      "text/plain": [
       "{'vowels': 2, 'conson': 3}"
      ]
     },
     "execution_count": 26,
     "metadata": {},
     "output_type": "execute_result"
    }
   ],
   "source": [
    "consonants_vowels('Peter')"
   ]
  },
  {
   "cell_type": "code",
   "execution_count": 22,
   "id": "9e2971f6",
   "metadata": {},
   "outputs": [],
   "source": [
    "p_last_syllable=get_probs(last_syllable)\n",
    "p_last_letter=get_probs(last_letter)"
   ]
  },
  {
   "cell_type": "code",
   "execution_count": 23,
   "id": "bf67fca1",
   "metadata": {},
   "outputs": [],
   "source": [
    "p_first_last_letter=get_probs(first_last_letter)\n",
    "p_consonants_vowels=get_probs(consonants_vowels)\n",
    "\n",
    "p_vowels_ratio=get_probs(vowels_ratio)"
   ]
  },
  {
   "cell_type": "code",
   "execution_count": 24,
   "id": "46b3bbd9",
   "metadata": {},
   "outputs": [],
   "source": [
    "import numpy as np\n",
    "import matplotlib.pyplot as plt\n",
    "from sklearn.metrics import roc_curve, roc_auc_score"
   ]
  },
  {
   "cell_type": "code",
   "execution_count": 25,
   "id": "6d6b9fc2",
   "metadata": {},
   "outputs": [
    {
     "data": {
      "image/png": "[encoded data removed]",
      "text/plain": [
       "<Figure size 640x480 with 1 Axes>"
      ]
     },
     "metadata": {},
     "output_type": "display_data"
    }
   ],
   "source": [
    "fpr, tpr, thresholds = roc_curve(labels, p_last_syllable)\n",
    "auc = roc_auc_score(labels, p_last_syllable)\n",
    "plt.plot(fpr, tpr, label=f'Last syllable (AUC = {auc:.2f})')\n",
    "\n",
    "fpr, tpr, thresholds = roc_curve(labels, p_last_letter)\n",
    "auc = roc_auc_score(labels, p_last_letter)\n",
    "plt.plot(fpr, tpr, label=f'Last letter (AUC = {auc:.2f})')\n",
    "\n",
    "\n",
    "fpr, tpr, thresholds = roc_curve(labels, p_first_last_letter)\n",
    "auc = roc_auc_score(labels, p_first_last_letter)\n",
    "plt.plot(fpr, tpr, label=f'First-last letter (AUC = {auc:.2f})')\n",
    "\n",
    "fpr, tpr, thresholds = roc_curve(labels, p_consonants_vowels)\n",
    "auc = roc_auc_score(labels, p_consonants_vowels)\n",
    "plt.plot(fpr, tpr, label=f'Consonant-vowel (AUC = {auc:.2f})')\n",
    "\n",
    "fpr, tpr, thresholds = roc_curve(labels, p_vowels_ratio)\n",
    "auc = roc_auc_score(labels, p_vowels_ratio)\n",
    "plt.plot(fpr, tpr, label=f'Vowel ratio (AUC = {auc:.2f})')\n",
    "\n",
    "# Set plot labels and title\n",
    "plt.xlabel('FPR')\n",
    "plt.ylabel('TPR')\n",
    "plt.legend()\n",
    "plt.show()"
   ]
  },
  {
   "cell_type": "code",
   "execution_count": null,
   "id": "ff718ec9",
   "metadata": {},
   "outputs": [],
   "source": []
  },
  {
   "cell_type": "code",
   "execution_count": null,
   "id": "306aa819",
   "metadata": {},
   "outputs": [],
   "source": []
  },
  {
   "cell_type": "code",
   "execution_count": null,
   "id": "20134b24",
   "metadata": {},
   "outputs": [],
   "source": []
  }
 ],
 "metadata": {
  "kernelspec": {
   "display_name": "Python 3 (ipykernel)",
   "language": "python",
   "name": "python3"
  },
  "language_info": {
   "codemirror_mode": {
    "name": "ipython",
    "version": 3
   },
   "file_extension": ".py",
   "mimetype": "text/x-python",
   "name": "python",
   "nbconvert_exporter": "python",
   "pygments_lexer": "ipython3",
   "version": "3.9.12"
  }
 },
 "nbformat": 4,
 "nbformat_minor": 5
}
