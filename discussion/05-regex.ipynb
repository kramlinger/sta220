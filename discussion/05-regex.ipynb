{
 "cells": [
  {
   "cell_type": "markdown",
   "id": "7be2bf9d",
   "metadata": {},
   "source": [
    "### Week 5 - Regex"
   ]
  },
  {
   "cell_type": "markdown",
   "id": "4893c2ee",
   "metadata": {},
   "source": [
    "First, note that the splitting by the chapter title pattern is achieved using a **non-capturing group** `(?:...)`: "
   ]
  },
  {
   "cell_type": "code",
   "execution_count": 2,
   "id": "a9f56d20",
   "metadata": {},
   "outputs": [],
   "source": [
    "import nltk.corpus\n",
    "import re\n",
    "\n",
    "moby = nltk.corpus.gutenberg.raw(\"melville-moby_dick.txt\")"
   ]
  },
  {
   "cell_type": "code",
   "execution_count": 11,
   "id": "81ce5160",
   "metadata": {},
   "outputs": [
    {
     "data": {
      "text/plain": [
       "'Call me Ishmael.  Some years ago--never mind how long\\r\\nprecisely--having little or no money in my pu'"
      ]
     },
     "execution_count": 11,
     "metadata": {},
     "output_type": "execute_result"
    }
   ],
   "source": [
    "chapters = re.split(r\"\\s*(?:EXTRACTS|ETYMOLOGY\\.|Epilogue|CHAPTER \\d+)\\s+.+\\n*.+[\\.!\\?\\)]\\s*\", moby)\n",
    "chapters.pop(0) # remove title of novel\n",
    "chapters[2][:100]"
   ]
  },
  {
   "cell_type": "markdown",
   "id": "e6a332b2",
   "metadata": {},
   "source": [
    "Next, lets consider another example. [This](https://en.wikipedia.org/wiki/Around_the_World_in_Eighty_Days) novel contains geographical information, so lets identify all names cities in it and put these on a map. \n",
    "\n",
    "The file is not available in `nltk`, so we need to scrape it. "
   ]
  },
  {
   "cell_type": "code",
   "execution_count": 67,
   "id": "5cdc8f25",
   "metadata": {},
   "outputs": [],
   "source": [
    "import requests_cache\n",
    "from lxml.html import fromstring\n",
    "\n",
    "s=requests_cache.CachedSession()\n",
    "\n",
    "r=s.get(\"https://www.gutenberg.org/files/103/103-h/103-h.htm\")\n",
    "html=fromstring(r.text)\n",
    "\n",
    "corpus=html.xpath('//div[@class=\"chapter\"]/p/text()')"
   ]
  },
  {
   "cell_type": "code",
   "execution_count": 68,
   "id": "f65dd085",
   "metadata": {},
   "outputs": [
    {
     "data": {
      "text/plain": [
       "'\\r\\nMr. Phileas Fogg lived, in 1872, at No. 7, Saville Row, Burlington Gardens, the\\r\\nhouse in which Sheridan died in 1814. He was one of the most noticeable members\\r\\nof the Reform Club, though he seemed always to avoid attracting attention; an\\r\\nenigmatical personage, about whom little was known, except that he was a\\r\\npolished man of the world. People said that he resembled Byron—at least\\r\\nthat his head was Byronic; but he was a bearded, tranquil Byron, who might live\\r\\non a thousand years without growing old.\\r\\n'"
      ]
     },
     "execution_count": 68,
     "metadata": {},
     "output_type": "execute_result"
    }
   ],
   "source": [
    "document=corpus[0]\n",
    "document"
   ]
  },
  {
   "cell_type": "markdown",
   "id": "1590fd49",
   "metadata": {},
   "source": [
    "Using `nltk.ne_chunk` we can identify *named entities*, namely those *geo-political entities (GPE)* that may be city names. "
   ]
  },
  {
   "cell_type": "code",
   "execution_count": 69,
   "id": "b81176c9",
   "metadata": {},
   "outputs": [
    {
     "data": {
      "image/svg+xml": [
       "<svg baseProfile=\"full\" height=\"168px\" preserveAspectRatio=\"xMidYMid meet\" style=\"font-family: times, serif; font-weight: normal; font-style: normal; font-size: 16px;\" version=\"1.1\" viewBox=\"0,0,4824.0,168.0\" width=\"4824px\" xmlns=\"http://www.w3.org/2000/svg\" xmlns:ev=\"http://www.w3.org/2001/xml-events\" xmlns:xlink=\"http://www.w3.org/1999/xlink\"><defs /><svg width=\"100%\" x=\"0\" y=\"0px\"><defs /><text text-anchor=\"middle\" x=\"50%\" y=\"16px\">S</text></svg><svg width=\"0.829187%\" x=\"0%\" y=\"48px\"><defs /><svg width=\"100%\" x=\"0\" y=\"0px\"><defs /><text text-anchor=\"middle\" x=\"50%\" y=\"16px\">Mr</text></svg><svg width=\"100%\" x=\"0%\" y=\"48px\"><defs /><svg width=\"100%\" x=\"0\" y=\"0px\"><defs /><text text-anchor=\"middle\" x=\"50%\" y=\"16px\">NNP</text></svg></svg><line stroke=\"black\" x1=\"50%\" x2=\"50%\" y1=\"19.2px\" y2=\"48px\" /></svg><line stroke=\"black\" x1=\"50%\" x2=\"0.414594%\" y1=\"19.2px\" y2=\"48px\" /><svg width=\"2.48756%\" x=\"0.829187%\" y=\"48px\"><defs /><svg width=\"100%\" x=\"0\" y=\"0px\"><defs /><text text-anchor=\"middle\" x=\"50%\" y=\"16px\">PERSON</text></svg><svg width=\"60%\" x=\"0%\" y=\"48px\"><defs /><svg width=\"100%\" x=\"0\" y=\"0px\"><defs /><text text-anchor=\"middle\" x=\"50%\" y=\"16px\">Phileas</text></svg><svg width=\"100%\" x=\"0%\" y=\"48px\"><defs /><svg width=\"100%\" x=\"0\" y=\"0px\"><defs /><text text-anchor=\"middle\" x=\"50%\" y=\"16px\">NNP</text></svg></svg><line stroke=\"black\" x1=\"50%\" x2=\"50%\" y1=\"19.2px\" y2=\"48px\" /></svg><line stroke=\"black\" x1=\"50%\" x2=\"30%\" y1=\"19.2px\" y2=\"48px\" /><svg width=\"40%\" x=\"60%\" y=\"48px\"><defs /><svg width=\"100%\" x=\"0\" y=\"0px\"><defs /><text text-anchor=\"middle\" x=\"50%\" y=\"16px\">Fogg</text></svg><svg width=\"100%\" x=\"0%\" y=\"48px\"><defs /><svg width=\"100%\" x=\"0\" y=\"0px\"><defs /><text text-anchor=\"middle\" x=\"50%\" y=\"16px\">NNP</text></svg></svg><line stroke=\"black\" x1=\"50%\" x2=\"50%\" y1=\"19.2px\" y2=\"48px\" /></svg><line stroke=\"black\" x1=\"50%\" x2=\"80%\" y1=\"19.2px\" y2=\"48px\" /></svg><line stroke=\"black\" x1=\"50%\" x2=\"2.07297%\" y1=\"19.2px\" y2=\"48px\" /><svg width=\"1.16086%\" x=\"3.31675%\" y=\"48px\"><defs /><svg width=\"100%\" x=\"0\" y=\"0px\"><defs /><text text-anchor=\"middle\" x=\"50%\" y=\"16px\">lived</text></svg><svg width=\"100%\" x=\"0%\" y=\"48px\"><defs /><svg width=\"100%\" x=\"0\" y=\"0px\"><defs /><text text-anchor=\"middle\" x=\"50%\" y=\"16px\">VBD</text></svg></svg><line stroke=\"black\" x1=\"50%\" x2=\"50%\" y1=\"19.2px\" y2=\"48px\" /></svg><line stroke=\"black\" x1=\"50%\" x2=\"3.89718%\" y1=\"19.2px\" y2=\"48px\" /><svg width=\"0.66335%\" x=\"4.47761%\" y=\"48px\"><defs /><svg width=\"100%\" x=\"0\" y=\"0px\"><defs /><text text-anchor=\"middle\" x=\"50%\" y=\"16px\">in</text></svg><svg width=\"100%\" x=\"0%\" y=\"48px\"><defs /><svg width=\"100%\" x=\"0\" y=\"0px\"><defs /><text text-anchor=\"middle\" x=\"50%\" y=\"16px\">IN</text></svg></svg><line stroke=\"black\" x1=\"50%\" x2=\"50%\" y1=\"19.2px\" y2=\"48px\" /></svg><line stroke=\"black\" x1=\"50%\" x2=\"4.80929%\" y1=\"19.2px\" y2=\"48px\" /><svg width=\"0.995025%\" x=\"5.14096%\" y=\"48px\"><defs /><svg width=\"100%\" x=\"0\" y=\"0px\"><defs /><text text-anchor=\"middle\" x=\"50%\" y=\"16px\">1872</text></svg><svg width=\"100%\" x=\"0%\" y=\"48px\"><defs /><svg width=\"100%\" x=\"0\" y=\"0px\"><defs /><text text-anchor=\"middle\" x=\"50%\" y=\"16px\">CD</text></svg></svg><line stroke=\"black\" x1=\"50%\" x2=\"50%\" y1=\"19.2px\" y2=\"48px\" /></svg><line stroke=\"black\" x1=\"50%\" x2=\"5.63847%\" y1=\"19.2px\" y2=\"48px\" /><svg width=\"0.66335%\" x=\"6.13599%\" y=\"48px\"><defs /><svg width=\"100%\" x=\"0\" y=\"0px\"><defs /><text text-anchor=\"middle\" x=\"50%\" y=\"16px\">at</text></svg><svg width=\"100%\" x=\"0%\" y=\"48px\"><defs /><svg width=\"100%\" x=\"0\" y=\"0px\"><defs /><text text-anchor=\"middle\" x=\"50%\" y=\"16px\">IN</text></svg></svg><line stroke=\"black\" x1=\"50%\" x2=\"50%\" y1=\"19.2px\" y2=\"48px\" /></svg><line stroke=\"black\" x1=\"50%\" x2=\"6.46766%\" y1=\"19.2px\" y2=\"48px\" /><svg width=\"2.32172%\" x=\"6.79934%\" y=\"48px\"><defs /><svg width=\"100%\" x=\"0\" y=\"0px\"><defs /><text text-anchor=\"middle\" x=\"50%\" y=\"16px\">ORGANIZATION</text></svg><svg width=\"100%\" x=\"0%\" y=\"48px\"><defs /><svg width=\"100%\" x=\"0\" y=\"0px\"><defs /><text text-anchor=\"middle\" x=\"50%\" y=\"16px\">No</text></svg><svg width=\"100%\" x=\"0%\" y=\"48px\"><defs /><svg width=\"100%\" x=\"0\" y=\"0px\"><defs /><text text-anchor=\"middle\" x=\"50%\" y=\"16px\">DT</text></svg></svg><line stroke=\"black\" x1=\"50%\" x2=\"50%\" y1=\"19.2px\" y2=\"48px\" /></svg><line stroke=\"black\" x1=\"50%\" x2=\"50%\" y1=\"19.2px\" y2=\"48px\" /></svg><line stroke=\"black\" x1=\"50%\" x2=\"7.9602%\" y1=\"19.2px\" y2=\"48px\" /><svg width=\"0.66335%\" x=\"9.12106%\" y=\"48px\"><defs /><svg width=\"100%\" x=\"0\" y=\"0px\"><defs /><text text-anchor=\"middle\" x=\"50%\" y=\"16px\">7</text></svg><svg width=\"100%\" x=\"0%\" y=\"48px\"><defs /><svg width=\"100%\" x=\"0\" y=\"0px\"><defs /><text text-anchor=\"middle\" x=\"50%\" y=\"16px\">CD</text></svg></svg><line stroke=\"black\" x1=\"50%\" x2=\"50%\" y1=\"19.2px\" y2=\"48px\" /></svg><line stroke=\"black\" x1=\"50%\" x2=\"9.45274%\" y1=\"19.2px\" y2=\"48px\" /><svg width=\"4.31177%\" x=\"9.78441%\" y=\"48px\"><defs /><svg width=\"100%\" x=\"0\" y=\"0px\"><defs /><text text-anchor=\"middle\" x=\"50%\" y=\"16px\">PERSON</text></svg><svg width=\"34.6154%\" x=\"0%\" y=\"48px\"><defs /><svg width=\"100%\" x=\"0\" y=\"0px\"><defs /><text text-anchor=\"middle\" x=\"50%\" y=\"16px\">Saville</text></svg><svg width=\"100%\" x=\"0%\" y=\"48px\"><defs /><svg width=\"100%\" x=\"0\" y=\"0px\"><defs /><text text-anchor=\"middle\" x=\"50%\" y=\"16px\">NNP</text></svg></svg><line stroke=\"black\" x1=\"50%\" x2=\"50%\" y1=\"19.2px\" y2=\"48px\" /></svg><line stroke=\"black\" x1=\"50%\" x2=\"17.3077%\" y1=\"19.2px\" y2=\"48px\" /><svg width=\"19.2308%\" x=\"34.6154%\" y=\"48px\"><defs /><svg width=\"100%\" x=\"0\" y=\"0px\"><defs /><text text-anchor=\"middle\" x=\"50%\" y=\"16px\">Row</text></svg><svg width=\"100%\" x=\"0%\" y=\"48px\"><defs /><svg width=\"100%\" x=\"0\" y=\"0px\"><defs /><text text-anchor=\"middle\" x=\"50%\" y=\"16px\">NNP</text></svg></svg><line stroke=\"black\" x1=\"50%\" x2=\"50%\" y1=\"19.2px\" y2=\"48px\" /></svg><line stroke=\"black\" x1=\"50%\" x2=\"44.2308%\" y1=\"19.2px\" y2=\"48px\" /><svg width=\"46.1538%\" x=\"53.8462%\" y=\"48px\"><defs /><svg width=\"100%\" x=\"0\" y=\"0px\"><defs /><text text-anchor=\"middle\" x=\"50%\" y=\"16px\">Burlington</text></svg><svg width=\"100%\" x=\"0%\" y=\"48px\"><defs /><svg width=\"100%\" x=\"0\" y=\"0px\"><defs /><text text-anchor=\"middle\" x=\"50%\" y=\"16px\">NNP</text></svg></svg><line stroke=\"black\" x1=\"50%\" x2=\"50%\" y1=\"19.2px\" y2=\"48px\" /></svg><line stroke=\"black\" x1=\"50%\" x2=\"76.9231%\" y1=\"19.2px\" y2=\"48px\" /></svg><line stroke=\"black\" x1=\"50%\" x2=\"11.9403%\" y1=\"19.2px\" y2=\"48px\" /><svg width=\"1.49254%\" x=\"14.0962%\" y=\"48px\"><defs /><svg width=\"100%\" x=\"0\" y=\"0px\"><defs /><text text-anchor=\"middle\" x=\"50%\" y=\"16px\">Gardens</text></svg><svg width=\"100%\" x=\"0%\" y=\"48px\"><defs /><svg width=\"100%\" x=\"0\" y=\"0px\"><defs /><text text-anchor=\"middle\" x=\"50%\" y=\"16px\">VBZ</text></svg></svg><line stroke=\"black\" x1=\"50%\" x2=\"50%\" y1=\"19.2px\" y2=\"48px\" /></svg><line stroke=\"black\" x1=\"50%\" x2=\"14.8425%\" y1=\"19.2px\" y2=\"48px\" /><svg width=\"0.829187%\" x=\"15.5887%\" y=\"48px\"><defs /><svg width=\"100%\" x=\"0\" y=\"0px\"><defs /><text text-anchor=\"middle\" x=\"50%\" y=\"16px\">the</text></svg><svg width=\"100%\" x=\"0%\" y=\"48px\"><defs /><svg width=\"100%\" x=\"0\" y=\"0px\"><defs /><text text-anchor=\"middle\" x=\"50%\" y=\"16px\">DT</text></svg></svg><line stroke=\"black\" x1=\"50%\" x2=\"50%\" y1=\"19.2px\" y2=\"48px\" /></svg><line stroke=\"black\" x1=\"50%\" x2=\"16.0033%\" y1=\"19.2px\" y2=\"48px\" /><svg width=\"1.16086%\" x=\"16.4179%\" y=\"48px\"><defs /><svg width=\"100%\" x=\"0\" y=\"0px\"><defs /><text text-anchor=\"middle\" x=\"50%\" y=\"16px\">house</text></svg><svg width=\"100%\" x=\"0%\" y=\"48px\"><defs /><svg width=\"100%\" x=\"0\" y=\"0px\"><defs /><text text-anchor=\"middle\" x=\"50%\" y=\"16px\">NN</text></svg></svg><line stroke=\"black\" x1=\"50%\" x2=\"50%\" y1=\"19.2px\" y2=\"48px\" /></svg><line stroke=\"black\" x1=\"50%\" x2=\"16.9983%\" y1=\"19.2px\" y2=\"48px\" /><svg width=\"0.66335%\" x=\"17.5788%\" y=\"48px\"><defs /><svg width=\"100%\" x=\"0\" y=\"0px\"><defs /><text text-anchor=\"middle\" x=\"50%\" y=\"16px\">in</text></svg><svg width=\"100%\" x=\"0%\" y=\"48px\"><defs /><svg width=\"100%\" x=\"0\" y=\"0px\"><defs /><text text-anchor=\"middle\" x=\"50%\" y=\"16px\">IN</text></svg></svg><line stroke=\"black\" x1=\"50%\" x2=\"50%\" y1=\"19.2px\" y2=\"48px\" /></svg><line stroke=\"black\" x1=\"50%\" x2=\"17.9104%\" y1=\"19.2px\" y2=\"48px\" /><svg width=\"1.16086%\" x=\"18.2421%\" y=\"48px\"><defs /><svg width=\"100%\" x=\"0\" y=\"0px\"><defs /><text text-anchor=\"middle\" x=\"50%\" y=\"16px\">which</text></svg><svg width=\"100%\" x=\"0%\" y=\"48px\"><defs /><svg width=\"100%\" x=\"0\" y=\"0px\"><defs /><text text-anchor=\"middle\" x=\"50%\" y=\"16px\">WDT</text></svg></svg><line stroke=\"black\" x1=\"50%\" x2=\"50%\" y1=\"19.2px\" y2=\"48px\" /></svg><line stroke=\"black\" x1=\"50%\" x2=\"18.8226%\" y1=\"19.2px\" y2=\"48px\" /><svg width=\"2.32172%\" x=\"19.403%\" y=\"48px\"><defs /><svg width=\"100%\" x=\"0\" y=\"0px\"><defs /><text text-anchor=\"middle\" x=\"50%\" y=\"16px\">ORGANIZATION</text></svg><svg width=\"100%\" x=\"0%\" y=\"48px\"><defs /><svg width=\"100%\" x=\"0\" y=\"0px\"><defs /><text text-anchor=\"middle\" x=\"50%\" y=\"16px\">Sheridan</text></svg><svg width=\"100%\" x=\"0%\" y=\"48px\"><defs /><svg width=\"100%\" x=\"0\" y=\"0px\"><defs /><text text-anchor=\"middle\" x=\"50%\" y=\"16px\">NNP</text></svg></svg><line stroke=\"black\" x1=\"50%\" x2=\"50%\" y1=\"19.2px\" y2=\"48px\" /></svg><line stroke=\"black\" x1=\"50%\" x2=\"50%\" y1=\"19.2px\" y2=\"48px\" /></svg><line stroke=\"black\" x1=\"50%\" x2=\"20.5638%\" y1=\"19.2px\" y2=\"48px\" /><svg width=\"0.995025%\" x=\"21.7247%\" y=\"48px\"><defs /><svg width=\"100%\" x=\"0\" y=\"0px\"><defs /><text text-anchor=\"middle\" x=\"50%\" y=\"16px\">died</text></svg><svg width=\"100%\" x=\"0%\" y=\"48px\"><defs /><svg width=\"100%\" x=\"0\" y=\"0px\"><defs /><text text-anchor=\"middle\" x=\"50%\" y=\"16px\">VBD</text></svg></svg><line stroke=\"black\" x1=\"50%\" x2=\"50%\" y1=\"19.2px\" y2=\"48px\" /></svg><line stroke=\"black\" x1=\"50%\" x2=\"22.2222%\" y1=\"19.2px\" y2=\"48px\" /><svg width=\"0.66335%\" x=\"22.7197%\" y=\"48px\"><defs /><svg width=\"100%\" x=\"0\" y=\"0px\"><defs /><text text-anchor=\"middle\" x=\"50%\" y=\"16px\">in</text></svg><svg width=\"100%\" x=\"0%\" y=\"48px\"><defs /><svg width=\"100%\" x=\"0\" y=\"0px\"><defs /><text text-anchor=\"middle\" x=\"50%\" y=\"16px\">IN</text></svg></svg><line stroke=\"black\" x1=\"50%\" x2=\"50%\" y1=\"19.2px\" y2=\"48px\" /></svg><line stroke=\"black\" x1=\"50%\" x2=\"23.0514%\" y1=\"19.2px\" y2=\"48px\" /><svg width=\"0.995025%\" x=\"23.3831%\" y=\"48px\"><defs /><svg width=\"100%\" x=\"0\" y=\"0px\"><defs /><text text-anchor=\"middle\" x=\"50%\" y=\"16px\">1814</text></svg><svg width=\"100%\" x=\"0%\" y=\"48px\"><defs /><svg width=\"100%\" x=\"0\" y=\"0px\"><defs /><text text-anchor=\"middle\" x=\"50%\" y=\"16px\">CD</text></svg></svg><line stroke=\"black\" x1=\"50%\" x2=\"50%\" y1=\"19.2px\" y2=\"48px\" /></svg><line stroke=\"black\" x1=\"50%\" x2=\"23.8806%\" y1=\"19.2px\" y2=\"48px\" /><svg width=\"0.829187%\" x=\"24.3781%\" y=\"48px\"><defs /><svg width=\"100%\" x=\"0\" y=\"0px\"><defs /><text text-anchor=\"middle\" x=\"50%\" y=\"16px\">He</text></svg><svg width=\"100%\" x=\"0%\" y=\"48px\"><defs /><svg width=\"100%\" x=\"0\" y=\"0px\"><defs /><text text-anchor=\"middle\" x=\"50%\" y=\"16px\">PRP</text></svg></svg><line stroke=\"black\" x1=\"50%\" x2=\"50%\" y1=\"19.2px\" y2=\"48px\" /></svg><line stroke=\"black\" x1=\"50%\" x2=\"24.7927%\" y1=\"19.2px\" y2=\"48px\" /><svg width=\"0.829187%\" x=\"25.2073%\" y=\"48px\"><defs /><svg width=\"100%\" x=\"0\" y=\"0px\"><defs /><text text-anchor=\"middle\" x=\"50%\" y=\"16px\">was</text></svg><svg width=\"100%\" x=\"0%\" y=\"48px\"><defs /><svg width=\"100%\" x=\"0\" y=\"0px\"><defs /><text text-anchor=\"middle\" x=\"50%\" y=\"16px\">VBD</text></svg></svg><line stroke=\"black\" x1=\"50%\" x2=\"50%\" y1=\"19.2px\" y2=\"48px\" /></svg><line stroke=\"black\" x1=\"50%\" x2=\"25.6219%\" y1=\"19.2px\" y2=\"48px\" /><svg width=\"0.829187%\" x=\"26.0365%\" y=\"48px\"><defs /><svg width=\"100%\" x=\"0\" y=\"0px\"><defs /><text text-anchor=\"middle\" x=\"50%\" y=\"16px\">one</text></svg><svg width=\"100%\" x=\"0%\" y=\"48px\"><defs /><svg width=\"100%\" x=\"0\" y=\"0px\"><defs /><text text-anchor=\"middle\" x=\"50%\" y=\"16px\">CD</text></svg></svg><line stroke=\"black\" x1=\"50%\" x2=\"50%\" y1=\"19.2px\" y2=\"48px\" /></svg><line stroke=\"black\" x1=\"50%\" x2=\"26.4511%\" y1=\"19.2px\" y2=\"48px\" /><svg width=\"0.66335%\" x=\"26.8657%\" y=\"48px\"><defs /><svg width=\"100%\" x=\"0\" y=\"0px\"><defs /><text text-anchor=\"middle\" x=\"50%\" y=\"16px\">of</text></svg><svg width=\"100%\" x=\"0%\" y=\"48px\"><defs /><svg width=\"100%\" x=\"0\" y=\"0px\"><defs /><text text-anchor=\"middle\" x=\"50%\" y=\"16px\">IN</text></svg></svg><line stroke=\"black\" x1=\"50%\" x2=\"50%\" y1=\"19.2px\" y2=\"48px\" /></svg><line stroke=\"black\" x1=\"50%\" x2=\"27.1973%\" y1=\"19.2px\" y2=\"48px\" /><svg width=\"0.829187%\" x=\"27.529%\" y=\"48px\"><defs /><svg width=\"100%\" x=\"0\" y=\"0px\"><defs /><text text-anchor=\"middle\" x=\"50%\" y=\"16px\">the</text></svg><svg width=\"100%\" x=\"0%\" y=\"48px\"><defs /><svg width=\"100%\" x=\"0\" y=\"0px\"><defs /><text text-anchor=\"middle\" x=\"50%\" y=\"16px\">DT</text></svg></svg><line stroke=\"black\" x1=\"50%\" x2=\"50%\" y1=\"19.2px\" y2=\"48px\" /></svg><line stroke=\"black\" x1=\"50%\" x2=\"27.9436%\" y1=\"19.2px\" y2=\"48px\" /><svg width=\"0.995025%\" x=\"28.3582%\" y=\"48px\"><defs /><svg width=\"100%\" x=\"0\" y=\"0px\"><defs /><text text-anchor=\"middle\" x=\"50%\" y=\"16px\">most</text></svg><svg width=\"100%\" x=\"0%\" y=\"48px\"><defs /><svg width=\"100%\" x=\"0\" y=\"0px\"><defs /><text text-anchor=\"middle\" x=\"50%\" y=\"16px\">RBS</text></svg></svg><line stroke=\"black\" x1=\"50%\" x2=\"50%\" y1=\"19.2px\" y2=\"48px\" /></svg><line stroke=\"black\" x1=\"50%\" x2=\"28.8557%\" y1=\"19.2px\" y2=\"48px\" /><svg width=\"1.99005%\" x=\"29.3532%\" y=\"48px\"><defs /><svg width=\"100%\" x=\"0\" y=\"0px\"><defs /><text text-anchor=\"middle\" x=\"50%\" y=\"16px\">noticeable</text></svg><svg width=\"100%\" x=\"0%\" y=\"48px\"><defs /><svg width=\"100%\" x=\"0\" y=\"0px\"><defs /><text text-anchor=\"middle\" x=\"50%\" y=\"16px\">JJ</text></svg></svg><line stroke=\"black\" x1=\"50%\" x2=\"50%\" y1=\"19.2px\" y2=\"48px\" /></svg><line stroke=\"black\" x1=\"50%\" x2=\"30.3483%\" y1=\"19.2px\" y2=\"48px\" /><svg width=\"1.49254%\" x=\"31.3433%\" y=\"48px\"><defs /><svg width=\"100%\" x=\"0\" y=\"0px\"><defs /><text text-anchor=\"middle\" x=\"50%\" y=\"16px\">members</text></svg><svg width=\"100%\" x=\"0%\" y=\"48px\"><defs /><svg width=\"100%\" x=\"0\" y=\"0px\"><defs /><text text-anchor=\"middle\" x=\"50%\" y=\"16px\">NNS</text></svg></svg><line stroke=\"black\" x1=\"50%\" x2=\"50%\" y1=\"19.2px\" y2=\"48px\" /></svg><line stroke=\"black\" x1=\"50%\" x2=\"32.0896%\" y1=\"19.2px\" y2=\"48px\" /><svg width=\"0.66335%\" x=\"32.8358%\" y=\"48px\"><defs /><svg width=\"100%\" x=\"0\" y=\"0px\"><defs /><text text-anchor=\"middle\" x=\"50%\" y=\"16px\">of</text></svg><svg width=\"100%\" x=\"0%\" y=\"48px\"><defs /><svg width=\"100%\" x=\"0\" y=\"0px\"><defs /><text text-anchor=\"middle\" x=\"50%\" y=\"16px\">IN</text></svg></svg><line stroke=\"black\" x1=\"50%\" x2=\"50%\" y1=\"19.2px\" y2=\"48px\" /></svg><line stroke=\"black\" x1=\"50%\" x2=\"33.1675%\" y1=\"19.2px\" y2=\"48px\" /><svg width=\"0.829187%\" x=\"33.4992%\" y=\"48px\"><defs /><svg width=\"100%\" x=\"0\" y=\"0px\"><defs /><text text-anchor=\"middle\" x=\"50%\" y=\"16px\">the</text></svg><svg width=\"100%\" x=\"0%\" y=\"48px\"><defs /><svg width=\"100%\" x=\"0\" y=\"0px\"><defs /><text text-anchor=\"middle\" x=\"50%\" y=\"16px\">DT</text></svg></svg><line stroke=\"black\" x1=\"50%\" x2=\"50%\" y1=\"19.2px\" y2=\"48px\" /></svg><line stroke=\"black\" x1=\"50%\" x2=\"33.9138%\" y1=\"19.2px\" y2=\"48px\" /><svg width=\"2.32172%\" x=\"34.3284%\" y=\"48px\"><defs /><svg width=\"100%\" x=\"0\" y=\"0px\"><defs /><text text-anchor=\"middle\" x=\"50%\" y=\"16px\">ORGANIZATION</text></svg><svg width=\"57.1429%\" x=\"0%\" y=\"48px\"><defs /><svg width=\"100%\" x=\"0\" y=\"0px\"><defs /><text text-anchor=\"middle\" x=\"50%\" y=\"16px\">Reform</text></svg><svg width=\"100%\" x=\"0%\" y=\"48px\"><defs /><svg width=\"100%\" x=\"0\" y=\"0px\"><defs /><text text-anchor=\"middle\" x=\"50%\" y=\"16px\">NNP</text></svg></svg><line stroke=\"black\" x1=\"50%\" x2=\"50%\" y1=\"19.2px\" y2=\"48px\" /></svg><line stroke=\"black\" x1=\"50%\" x2=\"28.5714%\" y1=\"19.2px\" y2=\"48px\" /><svg width=\"42.8571%\" x=\"57.1429%\" y=\"48px\"><defs /><svg width=\"100%\" x=\"0\" y=\"0px\"><defs /><text text-anchor=\"middle\" x=\"50%\" y=\"16px\">Club</text></svg><svg width=\"100%\" x=\"0%\" y=\"48px\"><defs /><svg width=\"100%\" x=\"0\" y=\"0px\"><defs /><text text-anchor=\"middle\" x=\"50%\" y=\"16px\">NNP</text></svg></svg><line stroke=\"black\" x1=\"50%\" x2=\"50%\" y1=\"19.2px\" y2=\"48px\" /></svg><line stroke=\"black\" x1=\"50%\" x2=\"78.5714%\" y1=\"19.2px\" y2=\"48px\" /></svg><line stroke=\"black\" x1=\"50%\" x2=\"35.4892%\" y1=\"19.2px\" y2=\"48px\" /><svg width=\"1.3267%\" x=\"36.6501%\" y=\"48px\"><defs /><svg width=\"100%\" x=\"0\" y=\"0px\"><defs /><text text-anchor=\"middle\" x=\"50%\" y=\"16px\">though</text></svg><svg width=\"100%\" x=\"0%\" y=\"48px\"><defs /><svg width=\"100%\" x=\"0\" y=\"0px\"><defs /><text text-anchor=\"middle\" x=\"50%\" y=\"16px\">IN</text></svg></svg><line stroke=\"black\" x1=\"50%\" x2=\"50%\" y1=\"19.2px\" y2=\"48px\" /></svg><line stroke=\"black\" x1=\"50%\" x2=\"37.3134%\" y1=\"19.2px\" y2=\"48px\" /><svg width=\"0.829187%\" x=\"37.9768%\" y=\"48px\"><defs /><svg width=\"100%\" x=\"0\" y=\"0px\"><defs /><text text-anchor=\"middle\" x=\"50%\" y=\"16px\">he</text></svg><svg width=\"100%\" x=\"0%\" y=\"48px\"><defs /><svg width=\"100%\" x=\"0\" y=\"0px\"><defs /><text text-anchor=\"middle\" x=\"50%\" y=\"16px\">PRP</text></svg></svg><line stroke=\"black\" x1=\"50%\" x2=\"50%\" y1=\"19.2px\" y2=\"48px\" /></svg><line stroke=\"black\" x1=\"50%\" x2=\"38.3914%\" y1=\"19.2px\" y2=\"48px\" /><svg width=\"1.3267%\" x=\"38.806%\" y=\"48px\"><defs /><svg width=\"100%\" x=\"0\" y=\"0px\"><defs /><text text-anchor=\"middle\" x=\"50%\" y=\"16px\">seemed</text></svg><svg width=\"100%\" x=\"0%\" y=\"48px\"><defs /><svg width=\"100%\" x=\"0\" y=\"0px\"><defs /><text text-anchor=\"middle\" x=\"50%\" y=\"16px\">VBD</text></svg></svg><line stroke=\"black\" x1=\"50%\" x2=\"50%\" y1=\"19.2px\" y2=\"48px\" /></svg><line stroke=\"black\" x1=\"50%\" x2=\"39.4693%\" y1=\"19.2px\" y2=\"48px\" /><svg width=\"1.3267%\" x=\"40.1327%\" y=\"48px\"><defs /><svg width=\"100%\" x=\"0\" y=\"0px\"><defs /><text text-anchor=\"middle\" x=\"50%\" y=\"16px\">always</text></svg><svg width=\"100%\" x=\"0%\" y=\"48px\"><defs /><svg width=\"100%\" x=\"0\" y=\"0px\"><defs /><text text-anchor=\"middle\" x=\"50%\" y=\"16px\">RB</text></svg></svg><line stroke=\"black\" x1=\"50%\" x2=\"50%\" y1=\"19.2px\" y2=\"48px\" /></svg><line stroke=\"black\" x1=\"50%\" x2=\"40.796%\" y1=\"19.2px\" y2=\"48px\" /><svg width=\"0.66335%\" x=\"41.4594%\" y=\"48px\"><defs /><svg width=\"100%\" x=\"0\" y=\"0px\"><defs /><text text-anchor=\"middle\" x=\"50%\" y=\"16px\">to</text></svg><svg width=\"100%\" x=\"0%\" y=\"48px\"><defs /><svg width=\"100%\" x=\"0\" y=\"0px\"><defs /><text text-anchor=\"middle\" x=\"50%\" y=\"16px\">TO</text></svg></svg><line stroke=\"black\" x1=\"50%\" x2=\"50%\" y1=\"19.2px\" y2=\"48px\" /></svg><line stroke=\"black\" x1=\"50%\" x2=\"41.791%\" y1=\"19.2px\" y2=\"48px\" /><svg width=\"1.16086%\" x=\"42.1227%\" y=\"48px\"><defs /><svg width=\"100%\" x=\"0\" y=\"0px\"><defs /><text text-anchor=\"middle\" x=\"50%\" y=\"16px\">avoid</text></svg><svg width=\"100%\" x=\"0%\" y=\"48px\"><defs /><svg width=\"100%\" x=\"0\" y=\"0px\"><defs /><text text-anchor=\"middle\" x=\"50%\" y=\"16px\">VB</text></svg></svg><line stroke=\"black\" x1=\"50%\" x2=\"50%\" y1=\"19.2px\" y2=\"48px\" /></svg><line stroke=\"black\" x1=\"50%\" x2=\"42.7032%\" y1=\"19.2px\" y2=\"48px\" /><svg width=\"1.99005%\" x=\"43.2836%\" y=\"48px\"><defs /><svg width=\"100%\" x=\"0\" y=\"0px\"><defs /><text text-anchor=\"middle\" x=\"50%\" y=\"16px\">attracting</text></svg><svg width=\"100%\" x=\"0%\" y=\"48px\"><defs /><svg width=\"100%\" x=\"0\" y=\"0px\"><defs /><text text-anchor=\"middle\" x=\"50%\" y=\"16px\">VBG</text></svg></svg><line stroke=\"black\" x1=\"50%\" x2=\"50%\" y1=\"19.2px\" y2=\"48px\" /></svg><line stroke=\"black\" x1=\"50%\" x2=\"44.2786%\" y1=\"19.2px\" y2=\"48px\" /><svg width=\"1.82421%\" x=\"45.2736%\" y=\"48px\"><defs /><svg width=\"100%\" x=\"0\" y=\"0px\"><defs /><text text-anchor=\"middle\" x=\"50%\" y=\"16px\">attention</text></svg><svg width=\"100%\" x=\"0%\" y=\"48px\"><defs /><svg width=\"100%\" x=\"0\" y=\"0px\"><defs /><text text-anchor=\"middle\" x=\"50%\" y=\"16px\">NN</text></svg></svg><line stroke=\"black\" x1=\"50%\" x2=\"50%\" y1=\"19.2px\" y2=\"48px\" /></svg><line stroke=\"black\" x1=\"50%\" x2=\"46.1857%\" y1=\"19.2px\" y2=\"48px\" /><svg width=\"0.66335%\" x=\"47.0978%\" y=\"48px\"><defs /><svg width=\"100%\" x=\"0\" y=\"0px\"><defs /><text text-anchor=\"middle\" x=\"50%\" y=\"16px\">an</text></svg><svg width=\"100%\" x=\"0%\" y=\"48px\"><defs /><svg width=\"100%\" x=\"0\" y=\"0px\"><defs /><text text-anchor=\"middle\" x=\"50%\" y=\"16px\">DT</text></svg></svg><line stroke=\"black\" x1=\"50%\" x2=\"50%\" y1=\"19.2px\" y2=\"48px\" /></svg><line stroke=\"black\" x1=\"50%\" x2=\"47.4295%\" y1=\"19.2px\" y2=\"48px\" /><svg width=\"2.15589%\" x=\"47.7612%\" y=\"48px\"><defs /><svg width=\"100%\" x=\"0\" y=\"0px\"><defs /><text text-anchor=\"middle\" x=\"50%\" y=\"16px\">enigmatical</text></svg><svg width=\"100%\" x=\"0%\" y=\"48px\"><defs /><svg width=\"100%\" x=\"0\" y=\"0px\"><defs /><text text-anchor=\"middle\" x=\"50%\" y=\"16px\">JJ</text></svg></svg><line stroke=\"black\" x1=\"50%\" x2=\"50%\" y1=\"19.2px\" y2=\"48px\" /></svg><line stroke=\"black\" x1=\"50%\" x2=\"48.8391%\" y1=\"19.2px\" y2=\"48px\" /><svg width=\"1.82421%\" x=\"49.9171%\" y=\"48px\"><defs /><svg width=\"100%\" x=\"0\" y=\"0px\"><defs /><text text-anchor=\"middle\" x=\"50%\" y=\"16px\">personage</text></svg><svg width=\"100%\" x=\"0%\" y=\"48px\"><defs /><svg width=\"100%\" x=\"0\" y=\"0px\"><defs /><text text-anchor=\"middle\" x=\"50%\" y=\"16px\">NN</text></svg></svg><line stroke=\"black\" x1=\"50%\" x2=\"50%\" y1=\"19.2px\" y2=\"48px\" /></svg><line stroke=\"black\" x1=\"50%\" x2=\"50.8292%\" y1=\"19.2px\" y2=\"48px\" /><svg width=\"1.16086%\" x=\"51.7413%\" y=\"48px\"><defs /><svg width=\"100%\" x=\"0\" y=\"0px\"><defs /><text text-anchor=\"middle\" x=\"50%\" y=\"16px\">about</text></svg><svg width=\"100%\" x=\"0%\" y=\"48px\"><defs /><svg width=\"100%\" x=\"0\" y=\"0px\"><defs /><text text-anchor=\"middle\" x=\"50%\" y=\"16px\">IN</text></svg></svg><line stroke=\"black\" x1=\"50%\" x2=\"50%\" y1=\"19.2px\" y2=\"48px\" /></svg><line stroke=\"black\" x1=\"50%\" x2=\"52.3217%\" y1=\"19.2px\" y2=\"48px\" /><svg width=\"0.995025%\" x=\"52.9022%\" y=\"48px\"><defs /><svg width=\"100%\" x=\"0\" y=\"0px\"><defs /><text text-anchor=\"middle\" x=\"50%\" y=\"16px\">whom</text></svg><svg width=\"100%\" x=\"0%\" y=\"48px\"><defs /><svg width=\"100%\" x=\"0\" y=\"0px\"><defs /><text text-anchor=\"middle\" x=\"50%\" y=\"16px\">WP</text></svg></svg><line stroke=\"black\" x1=\"50%\" x2=\"50%\" y1=\"19.2px\" y2=\"48px\" /></svg><line stroke=\"black\" x1=\"50%\" x2=\"53.3997%\" y1=\"19.2px\" y2=\"48px\" /><svg width=\"1.3267%\" x=\"53.8972%\" y=\"48px\"><defs /><svg width=\"100%\" x=\"0\" y=\"0px\"><defs /><text text-anchor=\"middle\" x=\"50%\" y=\"16px\">little</text></svg><svg width=\"100%\" x=\"0%\" y=\"48px\"><defs /><svg width=\"100%\" x=\"0\" y=\"0px\"><defs /><text text-anchor=\"middle\" x=\"50%\" y=\"16px\">JJ</text></svg></svg><line stroke=\"black\" x1=\"50%\" x2=\"50%\" y1=\"19.2px\" y2=\"48px\" /></svg><line stroke=\"black\" x1=\"50%\" x2=\"54.5605%\" y1=\"19.2px\" y2=\"48px\" /><svg width=\"0.829187%\" x=\"55.2239%\" y=\"48px\"><defs /><svg width=\"100%\" x=\"0\" y=\"0px\"><defs /><text text-anchor=\"middle\" x=\"50%\" y=\"16px\">was</text></svg><svg width=\"100%\" x=\"0%\" y=\"48px\"><defs /><svg width=\"100%\" x=\"0\" y=\"0px\"><defs /><text text-anchor=\"middle\" x=\"50%\" y=\"16px\">VBD</text></svg></svg><line stroke=\"black\" x1=\"50%\" x2=\"50%\" y1=\"19.2px\" y2=\"48px\" /></svg><line stroke=\"black\" x1=\"50%\" x2=\"55.6385%\" y1=\"19.2px\" y2=\"48px\" /><svg width=\"1.16086%\" x=\"56.0531%\" y=\"48px\"><defs /><svg width=\"100%\" x=\"0\" y=\"0px\"><defs /><text text-anchor=\"middle\" x=\"50%\" y=\"16px\">known</text></svg><svg width=\"100%\" x=\"0%\" y=\"48px\"><defs /><svg width=\"100%\" x=\"0\" y=\"0px\"><defs /><text text-anchor=\"middle\" x=\"50%\" y=\"16px\">VBN</text></svg></svg><line stroke=\"black\" x1=\"50%\" x2=\"50%\" y1=\"19.2px\" y2=\"48px\" /></svg><line stroke=\"black\" x1=\"50%\" x2=\"56.6335%\" y1=\"19.2px\" y2=\"48px\" /><svg width=\"1.3267%\" x=\"57.2139%\" y=\"48px\"><defs /><svg width=\"100%\" x=\"0\" y=\"0px\"><defs /><text text-anchor=\"middle\" x=\"50%\" y=\"16px\">except</text></svg><svg width=\"100%\" x=\"0%\" y=\"48px\"><defs /><svg width=\"100%\" x=\"0\" y=\"0px\"><defs /><text text-anchor=\"middle\" x=\"50%\" y=\"16px\">IN</text></svg></svg><line stroke=\"black\" x1=\"50%\" x2=\"50%\" y1=\"19.2px\" y2=\"48px\" /></svg><line stroke=\"black\" x1=\"50%\" x2=\"57.8773%\" y1=\"19.2px\" y2=\"48px\" /><svg width=\"0.995025%\" x=\"58.5406%\" y=\"48px\"><defs /><svg width=\"100%\" x=\"0\" y=\"0px\"><defs /><text text-anchor=\"middle\" x=\"50%\" y=\"16px\">that</text></svg><svg width=\"100%\" x=\"0%\" y=\"48px\"><defs /><svg width=\"100%\" x=\"0\" y=\"0px\"><defs /><text text-anchor=\"middle\" x=\"50%\" y=\"16px\">IN</text></svg></svg><line stroke=\"black\" x1=\"50%\" x2=\"50%\" y1=\"19.2px\" y2=\"48px\" /></svg><line stroke=\"black\" x1=\"50%\" x2=\"59.0381%\" y1=\"19.2px\" y2=\"48px\" /><svg width=\"0.829187%\" x=\"59.5357%\" y=\"48px\"><defs /><svg width=\"100%\" x=\"0\" y=\"0px\"><defs /><text text-anchor=\"middle\" x=\"50%\" y=\"16px\">he</text></svg><svg width=\"100%\" x=\"0%\" y=\"48px\"><defs /><svg width=\"100%\" x=\"0\" y=\"0px\"><defs /><text text-anchor=\"middle\" x=\"50%\" y=\"16px\">PRP</text></svg></svg><line stroke=\"black\" x1=\"50%\" x2=\"50%\" y1=\"19.2px\" y2=\"48px\" /></svg><line stroke=\"black\" x1=\"50%\" x2=\"59.9502%\" y1=\"19.2px\" y2=\"48px\" /><svg width=\"0.829187%\" x=\"60.3648%\" y=\"48px\"><defs /><svg width=\"100%\" x=\"0\" y=\"0px\"><defs /><text text-anchor=\"middle\" x=\"50%\" y=\"16px\">was</text></svg><svg width=\"100%\" x=\"0%\" y=\"48px\"><defs /><svg width=\"100%\" x=\"0\" y=\"0px\"><defs /><text text-anchor=\"middle\" x=\"50%\" y=\"16px\">VBD</text></svg></svg><line stroke=\"black\" x1=\"50%\" x2=\"50%\" y1=\"19.2px\" y2=\"48px\" /></svg><line stroke=\"black\" x1=\"50%\" x2=\"60.7794%\" y1=\"19.2px\" y2=\"48px\" /><svg width=\"0.66335%\" x=\"61.194%\" y=\"48px\"><defs /><svg width=\"100%\" x=\"0\" y=\"0px\"><defs /><text text-anchor=\"middle\" x=\"50%\" y=\"16px\">a</text></svg><svg width=\"100%\" x=\"0%\" y=\"48px\"><defs /><svg width=\"100%\" x=\"0\" y=\"0px\"><defs /><text text-anchor=\"middle\" x=\"50%\" y=\"16px\">DT</text></svg></svg><line stroke=\"black\" x1=\"50%\" x2=\"50%\" y1=\"19.2px\" y2=\"48px\" /></svg><line stroke=\"black\" x1=\"50%\" x2=\"61.5257%\" y1=\"19.2px\" y2=\"48px\" /><svg width=\"1.65837%\" x=\"61.8574%\" y=\"48px\"><defs /><svg width=\"100%\" x=\"0\" y=\"0px\"><defs /><text text-anchor=\"middle\" x=\"50%\" y=\"16px\">polished</text></svg><svg width=\"100%\" x=\"0%\" y=\"48px\"><defs /><svg width=\"100%\" x=\"0\" y=\"0px\"><defs /><text text-anchor=\"middle\" x=\"50%\" y=\"16px\">JJ</text></svg></svg><line stroke=\"black\" x1=\"50%\" x2=\"50%\" y1=\"19.2px\" y2=\"48px\" /></svg><line stroke=\"black\" x1=\"50%\" x2=\"62.6866%\" y1=\"19.2px\" y2=\"48px\" /><svg width=\"0.829187%\" x=\"63.5158%\" y=\"48px\"><defs /><svg width=\"100%\" x=\"0\" y=\"0px\"><defs /><text text-anchor=\"middle\" x=\"50%\" y=\"16px\">man</text></svg><svg width=\"100%\" x=\"0%\" y=\"48px\"><defs /><svg width=\"100%\" x=\"0\" y=\"0px\"><defs /><text text-anchor=\"middle\" x=\"50%\" y=\"16px\">NN</text></svg></svg><line stroke=\"black\" x1=\"50%\" x2=\"50%\" y1=\"19.2px\" y2=\"48px\" /></svg><line stroke=\"black\" x1=\"50%\" x2=\"63.9303%\" y1=\"19.2px\" y2=\"48px\" /><svg width=\"0.66335%\" x=\"64.3449%\" y=\"48px\"><defs /><svg width=\"100%\" x=\"0\" y=\"0px\"><defs /><text text-anchor=\"middle\" x=\"50%\" y=\"16px\">of</text></svg><svg width=\"100%\" x=\"0%\" y=\"48px\"><defs /><svg width=\"100%\" x=\"0\" y=\"0px\"><defs /><text text-anchor=\"middle\" x=\"50%\" y=\"16px\">IN</text></svg></svg><line stroke=\"black\" x1=\"50%\" x2=\"50%\" y1=\"19.2px\" y2=\"48px\" /></svg><line stroke=\"black\" x1=\"50%\" x2=\"64.6766%\" y1=\"19.2px\" y2=\"48px\" /><svg width=\"0.829187%\" x=\"65.0083%\" y=\"48px\"><defs /><svg width=\"100%\" x=\"0\" y=\"0px\"><defs /><text text-anchor=\"middle\" x=\"50%\" y=\"16px\">the</text></svg><svg width=\"100%\" x=\"0%\" y=\"48px\"><defs /><svg width=\"100%\" x=\"0\" y=\"0px\"><defs /><text text-anchor=\"middle\" x=\"50%\" y=\"16px\">DT</text></svg></svg><line stroke=\"black\" x1=\"50%\" x2=\"50%\" y1=\"19.2px\" y2=\"48px\" /></svg><line stroke=\"black\" x1=\"50%\" x2=\"65.4229%\" y1=\"19.2px\" y2=\"48px\" /><svg width=\"1.16086%\" x=\"65.8375%\" y=\"48px\"><defs /><svg width=\"100%\" x=\"0\" y=\"0px\"><defs /><text text-anchor=\"middle\" x=\"50%\" y=\"16px\">world</text></svg><svg width=\"100%\" x=\"0%\" y=\"48px\"><defs /><svg width=\"100%\" x=\"0\" y=\"0px\"><defs /><text text-anchor=\"middle\" x=\"50%\" y=\"16px\">NN</text></svg></svg><line stroke=\"black\" x1=\"50%\" x2=\"50%\" y1=\"19.2px\" y2=\"48px\" /></svg><line stroke=\"black\" x1=\"50%\" x2=\"66.4179%\" y1=\"19.2px\" y2=\"48px\" /><svg width=\"1.3267%\" x=\"66.9983%\" y=\"48px\"><defs /><svg width=\"100%\" x=\"0\" y=\"0px\"><defs /><text text-anchor=\"middle\" x=\"50%\" y=\"16px\">PERSON</text></svg><svg width=\"100%\" x=\"0%\" y=\"48px\"><defs /><svg width=\"100%\" x=\"0\" y=\"0px\"><defs /><text text-anchor=\"middle\" x=\"50%\" y=\"16px\">People</text></svg><svg width=\"100%\" x=\"0%\" y=\"48px\"><defs /><svg width=\"100%\" x=\"0\" y=\"0px\"><defs /><text text-anchor=\"middle\" x=\"50%\" y=\"16px\">NNP</text></svg></svg><line stroke=\"black\" x1=\"50%\" x2=\"50%\" y1=\"19.2px\" y2=\"48px\" /></svg><line stroke=\"black\" x1=\"50%\" x2=\"50%\" y1=\"19.2px\" y2=\"48px\" /></svg><line stroke=\"black\" x1=\"50%\" x2=\"67.6617%\" y1=\"19.2px\" y2=\"48px\" /><svg width=\"0.995025%\" x=\"68.325%\" y=\"48px\"><defs /><svg width=\"100%\" x=\"0\" y=\"0px\"><defs /><text text-anchor=\"middle\" x=\"50%\" y=\"16px\">said</text></svg><svg width=\"100%\" x=\"0%\" y=\"48px\"><defs /><svg width=\"100%\" x=\"0\" y=\"0px\"><defs /><text text-anchor=\"middle\" x=\"50%\" y=\"16px\">VBD</text></svg></svg><line stroke=\"black\" x1=\"50%\" x2=\"50%\" y1=\"19.2px\" y2=\"48px\" /></svg><line stroke=\"black\" x1=\"50%\" x2=\"68.8226%\" y1=\"19.2px\" y2=\"48px\" /><svg width=\"0.995025%\" x=\"69.3201%\" y=\"48px\"><defs /><svg width=\"100%\" x=\"0\" y=\"0px\"><defs /><text text-anchor=\"middle\" x=\"50%\" y=\"16px\">that</text></svg><svg width=\"100%\" x=\"0%\" y=\"48px\"><defs /><svg width=\"100%\" x=\"0\" y=\"0px\"><defs /><text text-anchor=\"middle\" x=\"50%\" y=\"16px\">IN</text></svg></svg><line stroke=\"black\" x1=\"50%\" x2=\"50%\" y1=\"19.2px\" y2=\"48px\" /></svg><line stroke=\"black\" x1=\"50%\" x2=\"69.8176%\" y1=\"19.2px\" y2=\"48px\" /><svg width=\"0.829187%\" x=\"70.3151%\" y=\"48px\"><defs /><svg width=\"100%\" x=\"0\" y=\"0px\"><defs /><text text-anchor=\"middle\" x=\"50%\" y=\"16px\">he</text></svg><svg width=\"100%\" x=\"0%\" y=\"48px\"><defs /><svg width=\"100%\" x=\"0\" y=\"0px\"><defs /><text text-anchor=\"middle\" x=\"50%\" y=\"16px\">PRP</text></svg></svg><line stroke=\"black\" x1=\"50%\" x2=\"50%\" y1=\"19.2px\" y2=\"48px\" /></svg><line stroke=\"black\" x1=\"50%\" x2=\"70.7297%\" y1=\"19.2px\" y2=\"48px\" /><svg width=\"1.82421%\" x=\"71.1443%\" y=\"48px\"><defs /><svg width=\"100%\" x=\"0\" y=\"0px\"><defs /><text text-anchor=\"middle\" x=\"50%\" y=\"16px\">resembled</text></svg><svg width=\"100%\" x=\"0%\" y=\"48px\"><defs /><svg width=\"100%\" x=\"0\" y=\"0px\"><defs /><text text-anchor=\"middle\" x=\"50%\" y=\"16px\">VBD</text></svg></svg><line stroke=\"black\" x1=\"50%\" x2=\"50%\" y1=\"19.2px\" y2=\"48px\" /></svg><line stroke=\"black\" x1=\"50%\" x2=\"72.0564%\" y1=\"19.2px\" y2=\"48px\" /><svg width=\"1.3267%\" x=\"72.9685%\" y=\"48px\"><defs /><svg width=\"100%\" x=\"0\" y=\"0px\"><defs /><text text-anchor=\"middle\" x=\"50%\" y=\"16px\">PERSON</text></svg><svg width=\"100%\" x=\"0%\" y=\"48px\"><defs /><svg width=\"100%\" x=\"0\" y=\"0px\"><defs /><text text-anchor=\"middle\" x=\"50%\" y=\"16px\">Byron</text></svg><svg width=\"100%\" x=\"0%\" y=\"48px\"><defs /><svg width=\"100%\" x=\"0\" y=\"0px\"><defs /><text text-anchor=\"middle\" x=\"50%\" y=\"16px\">NNP</text></svg></svg><line stroke=\"black\" x1=\"50%\" x2=\"50%\" y1=\"19.2px\" y2=\"48px\" /></svg><line stroke=\"black\" x1=\"50%\" x2=\"50%\" y1=\"19.2px\" y2=\"48px\" /></svg><line stroke=\"black\" x1=\"50%\" x2=\"73.6318%\" y1=\"19.2px\" y2=\"48px\" /><svg width=\"0.66335%\" x=\"74.2952%\" y=\"48px\"><defs /><svg width=\"100%\" x=\"0\" y=\"0px\"><defs /><text text-anchor=\"middle\" x=\"50%\" y=\"16px\">at</text></svg><svg width=\"100%\" x=\"0%\" y=\"48px\"><defs /><svg width=\"100%\" x=\"0\" y=\"0px\"><defs /><text text-anchor=\"middle\" x=\"50%\" y=\"16px\">IN</text></svg></svg><line stroke=\"black\" x1=\"50%\" x2=\"50%\" y1=\"19.2px\" y2=\"48px\" /></svg><line stroke=\"black\" x1=\"50%\" x2=\"74.6269%\" y1=\"19.2px\" y2=\"48px\" /><svg width=\"1.16086%\" x=\"74.9585%\" y=\"48px\"><defs /><svg width=\"100%\" x=\"0\" y=\"0px\"><defs /><text text-anchor=\"middle\" x=\"50%\" y=\"16px\">least</text></svg><svg width=\"100%\" x=\"0%\" y=\"48px\"><defs /><svg width=\"100%\" x=\"0\" y=\"0px\"><defs /><text text-anchor=\"middle\" x=\"50%\" y=\"16px\">JJS</text></svg></svg><line stroke=\"black\" x1=\"50%\" x2=\"50%\" y1=\"19.2px\" y2=\"48px\" /></svg><line stroke=\"black\" x1=\"50%\" x2=\"75.539%\" y1=\"19.2px\" y2=\"48px\" /><svg width=\"0.995025%\" x=\"76.1194%\" y=\"48px\"><defs /><svg width=\"100%\" x=\"0\" y=\"0px\"><defs /><text text-anchor=\"middle\" x=\"50%\" y=\"16px\">that</text></svg><svg width=\"100%\" x=\"0%\" y=\"48px\"><defs /><svg width=\"100%\" x=\"0\" y=\"0px\"><defs /><text text-anchor=\"middle\" x=\"50%\" y=\"16px\">IN</text></svg></svg><line stroke=\"black\" x1=\"50%\" x2=\"50%\" y1=\"19.2px\" y2=\"48px\" /></svg><line stroke=\"black\" x1=\"50%\" x2=\"76.6169%\" y1=\"19.2px\" y2=\"48px\" /><svg width=\"0.995025%\" x=\"77.1144%\" y=\"48px\"><defs /><svg width=\"100%\" x=\"0\" y=\"0px\"><defs /><text text-anchor=\"middle\" x=\"50%\" y=\"16px\">his</text></svg><svg width=\"100%\" x=\"0%\" y=\"48px\"><defs /><svg width=\"100%\" x=\"0\" y=\"0px\"><defs /><text text-anchor=\"middle\" x=\"50%\" y=\"16px\">PRP$</text></svg></svg><line stroke=\"black\" x1=\"50%\" x2=\"50%\" y1=\"19.2px\" y2=\"48px\" /></svg><line stroke=\"black\" x1=\"50%\" x2=\"77.6119%\" y1=\"19.2px\" y2=\"48px\" /><svg width=\"0.995025%\" x=\"78.1095%\" y=\"48px\"><defs /><svg width=\"100%\" x=\"0\" y=\"0px\"><defs /><text text-anchor=\"middle\" x=\"50%\" y=\"16px\">head</text></svg><svg width=\"100%\" x=\"0%\" y=\"48px\"><defs /><svg width=\"100%\" x=\"0\" y=\"0px\"><defs /><text text-anchor=\"middle\" x=\"50%\" y=\"16px\">NN</text></svg></svg><line stroke=\"black\" x1=\"50%\" x2=\"50%\" y1=\"19.2px\" y2=\"48px\" /></svg><line stroke=\"black\" x1=\"50%\" x2=\"78.607%\" y1=\"19.2px\" y2=\"48px\" /><svg width=\"0.829187%\" x=\"79.1045%\" y=\"48px\"><defs /><svg width=\"100%\" x=\"0\" y=\"0px\"><defs /><text text-anchor=\"middle\" x=\"50%\" y=\"16px\">was</text></svg><svg width=\"100%\" x=\"0%\" y=\"48px\"><defs /><svg width=\"100%\" x=\"0\" y=\"0px\"><defs /><text text-anchor=\"middle\" x=\"50%\" y=\"16px\">VBD</text></svg></svg><line stroke=\"black\" x1=\"50%\" x2=\"50%\" y1=\"19.2px\" y2=\"48px\" /></svg><line stroke=\"black\" x1=\"50%\" x2=\"79.5191%\" y1=\"19.2px\" y2=\"48px\" /><svg width=\"1.49254%\" x=\"79.9337%\" y=\"48px\"><defs /><svg width=\"100%\" x=\"0\" y=\"0px\"><defs /><text text-anchor=\"middle\" x=\"50%\" y=\"16px\">Byronic</text></svg><svg width=\"100%\" x=\"0%\" y=\"48px\"><defs /><svg width=\"100%\" x=\"0\" y=\"0px\"><defs /><text text-anchor=\"middle\" x=\"50%\" y=\"16px\">JJ</text></svg></svg><line stroke=\"black\" x1=\"50%\" x2=\"50%\" y1=\"19.2px\" y2=\"48px\" /></svg><line stroke=\"black\" x1=\"50%\" x2=\"80.6799%\" y1=\"19.2px\" y2=\"48px\" /><svg width=\"0.829187%\" x=\"81.4262%\" y=\"48px\"><defs /><svg width=\"100%\" x=\"0\" y=\"0px\"><defs /><text text-anchor=\"middle\" x=\"50%\" y=\"16px\">but</text></svg><svg width=\"100%\" x=\"0%\" y=\"48px\"><defs /><svg width=\"100%\" x=\"0\" y=\"0px\"><defs /><text text-anchor=\"middle\" x=\"50%\" y=\"16px\">CC</text></svg></svg><line stroke=\"black\" x1=\"50%\" x2=\"50%\" y1=\"19.2px\" y2=\"48px\" /></svg><line stroke=\"black\" x1=\"50%\" x2=\"81.8408%\" y1=\"19.2px\" y2=\"48px\" /><svg width=\"0.829187%\" x=\"82.2554%\" y=\"48px\"><defs /><svg width=\"100%\" x=\"0\" y=\"0px\"><defs /><text text-anchor=\"middle\" x=\"50%\" y=\"16px\">he</text></svg><svg width=\"100%\" x=\"0%\" y=\"48px\"><defs /><svg width=\"100%\" x=\"0\" y=\"0px\"><defs /><text text-anchor=\"middle\" x=\"50%\" y=\"16px\">PRP</text></svg></svg><line stroke=\"black\" x1=\"50%\" x2=\"50%\" y1=\"19.2px\" y2=\"48px\" /></svg><line stroke=\"black\" x1=\"50%\" x2=\"82.67%\" y1=\"19.2px\" y2=\"48px\" /><svg width=\"0.829187%\" x=\"83.0846%\" y=\"48px\"><defs /><svg width=\"100%\" x=\"0\" y=\"0px\"><defs /><text text-anchor=\"middle\" x=\"50%\" y=\"16px\">was</text></svg><svg width=\"100%\" x=\"0%\" y=\"48px\"><defs /><svg width=\"100%\" x=\"0\" y=\"0px\"><defs /><text text-anchor=\"middle\" x=\"50%\" y=\"16px\">VBD</text></svg></svg><line stroke=\"black\" x1=\"50%\" x2=\"50%\" y1=\"19.2px\" y2=\"48px\" /></svg><line stroke=\"black\" x1=\"50%\" x2=\"83.4992%\" y1=\"19.2px\" y2=\"48px\" /><svg width=\"0.66335%\" x=\"83.9138%\" y=\"48px\"><defs /><svg width=\"100%\" x=\"0\" y=\"0px\"><defs /><text text-anchor=\"middle\" x=\"50%\" y=\"16px\">a</text></svg><svg width=\"100%\" x=\"0%\" y=\"48px\"><defs /><svg width=\"100%\" x=\"0\" y=\"0px\"><defs /><text text-anchor=\"middle\" x=\"50%\" y=\"16px\">DT</text></svg></svg><line stroke=\"black\" x1=\"50%\" x2=\"50%\" y1=\"19.2px\" y2=\"48px\" /></svg><line stroke=\"black\" x1=\"50%\" x2=\"84.2454%\" y1=\"19.2px\" y2=\"48px\" /><svg width=\"1.49254%\" x=\"84.5771%\" y=\"48px\"><defs /><svg width=\"100%\" x=\"0\" y=\"0px\"><defs /><text text-anchor=\"middle\" x=\"50%\" y=\"16px\">bearded</text></svg><svg width=\"100%\" x=\"0%\" y=\"48px\"><defs /><svg width=\"100%\" x=\"0\" y=\"0px\"><defs /><text text-anchor=\"middle\" x=\"50%\" y=\"16px\">JJ</text></svg></svg><line stroke=\"black\" x1=\"50%\" x2=\"50%\" y1=\"19.2px\" y2=\"48px\" /></svg><line stroke=\"black\" x1=\"50%\" x2=\"85.3234%\" y1=\"19.2px\" y2=\"48px\" /><svg width=\"1.65837%\" x=\"86.0697%\" y=\"48px\"><defs /><svg width=\"100%\" x=\"0\" y=\"0px\"><defs /><text text-anchor=\"middle\" x=\"50%\" y=\"16px\">tranquil</text></svg><svg width=\"100%\" x=\"0%\" y=\"48px\"><defs /><svg width=\"100%\" x=\"0\" y=\"0px\"><defs /><text text-anchor=\"middle\" x=\"50%\" y=\"16px\">NN</text></svg></svg><line stroke=\"black\" x1=\"50%\" x2=\"50%\" y1=\"19.2px\" y2=\"48px\" /></svg><line stroke=\"black\" x1=\"50%\" x2=\"86.8988%\" y1=\"19.2px\" y2=\"48px\" /><svg width=\"1.3267%\" x=\"87.728%\" y=\"48px\"><defs /><svg width=\"100%\" x=\"0\" y=\"0px\"><defs /><text text-anchor=\"middle\" x=\"50%\" y=\"16px\">PERSON</text></svg><svg width=\"100%\" x=\"0%\" y=\"48px\"><defs /><svg width=\"100%\" x=\"0\" y=\"0px\"><defs /><text text-anchor=\"middle\" x=\"50%\" y=\"16px\">Byron</text></svg><svg width=\"100%\" x=\"0%\" y=\"48px\"><defs /><svg width=\"100%\" x=\"0\" y=\"0px\"><defs /><text text-anchor=\"middle\" x=\"50%\" y=\"16px\">NNP</text></svg></svg><line stroke=\"black\" x1=\"50%\" x2=\"50%\" y1=\"19.2px\" y2=\"48px\" /></svg><line stroke=\"black\" x1=\"50%\" x2=\"50%\" y1=\"19.2px\" y2=\"48px\" /></svg><line stroke=\"black\" x1=\"50%\" x2=\"88.3914%\" y1=\"19.2px\" y2=\"48px\" /><svg width=\"0.829187%\" x=\"89.0547%\" y=\"48px\"><defs /><svg width=\"100%\" x=\"0\" y=\"0px\"><defs /><text text-anchor=\"middle\" x=\"50%\" y=\"16px\">who</text></svg><svg width=\"100%\" x=\"0%\" y=\"48px\"><defs /><svg width=\"100%\" x=\"0\" y=\"0px\"><defs /><text text-anchor=\"middle\" x=\"50%\" y=\"16px\">WP</text></svg></svg><line stroke=\"black\" x1=\"50%\" x2=\"50%\" y1=\"19.2px\" y2=\"48px\" /></svg><line stroke=\"black\" x1=\"50%\" x2=\"89.4693%\" y1=\"19.2px\" y2=\"48px\" /><svg width=\"1.16086%\" x=\"89.8839%\" y=\"48px\"><defs /><svg width=\"100%\" x=\"0\" y=\"0px\"><defs /><text text-anchor=\"middle\" x=\"50%\" y=\"16px\">might</text></svg><svg width=\"100%\" x=\"0%\" y=\"48px\"><defs /><svg width=\"100%\" x=\"0\" y=\"0px\"><defs /><text text-anchor=\"middle\" x=\"50%\" y=\"16px\">MD</text></svg></svg><line stroke=\"black\" x1=\"50%\" x2=\"50%\" y1=\"19.2px\" y2=\"48px\" /></svg><line stroke=\"black\" x1=\"50%\" x2=\"90.4643%\" y1=\"19.2px\" y2=\"48px\" /><svg width=\"0.995025%\" x=\"91.0448%\" y=\"48px\"><defs /><svg width=\"100%\" x=\"0\" y=\"0px\"><defs /><text text-anchor=\"middle\" x=\"50%\" y=\"16px\">live</text></svg><svg width=\"100%\" x=\"0%\" y=\"48px\"><defs /><svg width=\"100%\" x=\"0\" y=\"0px\"><defs /><text text-anchor=\"middle\" x=\"50%\" y=\"16px\">VB</text></svg></svg><line stroke=\"black\" x1=\"50%\" x2=\"50%\" y1=\"19.2px\" y2=\"48px\" /></svg><line stroke=\"black\" x1=\"50%\" x2=\"91.5423%\" y1=\"19.2px\" y2=\"48px\" /><svg width=\"0.66335%\" x=\"92.0398%\" y=\"48px\"><defs /><svg width=\"100%\" x=\"0\" y=\"0px\"><defs /><text text-anchor=\"middle\" x=\"50%\" y=\"16px\">on</text></svg><svg width=\"100%\" x=\"0%\" y=\"48px\"><defs /><svg width=\"100%\" x=\"0\" y=\"0px\"><defs /><text text-anchor=\"middle\" x=\"50%\" y=\"16px\">IN</text></svg></svg><line stroke=\"black\" x1=\"50%\" x2=\"50%\" y1=\"19.2px\" y2=\"48px\" /></svg><line stroke=\"black\" x1=\"50%\" x2=\"92.3715%\" y1=\"19.2px\" y2=\"48px\" /><svg width=\"0.66335%\" x=\"92.7032%\" y=\"48px\"><defs /><svg width=\"100%\" x=\"0\" y=\"0px\"><defs /><text text-anchor=\"middle\" x=\"50%\" y=\"16px\">a</text></svg><svg width=\"100%\" x=\"0%\" y=\"48px\"><defs /><svg width=\"100%\" x=\"0\" y=\"0px\"><defs /><text text-anchor=\"middle\" x=\"50%\" y=\"16px\">DT</text></svg></svg><line stroke=\"black\" x1=\"50%\" x2=\"50%\" y1=\"19.2px\" y2=\"48px\" /></svg><line stroke=\"black\" x1=\"50%\" x2=\"93.0348%\" y1=\"19.2px\" y2=\"48px\" /><svg width=\"1.65837%\" x=\"93.3665%\" y=\"48px\"><defs /><svg width=\"100%\" x=\"0\" y=\"0px\"><defs /><text text-anchor=\"middle\" x=\"50%\" y=\"16px\">thousand</text></svg><svg width=\"100%\" x=\"0%\" y=\"48px\"><defs /><svg width=\"100%\" x=\"0\" y=\"0px\"><defs /><text text-anchor=\"middle\" x=\"50%\" y=\"16px\">CD</text></svg></svg><line stroke=\"black\" x1=\"50%\" x2=\"50%\" y1=\"19.2px\" y2=\"48px\" /></svg><line stroke=\"black\" x1=\"50%\" x2=\"94.1957%\" y1=\"19.2px\" y2=\"48px\" /><svg width=\"1.16086%\" x=\"95.0249%\" y=\"48px\"><defs /><svg width=\"100%\" x=\"0\" y=\"0px\"><defs /><text text-anchor=\"middle\" x=\"50%\" y=\"16px\">years</text></svg><svg width=\"100%\" x=\"0%\" y=\"48px\"><defs /><svg width=\"100%\" x=\"0\" y=\"0px\"><defs /><text text-anchor=\"middle\" x=\"50%\" y=\"16px\">NNS</text></svg></svg><line stroke=\"black\" x1=\"50%\" x2=\"50%\" y1=\"19.2px\" y2=\"48px\" /></svg><line stroke=\"black\" x1=\"50%\" x2=\"95.6053%\" y1=\"19.2px\" y2=\"48px\" /><svg width=\"1.49254%\" x=\"96.1857%\" y=\"48px\"><defs /><svg width=\"100%\" x=\"0\" y=\"0px\"><defs /><text text-anchor=\"middle\" x=\"50%\" y=\"16px\">without</text></svg><svg width=\"100%\" x=\"0%\" y=\"48px\"><defs /><svg width=\"100%\" x=\"0\" y=\"0px\"><defs /><text text-anchor=\"middle\" x=\"50%\" y=\"16px\">IN</text></svg></svg><line stroke=\"black\" x1=\"50%\" x2=\"50%\" y1=\"19.2px\" y2=\"48px\" /></svg><line stroke=\"black\" x1=\"50%\" x2=\"96.932%\" y1=\"19.2px\" y2=\"48px\" /><svg width=\"1.49254%\" x=\"97.6783%\" y=\"48px\"><defs /><svg width=\"100%\" x=\"0\" y=\"0px\"><defs /><text text-anchor=\"middle\" x=\"50%\" y=\"16px\">growing</text></svg><svg width=\"100%\" x=\"0%\" y=\"48px\"><defs /><svg width=\"100%\" x=\"0\" y=\"0px\"><defs /><text text-anchor=\"middle\" x=\"50%\" y=\"16px\">VBG</text></svg></svg><line stroke=\"black\" x1=\"50%\" x2=\"50%\" y1=\"19.2px\" y2=\"48px\" /></svg><line stroke=\"black\" x1=\"50%\" x2=\"98.4245%\" y1=\"19.2px\" y2=\"48px\" /><svg width=\"0.829187%\" x=\"99.1708%\" y=\"48px\"><defs /><svg width=\"100%\" x=\"0\" y=\"0px\"><defs /><text text-anchor=\"middle\" x=\"50%\" y=\"16px\">old</text></svg><svg width=\"100%\" x=\"0%\" y=\"48px\"><defs /><svg width=\"100%\" x=\"0\" y=\"0px\"><defs /><text text-anchor=\"middle\" x=\"50%\" y=\"16px\">JJ</text></svg></svg><line stroke=\"black\" x1=\"50%\" x2=\"50%\" y1=\"19.2px\" y2=\"48px\" /></svg><line stroke=\"black\" x1=\"50%\" x2=\"99.5854%\" y1=\"19.2px\" y2=\"48px\" /></svg>"
      ],
      "text/plain": [
       "Tree('S', [('Mr', 'NNP'), Tree('PERSON', [('Phileas', 'NNP'), ('Fogg', 'NNP')]), ('lived', 'VBD'), ('in', 'IN'), ('1872', 'CD'), ('at', 'IN'), Tree('ORGANIZATION', [('No', 'DT')]), ('7', 'CD'), Tree('PERSON', [('Saville', 'NNP'), ('Row', 'NNP'), ('Burlington', 'NNP')]), ('Gardens', 'VBZ'), ('the', 'DT'), ('house', 'NN'), ('in', 'IN'), ('which', 'WDT'), Tree('ORGANIZATION', [('Sheridan', 'NNP')]), ('died', 'VBD'), ('in', 'IN'), ('1814', 'CD'), ('He', 'PRP'), ('was', 'VBD'), ('one', 'CD'), ('of', 'IN'), ('the', 'DT'), ('most', 'RBS'), ('noticeable', 'JJ'), ('members', 'NNS'), ('of', 'IN'), ('the', 'DT'), Tree('ORGANIZATION', [('Reform', 'NNP'), ('Club', 'NNP')]), ('though', 'IN'), ('he', 'PRP'), ('seemed', 'VBD'), ('always', 'RB'), ('to', 'TO'), ('avoid', 'VB'), ('attracting', 'VBG'), ('attention', 'NN'), ('an', 'DT'), ('enigmatical', 'JJ'), ('personage', 'NN'), ('about', 'IN'), ('whom', 'WP'), ('little', 'JJ'), ('was', 'VBD'), ('known', 'VBN'), ('except', 'IN'), ('that', 'IN'), ('he', 'PRP'), ('was', 'VBD'), ('a', 'DT'), ('polished', 'JJ'), ('man', 'NN'), ('of', 'IN'), ('the', 'DT'), ('world', 'NN'), Tree('PERSON', [('People', 'NNP')]), ('said', 'VBD'), ('that', 'IN'), ('he', 'PRP'), ('resembled', 'VBD'), Tree('PERSON', [('Byron', 'NNP')]), ('at', 'IN'), ('least', 'JJS'), ('that', 'IN'), ('his', 'PRP$'), ('head', 'NN'), ('was', 'VBD'), ('Byronic', 'JJ'), ('but', 'CC'), ('he', 'PRP'), ('was', 'VBD'), ('a', 'DT'), ('bearded', 'JJ'), ('tranquil', 'NN'), Tree('PERSON', [('Byron', 'NNP')]), ('who', 'WP'), ('might', 'MD'), ('live', 'VB'), ('on', 'IN'), ('a', 'DT'), ('thousand', 'CD'), ('years', 'NNS'), ('without', 'IN'), ('growing', 'VBG'), ('old', 'JJ')])"
      ]
     },
     "execution_count": 69,
     "metadata": {},
     "output_type": "execute_result"
    }
   ],
   "source": [
    "words=re.findall(\"\\w+\", document)\n",
    "token=nltk.pos_tag(words)\n",
    "chunk=nltk.ne_chunk(token)\n",
    "chunk"
   ]
  },
  {
   "cell_type": "code",
   "execution_count": 70,
   "id": "07c3bde4",
   "metadata": {},
   "outputs": [
    {
     "data": {
      "text/plain": [
       "[Tree('PERSON', [('Phileas', 'NNP'), ('Fogg', 'NNP')]),\n",
       " Tree('ORGANIZATION', [('No', 'DT')]),\n",
       " Tree('PERSON', [('Saville', 'NNP'), ('Row', 'NNP'), ('Burlington', 'NNP')]),\n",
       " Tree('ORGANIZATION', [('Sheridan', 'NNP')]),\n",
       " Tree('ORGANIZATION', [('Reform', 'NNP'), ('Club', 'NNP')]),\n",
       " Tree('PERSON', [('People', 'NNP')]),\n",
       " Tree('PERSON', [('Byron', 'NNP')]),\n",
       " Tree('PERSON', [('Byron', 'NNP')])]"
      ]
     },
     "execution_count": 70,
     "metadata": {},
     "output_type": "execute_result"
    }
   ],
   "source": [
    "[i for i in chunk if isinstance(i, nltk.Tree)] # first paragraph doesn't contain any GPEs ... "
   ]
  },
  {
   "cell_type": "code",
   "execution_count": 71,
   "id": "3cddfaab",
   "metadata": {},
   "outputs": [],
   "source": [
    "city_candidates=list()\n",
    "for i in chunk: \n",
    "    if isinstance(i, nltk.Tree):\n",
    "        if i.label() == \"GPE\": \n",
    "            city_candidates.append([j[0] for j in i])"
   ]
  },
  {
   "cell_type": "code",
   "execution_count": 72,
   "id": "cdd5b952",
   "metadata": {
    "scrolled": true
   },
   "outputs": [
    {
     "data": {
      "text/plain": [
       "[]"
      ]
     },
     "execution_count": 72,
     "metadata": {},
     "output_type": "execute_result"
    }
   ],
   "source": [
    "city_candidates #... but this logic extracts them "
   ]
  },
  {
   "cell_type": "code",
   "execution_count": 73,
   "id": "ac523b8b",
   "metadata": {
    "scrolled": true
   },
   "outputs": [],
   "source": [
    "def preprocess(document): \n",
    "    \n",
    "    global city_candidates\n",
    "    \n",
    "    words=re.findall(\"\\w+\", document)\n",
    "    token=nltk.pos_tag(words)\n",
    "    chunk=nltk.ne_chunk(token)\n",
    "    \n",
    "    for i in chunk: \n",
    "        if isinstance(i, nltk.Tree):\n",
    "            if i.label() == \"GPE\": \n",
    "                city_candidates.append([j[0] for j in i])\n",
    "    "
   ]
  },
  {
   "cell_type": "code",
   "execution_count": 74,
   "id": "487ab2b2",
   "metadata": {},
   "outputs": [],
   "source": [
    "for document in corpus: \n",
    "    preprocess(document)\n",
    "    \n",
    "city_candidates= set([\" \".join(c) for c in city_candidates])"
   ]
  },
  {
   "cell_type": "code",
   "execution_count": 75,
   "id": "8e81f104",
   "metadata": {},
   "outputs": [
    {
     "data": {
      "text/plain": [
       "{'Aden',\n",
       " 'Africa',\n",
       " 'Ah',\n",
       " 'Alas',\n",
       " 'Allahabad',\n",
       " 'America',\n",
       " 'American',\n",
       " 'Anam',\n",
       " 'Aouda',\n",
       " 'Arabic',\n",
       " 'Armenian',\n",
       " 'Articles',\n",
       " 'Artisan',\n",
       " 'Asia',\n",
       " 'Asian',\n",
       " 'Athens',\n",
       " 'Barnum',\n",
       " 'Behar',\n",
       " 'Below',\n",
       " 'Benares',\n",
       " 'Bengal',\n",
       " 'Between',\n",
       " 'Bombay',\n",
       " 'Book',\n",
       " 'Bordeaux',\n",
       " 'Brahma',\n",
       " 'Brigham',\n",
       " 'Brindisi',\n",
       " 'British',\n",
       " 'Broadway',\n",
       " 'Buddhist',\n",
       " 'Bundelcund',\n",
       " 'Burn',\n",
       " 'Buxar',\n",
       " 'Calais',\n",
       " 'Calcutta',\n",
       " 'California',\n",
       " 'Californian',\n",
       " 'Calm',\n",
       " 'Cambray',\n",
       " 'Captain',\n",
       " 'Cardiff',\n",
       " 'Certain',\n",
       " 'Chance',\n",
       " 'Cheshire',\n",
       " 'Chicago',\n",
       " 'China',\n",
       " 'China America',\n",
       " 'Chinese',\n",
       " 'Chupenie',\n",
       " 'Colonel',\n",
       " 'Colorado',\n",
       " 'Colt',\n",
       " 'Deal',\n",
       " 'Dinner',\n",
       " 'Dublin',\n",
       " 'Dutch',\n",
       " 'Dutchmen',\n",
       " 'Egypt',\n",
       " 'Egyptian',\n",
       " 'Eighty',\n",
       " 'Elephanta',\n",
       " 'Eleven',\n",
       " 'Enfield',\n",
       " 'England',\n",
       " 'England Norway',\n",
       " 'English',\n",
       " 'Europe',\n",
       " 'European',\n",
       " 'Europeans',\n",
       " 'Fix',\n",
       " 'Fogg',\n",
       " 'France',\n",
       " 'Fremont',\n",
       " 'French',\n",
       " 'Germany',\n",
       " 'Good',\n",
       " 'Gothic',\n",
       " 'Great',\n",
       " 'Greenwich',\n",
       " 'Havre',\n",
       " 'Heaven',\n",
       " 'Himalaya',\n",
       " 'Hindoo',\n",
       " 'Holland',\n",
       " 'Hong',\n",
       " 'Hong Kong',\n",
       " 'Hong Kong Fogg',\n",
       " 'Hudson',\n",
       " 'Hurrah',\n",
       " 'Illinois',\n",
       " 'India',\n",
       " 'Indian',\n",
       " 'Indians',\n",
       " 'Indus',\n",
       " 'Iowa',\n",
       " 'Irish',\n",
       " 'Israel',\n",
       " 'Italian',\n",
       " 'Italiens',\n",
       " 'Japan',\n",
       " 'Japanese',\n",
       " 'Jean',\n",
       " 'Jordan',\n",
       " 'Juggernaut',\n",
       " 'Kanherian',\n",
       " 'Kearney',\n",
       " 'Kent',\n",
       " 'Khandeish',\n",
       " 'Kholby',\n",
       " 'Kiouni',\n",
       " 'Kirkland',\n",
       " 'Little',\n",
       " 'Liverpool',\n",
       " 'London',\n",
       " 'Long',\n",
       " 'Long Island',\n",
       " 'Macao',\n",
       " 'Madras',\n",
       " 'Malacca',\n",
       " 'Marylebone',\n",
       " 'Mexico',\n",
       " 'Middle',\n",
       " 'Mikado',\n",
       " 'Missouri',\n",
       " 'Money',\n",
       " 'Monsieur',\n",
       " 'Mormon',\n",
       " 'Mosques',\n",
       " 'Nankin',\n",
       " 'Nebraska',\n",
       " 'Neptune',\n",
       " 'Nevada',\n",
       " 'New Holland',\n",
       " 'New Jersey',\n",
       " 'New York',\n",
       " 'Newfoundland',\n",
       " 'Nobody',\n",
       " 'None',\n",
       " 'North',\n",
       " 'Northern',\n",
       " 'Nothing',\n",
       " 'Oakland',\n",
       " 'Observe',\n",
       " 'Ohio',\n",
       " 'Omaha',\n",
       " 'Oregon',\n",
       " 'Pall',\n",
       " 'Pall Mall',\n",
       " 'Parbleu',\n",
       " 'Paris',\n",
       " 'Parisian',\n",
       " 'Parsee',\n",
       " 'Passepartout',\n",
       " 'Phileas Fogg',\n",
       " 'Pickaroon',\n",
       " 'Pillaji',\n",
       " 'Pirate',\n",
       " 'Please',\n",
       " 'Portuguese',\n",
       " 'Pshaw',\n",
       " 'Queenstown',\n",
       " 'Quite',\n",
       " 'Regent',\n",
       " 'Sacramento',\n",
       " 'Salcette',\n",
       " 'San',\n",
       " 'San Francisco',\n",
       " 'Saville',\n",
       " 'Scotch',\n",
       " 'Scotland Yard',\n",
       " 'Shanghai',\n",
       " 'Silence',\n",
       " 'Singapore',\n",
       " 'Sioux',\n",
       " 'Sir',\n",
       " 'Solomon',\n",
       " 'South',\n",
       " 'Southampton',\n",
       " 'Stop',\n",
       " 'Stuart',\n",
       " 'Suez',\n",
       " 'Sumatra',\n",
       " 'Sweden',\n",
       " 'Tears',\n",
       " 'Total',\n",
       " 'Twelve',\n",
       " 'Twenty',\n",
       " 'United States',\n",
       " 'Uranus',\n",
       " 'Utah',\n",
       " 'Vast',\n",
       " 'Vermont',\n",
       " 'Victoria',\n",
       " 'Wait',\n",
       " 'Was',\n",
       " 'Well',\n",
       " 'Wyoming',\n",
       " 'Yeddo',\n",
       " 'Yokohama'}"
      ]
     },
     "execution_count": 75,
     "metadata": {},
     "output_type": "execute_result"
    }
   ],
   "source": [
    "city_candidates"
   ]
  },
  {
   "cell_type": "code",
   "execution_count": 76,
   "id": "5c27e4a5",
   "metadata": {},
   "outputs": [
    {
     "data": {
      "text/plain": [
       "200"
      ]
     },
     "execution_count": 76,
     "metadata": {},
     "output_type": "execute_result"
    }
   ],
   "source": [
    "len(city_candidates)"
   ]
  },
  {
   "cell_type": "markdown",
   "id": "9527dc09",
   "metadata": {},
   "source": [
    "Some of those candidates are non cities. Lets use the following logic to determine if the candidate is actually a city: \n",
    " (a) Check its wiki page (as well as `name + \" city\"`, to account for, e.g., [New York](https://en.wikipedia.org/wiki/New_York))\n",
    " (b) Determine that it is a city if there is the `\"cities\"` pattern in the category section"
   ]
  },
  {
   "cell_type": "code",
   "execution_count": 77,
   "id": "4568e52e",
   "metadata": {},
   "outputs": [],
   "source": [
    "import time"
   ]
  },
  {
   "cell_type": "code",
   "execution_count": 78,
   "id": "08c0e9b8",
   "metadata": {},
   "outputs": [],
   "source": [
    "def check_for_city(city): \n",
    "    is_city = False\n",
    "    \n",
    "    time.sleep(0.05)\n",
    "    r=s.get(\"https://en.wikipedia.org/wiki/\" + city)\n",
    "    html=fromstring(r.text)\n",
    "\n",
    "    try: \n",
    "        categories=html.xpath('//div[@id=\"mw-normal-catlinks\"]')[0].text_content()\n",
    "    except: \n",
    "        categories=\"\"\n",
    "        \n",
    "    if categories.find('cities') > 0: \n",
    "        is_city = True\n",
    "    elif city.find(\"city\") == -1: \n",
    "        is_city = check_for_city(city + \" city\")\n",
    "    return is_city"
   ]
  },
  {
   "cell_type": "code",
   "execution_count": 79,
   "id": "b309d220",
   "metadata": {},
   "outputs": [
    {
     "data": {
      "text/plain": [
       "True"
      ]
     },
     "execution_count": 79,
     "metadata": {},
     "output_type": "execute_result"
    }
   ],
   "source": [
    "check_for_city(\"Bordeaux\")"
   ]
  },
  {
   "cell_type": "code",
   "execution_count": 80,
   "id": "bed8664b",
   "metadata": {},
   "outputs": [
    {
     "data": {
      "text/plain": [
       "True"
      ]
     },
     "execution_count": 80,
     "metadata": {},
     "output_type": "execute_result"
    }
   ],
   "source": [
    "check_for_city(\"New York\")"
   ]
  },
  {
   "cell_type": "code",
   "execution_count": 81,
   "id": "9bacb841",
   "metadata": {},
   "outputs": [
    {
     "data": {
      "text/plain": [
       "True"
      ]
     },
     "execution_count": 81,
     "metadata": {},
     "output_type": "execute_result"
    }
   ],
   "source": [
    "check_for_city(\"Hong Kong\")"
   ]
  },
  {
   "cell_type": "code",
   "execution_count": 82,
   "id": "10c35388",
   "metadata": {
    "scrolled": true
   },
   "outputs": [
    {
     "data": {
      "text/plain": [
       "False"
      ]
     },
     "execution_count": 82,
     "metadata": {},
     "output_type": "execute_result"
    }
   ],
   "source": [
    "check_for_city(\"France\")"
   ]
  },
  {
   "cell_type": "markdown",
   "id": "a6596817",
   "metadata": {},
   "source": [
    "Very good. Now, for each city, return the coordinates on the top right. "
   ]
  },
  {
   "cell_type": "code",
   "execution_count": 94,
   "id": "518e3d10",
   "metadata": {},
   "outputs": [
    {
     "data": {
      "text/plain": [
       "(22.18, 114.12)"
      ]
     },
     "execution_count": 94,
     "metadata": {},
     "output_type": "execute_result"
    }
   ],
   "source": [
    "city = \"Hong Kong\"\n",
    "\n",
    "r=s.get(\"https://en.wikipedia.org/wiki/\" + city)\n",
    "html=fromstring(r.text)\n",
    "\n",
    "lat=html.xpath('//span[@class=\"latitude\"]/text()')[0]\n",
    "lat=re.sub(\"°\", \".\", lat)\n",
    "lat=re.sub(\"′N|′S\", \"\", lat)\n",
    "lat=float(lat)\n",
    "\n",
    "long=html.xpath('//span[@class=\"longitude\"]/text()')[0]\n",
    "long=re.sub(\"°\", \".\", long)\n",
    "long=re.sub(\"′E|′W\", \"\", long)\n",
    "long=float(long)\n",
    "\n",
    "lat, long"
   ]
  },
  {
   "cell_type": "code",
   "execution_count": 93,
   "id": "985f7292",
   "metadata": {},
   "outputs": [
    {
     "data": {
      "text/plain": [
       "(22.18, 114.12)"
      ]
     },
     "execution_count": 93,
     "metadata": {},
     "output_type": "execute_result"
    }
   ],
   "source": [
    "lat, long"
   ]
  },
  {
   "cell_type": "code",
   "execution_count": 151,
   "id": "2f4da49c",
   "metadata": {},
   "outputs": [],
   "source": [
    "def get_coord(city): \n",
    "    print(city)\n",
    "    is_city = False\n",
    "    \n",
    "    time.sleep(0.05)\n",
    "    r=s.get(\"https://en.wikipedia.org/wiki/\" + city)\n",
    "    html=fromstring(r.text)\n",
    "\n",
    "    try: \n",
    "        categories=html.xpath('//div[@id=\"mw-normal-catlinks\"]')[0].text_content()\n",
    "    except: \n",
    "        categories=\"\"\n",
    "        \n",
    "    if categories.find('cities') > 0: \n",
    "        is_city = True\n",
    "    elif city.find(\"city\") == -1: \n",
    "        is_city = get_coord(city + \" city\")\n",
    "        if not isinstance(is_city, bool): # return coord if there are any\n",
    "            return is_city\n",
    "        \n",
    "    if is_city: \n",
    "        try: \n",
    "            lat_string=html.xpath('//span[@class=\"latitude\"]/text()')[0]\n",
    "            lat=re.findall('\\d*', lat_string)\n",
    "            lat=float(lat[0] + '.' + lat[2]) \n",
    "            if re.search('S', lat_string): \n",
    "                lat = -lat\n",
    "\n",
    "            long_string=html.xpath('//span[@class=\"longitude\"]/text()')[0]\n",
    "            long=re.findall('\\d*', long_string)\n",
    "            long=float(long[0] + '.' + long[2]) \n",
    "            if re.search('W', long_string): \n",
    "                long = -long\n",
    "\n",
    "            return lat, long\n",
    "        except: \n",
    "            is_city = False\n",
    "    \n",
    "    return is_city"
   ]
  },
  {
   "cell_type": "code",
   "execution_count": 152,
   "id": "595f74cb",
   "metadata": {},
   "outputs": [
    {
     "name": "stdout",
     "output_type": "stream",
     "text": [
      "Bordeaux\n"
     ]
    },
    {
     "data": {
      "text/plain": [
       "(44.5, -0.35)"
      ]
     },
     "execution_count": 152,
     "metadata": {},
     "output_type": "execute_result"
    }
   ],
   "source": [
    "get_coord(\"Bordeaux\")"
   ]
  },
  {
   "cell_type": "code",
   "execution_count": 153,
   "id": "fc223b36",
   "metadata": {},
   "outputs": [
    {
     "name": "stdout",
     "output_type": "stream",
     "text": [
      "New York\n",
      "New York city\n"
     ]
    },
    {
     "data": {
      "text/plain": [
       "(40.42, -74.0)"
      ]
     },
     "execution_count": 153,
     "metadata": {},
     "output_type": "execute_result"
    }
   ],
   "source": [
    "get_coord(\"New York\")"
   ]
  },
  {
   "cell_type": "markdown",
   "id": "d8beb6ae",
   "metadata": {},
   "source": [
    "Put all in a pipeline and run! "
   ]
  },
  {
   "cell_type": "code",
   "execution_count": 154,
   "id": "3ea15b1a",
   "metadata": {},
   "outputs": [
    {
     "name": "stdout",
     "output_type": "stream",
     "text": [
      "Benares\n",
      "Silence\n",
      "Silence city\n",
      "Colonel\n",
      "Colonel city\n",
      "San\n",
      "San city\n",
      "Asia\n",
      "Asia city\n",
      "Well\n",
      "Well city\n",
      "Burn\n",
      "Burn city\n",
      "Articles\n",
      "Articles city\n",
      "Nevada\n",
      "Nevada city\n",
      "Scotland Yard\n",
      "Scotland Yard city\n",
      "Good\n",
      "Good city\n",
      "Middle\n",
      "Middle city\n",
      "Mexico\n",
      "Mexico city\n",
      "Phileas Fogg\n",
      "Phileas Fogg city\n",
      "Vast\n",
      "Vast city\n",
      "European\n",
      "European city\n",
      "Salcette\n",
      "Salcette city\n",
      "Pillaji\n",
      "Pillaji city\n",
      "Dinner\n",
      "Dinner city\n",
      "Bombay\n",
      "Eleven\n",
      "Eleven city\n",
      "Calcutta\n",
      "Little\n",
      "Little city\n",
      "Heaven\n",
      "Heaven city\n",
      "Observe\n",
      "Observe city\n",
      "New Jersey\n",
      "New Jersey city\n",
      "Victoria\n",
      "Victoria city\n",
      "Quite\n",
      "Quite city\n",
      "Europe\n",
      "Europe city\n",
      "Mormon\n",
      "Mormon city\n",
      "Captain\n",
      "Captain city\n",
      "Liverpool\n",
      "Greenwich\n",
      "Greenwich city\n",
      "America\n",
      "America city\n",
      "Germany\n",
      "Germany city\n",
      "Eighty\n",
      "Eighty city\n",
      "Ohio\n",
      "Ohio city\n",
      "Jean\n",
      "Jean city\n",
      "Asian\n",
      "Asian city\n",
      "Israel\n",
      "Israel city\n",
      "Fremont\n",
      "Fremont city\n",
      "Wyoming\n",
      "Wyoming city\n",
      "American\n",
      "American city\n",
      "Wait\n",
      "Wait city\n",
      "France\n",
      "France city\n",
      "Certain\n",
      "Certain city\n",
      "Africa\n",
      "Africa city\n",
      "Dutch\n",
      "Dutch city\n",
      "Stop\n",
      "Stop city\n",
      "Uranus\n",
      "Uranus city\n",
      "Cambray\n",
      "Cambray city\n",
      "Athens\n",
      "Athens city\n",
      "Kholby\n",
      "Kholby city\n",
      "Colt\n",
      "Colt city\n",
      "Neptune\n",
      "Neptune city\n",
      "Brigham\n",
      "Brigham city\n",
      "Fogg\n",
      "Fogg city\n",
      "None\n",
      "None city\n",
      "Havre\n",
      "Havre city\n",
      "Brindisi\n",
      "Dublin\n",
      "Chicago\n",
      "Twenty\n",
      "Twenty city\n",
      "New Holland\n",
      "New Holland city\n",
      "Holland\n",
      "Holland city\n",
      "Nothing\n",
      "Nothing city\n",
      "England\n",
      "England city\n",
      "Kiouni\n",
      "Kiouni city\n",
      "Passepartout\n",
      "Passepartout city\n",
      "Chupenie\n",
      "Chupenie city\n",
      "Hong Kong Fogg\n",
      "Hong Kong Fogg city\n",
      "Indians\n",
      "Indians city\n",
      "Macao\n",
      "London\n",
      "Khandeish\n",
      "Khandeish city\n",
      "Money\n",
      "Money city\n",
      "Total\n",
      "Total city\n",
      "Parisian\n",
      "Parisian city\n",
      "Was\n",
      "Was city\n",
      "Bundelcund\n",
      "Bundelcund city\n",
      "Monsieur\n",
      "Monsieur city\n",
      "Pshaw\n",
      "Pshaw city\n",
      "Mosques\n",
      "Mosques city\n",
      "New York\n",
      "New York city\n",
      "Indus\n",
      "Indus city\n",
      "Singapore\n",
      "Singapore city\n",
      "Tears\n",
      "Tears city\n",
      "Between\n",
      "Between city\n",
      "Pickaroon\n",
      "Pickaroon city\n",
      "Irish\n",
      "Irish city\n",
      "Aden\n",
      "Bordeaux\n",
      "Long Island\n",
      "Long Island city\n",
      "Enfield\n",
      "Enfield city\n",
      "Armenian\n",
      "Armenian city\n",
      "Regent\n",
      "Regent city\n",
      "Hindoo\n",
      "Hindoo city\n",
      "Oregon\n",
      "Oregon city\n",
      "Hong Kong\n",
      "Hong\n",
      "Hong city\n",
      "Barnum\n",
      "Barnum city\n",
      "Yeddo\n",
      "Yeddo city\n",
      "Californian\n",
      "Californian city\n",
      "Omaha\n",
      "Omaha city\n",
      "Twelve\n",
      "Twelve city\n",
      "China\n",
      "China city\n",
      "Japan\n",
      "Japan city\n",
      "French\n",
      "French city\n",
      "Pirate\n",
      "Pirate city\n",
      "Below\n",
      "Below city\n",
      "Hurrah\n",
      "Hurrah city\n",
      "Shanghai\n",
      "Please\n",
      "Please city\n",
      "England Norway\n",
      "England Norway city\n",
      "South\n",
      "South city\n",
      "Paris\n",
      "Paris city\n",
      "Alas\n",
      "Alas city\n",
      "Japanese\n",
      "Japanese city\n",
      "Iowa\n",
      "Iowa city\n",
      "Pall Mall\n",
      "Pall Mall city\n",
      "Kearney\n",
      "Kearney city\n",
      "Dutchmen\n",
      "Dutchmen city\n",
      "Brahma\n",
      "Brahma city\n",
      "Long\n",
      "Long city\n",
      "Calais\n",
      "Anam\n",
      "Anam city\n",
      "Great\n",
      "Great city\n",
      "Artisan\n",
      "Artisan city\n",
      "Indian\n",
      "Indian city\n",
      "Egyptian\n",
      "Egyptian city\n",
      "Kirkland\n",
      "Kirkland city\n",
      "Saville\n",
      "Saville city\n",
      "Hudson\n",
      "Hudson city\n",
      "Broadway\n",
      "Broadway city\n",
      "English\n",
      "English city\n",
      "Utah\n",
      "Utah city\n",
      "Elephanta\n",
      "Elephanta city\n",
      "Parsee\n",
      "Parsee city\n",
      "Kanherian\n",
      "Kanherian city\n",
      "Cheshire\n",
      "Cheshire city\n",
      "Behar\n",
      "Behar city\n",
      "Europeans\n",
      "Europeans city\n",
      "Sumatra\n",
      "Sumatra city\n",
      "Suez\n",
      "Chance\n",
      "Chance city\n",
      "Fix\n",
      "Fix city\n",
      "Buddhist\n",
      "Buddhist city\n",
      "Sir\n",
      "Sir city\n",
      "North\n",
      "North city\n",
      "Jordan\n",
      "Jordan city\n",
      "Illinois\n",
      "Illinois city\n",
      "Stuart\n",
      "Stuart city\n",
      "British\n",
      "British city\n",
      "Italiens\n",
      "Italiens city\n",
      "Nebraska\n",
      "Nebraska city\n",
      "Parbleu\n",
      "Parbleu city\n",
      "Kent\n",
      "Kent city\n",
      "Nobody\n",
      "Nobody city\n",
      "Aouda\n",
      "Aouda city\n",
      "California\n",
      "California city\n",
      "Queenstown\n",
      "Queenstown city\n",
      "Deal\n",
      "Deal city\n",
      "Northern\n",
      "Northern city\n",
      "Missouri\n",
      "Missouri city\n",
      "Calm\n",
      "Calm city\n",
      "Juggernaut\n",
      "Juggernaut city\n",
      "Sacramento\n",
      "Vermont\n",
      "Vermont city\n",
      "Arabic\n",
      "Arabic city\n",
      "Marylebone\n",
      "Marylebone city\n",
      "Himalaya\n",
      "Himalaya city\n",
      "Portuguese\n",
      "Portuguese city\n",
      "Chinese\n",
      "Chinese city\n",
      "Colorado\n",
      "Colorado city\n",
      "India\n",
      "India city\n",
      "Bengal\n",
      "Bengal city\n",
      "Newfoundland\n",
      "Newfoundland city\n",
      "Gothic\n",
      "Gothic city\n",
      "United States\n",
      "United States city\n",
      "San Francisco\n",
      "Mikado\n",
      "Mikado city\n",
      "Oakland\n",
      "Egypt\n",
      "Egypt city\n",
      "Italian\n",
      "Italian city\n",
      "Book\n",
      "Book city\n",
      "Madras\n",
      "Ah\n",
      "Ah city\n",
      "Solomon\n",
      "Solomon city\n",
      "Scotch\n",
      "Scotch city\n",
      "Sweden\n",
      "Sweden city\n",
      "Allahabad\n",
      "Cardiff\n",
      "Southampton\n",
      "Nankin\n",
      "Nankin city\n",
      "Yokohama\n",
      "Buxar\n",
      "Buxar city\n",
      "China America\n",
      "China America city\n",
      "Sioux\n",
      "Sioux city\n",
      "Malacca\n",
      "Malacca city\n",
      "Pall\n",
      "Pall city\n"
     ]
    }
   ],
   "source": [
    "coord = {city: get_coord(city) for city in city_candidates}"
   ]
  },
  {
   "cell_type": "code",
   "execution_count": 158,
   "id": "ef3dc01c",
   "metadata": {},
   "outputs": [],
   "source": [
    "cd = {k: v for k, v in coord.items() if v is not False} "
   ]
  },
  {
   "cell_type": "code",
   "execution_count": 180,
   "id": "f290a4b3",
   "metadata": {},
   "outputs": [],
   "source": [
    "import pandas as pd\n",
    "\n",
    "df = pd.DataFrame(cd).T\n",
    "df=df.reset_index()\n",
    "\n",
    "df = df.rename(columns={'index': 'Name', 0: 'latitude', 1: 'longitude'})"
   ]
  },
  {
   "cell_type": "code",
   "execution_count": 181,
   "id": "d7768ec8",
   "metadata": {},
   "outputs": [
    {
     "data": {
      "application/vnd.plotly.v1+json": {
       "config": {
        "plotlyServerURL": "https://plot.ly"
       },
       "data": [
        {
         "hovertemplate": "<b>%{hovertext}</b><br><br>latitude=%{lat}<br>longitude=%{lon}<extra></extra>",
         "hovertext": [
          "Benares",
          "Bombay",
          "Calcutta",
          "Liverpool",
          "Brindisi",
          "Dublin",
          "Chicago",
          "Macao",
          "London",
          "New York",
          "Aden",
          "Bordeaux",
          "Hong Kong",
          "Shanghai",
          "Calais",
          "Suez",
          "California",
          "Sacramento",
          "San Francisco",
          "Oakland",
          "Madras",
          "Allahabad",
          "Cardiff",
          "Southampton",
          "Yokohama"
         ],
         "lat": [
          25.19,
          19.04,
          22.34,
          53.24,
          40.38,
          53.21,
          41.52,
          22.11,
          51.3,
          40.42,
          12.48,
          44.5,
          22.18,
          31.13,
          50.56,
          29.58,
          35.07,
          38.34,
          37.47,
          37.48,
          13.4,
          25.26,
          51.28,
          50.54,
          35.26
         ],
         "legendgroup": "",
         "lon": [
          83,
          72.52,
          88.21,
          -2.59,
          17.56,
          -6.15,
          -87.37,
          113.32,
          -0.7,
          -74,
          45.02,
          -0.35,
          114.12,
          121.28,
          1.51,
          32.33,
          -117.59,
          -121.29,
          -122.25,
          -122.16,
          80.16,
          81.5,
          -3.1,
          -1.24,
          139.38
         ],
         "marker": {
          "color": "#636efa"
         },
         "mode": "markers",
         "name": "",
         "showlegend": false,
         "subplot": "mapbox",
         "type": "scattermapbox"
        }
       ],
       "layout": {
        "legend": {
         "tracegroupgap": 0
        },
        "mapbox": {
         "accesstoken": "pk.eyJ1Ijoia3JhbWxpbmdlciIsImEiOiJjbGRjdWpwcTAwZTdzM3BubjB6MG4yMDRhIn0.ezI-HvFgOFfZpWjmCUhnbg",
         "center": {
          "lat": 35.331199999999995,
          "lon": 13.2448
         },
         "domain": {
          "x": [
           0,
           1
          ],
          "y": [
           0,
           1
          ]
         },
         "zoom": 4
        },
        "margin": {
         "t": 60
        },
        "template": {
         "data": {
          "bar": [
           {
            "error_x": {
             "color": "#2a3f5f"
            },
            "error_y": {
             "color": "#2a3f5f"
            },
            "marker": {
             "line": {
              "color": "#E5ECF6",
              "width": 0.5
             },
             "pattern": {
              "fillmode": "overlay",
              "size": 10,
              "solidity": 0.2
             }
            },
            "type": "bar"
           }
          ],
          "barpolar": [
           {
            "marker": {
             "line": {
              "color": "#E5ECF6",
              "width": 0.5
             },
             "pattern": {
              "fillmode": "overlay",
              "size": 10,
              "solidity": 0.2
             }
            },
            "type": "barpolar"
           }
          ],
          "carpet": [
           {
            "aaxis": {
             "endlinecolor": "#2a3f5f",
             "gridcolor": "white",
             "linecolor": "white",
             "minorgridcolor": "white",
             "startlinecolor": "#2a3f5f"
            },
            "baxis": {
             "endlinecolor": "#2a3f5f",
             "gridcolor": "white",
             "linecolor": "white",
             "minorgridcolor": "white",
             "startlinecolor": "#2a3f5f"
            },
            "type": "carpet"
           }
          ],
          "choropleth": [
           {
            "colorbar": {
             "outlinewidth": 0,
             "ticks": ""
            },
            "type": "choropleth"
           }
          ],
          "contour": [
           {
            "colorbar": {
             "outlinewidth": 0,
             "ticks": ""
            },
            "colorscale": [
             [
              0,
              "#0d0887"
             ],
             [
              0.1111111111111111,
              "#46039f"
             ],
             [
              0.2222222222222222,
              "#7201a8"
             ],
             [
              0.3333333333333333,
              "#9c179e"
             ],
             [
              0.4444444444444444,
              "#bd3786"
             ],
             [
              0.5555555555555556,
              "#d8576b"
             ],
             [
              0.6666666666666666,
              "#ed7953"
             ],
             [
              0.7777777777777778,
              "#fb9f3a"
             ],
             [
              0.8888888888888888,
              "#fdca26"
             ],
             [
              1,
              "#f0f921"
             ]
            ],
            "type": "contour"
           }
          ],
          "contourcarpet": [
           {
            "colorbar": {
             "outlinewidth": 0,
             "ticks": ""
            },
            "type": "contourcarpet"
           }
          ],
          "heatmap": [
           {
            "colorbar": {
             "outlinewidth": 0,
             "ticks": ""
            },
            "colorscale": [
             [
              0,
              "#0d0887"
             ],
             [
              0.1111111111111111,
              "#46039f"
             ],
             [
              0.2222222222222222,
              "#7201a8"
             ],
             [
              0.3333333333333333,
              "#9c179e"
             ],
             [
              0.4444444444444444,
              "#bd3786"
             ],
             [
              0.5555555555555556,
              "#d8576b"
             ],
             [
              0.6666666666666666,
              "#ed7953"
             ],
             [
              0.7777777777777778,
              "#fb9f3a"
             ],
             [
              0.8888888888888888,
              "#fdca26"
             ],
             [
              1,
              "#f0f921"
             ]
            ],
            "type": "heatmap"
           }
          ],
          "heatmapgl": [
           {
            "colorbar": {
             "outlinewidth": 0,
             "ticks": ""
            },
            "colorscale": [
             [
              0,
              "#0d0887"
             ],
             [
              0.1111111111111111,
              "#46039f"
             ],
             [
              0.2222222222222222,
              "#7201a8"
             ],
             [
              0.3333333333333333,
              "#9c179e"
             ],
             [
              0.4444444444444444,
              "#bd3786"
             ],
             [
              0.5555555555555556,
              "#d8576b"
             ],
             [
              0.6666666666666666,
              "#ed7953"
             ],
             [
              0.7777777777777778,
              "#fb9f3a"
             ],
             [
              0.8888888888888888,
              "#fdca26"
             ],
             [
              1,
              "#f0f921"
             ]
            ],
            "type": "heatmapgl"
           }
          ],
          "histogram": [
           {
            "marker": {
             "pattern": {
              "fillmode": "overlay",
              "size": 10,
              "solidity": 0.2
             }
            },
            "type": "histogram"
           }
          ],
          "histogram2d": [
           {
            "colorbar": {
             "outlinewidth": 0,
             "ticks": ""
            },
            "colorscale": [
             [
              0,
              "#0d0887"
             ],
             [
              0.1111111111111111,
              "#46039f"
             ],
             [
              0.2222222222222222,
              "#7201a8"
             ],
             [
              0.3333333333333333,
              "#9c179e"
             ],
             [
              0.4444444444444444,
              "#bd3786"
             ],
             [
              0.5555555555555556,
              "#d8576b"
             ],
             [
              0.6666666666666666,
              "#ed7953"
             ],
             [
              0.7777777777777778,
              "#fb9f3a"
             ],
             [
              0.8888888888888888,
              "#fdca26"
             ],
             [
              1,
              "#f0f921"
             ]
            ],
            "type": "histogram2d"
           }
          ],
          "histogram2dcontour": [
           {
            "colorbar": {
             "outlinewidth": 0,
             "ticks": ""
            },
            "colorscale": [
             [
              0,
              "#0d0887"
             ],
             [
              0.1111111111111111,
              "#46039f"
             ],
             [
              0.2222222222222222,
              "#7201a8"
             ],
             [
              0.3333333333333333,
              "#9c179e"
             ],
             [
              0.4444444444444444,
              "#bd3786"
             ],
             [
              0.5555555555555556,
              "#d8576b"
             ],
             [
              0.6666666666666666,
              "#ed7953"
             ],
             [
              0.7777777777777778,
              "#fb9f3a"
             ],
             [
              0.8888888888888888,
              "#fdca26"
             ],
             [
              1,
              "#f0f921"
             ]
            ],
            "type": "histogram2dcontour"
           }
          ],
          "mesh3d": [
           {
            "colorbar": {
             "outlinewidth": 0,
             "ticks": ""
            },
            "type": "mesh3d"
           }
          ],
          "parcoords": [
           {
            "line": {
             "colorbar": {
              "outlinewidth": 0,
              "ticks": ""
             }
            },
            "type": "parcoords"
           }
          ],
          "pie": [
           {
            "automargin": true,
            "type": "pie"
           }
          ],
          "scatter": [
           {
            "fillpattern": {
             "fillmode": "overlay",
             "size": 10,
             "solidity": 0.2
            },
            "type": "scatter"
           }
          ],
          "scatter3d": [
           {
            "line": {
             "colorbar": {
              "outlinewidth": 0,
              "ticks": ""
             }
            },
            "marker": {
             "colorbar": {
              "outlinewidth": 0,
              "ticks": ""
             }
            },
            "type": "scatter3d"
           }
          ],
          "scattercarpet": [
           {
            "marker": {
             "colorbar": {
              "outlinewidth": 0,
              "ticks": ""
             }
            },
            "type": "scattercarpet"
           }
          ],
          "scattergeo": [
           {
            "marker": {
             "colorbar": {
              "outlinewidth": 0,
              "ticks": ""
             }
            },
            "type": "scattergeo"
           }
          ],
          "scattergl": [
           {
            "marker": {
             "colorbar": {
              "outlinewidth": 0,
              "ticks": ""
             }
            },
            "type": "scattergl"
           }
          ],
          "scattermapbox": [
           {
            "marker": {
             "colorbar": {
              "outlinewidth": 0,
              "ticks": ""
             }
            },
            "type": "scattermapbox"
           }
          ],
          "scatterpolar": [
           {
            "marker": {
             "colorbar": {
              "outlinewidth": 0,
              "ticks": ""
             }
            },
            "type": "scatterpolar"
           }
          ],
          "scatterpolargl": [
           {
            "marker": {
             "colorbar": {
              "outlinewidth": 0,
              "ticks": ""
             }
            },
            "type": "scatterpolargl"
           }
          ],
          "scatterternary": [
           {
            "marker": {
             "colorbar": {
              "outlinewidth": 0,
              "ticks": ""
             }
            },
            "type": "scatterternary"
           }
          ],
          "surface": [
           {
            "colorbar": {
             "outlinewidth": 0,
             "ticks": ""
            },
            "colorscale": [
             [
              0,
              "#0d0887"
             ],
             [
              0.1111111111111111,
              "#46039f"
             ],
             [
              0.2222222222222222,
              "#7201a8"
             ],
             [
              0.3333333333333333,
              "#9c179e"
             ],
             [
              0.4444444444444444,
              "#bd3786"
             ],
             [
              0.5555555555555556,
              "#d8576b"
             ],
             [
              0.6666666666666666,
              "#ed7953"
             ],
             [
              0.7777777777777778,
              "#fb9f3a"
             ],
             [
              0.8888888888888888,
              "#fdca26"
             ],
             [
              1,
              "#f0f921"
             ]
            ],
            "type": "surface"
           }
          ],
          "table": [
           {
            "cells": {
             "fill": {
              "color": "#EBF0F8"
             },
             "line": {
              "color": "white"
             }
            },
            "header": {
             "fill": {
              "color": "#C8D4E3"
             },
             "line": {
              "color": "white"
             }
            },
            "type": "table"
           }
          ]
         },
         "layout": {
          "annotationdefaults": {
           "arrowcolor": "#2a3f5f",
           "arrowhead": 0,
           "arrowwidth": 1
          },
          "autotypenumbers": "strict",
          "coloraxis": {
           "colorbar": {
            "outlinewidth": 0,
            "ticks": ""
           }
          },
          "colorscale": {
           "diverging": [
            [
             0,
             "#8e0152"
            ],
            [
             0.1,
             "#c51b7d"
            ],
            [
             0.2,
             "#de77ae"
            ],
            [
             0.3,
             "#f1b6da"
            ],
            [
             0.4,
             "#fde0ef"
            ],
            [
             0.5,
             "#f7f7f7"
            ],
            [
             0.6,
             "#e6f5d0"
            ],
            [
             0.7,
             "#b8e186"
            ],
            [
             0.8,
             "#7fbc41"
            ],
            [
             0.9,
             "#4d9221"
            ],
            [
             1,
             "#276419"
            ]
           ],
           "sequential": [
            [
             0,
             "#0d0887"
            ],
            [
             0.1111111111111111,
             "#46039f"
            ],
            [
             0.2222222222222222,
             "#7201a8"
            ],
            [
             0.3333333333333333,
             "#9c179e"
            ],
            [
             0.4444444444444444,
             "#bd3786"
            ],
            [
             0.5555555555555556,
             "#d8576b"
            ],
            [
             0.6666666666666666,
             "#ed7953"
            ],
            [
             0.7777777777777778,
             "#fb9f3a"
            ],
            [
             0.8888888888888888,
             "#fdca26"
            ],
            [
             1,
             "#f0f921"
            ]
           ],
           "sequentialminus": [
            [
             0,
             "#0d0887"
            ],
            [
             0.1111111111111111,
             "#46039f"
            ],
            [
             0.2222222222222222,
             "#7201a8"
            ],
            [
             0.3333333333333333,
             "#9c179e"
            ],
            [
             0.4444444444444444,
             "#bd3786"
            ],
            [
             0.5555555555555556,
             "#d8576b"
            ],
            [
             0.6666666666666666,
             "#ed7953"
            ],
            [
             0.7777777777777778,
             "#fb9f3a"
            ],
            [
             0.8888888888888888,
             "#fdca26"
            ],
            [
             1,
             "#f0f921"
            ]
           ]
          },
          "colorway": [
           "#636efa",
           "#EF553B",
           "#00cc96",
           "#ab63fa",
           "#FFA15A",
           "#19d3f3",
           "#FF6692",
           "#B6E880",
           "#FF97FF",
           "#FECB52"
          ],
          "font": {
           "color": "#2a3f5f"
          },
          "geo": {
           "bgcolor": "white",
           "lakecolor": "white",
           "landcolor": "#E5ECF6",
           "showlakes": true,
           "showland": true,
           "subunitcolor": "white"
          },
          "hoverlabel": {
           "align": "left"
          },
          "hovermode": "closest",
          "mapbox": {
           "style": "light"
          },
          "paper_bgcolor": "white",
          "plot_bgcolor": "#E5ECF6",
          "polar": {
           "angularaxis": {
            "gridcolor": "white",
            "linecolor": "white",
            "ticks": ""
           },
           "bgcolor": "#E5ECF6",
           "radialaxis": {
            "gridcolor": "white",
            "linecolor": "white",
            "ticks": ""
           }
          },
          "scene": {
           "xaxis": {
            "backgroundcolor": "#E5ECF6",
            "gridcolor": "white",
            "gridwidth": 2,
            "linecolor": "white",
            "showbackground": true,
            "ticks": "",
            "zerolinecolor": "white"
           },
           "yaxis": {
            "backgroundcolor": "#E5ECF6",
            "gridcolor": "white",
            "gridwidth": 2,
            "linecolor": "white",
            "showbackground": true,
            "ticks": "",
            "zerolinecolor": "white"
           },
           "zaxis": {
            "backgroundcolor": "#E5ECF6",
            "gridcolor": "white",
            "gridwidth": 2,
            "linecolor": "white",
            "showbackground": true,
            "ticks": "",
            "zerolinecolor": "white"
           }
          },
          "shapedefaults": {
           "line": {
            "color": "#2a3f5f"
           }
          },
          "ternary": {
           "aaxis": {
            "gridcolor": "white",
            "linecolor": "white",
            "ticks": ""
           },
           "baxis": {
            "gridcolor": "white",
            "linecolor": "white",
            "ticks": ""
           },
           "bgcolor": "#E5ECF6",
           "caxis": {
            "gridcolor": "white",
            "linecolor": "white",
            "ticks": ""
           }
          },
          "title": {
           "x": 0.05
          },
          "xaxis": {
           "automargin": true,
           "gridcolor": "white",
           "linecolor": "white",
           "ticks": "",
           "title": {
            "standoff": 15
           },
           "zerolinecolor": "white",
           "zerolinewidth": 2
          },
          "yaxis": {
           "automargin": true,
           "gridcolor": "white",
           "linecolor": "white",
           "ticks": "",
           "title": {
            "standoff": 15
           },
           "zerolinecolor": "white",
           "zerolinewidth": 2
          }
         }
        }
       }
      },
      "text/html": [
       "<div>                            <div id=\"ec6d044f-55d9-46b4-971b-117f80da44c7\" class=\"plotly-graph-div\" style=\"height:525px; width:100%;\"></div>            <script type=\"text/javascript\">                require([\"plotly\"], function(Plotly) {                    window.PLOTLYENV=window.PLOTLYENV || {};                                    if (document.getElementById(\"ec6d044f-55d9-46b4-971b-117f80da44c7\")) {                    Plotly.newPlot(                        \"ec6d044f-55d9-46b4-971b-117f80da44c7\",                        [{\"hovertemplate\":\"\\u003cb\\u003e%{hovertext}\\u003c\\u002fb\\u003e\\u003cbr\\u003e\\u003cbr\\u003elatitude=%{lat}\\u003cbr\\u003elongitude=%{lon}\\u003cextra\\u003e\\u003c\\u002fextra\\u003e\",\"hovertext\":[\"Benares\",\"Bombay\",\"Calcutta\",\"Liverpool\",\"Brindisi\",\"Dublin\",\"Chicago\",\"Macao\",\"London\",\"New York\",\"Aden\",\"Bordeaux\",\"Hong Kong\",\"Shanghai\",\"Calais\",\"Suez\",\"California\",\"Sacramento\",\"San Francisco\",\"Oakland\",\"Madras\",\"Allahabad\",\"Cardiff\",\"Southampton\",\"Yokohama\"],\"lat\":[25.19,19.04,22.34,53.24,40.38,53.21,41.52,22.11,51.3,40.42,12.48,44.5,22.18,31.13,50.56,29.58,35.07,38.34,37.47,37.48,13.4,25.26,51.28,50.54,35.26],\"legendgroup\":\"\",\"lon\":[83.0,72.52,88.21,-2.59,17.56,-6.15,-87.37,113.32,-0.7,-74.0,45.02,-0.35,114.12,121.28,1.51,32.33,-117.59,-121.29,-122.25,-122.16,80.16,81.5,-3.1,-1.24,139.38],\"marker\":{\"color\":\"#636efa\"},\"mode\":\"markers\",\"name\":\"\",\"showlegend\":false,\"subplot\":\"mapbox\",\"type\":\"scattermapbox\"}],                        {\"template\":{\"data\":{\"histogram2dcontour\":[{\"type\":\"histogram2dcontour\",\"colorbar\":{\"outlinewidth\":0,\"ticks\":\"\"},\"colorscale\":[[0.0,\"#0d0887\"],[0.1111111111111111,\"#46039f\"],[0.2222222222222222,\"#7201a8\"],[0.3333333333333333,\"#9c179e\"],[0.4444444444444444,\"#bd3786\"],[0.5555555555555556,\"#d8576b\"],[0.6666666666666666,\"#ed7953\"],[0.7777777777777778,\"#fb9f3a\"],[0.8888888888888888,\"#fdca26\"],[1.0,\"#f0f921\"]]}],\"choropleth\":[{\"type\":\"choropleth\",\"colorbar\":{\"outlinewidth\":0,\"ticks\":\"\"}}],\"histogram2d\":[{\"type\":\"histogram2d\",\"colorbar\":{\"outlinewidth\":0,\"ticks\":\"\"},\"colorscale\":[[0.0,\"#0d0887\"],[0.1111111111111111,\"#46039f\"],[0.2222222222222222,\"#7201a8\"],[0.3333333333333333,\"#9c179e\"],[0.4444444444444444,\"#bd3786\"],[0.5555555555555556,\"#d8576b\"],[0.6666666666666666,\"#ed7953\"],[0.7777777777777778,\"#fb9f3a\"],[0.8888888888888888,\"#fdca26\"],[1.0,\"#f0f921\"]]}],\"heatmap\":[{\"type\":\"heatmap\",\"colorbar\":{\"outlinewidth\":0,\"ticks\":\"\"},\"colorscale\":[[0.0,\"#0d0887\"],[0.1111111111111111,\"#46039f\"],[0.2222222222222222,\"#7201a8\"],[0.3333333333333333,\"#9c179e\"],[0.4444444444444444,\"#bd3786\"],[0.5555555555555556,\"#d8576b\"],[0.6666666666666666,\"#ed7953\"],[0.7777777777777778,\"#fb9f3a\"],[0.8888888888888888,\"#fdca26\"],[1.0,\"#f0f921\"]]}],\"heatmapgl\":[{\"type\":\"heatmapgl\",\"colorbar\":{\"outlinewidth\":0,\"ticks\":\"\"},\"colorscale\":[[0.0,\"#0d0887\"],[0.1111111111111111,\"#46039f\"],[0.2222222222222222,\"#7201a8\"],[0.3333333333333333,\"#9c179e\"],[0.4444444444444444,\"#bd3786\"],[0.5555555555555556,\"#d8576b\"],[0.6666666666666666,\"#ed7953\"],[0.7777777777777778,\"#fb9f3a\"],[0.8888888888888888,\"#fdca26\"],[1.0,\"#f0f921\"]]}],\"contourcarpet\":[{\"type\":\"contourcarpet\",\"colorbar\":{\"outlinewidth\":0,\"ticks\":\"\"}}],\"contour\":[{\"type\":\"contour\",\"colorbar\":{\"outlinewidth\":0,\"ticks\":\"\"},\"colorscale\":[[0.0,\"#0d0887\"],[0.1111111111111111,\"#46039f\"],[0.2222222222222222,\"#7201a8\"],[0.3333333333333333,\"#9c179e\"],[0.4444444444444444,\"#bd3786\"],[0.5555555555555556,\"#d8576b\"],[0.6666666666666666,\"#ed7953\"],[0.7777777777777778,\"#fb9f3a\"],[0.8888888888888888,\"#fdca26\"],[1.0,\"#f0f921\"]]}],\"surface\":[{\"type\":\"surface\",\"colorbar\":{\"outlinewidth\":0,\"ticks\":\"\"},\"colorscale\":[[0.0,\"#0d0887\"],[0.1111111111111111,\"#46039f\"],[0.2222222222222222,\"#7201a8\"],[0.3333333333333333,\"#9c179e\"],[0.4444444444444444,\"#bd3786\"],[0.5555555555555556,\"#d8576b\"],[0.6666666666666666,\"#ed7953\"],[0.7777777777777778,\"#fb9f3a\"],[0.8888888888888888,\"#fdca26\"],[1.0,\"#f0f921\"]]}],\"mesh3d\":[{\"type\":\"mesh3d\",\"colorbar\":{\"outlinewidth\":0,\"ticks\":\"\"}}],\"scatter\":[{\"fillpattern\":{\"fillmode\":\"overlay\",\"size\":10,\"solidity\":0.2},\"type\":\"scatter\"}],\"parcoords\":[{\"type\":\"parcoords\",\"line\":{\"colorbar\":{\"outlinewidth\":0,\"ticks\":\"\"}}}],\"scatterpolargl\":[{\"type\":\"scatterpolargl\",\"marker\":{\"colorbar\":{\"outlinewidth\":0,\"ticks\":\"\"}}}],\"bar\":[{\"error_x\":{\"color\":\"#2a3f5f\"},\"error_y\":{\"color\":\"#2a3f5f\"},\"marker\":{\"line\":{\"color\":\"#E5ECF6\",\"width\":0.5},\"pattern\":{\"fillmode\":\"overlay\",\"size\":10,\"solidity\":0.2}},\"type\":\"bar\"}],\"scattergeo\":[{\"type\":\"scattergeo\",\"marker\":{\"colorbar\":{\"outlinewidth\":0,\"ticks\":\"\"}}}],\"scatterpolar\":[{\"type\":\"scatterpolar\",\"marker\":{\"colorbar\":{\"outlinewidth\":0,\"ticks\":\"\"}}}],\"histogram\":[{\"marker\":{\"pattern\":{\"fillmode\":\"overlay\",\"size\":10,\"solidity\":0.2}},\"type\":\"histogram\"}],\"scattergl\":[{\"type\":\"scattergl\",\"marker\":{\"colorbar\":{\"outlinewidth\":0,\"ticks\":\"\"}}}],\"scatter3d\":[{\"type\":\"scatter3d\",\"line\":{\"colorbar\":{\"outlinewidth\":0,\"ticks\":\"\"}},\"marker\":{\"colorbar\":{\"outlinewidth\":0,\"ticks\":\"\"}}}],\"scattermapbox\":[{\"type\":\"scattermapbox\",\"marker\":{\"colorbar\":{\"outlinewidth\":0,\"ticks\":\"\"}}}],\"scatterternary\":[{\"type\":\"scatterternary\",\"marker\":{\"colorbar\":{\"outlinewidth\":0,\"ticks\":\"\"}}}],\"scattercarpet\":[{\"type\":\"scattercarpet\",\"marker\":{\"colorbar\":{\"outlinewidth\":0,\"ticks\":\"\"}}}],\"carpet\":[{\"aaxis\":{\"endlinecolor\":\"#2a3f5f\",\"gridcolor\":\"white\",\"linecolor\":\"white\",\"minorgridcolor\":\"white\",\"startlinecolor\":\"#2a3f5f\"},\"baxis\":{\"endlinecolor\":\"#2a3f5f\",\"gridcolor\":\"white\",\"linecolor\":\"white\",\"minorgridcolor\":\"white\",\"startlinecolor\":\"#2a3f5f\"},\"type\":\"carpet\"}],\"table\":[{\"cells\":{\"fill\":{\"color\":\"#EBF0F8\"},\"line\":{\"color\":\"white\"}},\"header\":{\"fill\":{\"color\":\"#C8D4E3\"},\"line\":{\"color\":\"white\"}},\"type\":\"table\"}],\"barpolar\":[{\"marker\":{\"line\":{\"color\":\"#E5ECF6\",\"width\":0.5},\"pattern\":{\"fillmode\":\"overlay\",\"size\":10,\"solidity\":0.2}},\"type\":\"barpolar\"}],\"pie\":[{\"automargin\":true,\"type\":\"pie\"}]},\"layout\":{\"autotypenumbers\":\"strict\",\"colorway\":[\"#636efa\",\"#EF553B\",\"#00cc96\",\"#ab63fa\",\"#FFA15A\",\"#19d3f3\",\"#FF6692\",\"#B6E880\",\"#FF97FF\",\"#FECB52\"],\"font\":{\"color\":\"#2a3f5f\"},\"hovermode\":\"closest\",\"hoverlabel\":{\"align\":\"left\"},\"paper_bgcolor\":\"white\",\"plot_bgcolor\":\"#E5ECF6\",\"polar\":{\"bgcolor\":\"#E5ECF6\",\"angularaxis\":{\"gridcolor\":\"white\",\"linecolor\":\"white\",\"ticks\":\"\"},\"radialaxis\":{\"gridcolor\":\"white\",\"linecolor\":\"white\",\"ticks\":\"\"}},\"ternary\":{\"bgcolor\":\"#E5ECF6\",\"aaxis\":{\"gridcolor\":\"white\",\"linecolor\":\"white\",\"ticks\":\"\"},\"baxis\":{\"gridcolor\":\"white\",\"linecolor\":\"white\",\"ticks\":\"\"},\"caxis\":{\"gridcolor\":\"white\",\"linecolor\":\"white\",\"ticks\":\"\"}},\"coloraxis\":{\"colorbar\":{\"outlinewidth\":0,\"ticks\":\"\"}},\"colorscale\":{\"sequential\":[[0.0,\"#0d0887\"],[0.1111111111111111,\"#46039f\"],[0.2222222222222222,\"#7201a8\"],[0.3333333333333333,\"#9c179e\"],[0.4444444444444444,\"#bd3786\"],[0.5555555555555556,\"#d8576b\"],[0.6666666666666666,\"#ed7953\"],[0.7777777777777778,\"#fb9f3a\"],[0.8888888888888888,\"#fdca26\"],[1.0,\"#f0f921\"]],\"sequentialminus\":[[0.0,\"#0d0887\"],[0.1111111111111111,\"#46039f\"],[0.2222222222222222,\"#7201a8\"],[0.3333333333333333,\"#9c179e\"],[0.4444444444444444,\"#bd3786\"],[0.5555555555555556,\"#d8576b\"],[0.6666666666666666,\"#ed7953\"],[0.7777777777777778,\"#fb9f3a\"],[0.8888888888888888,\"#fdca26\"],[1.0,\"#f0f921\"]],\"diverging\":[[0,\"#8e0152\"],[0.1,\"#c51b7d\"],[0.2,\"#de77ae\"],[0.3,\"#f1b6da\"],[0.4,\"#fde0ef\"],[0.5,\"#f7f7f7\"],[0.6,\"#e6f5d0\"],[0.7,\"#b8e186\"],[0.8,\"#7fbc41\"],[0.9,\"#4d9221\"],[1,\"#276419\"]]},\"xaxis\":{\"gridcolor\":\"white\",\"linecolor\":\"white\",\"ticks\":\"\",\"title\":{\"standoff\":15},\"zerolinecolor\":\"white\",\"automargin\":true,\"zerolinewidth\":2},\"yaxis\":{\"gridcolor\":\"white\",\"linecolor\":\"white\",\"ticks\":\"\",\"title\":{\"standoff\":15},\"zerolinecolor\":\"white\",\"automargin\":true,\"zerolinewidth\":2},\"scene\":{\"xaxis\":{\"backgroundcolor\":\"#E5ECF6\",\"gridcolor\":\"white\",\"linecolor\":\"white\",\"showbackground\":true,\"ticks\":\"\",\"zerolinecolor\":\"white\",\"gridwidth\":2},\"yaxis\":{\"backgroundcolor\":\"#E5ECF6\",\"gridcolor\":\"white\",\"linecolor\":\"white\",\"showbackground\":true,\"ticks\":\"\",\"zerolinecolor\":\"white\",\"gridwidth\":2},\"zaxis\":{\"backgroundcolor\":\"#E5ECF6\",\"gridcolor\":\"white\",\"linecolor\":\"white\",\"showbackground\":true,\"ticks\":\"\",\"zerolinecolor\":\"white\",\"gridwidth\":2}},\"shapedefaults\":{\"line\":{\"color\":\"#2a3f5f\"}},\"annotationdefaults\":{\"arrowcolor\":\"#2a3f5f\",\"arrowhead\":0,\"arrowwidth\":1},\"geo\":{\"bgcolor\":\"white\",\"landcolor\":\"#E5ECF6\",\"subunitcolor\":\"white\",\"showland\":true,\"showlakes\":true,\"lakecolor\":\"white\"},\"title\":{\"x\":0.05},\"mapbox\":{\"style\":\"light\"}}},\"mapbox\":{\"domain\":{\"x\":[0.0,1.0],\"y\":[0.0,1.0]},\"center\":{\"lat\":35.331199999999995,\"lon\":13.2448},\"accesstoken\":\"pk.eyJ1Ijoia3JhbWxpbmdlciIsImEiOiJjbGRjdWpwcTAwZTdzM3BubjB6MG4yMDRhIn0.ezI-HvFgOFfZpWjmCUhnbg\",\"zoom\":4},\"legend\":{\"tracegroupgap\":0},\"margin\":{\"t\":60}},                        {\"responsive\": true}                    ).then(function(){\n",
       "                            \n",
       "var gd = document.getElementById('ec6d044f-55d9-46b4-971b-117f80da44c7');\n",
       "var x = new MutationObserver(function (mutations, observer) {{\n",
       "        var display = window.getComputedStyle(gd).display;\n",
       "        if (!display || display === 'none') {{\n",
       "            console.log([gd, 'removed!']);\n",
       "            Plotly.purge(gd);\n",
       "            observer.disconnect();\n",
       "        }}\n",
       "}});\n",
       "\n",
       "// Listen for the removal of the full notebook cells\n",
       "var notebookContainer = gd.closest('#notebook-container');\n",
       "if (notebookContainer) {{\n",
       "    x.observe(notebookContainer, {childList: true});\n",
       "}}\n",
       "\n",
       "// Listen for the clearing of the current output cell\n",
       "var outputEl = gd.closest('.output');\n",
       "if (outputEl) {{\n",
       "    x.observe(outputEl, {childList: true});\n",
       "}}\n",
       "\n",
       "                        })                };                });            </script>        </div>"
      ]
     },
     "metadata": {},
     "output_type": "display_data"
    }
   ],
   "source": [
    "import plotly.express as px\n",
    "import geopandas as gpd\n",
    "\n",
    "px.set_mapbox_access_token(open(\"./../keys/mapbox.txt\").read())\n",
    "fig = px.scatter_mapbox(df,\n",
    "                        lat='latitude',\n",
    "                        lon='longitude',\n",
    "                        hover_name=\"Name\",\n",
    "                        zoom=4)\n",
    "fig.show()"
   ]
  }
 ],
 "metadata": {
  "kernelspec": {
   "display_name": "Python 3 (ipykernel)",
   "language": "python",
   "name": "python3"
  },
  "language_info": {
   "codemirror_mode": {
    "name": "ipython",
    "version": 3
   },
   "file_extension": ".py",
   "mimetype": "text/x-python",
   "name": "python",
   "nbconvert_exporter": "python",
   "pygments_lexer": "ipython3",
   "version": "3.9.12"
  },
  "vscode": {
   "interpreter": {
    "hash": "aee8b7b246df8f9039afb4144a1f6fd8d2ca17a180786b69acc140d282b71a49"
   }
  }
 },
 "nbformat": 4,
 "nbformat_minor": 5
}
