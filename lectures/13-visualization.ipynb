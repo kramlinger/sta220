{
 "cells": [
  {
   "cell_type": "markdown",
   "id": "6a9129bc",
   "metadata": {
    "slideshow": {
     "slide_type": "slide"
    }
   },
   "source": [
    "# STA 220 Data & Web Technologies for Data Analysis\n",
    "\n",
    "### Lecture 13, 2/18/25, Visualizations for Classification"
   ]
  },
  {
   "cell_type": "markdown",
   "id": "022d983b",
   "metadata": {
    "slideshow": {
     "slide_type": "slide"
    }
   },
   "source": [
    "### Last weeks's topics\n",
    "- Classification: \n",
    "    - LDA\n",
    "    - Naive Bayes"
   ]
  },
  {
   "cell_type": "markdown",
   "id": "50b3f5dd",
   "metadata": {
    "slideshow": {
     "slide_type": "slide"
    }
   },
   "source": [
    "### Today's topics\n",
    "- Visualization for classification\n",
    "\n",
    "### References\n",
    "\n",
    "* Jakob Raymaekers & Peter J. Rousseeuw (2022): Silhouettes and Quasi Residual Plots for Neural\n",
    "Nets and Tree-based Classifiers, Journal of Computational and\n",
    "Graphical Statistics, 31:4, 1332-1343\n",
    "* Jakob Raymaekers, Peter J. Rousseeuw & Mia Hubert (2022): Class maps for visualizing\n",
    "classification results, Technometrics, 64 (2)"
   ]
  },
  {
   "cell_type": "markdown",
   "id": "ed699905",
   "metadata": {
    "slideshow": {
     "slide_type": "slide"
    }
   },
   "source": [
    "For convenience, today's code is in __R__. The data set `data_floralbuds` contains six features and a label with four levels: `bud`, `branch`, `scales` and `support`. "
   ]
  },
  {
   "cell_type": "code",
   "execution_count": null,
   "id": "47496132",
   "metadata": {},
   "outputs": [],
   "source": [
    "library(\"classmap\")"
   ]
  },
  {
   "cell_type": "code",
   "execution_count": null,
   "id": "231875a4",
   "metadata": {},
   "outputs": [],
   "source": [
    "head(data_floralbuds, 3)"
   ]
  },
  {
   "cell_type": "code",
   "execution_count": null,
   "id": "921a500e",
   "metadata": {
    "slideshow": {
     "slide_type": "-"
    }
   },
   "outputs": [],
   "source": [
    "summary(data_floralbuds)"
   ]
  },
  {
   "cell_type": "markdown",
   "id": "71a97694",
   "metadata": {},
   "source": [
    "We are interested in classifying the observations. "
   ]
  },
  {
   "cell_type": "code",
   "execution_count": null,
   "id": "68788481",
   "metadata": {
    "slideshow": {
     "slide_type": "slide"
    }
   },
   "outputs": [],
   "source": [
    "require(\"MASS\")"
   ]
  },
  {
   "cell_type": "code",
   "execution_count": null,
   "id": "07efb4c6",
   "metadata": {},
   "outputs": [],
   "source": [
    "fit <- lda(y~., data=data_floralbuds) #linear discriminant analysis\n",
    "yhat <- predict(fit)"
   ]
  },
  {
   "cell_type": "code",
   "execution_count": null,
   "id": "d7f67fd2",
   "metadata": {},
   "outputs": [],
   "source": [
    "head(yhat$posterior, 3)"
   ]
  },
  {
   "cell_type": "markdown",
   "id": "144aed10",
   "metadata": {
    "slideshow": {
     "slide_type": "subslide"
    }
   },
   "source": [
    "Either explicitly or implicitly, most classifiers provide posterior probabilities (cf. the latent dirichlet allocation). "
   ]
  },
  {
   "cell_type": "code",
   "execution_count": null,
   "id": "2761122b",
   "metadata": {},
   "outputs": [],
   "source": [
    "head(yhat$class)"
   ]
  },
  {
   "cell_type": "code",
   "execution_count": null,
   "id": "2456a749",
   "metadata": {},
   "outputs": [],
   "source": [
    "caret::confusionMatrix(yhat$class, data_floralbuds$y)$table"
   ]
  },
  {
   "cell_type": "code",
   "execution_count": null,
   "id": "35463e59",
   "metadata": {
    "slideshow": {
     "slide_type": "subslide"
    }
   },
   "outputs": [],
   "source": [
    "require(viridis)\n",
    "vcrout <- vcr.da.train(data_floralbuds[,-7], data_floralbuds$y) #lda in in classmap"
   ]
  },
  {
   "cell_type": "code",
   "execution_count": null,
   "id": "e13c3c0a",
   "metadata": {
    "slideshow": {
     "slide_type": "subslide"
    }
   },
   "outputs": [],
   "source": [
    "yhat <- factor(vcrout$pred, levels = unique(vcrout$pred))"
   ]
  },
  {
   "cell_type": "code",
   "execution_count": null,
   "id": "2d237160",
   "metadata": {
    "slideshow": {
     "slide_type": "subslide"
    }
   },
   "outputs": [],
   "source": [
    "caret::confusionMatrix(yhat, data_floralbuds$y)$table"
   ]
  },
  {
   "cell_type": "code",
   "execution_count": null,
   "id": "c796e889",
   "metadata": {},
   "outputs": [],
   "source": [
    "options(repr.plot.width=12, repr.plot.height=6)"
   ]
  },
  {
   "cell_type": "code",
   "execution_count": null,
   "id": "f43410ad",
   "metadata": {},
   "outputs": [],
   "source": [
    "stackedplot(vcrout, classCols=viridis::viridis(4), showOutliers = FALSE)"
   ]
  },
  {
   "cell_type": "markdown",
   "id": "a2dc079d",
   "metadata": {
    "slideshow": {
     "slide_type": "slide"
    }
   },
   "source": [
    "Suppose we have objects denoted by their index $i$ where $i = 1, \\dots, n$, and there are classes\n",
    "(labels, groups) $g$ with $g = 1, ..., G$. The target is thus a discrete variable with $G$ levels.\n",
    "Consider a case $i$ in the training set or a test set. \n",
    "\n",
    "Denote the posterior probabilities $\\hat{p}(i, g)$ of object $i$ belonging to each of the classes $g$, with\n",
    "$\\sum_{g}\\hat{p}(i, g) = 1$ for each $i$. "
   ]
  },
  {
   "cell_type": "markdown",
   "id": "5ad978b0",
   "metadata": {
    "slideshow": {
     "slide_type": "-"
    }
   },
   "source": [
    "Now assume that object $i$ has a known given label $g_i$. We wish to measure to what extent\n",
    "the given label $g_i$ agrees with the classiffcation. For this purpose we denote the highest\n",
    "$\\hat{p}(i, g)$ attained by a class different from $g_i$ as\n",
    "$$\\tilde{p}(i) = max_g\\{\\hat{p}(i, g); g \\neq g_i\\}$$\n",
    "The class attaining this maximum can be seen as the best alternative class. \n",
    "If $\\hat{p}(i, g_i) > \\tilde{p}(i)$ it follows that $g_i$ attains the overall highest value of $\\hat{p}(i, g)$ \n",
    "so the classiffer agrees with the\n",
    "given class $g_i$. \n",
    "On the other hand, if $\\hat{p}(i, g_i) < \\tilde{p}(i)$ the classiffer will not assign object $i$ to\n",
    "class $g_i$."
   ]
  },
  {
   "cell_type": "markdown",
   "id": "fa4f01c2",
   "metadata": {},
   "source": [
    "We now compute the conditional posterior *probability of the best alternative class* when\n",
    "comparing it with the given class $g_i$ as\n",
    "$$\n",
    "PAC(i) \n",
    "= \n",
    "\\frac{\\tilde{p}(i)}{\\hat{p}(i, g_i) + \\tilde{p}(i)}\n",
    "$$"
   ]
  },
  {
   "cell_type": "markdown",
   "id": "7cc175df",
   "metadata": {
    "slideshow": {
     "slide_type": "subslide"
    }
   },
   "source": [
    "We will produce a silhouette plot to visualize the classification. For each $i$, the silhouette width is defined as \n",
    "$$\n",
    "s(i) = 1 - 2PAC(i).\n",
    "$$\n",
    "$s(i)$ ranges from $−1$ to $1$, with high values\n",
    "reflecting that the given class of case $i$ fits very well, and negative\n",
    "values indicating that the given class fits less well than the best\n",
    "alternative class."
   ]
  },
  {
   "cell_type": "code",
   "execution_count": null,
   "id": "8ca3eb0b",
   "metadata": {},
   "outputs": [],
   "source": [
    "silplot(vcrout, classCols=viridis::viridis(4))"
   ]
  },
  {
   "cell_type": "markdown",
   "id": "7677eecc",
   "metadata": {
    "slideshow": {
     "slide_type": "subslide"
    }
   },
   "source": [
    "Another graphical display is obtained by plotting the PAC versus\n",
    "a relevant data variable. This is not unlike plotting the absolute\n",
    "residuals in regression, since small values of $PAC(i)$ indicate\n",
    "that the model fits the data point nearly perfectly, whereas a\n",
    "high $PAC(i)$ alerts us to a poorly fitted data point."
   ]
  },
  {
   "cell_type": "code",
   "execution_count": null,
   "id": "bdbe2bd6",
   "metadata": {},
   "outputs": [],
   "source": [
    "label = 'bud' # bud, branch, scales, support\n",
    "PAC <- vcrout$PAC[vcrout$y==label] \n",
    "feat <- data_floralbuds[vcrout$y==label,3] # feature does not have to be part of the classification\n",
    "qresplot(PAC, feat, plotErrorBars = TRUE)"
   ]
  },
  {
   "cell_type": "markdown",
   "id": "908b3ad5",
   "metadata": {
    "slideshow": {
     "slide_type": "subslide"
    }
   },
   "source": [
    "The data feature on the x-axis does not have to be part of the classification\n",
    "model, and it could also be a quantity derived from the data\n",
    "features such as a principal component score or a prediction,\n",
    "or just the index i of the data point if the data were recorded\n",
    "sequentially."
   ]
  },
  {
   "cell_type": "markdown",
   "id": "c8ff0d52",
   "metadata": {
    "slideshow": {
     "slide_type": "slide"
    }
   },
   "source": [
    "Class maps are quasi residual plots versus a feature reflecting how far\n",
    "each case is from its class. This is based on some distance\n",
    "measure $D(i, g)$ of a case $i$ relative to a class $g$. \n",
    "\n",
    "Next we estimate the cumulative distribution function of\n",
    "$D(x, g)$ where $x$ is a random object generated from class $g$ . The\n",
    "farness of the object $i$ to the class $g$ is then defined as\n",
    "$$\n",
    "farness(i, g) = P[D(x, g) \\leq D(i, g)].\n",
    "$$"
   ]
  },
  {
   "cell_type": "code",
   "execution_count": null,
   "id": "ca562931",
   "metadata": {},
   "outputs": [],
   "source": [
    "classmap(vcrout, 'bud', classCols=viridis::viridis(4)) # bud, branch, scales, support"
   ]
  },
  {
   "cell_type": "markdown",
   "id": "efdbe38a",
   "metadata": {
    "slideshow": {
     "slide_type": "slide"
    }
   },
   "source": [
    "Now, consider another data set. "
   ]
  },
  {
   "cell_type": "code",
   "execution_count": null,
   "id": "95114cfc",
   "metadata": {},
   "outputs": [],
   "source": [
    "head(data_titanic, 3)"
   ]
  },
  {
   "cell_type": "code",
   "execution_count": null,
   "id": "719ee3dc",
   "metadata": {},
   "outputs": [],
   "source": [
    "data_titanic <- na.omit(data_titanic)"
   ]
  },
  {
   "cell_type": "code",
   "execution_count": null,
   "id": "1b763094",
   "metadata": {
    "slideshow": {
     "slide_type": "subslide"
    }
   },
   "outputs": [],
   "source": [
    "help(data_titanic)"
   ]
  },
  {
   "cell_type": "code",
   "execution_count": null,
   "id": "97ac2791",
   "metadata": {
    "slideshow": {
     "slide_type": "subslide"
    }
   },
   "outputs": [],
   "source": [
    "traindata <- data_titanic[which(data_titanic$dataType == \"train\"), -13]\n",
    "str(traindata); table(traindata$y)\n",
    "set.seed(123) # rpart is not deterministic"
   ]
  },
  {
   "cell_type": "markdown",
   "id": "0a4a44f9",
   "metadata": {
    "slideshow": {
     "slide_type": "subslide"
    }
   },
   "source": [
    "First, we will consider a tree-based classification. "
   ]
  },
  {
   "cell_type": "code",
   "execution_count": null,
   "id": "0ab70b3e",
   "metadata": {
    "slideshow": {
     "slide_type": "-"
    }
   },
   "outputs": [],
   "source": [
    "rpart.out <- rpart::rpart(y ~ Pclass + Sex + SibSp + Parch + Fare + Embarked, \n",
    "                   data = data_titanic, method = 'class', model = TRUE)"
   ]
  },
  {
   "cell_type": "code",
   "execution_count": null,
   "id": "cd8047a1",
   "metadata": {
    "slideshow": {
     "slide_type": "subslide"
    }
   },
   "outputs": [],
   "source": [
    "rpart.plot::rpart.plot(rpart.out)"
   ]
  },
  {
   "cell_type": "markdown",
   "id": "74cf2b93",
   "metadata": {
    "slideshow": {
     "slide_type": "subslide"
    }
   },
   "source": [
    "Be careful in how to read the tree. "
   ]
  },
  {
   "cell_type": "code",
   "execution_count": null,
   "id": "ccbd07e4",
   "metadata": {},
   "outputs": [],
   "source": [
    "mean(data_titanic$y=='survived')"
   ]
  },
  {
   "cell_type": "code",
   "execution_count": null,
   "id": "f422d553",
   "metadata": {},
   "outputs": [],
   "source": [
    "mean((data_titanic$y=='survived')[data_titanic['Sex']=='male'])"
   ]
  },
  {
   "cell_type": "code",
   "execution_count": null,
   "id": "5c1a3949",
   "metadata": {},
   "outputs": [],
   "source": [
    "sum(data_titanic['Sex']!='male' & data_titanic['Pclass']>=3 & data_titanic['Fare']>=23) #few obs"
   ]
  },
  {
   "cell_type": "code",
   "execution_count": null,
   "id": "4fb5d7fc",
   "metadata": {
    "slideshow": {
     "slide_type": "slide"
    }
   },
   "outputs": [],
   "source": [
    "mytype <- list(nominal = c(\"Name\", \"Sex\", \"Ticket\", \"Cabin\", \"Embarked\"), ordratio = c(\"Pclass\"))\n",
    "vcrtrain <- vcr.rpart.train(data_titanic[, -12], data_titanic$y, rpart.out, mytype)"
   ]
  },
  {
   "cell_type": "code",
   "execution_count": null,
   "id": "760f18c8",
   "metadata": {},
   "outputs": [],
   "source": [
    "confmat.vcr(vcrtrain)"
   ]
  },
  {
   "cell_type": "code",
   "execution_count": null,
   "id": "2ab575fa",
   "metadata": {},
   "outputs": [],
   "source": [
    "stackedplot(vcrtrain, classCols=c(2,4))"
   ]
  },
  {
   "cell_type": "code",
   "execution_count": null,
   "id": "820421de",
   "metadata": {
    "slideshow": {
     "slide_type": "subslide"
    }
   },
   "outputs": [],
   "source": [
    "silplot(vcrtrain, classCols = c(2, 4))"
   ]
  },
  {
   "cell_type": "code",
   "execution_count": null,
   "id": "de677714",
   "metadata": {
    "slideshow": {
     "slide_type": "subslide"
    }
   },
   "outputs": [],
   "source": [
    "classmap(vcrtrain, \"casualty\", classCols = c(2, 4))"
   ]
  },
  {
   "cell_type": "code",
   "execution_count": null,
   "id": "d77174d5",
   "metadata": {
    "slideshow": {
     "slide_type": "subslide"
    }
   },
   "outputs": [],
   "source": [
    "classmap(vcrtrain, \"survived\", classCols = c(2, 4))"
   ]
  },
  {
   "cell_type": "markdown",
   "id": "bb8ced90",
   "metadata": {
    "slideshow": {
     "slide_type": "slide"
    }
   },
   "source": [
    "Compare these visualizations to a logistic regression. "
   ]
  },
  {
   "cell_type": "code",
   "execution_count": null,
   "id": "9e48f872",
   "metadata": {
    "scrolled": true
   },
   "outputs": [],
   "source": [
    "str(vcrtrain)"
   ]
  },
  {
   "cell_type": "markdown",
   "id": "808a6678",
   "metadata": {
    "slideshow": {
     "slide_type": "subslide"
    }
   },
   "source": [
    "Update `pred`, `predint` and `PAC` for the logistic regression. "
   ]
  },
  {
   "cell_type": "code",
   "execution_count": null,
   "id": "6709e081",
   "metadata": {
    "scrolled": true,
    "slideshow": {
     "slide_type": "-"
    }
   },
   "outputs": [],
   "source": [
    "str(vcrtrain)"
   ]
  },
  {
   "cell_type": "code",
   "execution_count": null,
   "id": "e367e03c",
   "metadata": {
    "slideshow": {
     "slide_type": "slide"
    }
   },
   "outputs": [],
   "source": [
    "vcrtrain2 <- vcrtrain\n",
    "fit <- glm(y~Pclass+Sex+Age+SibSp+Parch,family=binomial(link = logit),data=data_titanic)\n",
    "pred <- fitted(fit) "
   ]
  },
  {
   "cell_type": "code",
   "execution_count": null,
   "id": "69e2a359",
   "metadata": {
    "slideshow": {
     "slide_type": "-"
    }
   },
   "outputs": [],
   "source": [
    "head(pred)"
   ]
  },
  {
   "cell_type": "code",
   "execution_count": null,
   "id": "eee97482",
   "metadata": {
    "slideshow": {
     "slide_type": "-"
    }
   },
   "outputs": [],
   "source": [
    "vcrtrain2$pred <- ifelse(pred<0.5, \"casualty\", \"survived\")\n",
    "head(vcrtrain2$pred)"
   ]
  },
  {
   "cell_type": "code",
   "execution_count": null,
   "id": "cf76f3f4",
   "metadata": {
    "slideshow": {
     "slide_type": "-"
    }
   },
   "outputs": [],
   "source": [
    "head(data_titanic$y)"
   ]
  },
  {
   "cell_type": "code",
   "execution_count": null,
   "id": "19712504",
   "metadata": {},
   "outputs": [],
   "source": [
    "# manually add to vcrtrain2 the predictions ... \n",
    "vcrtrain2$predint <- ifelse(pred<0.5, 1, 2)\n",
    "head(vcrtrain2$predint)"
   ]
  },
  {
   "cell_type": "code",
   "execution_count": null,
   "id": "ff501868",
   "metadata": {},
   "outputs": [],
   "source": [
    "# ... and compute success probs\n",
    "vcrtrain2$PAC <- ifelse(data_titanic$y=='casualty', pred, 1-pred) \n",
    "head(vcrtrain2$PAC)"
   ]
  },
  {
   "cell_type": "code",
   "execution_count": null,
   "id": "05588fbf",
   "metadata": {
    "slideshow": {
     "slide_type": "subslide"
    }
   },
   "outputs": [],
   "source": [
    "confmat.vcr(vcrtrain)"
   ]
  },
  {
   "cell_type": "code",
   "execution_count": null,
   "id": "0b961055",
   "metadata": {},
   "outputs": [],
   "source": [
    "caret::confusionMatrix(data_titanic$y[!is.na(data_titanic$Age)], factor(vcrtrain2$pred), \n",
    "                       dnn = c(\"Reference\", \"Prediction\"))$table # same as confmat.vcr(vcrtrain2)"
   ]
  },
  {
   "cell_type": "code",
   "execution_count": null,
   "id": "1d79d1d1",
   "metadata": {
    "slideshow": {
     "slide_type": "subslide"
    }
   },
   "outputs": [],
   "source": [
    "gridExtra::grid.arrange(\n",
    "    stackedplot(vcrtrain, classCols=c(2,4)),\n",
    "    stackedplot(vcrtrain2, classCols=c(2,4)), ncol = 2)"
   ]
  },
  {
   "cell_type": "code",
   "execution_count": null,
   "id": "639a6735",
   "metadata": {
    "slideshow": {
     "slide_type": "subslide"
    }
   },
   "outputs": [],
   "source": [
    "gridExtra::grid.arrange(gridExtra::arrangeGrob(\n",
    "    silplot(vcrtrain, classCols = c(2, 4)), \n",
    "    silplot(vcrtrain2, classCols = c(2, 4)), ncol=2))"
   ]
  },
  {
   "cell_type": "code",
   "execution_count": null,
   "id": "23f52b78",
   "metadata": {
    "slideshow": {
     "slide_type": "subslide"
    }
   },
   "outputs": [],
   "source": [
    "par(mfrow = c(1,2))\n",
    "classmap(vcrtrain, \"survived\", classCols = c(2, 4)) # survived #casualty\n",
    "classmap(vcrtrain2, \"survived\", classCols = c(2, 4))"
   ]
  },
  {
   "cell_type": "markdown",
   "id": "f2507ddd",
   "metadata": {
    "slideshow": {
     "slide_type": "subslide"
    }
   },
   "source": [
    "Lets investigate the mis-classification for non-far observations for `casualty`. "
   ]
  },
  {
   "cell_type": "code",
   "execution_count": null,
   "id": "f571772a",
   "metadata": {
    "slideshow": {
     "slide_type": "-"
    }
   },
   "outputs": [],
   "source": [
    "# str(vcrtrain2)"
   ]
  },
  {
   "cell_type": "code",
   "execution_count": null,
   "id": "311af44f",
   "metadata": {
    "slideshow": {
     "slide_type": "-"
    }
   },
   "outputs": [],
   "source": [
    "cas <- vcrtrain2$y=='casualty' #& vcrtrain2$farness==0\n",
    "idx <- which.max(vcrtrain2$farness[cas]); idx"
   ]
  },
  {
   "cell_type": "code",
   "execution_count": null,
   "id": "b68e2c8f",
   "metadata": {
    "slideshow": {
     "slide_type": "-"
    }
   },
   "outputs": [],
   "source": [
    "vcrtrain2$X[cas,][idx,]"
   ]
  },
  {
   "cell_type": "code",
   "execution_count": null,
   "id": "b40b2ac5",
   "metadata": {
    "slideshow": {
     "slide_type": "-"
    }
   },
   "outputs": [],
   "source": [
    "vcrtrain2$y[cas][idx]"
   ]
  },
  {
   "cell_type": "markdown",
   "id": "67fa5a69",
   "metadata": {
    "slideshow": {
     "slide_type": "subslide"
    }
   },
   "source": [
    "Her fate is statistically unlikely, but well-known and documented ([wiki](https://en.wikipedia.org/wiki/Ida_Straus)). \n",
    "\n",
    ">  _We have lived together for many years. Where you go, I go._\n"
   ]
  },
  {
   "cell_type": "code",
   "execution_count": null,
   "id": "f1e44e4b",
   "metadata": {
    "slideshow": {
     "slide_type": "subslide"
    }
   },
   "outputs": [],
   "source": [
    "index = vcrtrain$X$Sex=='male'\n",
    "index2 = data_titanic$Sex=='male' \n",
    "par(mfrow = c(1,2))\n",
    "qresplot(vcrtrain$PAC[index], vcrtrain$X$Age[index], plotErrorBars = TRUE)\n",
    "qresplot(vcrtrain2$PAC[index2], data_titanic$Age[index], plotErrorBars = TRUE)"
   ]
  },
  {
   "cell_type": "code",
   "execution_count": null,
   "id": "470a1c41",
   "metadata": {
    "slideshow": {
     "slide_type": "slide"
    }
   },
   "outputs": [],
   "source": [
    "require(\"pROC\")"
   ]
  },
  {
   "cell_type": "code",
   "execution_count": null,
   "id": "372bdc09",
   "metadata": {},
   "outputs": [],
   "source": [
    "roc1 <- roc(fit$y, pred)\n",
    "auc(roc1)"
   ]
  },
  {
   "cell_type": "code",
   "execution_count": null,
   "id": "fc868796",
   "metadata": {},
   "outputs": [],
   "source": [
    "head(probs <- predict(rpart.out, type = \"prob\")[,1])"
   ]
  },
  {
   "cell_type": "code",
   "execution_count": null,
   "id": "7cfeb2f5",
   "metadata": {},
   "outputs": [],
   "source": [
    "roc0 <- roc(data_titanic$y,probs)\n",
    "auc(roc0)"
   ]
  },
  {
   "cell_type": "code",
   "execution_count": null,
   "id": "c91acd91",
   "metadata": {
    "slideshow": {
     "slide_type": "subslide"
    }
   },
   "outputs": [],
   "source": [
    "plot(roc0)\n",
    "plot(roc1, col = 2, add = T)"
   ]
  },
  {
   "cell_type": "markdown",
   "id": "d438f745",
   "metadata": {
    "slideshow": {
     "slide_type": "slide"
    }
   },
   "source": [
    "### Summary\n",
    "\n",
    "The proposed visualizations focus on the cases in a classification. The new silhouette plot describes the strength of each object’s classification, grouped by class. Quasi residual plots yield other insights, such as trends in subsets of the data like the effect of age for male passengers on the Titanic. The class map provides additional information, as it can tell us which cases lie between classes, which cases are far from their given class, and some cases maybe far from all classes. The class map allowed us to distinguish between feature noise and label noise. The displays also drew our attention to atypical cases that were inspected in more detail, providing further insights in the data. "
   ]
  }
 ],
 "metadata": {
  "celltoolbar": "Slideshow",
  "kernelspec": {
   "display_name": "R",
   "language": "R",
   "name": "ir"
  },
  "language_info": {
   "codemirror_mode": "r",
   "file_extension": ".r",
   "mimetype": "text/x-r-source",
   "name": "R",
   "pygments_lexer": "r",
   "version": "4.4.0"
  },
  "vscode": {
   "interpreter": {
    "hash": "b2b12ec50b0a525a62abe739e766b0c808eccd181e3f804cedbbca00f4d5b392"
   }
  }
 },
 "nbformat": 4,
 "nbformat_minor": 5
}
