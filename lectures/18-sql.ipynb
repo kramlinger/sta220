{
 "cells": [
  {
   "cell_type": "markdown",
   "id": "d902fae5",
   "metadata": {},
   "source": [
    "# STA 220 Data & Web Technologies for Data Analysis\n",
    "\n",
    "### Lecture 18, 3/4/25, SQL"
   ]
  },
  {
   "cell_type": "markdown",
   "id": "629fe2e1",
   "metadata": {},
   "source": [
    "### Announcements\n",
    "\n",
    "- "
   ]
  },
  {
   "cell_type": "markdown",
   "id": "1e982506",
   "metadata": {},
   "source": [
    "### Today's topics\n",
    "- Structured Query Language"
   ]
  },
  {
   "cell_type": "code",
   "execution_count": 1,
   "id": "f58a5ed5",
   "metadata": {},
   "outputs": [],
   "source": [
    "import numpy as np\n",
    "import pandas as pd\n",
    "import sqlite3 as sql"
   ]
  },
  {
   "cell_type": "code",
   "execution_count": 2,
   "id": "0e4ea3a4",
   "metadata": {},
   "outputs": [],
   "source": [
    "db = sql.connect(\"../data/suppliers.sqlite\")"
   ]
  },
  {
   "cell_type": "code",
   "execution_count": 3,
   "id": "ff26c99d",
   "metadata": {},
   "outputs": [
    {
     "data": {
      "text/html": [
       "<div>\n",
       "<style scoped>\n",
       "    .dataframe tbody tr th:only-of-type {\n",
       "        vertical-align: middle;\n",
       "    }\n",
       "\n",
       "    .dataframe tbody tr th {\n",
       "        vertical-align: top;\n",
       "    }\n",
       "\n",
       "    .dataframe thead th {\n",
       "        text-align: right;\n",
       "    }\n",
       "</style>\n",
       "<table border=\"1\" class=\"dataframe\">\n",
       "  <thead>\n",
       "    <tr style=\"text-align: right;\">\n",
       "      <th></th>\n",
       "      <th>PartID</th>\n",
       "      <th>PartName</th>\n",
       "      <th>Color</th>\n",
       "      <th>Weight</th>\n",
       "      <th>City</th>\n",
       "    </tr>\n",
       "  </thead>\n",
       "  <tbody>\n",
       "    <tr>\n",
       "      <th>0</th>\n",
       "      <td>1</td>\n",
       "      <td>Nut</td>\n",
       "      <td>Red</td>\n",
       "      <td>12.0</td>\n",
       "      <td>London</td>\n",
       "    </tr>\n",
       "    <tr>\n",
       "      <th>1</th>\n",
       "      <td>2</td>\n",
       "      <td>Bolt</td>\n",
       "      <td>Green</td>\n",
       "      <td>17.0</td>\n",
       "      <td>Paris</td>\n",
       "    </tr>\n",
       "    <tr>\n",
       "      <th>2</th>\n",
       "      <td>3</td>\n",
       "      <td>Screw</td>\n",
       "      <td>Blue</td>\n",
       "      <td>17.0</td>\n",
       "      <td>Oslo</td>\n",
       "    </tr>\n",
       "    <tr>\n",
       "      <th>3</th>\n",
       "      <td>4</td>\n",
       "      <td>Screw</td>\n",
       "      <td>Red</td>\n",
       "      <td>14.0</td>\n",
       "      <td>London</td>\n",
       "    </tr>\n",
       "    <tr>\n",
       "      <th>4</th>\n",
       "      <td>5</td>\n",
       "      <td>Cam</td>\n",
       "      <td>Blue</td>\n",
       "      <td>12.0</td>\n",
       "      <td>Paris</td>\n",
       "    </tr>\n",
       "    <tr>\n",
       "      <th>5</th>\n",
       "      <td>6</td>\n",
       "      <td>Cog</td>\n",
       "      <td>Red</td>\n",
       "      <td>19.0</td>\n",
       "      <td>London</td>\n",
       "    </tr>\n",
       "  </tbody>\n",
       "</table>\n",
       "</div>"
      ],
      "text/plain": [
       "   PartID PartName  Color  Weight    City\n",
       "0       1      Nut    Red    12.0  London\n",
       "1       2     Bolt  Green    17.0   Paris\n",
       "2       3    Screw   Blue    17.0    Oslo\n",
       "3       4    Screw    Red    14.0  London\n",
       "4       5      Cam   Blue    12.0   Paris\n",
       "5       6      Cog    Red    19.0  London"
      ]
     },
     "execution_count": 3,
     "metadata": {},
     "output_type": "execute_result"
    }
   ],
   "source": [
    "pd.read_sql(\"\"\"\n",
    "    SELECT * FROM parts\n",
    "\"\"\", db)"
   ]
  },
  {
   "cell_type": "code",
   "execution_count": 5,
   "id": "f98e7043",
   "metadata": {},
   "outputs": [
    {
     "data": {
      "text/html": [
       "<div>\n",
       "<style scoped>\n",
       "    .dataframe tbody tr th:only-of-type {\n",
       "        vertical-align: middle;\n",
       "    }\n",
       "\n",
       "    .dataframe tbody tr th {\n",
       "        vertical-align: top;\n",
       "    }\n",
       "\n",
       "    .dataframe thead th {\n",
       "        text-align: right;\n",
       "    }\n",
       "</style>\n",
       "<table border=\"1\" class=\"dataframe\">\n",
       "  <thead>\n",
       "    <tr style=\"text-align: right;\">\n",
       "      <th></th>\n",
       "      <th>AVG(weight)</th>\n",
       "      <th>City</th>\n",
       "    </tr>\n",
       "  </thead>\n",
       "  <tbody>\n",
       "    <tr>\n",
       "      <th>0</th>\n",
       "      <td>13.0</td>\n",
       "      <td>London</td>\n",
       "    </tr>\n",
       "    <tr>\n",
       "      <th>1</th>\n",
       "      <td>12.0</td>\n",
       "      <td>Paris</td>\n",
       "    </tr>\n",
       "  </tbody>\n",
       "</table>\n",
       "</div>"
      ],
      "text/plain": [
       "   AVG(weight)    City\n",
       "0         13.0  London\n",
       "1         12.0   Paris"
      ]
     },
     "execution_count": 5,
     "metadata": {},
     "output_type": "execute_result"
    }
   ],
   "source": [
    "pd.read_sql(\"\"\"\n",
    "    SELECT AVG(weight), city \n",
    "    FROM parts\n",
    "    WHERE weight < 17\n",
    "    GROUP BY city\n",
    "    HAVING color IN ('Red', 'Blue')\n",
    "\"\"\", db)"
   ]
  },
  {
   "cell_type": "markdown",
   "id": "7d008501",
   "metadata": {},
   "source": [
    "### Joins\n",
    "\n",
    "A `JOIN` combines two tables using a column they have in common. `JOIN` is the SQL equivalent of Pandas' `.join()` method and `pd.merge()` function."
   ]
  },
  {
   "cell_type": "code",
   "execution_count": null,
   "id": "b14fd4c3",
   "metadata": {},
   "outputs": [],
   "source": [
    "pd.read_sql(\"SELECT * FROM supplierparts\", db)"
   ]
  },
  {
   "cell_type": "code",
   "execution_count": null,
   "id": "0a4269ad",
   "metadata": {},
   "outputs": [],
   "source": [
    "pd.read_sql(\"\"\"\n",
    "    SELECT * FROM\n",
    "    supplierparts\n",
    "    LEFT JOIN\n",
    "    parts\n",
    "    ON supplierparts.partid = parts.partid\n",
    "\"\"\", db)"
   ]
  },
  {
   "cell_type": "markdown",
   "id": "c1c68c0b",
   "metadata": {},
   "source": [
    "SQLite supports two kinds of joins:\n",
    "* Left join (`LEFT JOIN`): Keep all rows from the left table, merging rows from the right.\n",
    "* Inner join (`INNER JOIN`): Keep only rows where there is a match.\n",
    "\n",
    "Other DBMSes sometimes support two more kinds of joins:\n",
    "* Right join: Keep all rows from the right table, merging rows from the left.\n",
    "* Full join: Keep all rows from both tables, merging where there are matches."
   ]
  },
  {
   "cell_type": "code",
   "execution_count": null,
   "id": "8abaff4e",
   "metadata": {},
   "outputs": [],
   "source": [
    "pd.read_sql(\"SELECT * FROM supplierparts\", db)"
   ]
  },
  {
   "cell_type": "code",
   "execution_count": null,
   "id": "22d811a1",
   "metadata": {},
   "outputs": [],
   "source": [
    "pd.read_sql(\"\"\"\n",
    "    SELECT * FROM\n",
    "    supplierparts AS l\n",
    "    LEFT JOIN\n",
    "    suppliers AS r\n",
    "    ON l.supplierid = r.supplierid;\n",
    "\"\"\", db)"
   ]
  },
  {
   "cell_type": "code",
   "execution_count": null,
   "id": "82619983",
   "metadata": {},
   "outputs": [],
   "source": [
    "pd.read_sql(\"\"\"\n",
    "    SELECT l.qty, r.* FROM\n",
    "    supplierparts AS l\n",
    "    LEFT JOIN\n",
    "    suppliers AS r\n",
    "    ON l.supplierid = r.supplierid;\n",
    "\"\"\", db)"
   ]
  },
  {
   "cell_type": "markdown",
   "id": "663134e6",
   "metadata": {},
   "source": [
    "### Subqueries\n",
    "\n",
    "You can write one or more `SELECT` queries within another:"
   ]
  },
  {
   "cell_type": "code",
   "execution_count": null,
   "id": "9ed29115",
   "metadata": {},
   "outputs": [],
   "source": [
    "pd.read_sql(\"\"\"\n",
    "    SELECT * FROM\n",
    "        (SELECT l.*, r.supplierid, r.qty FROM\n",
    "        parts AS l\n",
    "        INNER JOIN\n",
    "        supplierparts AS r\n",
    "        ON l.partid = r.partid) AS a\n",
    "    INNER JOIN\n",
    "        (SELECT * FROM suppliers\n",
    "        WHERE status > 10) AS b\n",
    "    ON a.supplierid = b.supplierid;\n",
    "\"\"\", db)"
   ]
  },
  {
   "cell_type": "code",
   "execution_count": null,
   "id": "70ca1098",
   "metadata": {},
   "outputs": [],
   "source": [
    "# You can paste strings into SQL queries, but make sure the string you paste in isn't\n",
    "# compromised (e.g., user input)\n",
    "val = pd.read_sql(\"SELECT AVG(weight) FROM parts\", db).iloc[0, 0]\n",
    "val"
   ]
  },
  {
   "cell_type": "code",
   "execution_count": null,
   "id": "4133d73e",
   "metadata": {},
   "outputs": [],
   "source": [
    "query = \"SELECT * FROM parts WHERE weight > \" + format(val) + \"; NEW QUERY\"\n",
    "query"
   ]
  },
  {
   "cell_type": "code",
   "execution_count": null,
   "id": "ad1d692f",
   "metadata": {},
   "outputs": [],
   "source": [
    "pd.read_sql(query, db) # pandas.read_sql allows only one statement at a time"
   ]
  },
  {
   "cell_type": "code",
   "execution_count": null,
   "id": "08fa1813",
   "metadata": {},
   "outputs": [],
   "source": []
  },
  {
   "cell_type": "code",
   "execution_count": null,
   "id": "6c103210",
   "metadata": {},
   "outputs": [],
   "source": []
  },
  {
   "cell_type": "markdown",
   "id": "1667fcc5",
   "metadata": {},
   "source": [
    "### Database Operations: CRUD\n",
    "\n",
    "So far we've only learned 1/4 of the basic operations most databases support. They are:\n",
    "\n",
    "* Create (`CREATE`): Create a new table.\n",
    "* Read (`SELECT`): Read some rows from a table.\n",
    "* Update (`UPDATE`): Update rows in a table.\n",
    "* Delete (`DROP`): Delete a table.\n",
    "\n",
    "For data analysis, you'll usually only need to read data.\n",
    "\n",
    "Once in a while, it can be useful to create tables to store complicated results. We have to go back to __sqlite3__ to run SQL commands other than `SELECT`."
   ]
  },
  {
   "cell_type": "code",
   "execution_count": null,
   "id": "102eea75",
   "metadata": {},
   "outputs": [],
   "source": [
    "db.execute(\"\"\"\n",
    "CREATE TABLE newparts AS \n",
    "    SELECT *\n",
    "    FROM parts\n",
    "\"\"\")"
   ]
  },
  {
   "cell_type": "code",
   "execution_count": null,
   "id": "56ddc7ff",
   "metadata": {},
   "outputs": [],
   "source": [
    "db.execute(\"\"\"\n",
    "CREATE TABLE adresses (\n",
    "    SupplierID int,\n",
    "    SupplierName varchar(255),\n",
    "    Address varchar(255),\n",
    "    Email varchar(255)\n",
    ")\n",
    "\"\"\")\n",
    "\n",
    "# Force the database to run (\"commit\") the query.\n",
    "# Otherwise the database evaluates queries lazily, so the table will not show up.\n",
    "db.commit()"
   ]
  },
  {
   "cell_type": "code",
   "execution_count": null,
   "id": "c9663ffb",
   "metadata": {},
   "outputs": [],
   "source": [
    "pd.read_sql(\"SELECT * FROM adresses\", db)"
   ]
  },
  {
   "cell_type": "code",
   "execution_count": null,
   "id": "83f73889",
   "metadata": {},
   "outputs": [],
   "source": [
    "pd.read_sql(\"SELECT * FROM sqlite_master\", db)"
   ]
  },
  {
   "cell_type": "code",
   "execution_count": null,
   "id": "eaa3814e",
   "metadata": {},
   "outputs": [],
   "source": [
    "# append a new record\n",
    "db.execute('''\n",
    "INSERT INTO adresses (SupplierID, SupplierName, Address, Email)\n",
    "VALUES (1, 'John Doe', 'nowhere', 'john@doe.com');\n",
    "''')"
   ]
  },
  {
   "cell_type": "code",
   "execution_count": null,
   "id": "99148693",
   "metadata": {},
   "outputs": [],
   "source": [
    "pd.read_sql(\"SELECT * FROM adresses\", db)"
   ]
  },
  {
   "cell_type": "code",
   "execution_count": null,
   "id": "636365c8",
   "metadata": {},
   "outputs": [],
   "source": [
    "db.execute('''\n",
    "INSERT INTO adresses (SupplierID, SupplierName, Email)\n",
    "VALUES (2, 'Don Joe', 'don@joe.com');\n",
    "''')"
   ]
  },
  {
   "cell_type": "code",
   "execution_count": null,
   "id": "da0bd97d",
   "metadata": {},
   "outputs": [],
   "source": [
    "db.execute(\"\"\"\n",
    "    UPDATE adresses\n",
    "    SET Address='1 One Shields Avenue, Davis CA 95616'\n",
    "    WHERE SupplierID=1\n",
    "\"\"\")"
   ]
  },
  {
   "cell_type": "code",
   "execution_count": null,
   "id": "9abe5274",
   "metadata": {},
   "outputs": [],
   "source": [
    "pd.read_sql(\"SELECT * FROM adresses\", db)"
   ]
  },
  {
   "cell_type": "markdown",
   "id": "e4c6222b",
   "metadata": {},
   "source": [
    "Careful! `Update` changes all selected records. "
   ]
  },
  {
   "cell_type": "code",
   "execution_count": null,
   "id": "10dfbac9",
   "metadata": {},
   "outputs": [],
   "source": [
    "# new example record\n",
    "db.execute('''\n",
    "INSERT INTO adresses (SupplierID, SupplierName, Email)\n",
    "VALUES (1, 'Jane Doe', 'jane@doe.com');\n",
    "''')"
   ]
  },
  {
   "cell_type": "code",
   "execution_count": null,
   "id": "8be1d8a3",
   "metadata": {},
   "outputs": [],
   "source": [
    "pd.read_sql(\"SELECT * FROM adresses\", db)"
   ]
  },
  {
   "cell_type": "code",
   "execution_count": null,
   "id": "5f2ac11b",
   "metadata": {},
   "outputs": [],
   "source": [
    "# two records are updated\n",
    "db.execute(\"\"\"\n",
    "    UPDATE adresses\n",
    "    SET Address='Golden Gate Brg, San Francisco, CA'\n",
    "    WHERE SupplierID=1\n",
    "\"\"\")"
   ]
  },
  {
   "cell_type": "code",
   "execution_count": null,
   "id": "4dcde09e",
   "metadata": {},
   "outputs": [],
   "source": [
    "pd.read_sql(\"SELECT * FROM adresses\", db)"
   ]
  },
  {
   "cell_type": "code",
   "execution_count": null,
   "id": "2d8ea0e9",
   "metadata": {},
   "outputs": [],
   "source": [
    "# two attrributes are set\n",
    "db.execute(\"\"\"\n",
    "    UPDATE adresses\n",
    "    SET SupplierID=3,\n",
    "        Address='1 One Shields Avenue, Davis CA 95616'\n",
    "    WHERE SupplierName='Jane Doe'\n",
    "\"\"\")"
   ]
  },
  {
   "cell_type": "code",
   "execution_count": null,
   "id": "56cf4174",
   "metadata": {},
   "outputs": [],
   "source": [
    "pd.read_sql(\"SELECT * FROM adresses\", db)"
   ]
  },
  {
   "cell_type": "code",
   "execution_count": null,
   "id": "bd36a60f",
   "metadata": {},
   "outputs": [],
   "source": [
    "db.execute(\"\"\"\n",
    "UPDATE adresses\n",
    "SET SupplierID=1\n",
    "\"\"\")\n",
    "pd.read_sql(\"SELECT * FROM adresses\", db)"
   ]
  },
  {
   "cell_type": "code",
   "execution_count": null,
   "id": "e5b374d3",
   "metadata": {},
   "outputs": [],
   "source": [
    "db.execute(\"\"\"\n",
    "DELETE FROM adresses\n",
    "WHERE SupplierName='Don Joe'\n",
    "\"\"\")\n",
    "pd.read_sql(\"SELECT * FROM adresses\", db)"
   ]
  },
  {
   "cell_type": "code",
   "execution_count": null,
   "id": "4b5d5df5",
   "metadata": {},
   "outputs": [],
   "source": [
    "db.execute(\"DROP TABLE newparts\")\n",
    "db.execute(\"DROP TABLE adresses\")\n",
    "#db.commit()"
   ]
  },
  {
   "cell_type": "code",
   "execution_count": null,
   "id": "b544dbfa",
   "metadata": {},
   "outputs": [],
   "source": [
    "db.close()"
   ]
  },
  {
   "cell_type": "markdown",
   "id": "6e177205",
   "metadata": {},
   "source": [
    "<img src=\"https://imgs.xkcd.com/comics/exploits_of_a_mom_2x.png\">"
   ]
  },
  {
   "cell_type": "markdown",
   "id": "5a6bd10e",
   "metadata": {},
   "source": [
    "## Other Databases\n",
    "\n",
    "You can use the __sqlalchemy__ package to connect to many different kinds of databases (not only SQLite).\n",
    "\n",
    "The `sqlalchemy.create_engine()` function creates an _engine_ to connect to a database. The `.raw_connection()` method on the returned engine opens a connection compatible with Pandas.\n",
    "\n",
    "See the __sqlalchemy__ documentation for more info about [how to write a database URL](https://docs.sqlalchemy.org/en/latest/core/engines.html#database-urls)."
   ]
  },
  {
   "cell_type": "code",
   "execution_count": null,
   "id": "2f2285c2",
   "metadata": {},
   "outputs": [],
   "source": [
    "import sqlalchemy\n",
    "\n",
    "engine = sqlalchemy.create_engine(\"sqlite:///../data/suppliers.sqlite\")\n",
    "conn = engine.raw_connection()"
   ]
  },
  {
   "cell_type": "code",
   "execution_count": null,
   "id": "4f7a4558",
   "metadata": {},
   "outputs": [],
   "source": [
    "conn"
   ]
  },
  {
   "cell_type": "code",
   "execution_count": null,
   "id": "44285ca3",
   "metadata": {},
   "outputs": [],
   "source": [
    "pd.read_sql(\"SELECT * FROM sqlite_master\", conn)"
   ]
  },
  {
   "cell_type": "code",
   "execution_count": null,
   "id": "76529c89",
   "metadata": {},
   "outputs": [],
   "source": [
    "engine.table_names()"
   ]
  },
  {
   "cell_type": "code",
   "execution_count": null,
   "id": "79c99304",
   "metadata": {},
   "outputs": [],
   "source": [
    "conn.close()"
   ]
  },
  {
   "cell_type": "markdown",
   "id": "f1983d06",
   "metadata": {},
   "source": [
    "Unlike SQLite, most databases:\n",
    "\n",
    "* Are not stored in a single file.\n",
    "* Have a client-server design, where you connect to the database by logging in with a username and password."
   ]
  }
 ],
 "metadata": {
  "kernelspec": {
   "display_name": "Python 3 (ipykernel)",
   "language": "python",
   "name": "python3"
  },
  "language_info": {
   "codemirror_mode": {
    "name": "ipython",
    "version": 3
   },
   "file_extension": ".py",
   "mimetype": "text/x-python",
   "name": "python",
   "nbconvert_exporter": "python",
   "pygments_lexer": "ipython3",
   "version": "3.9.12"
  }
 },
 "nbformat": 4,
 "nbformat_minor": 5
}
