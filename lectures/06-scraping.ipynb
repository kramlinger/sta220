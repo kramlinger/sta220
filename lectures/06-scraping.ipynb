{
 "cells": [
  {
   "cell_type": "markdown",
   "id": "d2e7f66f",
   "metadata": {},
   "source": [
    "# STA 220 Data & Web Technologies for Data Analysis\n",
    "\n",
    "### Lecture 6, 1/22/25, Web Scraping\n",
    "\n",
    "### Announcements\n",
    "- HW 1 due this Sunday\n",
    "\n",
    "### Today's topics\n",
    " - Web Scraping: \n",
    "     - Foodwise\n",
    "     - Tornado Watch\n",
    "\n",
    "### Ressources\n",
    " - [Foodwise](https://foodwise.org/)\n",
    " - [Tornado Watch](https://www.tornadohq.com/)"
   ]
  },
  {
   "cell_type": "markdown",
   "id": "aa9ef140",
   "metadata": {},
   "source": [
    "### Writing Scrapers\n",
    "\n",
    "Lets scrape the wiki table ourselves. Attention: We are using request, so pay attention to the file that is being returned. Check on devtools the html element for `<thead>` and see what is returned in the network. "
   ]
  },
  {
   "cell_type": "code",
   "execution_count": null,
   "id": "954b4450",
   "metadata": {},
   "outputs": [],
   "source": [
    "import requests\n",
    "import lxml.html as lx\n",
    "import pandas as pd"
   ]
  },
  {
   "cell_type": "code",
   "execution_count": null,
   "id": "7a5bbf4e",
   "metadata": {},
   "outputs": [],
   "source": [
    "result = requests.get(url = 'https://en.wikipedia.org/wiki/List_of_United_States_cities_by_area')\n",
    "html = lx.fromstring(result.text)"
   ]
  },
  {
   "cell_type": "code",
   "execution_count": null,
   "id": "a2a26bd3",
   "metadata": {},
   "outputs": [],
   "source": [
    "result.text[:100]"
   ]
  },
  {
   "cell_type": "code",
   "execution_count": null,
   "id": "643fd4d8",
   "metadata": {},
   "outputs": [],
   "source": [
    "tables = html.xpath('//table[2]')\n",
    "table = tables[0]"
   ]
  },
  {
   "cell_type": "code",
   "execution_count": null,
   "id": "896af3bc",
   "metadata": {
    "scrolled": true
   },
   "outputs": [],
   "source": [
    "table.text_content()"
   ]
  },
  {
   "cell_type": "code",
   "execution_count": null,
   "id": "0e332487",
   "metadata": {},
   "outputs": [],
   "source": [
    "html.xpath('//*[@id=\"mw-content-text\"]/div[1]/table[2]/thead')"
   ]
  },
  {
   "cell_type": "code",
   "execution_count": null,
   "id": "58224ef8",
   "metadata": {
    "scrolled": true
   },
   "outputs": [],
   "source": [
    "html.xpath('//table[2]/tbody/tr[4]//text()')"
   ]
  },
  {
   "cell_type": "code",
   "execution_count": null,
   "id": "c01999d8",
   "metadata": {},
   "outputs": [],
   "source": [
    "def retrieve_rows(html): \n",
    "    rows = html.xpath('//table[2]/tbody/tr')\n",
    "    cells = []\n",
    "    for row in rows: \n",
    "        # ./td|th means we start at the node (not searching the whole doc again), and choose td OR th children\n",
    "        cells.append([cell.text_content() for cell in row.xpath('./td|th')]) # no text, as some cells are in <b>\n",
    "    return cells"
   ]
  },
  {
   "cell_type": "code",
   "execution_count": null,
   "id": "47800063",
   "metadata": {},
   "outputs": [],
   "source": [
    "retrieve_rows(html)"
   ]
  },
  {
   "cell_type": "code",
   "execution_count": null,
   "id": "288cd9ef",
   "metadata": {},
   "outputs": [],
   "source": [
    "df = pd.DataFrame(retrieve_rows(html))\n",
    "df.head(10)"
   ]
  },
  {
   "cell_type": "markdown",
   "id": "d1178300",
   "metadata": {},
   "source": [
    "### Example: Foodwise\n",
    "\n",
    "Foodwise, formerly CUESA (Center for Urban Education about Sustainable Agriculture) provides [a chart](https://foodwise.org/eat-seasonally/seasonality-chart-vegetables/) on when certain vegetables are in season. We want to create this chart for ourselves. All the info we need is on `foodwise`, so lets scrape! "
   ]
  },
  {
   "cell_type": "markdown",
   "id": "e87372e2",
   "metadata": {},
   "source": [
    "First, observe that the search mask (Food type, Month) invokes an API. However, the params are complicated to assemble, also, the returned object is an html. So we have to scrape the html. First check, using devtools, that the desired information is returned by the API (under `doc`). "
   ]
  },
  {
   "cell_type": "code",
   "execution_count": null,
   "id": "76399cfb",
   "metadata": {},
   "outputs": [],
   "source": [
    "import requests\n",
    "import lxml.html as lx\n",
    "import requests_cache\n",
    "import time\n",
    "requests_cache.install_cache(\"lecture10\")"
   ]
  },
  {
   "cell_type": "code",
   "execution_count": null,
   "id": "e3dc3f12",
   "metadata": {},
   "outputs": [],
   "source": [
    "url = \"https://foodwise.org/eat-seasonally/seasonality-charts/?_food_type=vegetable\""
   ]
  },
  {
   "cell_type": "code",
   "execution_count": null,
   "id": "79d87410",
   "metadata": {},
   "outputs": [],
   "source": [
    "headers = {\n",
    "    'user-agent': 'Mozilla/5.0 (Macintosh; Intel Mac OS X 10_15_7) AppleWebKit/537.36 (KHTML, like Gecko) Chrome/106.0.0.0 Safari/537.36'\n",
    "}"
   ]
  },
  {
   "cell_type": "markdown",
   "id": "3bb119a7",
   "metadata": {},
   "source": [
    "Here, the server needs the `user-agent` key in the header. "
   ]
  },
  {
   "cell_type": "code",
   "execution_count": null,
   "id": "19b60e97",
   "metadata": {},
   "outputs": [],
   "source": [
    "response = requests.get(url, headers = headers)\n",
    "response.raise_for_status()"
   ]
  },
  {
   "cell_type": "code",
   "execution_count": null,
   "id": "e77c8fa3",
   "metadata": {
    "scrolled": true
   },
   "outputs": [],
   "source": [
    "response.text[:100]"
   ]
  },
  {
   "cell_type": "markdown",
   "id": "1424f240",
   "metadata": {},
   "source": [
    "##### First approach"
   ]
  },
  {
   "cell_type": "code",
   "execution_count": null,
   "id": "94f9335d",
   "metadata": {},
   "outputs": [],
   "source": [
    "url = \"https://foodwise.org/foods/cactus-pads/\"\n",
    "response = requests.get(url, headers = headers)"
   ]
  },
  {
   "cell_type": "code",
   "execution_count": null,
   "id": "6f170de9",
   "metadata": {},
   "outputs": [],
   "source": [
    "response.raise_for_status()"
   ]
  },
  {
   "cell_type": "code",
   "execution_count": null,
   "id": "ebc073c2",
   "metadata": {},
   "outputs": [],
   "source": [
    "response.text # works after executed chunk below, as we use cache"
   ]
  },
  {
   "cell_type": "markdown",
   "id": "0c6a194f",
   "metadata": {},
   "source": [
    "We have to provide the correct header! "
   ]
  },
  {
   "cell_type": "code",
   "execution_count": null,
   "id": "47fd76ed",
   "metadata": {},
   "outputs": [],
   "source": [
    "response = requests.get(url, headers = headers)\n",
    "response.raise_for_status"
   ]
  },
  {
   "cell_type": "code",
   "execution_count": null,
   "id": "0d6a813e",
   "metadata": {},
   "outputs": [],
   "source": [
    "response.text[:100]"
   ]
  },
  {
   "cell_type": "code",
   "execution_count": null,
   "id": "f6dca6cf",
   "metadata": {},
   "outputs": [],
   "source": [
    "html = lx.fromstring(response.text) # Parse the HTML\n",
    "html"
   ]
  },
  {
   "cell_type": "code",
   "execution_count": null,
   "id": "719e750d",
   "metadata": {},
   "outputs": [],
   "source": [
    "html.xpath('//*[@id=\"primary\"]/div[2]/div[2]/section[1]/text()')[1]"
   ]
  },
  {
   "cell_type": "code",
   "execution_count": null,
   "id": "7615dc85",
   "metadata": {},
   "outputs": [],
   "source": [
    "string = html.xpath('//section[@class=\"sidebar__section\"][h2[contains(text(), \"In Season\")]]/text()')[1]\n",
    "string"
   ]
  },
  {
   "cell_type": "code",
   "execution_count": null,
   "id": "4079bee3",
   "metadata": {},
   "outputs": [],
   "source": [
    "from re import sub\n",
    "sub(r'\\W', ' ', string).split() # we are going to talk about RegEx some other time"
   ]
  },
  {
   "cell_type": "code",
   "execution_count": null,
   "id": "e95100d0",
   "metadata": {},
   "outputs": [],
   "source": [
    "def get_months(produce): \n",
    "    time.sleep(0.05)\n",
    "    url = \"https://foodwise.org/foods/\" + produce + \"/\"\n",
    "    response = requests.get(url, headers = headers)\n",
    "    response.raise_for_status()\n",
    "    html = lx.fromstring(response.text)\n",
    "    string = html.xpath('//section[@class=\"sidebar__section\"][h2[contains(text(), \"In Season\")]]/text()')[1]\n",
    "    month = sub(r'(In Season)|\\W', ' ', string).split()\n",
    "    return month"
   ]
  },
  {
   "cell_type": "code",
   "execution_count": null,
   "id": "c980e76d",
   "metadata": {},
   "outputs": [],
   "source": [
    "month = get_months('burdock')\n",
    "month "
   ]
  },
  {
   "cell_type": "markdown",
   "id": "b939368e",
   "metadata": {},
   "source": [
    "##### How to get the product in the first place? "
   ]
  },
  {
   "cell_type": "code",
   "execution_count": null,
   "id": "d75601b3",
   "metadata": {},
   "outputs": [],
   "source": [
    "url = 'https://foodwise.org/eat-seasonally/seasonality-charts/?_food_type=vegetable'\n",
    "response = requests.get(url, headers = headers)\n",
    "response.raise_for_status()"
   ]
  },
  {
   "cell_type": "code",
   "execution_count": null,
   "id": "7dea2b13",
   "metadata": {},
   "outputs": [],
   "source": [
    "html = lx.fromstring(response.text) # Parse the HTML\n",
    "html"
   ]
  },
  {
   "cell_type": "code",
   "execution_count": null,
   "id": "e8bc8804",
   "metadata": {},
   "outputs": [],
   "source": [
    "produce = html.xpath('//div[@class=\"card-image-title__text-content\"]/h3/text()')\n",
    "produce   "
   ]
  },
  {
   "cell_type": "code",
   "execution_count": null,
   "id": "0202524a",
   "metadata": {},
   "outputs": [],
   "source": [
    "def get_produce(page):\n",
    "    url = 'https://foodwise.org/eat-seasonally/seasonality-charts/'\n",
    "    response = requests.get(url, headers = headers, params = {\n",
    "        '_food_type': 'vegetable',\n",
    "        '_paged': page\n",
    "    })\n",
    "    response.raise_for_status()\n",
    "    html = lx.fromstring(response.text) # Parse the HTML\n",
    "    produce = html.xpath('//div[@class=\"card-image-title__text-content\"]/h3/text()')\n",
    "    return produce"
   ]
  },
  {
   "cell_type": "code",
   "execution_count": null,
   "id": "9082f4f9",
   "metadata": {},
   "outputs": [],
   "source": [
    "get_produce(3)"
   ]
  },
  {
   "cell_type": "code",
   "execution_count": null,
   "id": "31b6ad82",
   "metadata": {
    "scrolled": true
   },
   "outputs": [],
   "source": [
    "produce = [item for sublist in [get_produce(i) for i in range(1,5)] for item in sublist]\n",
    "produce"
   ]
  },
  {
   "cell_type": "markdown",
   "id": "78043242",
   "metadata": {},
   "source": [
    "##### Iterate over produce items"
   ]
  },
  {
   "cell_type": "code",
   "execution_count": null,
   "id": "d532f2ea",
   "metadata": {},
   "outputs": [],
   "source": [
    "year = ['January', 'February', 'March', 'April', 'May', 'June', 'July', 'August', 'September', \n",
    "        'October', 'November', 'December']"
   ]
  },
  {
   "cell_type": "code",
   "execution_count": null,
   "id": "d85b2c42",
   "metadata": {},
   "outputs": [],
   "source": [
    "month = get_months('Tatsoi')"
   ]
  },
  {
   "cell_type": "code",
   "execution_count": null,
   "id": "655b1e55",
   "metadata": {},
   "outputs": [],
   "source": [
    "month"
   ]
  },
  {
   "cell_type": "code",
   "execution_count": null,
   "id": "984f3a63",
   "metadata": {},
   "outputs": [],
   "source": [
    "d = {'Produce': 'Tatsoi'}\n",
    "d.update({item: True if item in month else False for item in year})\n",
    "d"
   ]
  },
  {
   "cell_type": "code",
   "execution_count": null,
   "id": "f74fb59d",
   "metadata": {
    "scrolled": true
   },
   "outputs": [],
   "source": [
    "import pandas\n",
    "pandas.DataFrame([d, d])"
   ]
  },
  {
   "cell_type": "code",
   "execution_count": null,
   "id": "1d86b2ec",
   "metadata": {},
   "outputs": [],
   "source": [
    "def assemble_row(produce): \n",
    "    print(produce)\n",
    "    month = get_months(produce)\n",
    "    d = {'Produce': produce}\n",
    "    d.update({item: True if item in month else False for item in year})\n",
    "    return d"
   ]
  },
  {
   "cell_type": "code",
   "execution_count": null,
   "id": "ca111338",
   "metadata": {},
   "outputs": [],
   "source": [
    "assemble_row(\"Tatsoi\")"
   ]
  },
  {
   "cell_type": "code",
   "execution_count": null,
   "id": "7c8db046",
   "metadata": {},
   "outputs": [],
   "source": [
    "import pandas as pd"
   ]
  },
  {
   "cell_type": "code",
   "execution_count": null,
   "id": "c47bf118",
   "metadata": {},
   "outputs": [],
   "source": [
    "pd.DataFrame([assemble_row(p) for p in produce[:3]])"
   ]
  },
  {
   "cell_type": "code",
   "execution_count": null,
   "id": "0acb37e1",
   "metadata": {},
   "outputs": [],
   "source": [
    "produce[:3]"
   ]
  },
  {
   "cell_type": "code",
   "execution_count": null,
   "id": "a134dbcf",
   "metadata": {
    "scrolled": false
   },
   "outputs": [],
   "source": [
    "df = [assemble_row(i) for i in produce] # runs for 45 secs"
   ]
  },
  {
   "cell_type": "code",
   "execution_count": null,
   "id": "53182a2a",
   "metadata": {},
   "outputs": [],
   "source": [
    "def get_months(produce): \n",
    "    time.sleep(0.05)\n",
    "    url = \"https://foodwise.org/foods/\" + produce + \"/\"\n",
    "    response = requests.get(url, headers = headers)\n",
    "    response.raise_for_status()\n",
    "    html = lx.fromstring(response.text)\n",
    "    try: \n",
    "        string = html.xpath('//section[@class=\"sidebar__section\"][h2[contains(text(), \"In Season\")]]/text()')[1]\n",
    "        month = sub(r'(In Season)|\\W', ' ', string).split() \n",
    "    except:\n",
    "        month = []\n",
    "    return month"
   ]
  },
  {
   "cell_type": "code",
   "execution_count": null,
   "id": "2728f32b",
   "metadata": {
    "scrolled": false
   },
   "outputs": [],
   "source": [
    "[assemble_row(i) for i in produce]"
   ]
  },
  {
   "cell_type": "markdown",
   "id": "763198bd",
   "metadata": {},
   "source": [
    "Try to catch the error, or check what happened! "
   ]
  },
  {
   "cell_type": "code",
   "execution_count": null,
   "id": "c13f2e78",
   "metadata": {},
   "outputs": [],
   "source": [
    "# Not run! \n",
    "def get_months(produce): \n",
    "    time.sleep(0.05)\n",
    "    url = \"https://foodwise.org/foods/\" + produce + \"/\"\n",
    "    response = requests.get(url, headers = headers)\n",
    "    try: response.raise_for_status()\n",
    "    except requests.HTTPError:\n",
    "        month = []\n",
    "        return month \n",
    "    else:\n",
    "        html = lx.fromstring(response.text)\n",
    "        try: \n",
    "            string = html.xpath('//section[@class=\"sidebar__section\"][h2[contains(text(), \"In Season\")]]/text()')[1]\n",
    "            month = sub(r'(In Season)|\\W', ' ', string).split() \n",
    "        except:\n",
    "            month = []\n",
    "            return month \n",
    "        return month"
   ]
  },
  {
   "cell_type": "markdown",
   "id": "10fbb74c",
   "metadata": {},
   "source": [
    "We have to account for new links.... Retrieve the `href` attribute from the anchor."
   ]
  },
  {
   "cell_type": "code",
   "execution_count": null,
   "id": "1b35d5c1",
   "metadata": {},
   "outputs": [],
   "source": [
    "url = 'https://foodwise.org/eat-seasonally/seasonality-charts/?_food_type=vegetable&_paged=3' #try page 3,4\n",
    "response = requests.get(url, headers = headers)\n",
    "response.raise_for_status()\n",
    "html = lx.fromstring(response.text) # Parse the HTML\n",
    "produce = html.xpath('//article[@class=\"card-image-title__container\"]/a/@href') #returns href attribute of anchor link\n",
    "produce"
   ]
  },
  {
   "cell_type": "code",
   "execution_count": null,
   "id": "00ae6bc9",
   "metadata": {},
   "outputs": [],
   "source": [
    "def get_url(i):\n",
    "    url = 'https://foodwise.org/eat-seasonally/seasonality-charts/?_food_type=vegetable&_paged=' + str(i)\n",
    "    response = requests.get(url, headers = headers)\n",
    "    response.raise_for_status()\n",
    "    html = lx.fromstring(response.text) # Parse the HTML\n",
    "    #returns href attribute of anchor link\n",
    "    produce_link = html.xpath('//article[@class=\"card-image-title__container\"]/a/@href') \n",
    "    return produce_link"
   ]
  },
  {
   "cell_type": "code",
   "execution_count": null,
   "id": "4b1057af",
   "metadata": {
    "scrolled": true
   },
   "outputs": [],
   "source": [
    "produce_links = [item for sublist in [get_url(i) for i in range(1,5)] for item in sublist]\n",
    "produce_links"
   ]
  },
  {
   "cell_type": "markdown",
   "id": "d48d69a1",
   "metadata": {},
   "source": [
    "Lets find the (new) produce name from its site. "
   ]
  },
  {
   "cell_type": "code",
   "execution_count": null,
   "id": "3fb53482",
   "metadata": {},
   "outputs": [],
   "source": [
    "result = requests.get('https://foodwise.org/foods/peppers-chile/', headers = headers)\n",
    "result.raise_for_status()"
   ]
  },
  {
   "cell_type": "code",
   "execution_count": null,
   "id": "63c6bf1d",
   "metadata": {},
   "outputs": [],
   "source": [
    "html = lx.fromstring(result.text)"
   ]
  },
  {
   "cell_type": "code",
   "execution_count": null,
   "id": "81d4d2c4",
   "metadata": {},
   "outputs": [],
   "source": [
    "html.xpath(\"//h1/text()\")[0]"
   ]
  },
  {
   "cell_type": "code",
   "execution_count": null,
   "id": "25585fdb",
   "metadata": {},
   "outputs": [],
   "source": [
    "def get_months(produce_link): \n",
    "    time.sleep(0.05)\n",
    "    response = requests.get(produce_link, headers = headers)\n",
    "    html = lx.fromstring(response.text)\n",
    "    try: \n",
    "        string = html.xpath('//section[@class=\"sidebar__section\"][h2[contains(text(), \"In Season\")]]/text()')[1]\n",
    "    except:\n",
    "          return [None, []] \n",
    "    else: \n",
    "        month = sub(r'(In Season)|\\W', ' ', string).split() \n",
    "        name = html.xpath(\"//h1/text()\")[0]\n",
    "        return [name, month]"
   ]
  },
  {
   "cell_type": "code",
   "execution_count": null,
   "id": "51de0828",
   "metadata": {},
   "outputs": [],
   "source": [
    "get_months('https://foodwise.org/foods/peppers-chile/')"
   ]
  },
  {
   "cell_type": "code",
   "execution_count": null,
   "id": "d2788c2b",
   "metadata": {},
   "outputs": [],
   "source": [
    "def assemble_row(produce_link): \n",
    "    name, month = get_months(produce_link)\n",
    "    d = {'Produce': name}\n",
    "    d.update({item: True if item in month else False for item in year})\n",
    "    return d"
   ]
  },
  {
   "cell_type": "code",
   "execution_count": null,
   "id": "d2ed4756",
   "metadata": {},
   "outputs": [],
   "source": [
    "assemble_row('https://foodwise.org/foods/peppers-chile/')"
   ]
  },
  {
   "cell_type": "code",
   "execution_count": null,
   "id": "1cb3d390",
   "metadata": {},
   "outputs": [],
   "source": [
    "df = [assemble_row(i) for i in produce_links] \n",
    "df"
   ]
  },
  {
   "cell_type": "code",
   "execution_count": null,
   "id": "15676844",
   "metadata": {},
   "outputs": [],
   "source": [
    "tbl = pd.DataFrame(df)\n",
    "tbl.shape"
   ]
  },
  {
   "cell_type": "code",
   "execution_count": null,
   "id": "35f79fbe",
   "metadata": {},
   "outputs": [],
   "source": [
    "tbl.head()"
   ]
  },
  {
   "cell_type": "code",
   "execution_count": null,
   "id": "af1f792a",
   "metadata": {},
   "outputs": [],
   "source": [
    "tbl.set_index(\"Produce\")"
   ]
  },
  {
   "cell_type": "markdown",
   "id": "f812e095",
   "metadata": {},
   "source": [
    "### Tornado Watch \n",
    "\n",
    "We are interested in scraping and plotting the locations of all tornado warnings in the last 48 hours. "
   ]
  },
  {
   "cell_type": "code",
   "execution_count": null,
   "id": "d5b5e036",
   "metadata": {},
   "outputs": [],
   "source": [
    "import requests\n",
    "import lxml.html as lx\n",
    "import time\n",
    "import pandas as pd"
   ]
  },
  {
   "cell_type": "code",
   "execution_count": null,
   "id": "d4c2b18c",
   "metadata": {},
   "outputs": [],
   "source": [
    "result = requests.get('https://www.tornadohq.com/')\n",
    "result.raise_for_status"
   ]
  },
  {
   "cell_type": "code",
   "execution_count": null,
   "id": "f1d84b65",
   "metadata": {},
   "outputs": [],
   "source": [
    "html = lx.fromstring(result.text) # Parse the HTML"
   ]
  },
  {
   "cell_type": "code",
   "execution_count": null,
   "id": "0866f89d",
   "metadata": {
    "scrolled": true
   },
   "outputs": [],
   "source": [
    "warnings = html.xpath('//pre')\n",
    "warnings"
   ]
  },
  {
   "cell_type": "code",
   "execution_count": null,
   "id": "1dc5cc26",
   "metadata": {},
   "outputs": [],
   "source": [
    "warning = warnings[0].text\n",
    "warning"
   ]
  },
  {
   "cell_type": "markdown",
   "id": "5a41411f",
   "metadata": {},
   "source": [
    "Lets match the latitude-longitude pair after `LAT...LON`. "
   ]
  },
  {
   "cell_type": "code",
   "execution_count": null,
   "id": "0b85ffb8",
   "metadata": {},
   "outputs": [],
   "source": [
    "from re import findall"
   ]
  },
  {
   "cell_type": "code",
   "execution_count": null,
   "id": "a0280585",
   "metadata": {},
   "outputs": [],
   "source": [
    "findall('(?<=LAT\\.{3}LON\\s)(\\d+\\s\\d+)', warning)[0].split()"
   ]
  },
  {
   "cell_type": "markdown",
   "id": "6d383dd7",
   "metadata": {},
   "source": [
    "Rename the coordinates in readable format. "
   ]
  },
  {
   "cell_type": "code",
   "execution_count": null,
   "id": "aaea84e5",
   "metadata": {},
   "outputs": [],
   "source": [
    "coord_list = [findall('(?<=LAT\\.{3}LON\\s)(\\d+\\s\\d+)', warning.text)[0].split() for warning in warnings]"
   ]
  },
  {
   "cell_type": "code",
   "execution_count": null,
   "id": "53c4f615",
   "metadata": {},
   "outputs": [],
   "source": [
    "coord_list"
   ]
  },
  {
   "cell_type": "code",
   "execution_count": null,
   "id": "1153736f",
   "metadata": {},
   "outputs": [],
   "source": [
    "coord = pd.DataFrame(coord_list)\n",
    "coord.columns = ['N', 'W']\n",
    "coord = coord.applymap(lambda x: float(x) / 100) # convert location in readable format\n",
    "coord['W'] = -coord['W'] # longitude to west is negative\n",
    "coord.head()"
   ]
  },
  {
   "cell_type": "markdown",
   "id": "702a1111",
   "metadata": {},
   "source": [
    "Plot the results (consider a [mapbox token](https://studio.mapbox.com/) to plot.)!"
   ]
  },
  {
   "cell_type": "code",
   "execution_count": null,
   "id": "ac0d0253",
   "metadata": {},
   "outputs": [],
   "source": [
    "import plotly.express as px\n",
    "import geopandas as gpd\n",
    "\n",
    "px.set_mapbox_access_token(open(\"./../keys/mapbox.txt\").read())\n",
    "fig = px.scatter_mapbox(coord,\n",
    "                        lat='N',\n",
    "                        lon='W',\n",
    "                        zoom=4)\n",
    "fig.show()"
   ]
  },
  {
   "cell_type": "markdown",
   "id": "cf7ddffd",
   "metadata": {},
   "source": [
    "### Summary \n",
    "\n",
    "- Scraping does not necessarily return the desired, make use of error handling \n",
    "- Make use of the advantages of devtools to see how the website is structured"
   ]
  }
 ],
 "metadata": {
  "kernelspec": {
   "display_name": "Python 3 (ipykernel)",
   "language": "python",
   "name": "python3"
  },
  "language_info": {
   "codemirror_mode": {
    "name": "ipython",
    "version": 3
   },
   "file_extension": ".py",
   "mimetype": "text/x-python",
   "name": "python",
   "nbconvert_exporter": "python",
   "pygments_lexer": "ipython3",
   "version": "3.9.12"
  }
 },
 "nbformat": 4,
 "nbformat_minor": 5
}
