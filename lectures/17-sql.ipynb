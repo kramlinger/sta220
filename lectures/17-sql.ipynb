{
 "cells": [
  {
   "cell_type": "markdown",
   "id": "e71aa408",
   "metadata": {},
   "source": [
    "# STA 220 Data & Web Technologies for Data Analysis\n",
    "\n",
    "### Lecture 17, 3/4/25, SQL"
   ]
  },
  {
   "cell_type": "markdown",
   "id": "9c8e1746",
   "metadata": {},
   "source": [
    "### Announcements\n",
    "\n",
    "- "
   ]
  },
  {
   "cell_type": "markdown",
   "id": "0dc42d30",
   "metadata": {},
   "source": [
    "### Last week's topics\n",
    "- Cartography\n",
    "    - Cloropeth maps\n",
    "    - Dot maps\n",
    "- Interactive visualizations\n",
    "    - Client side versions\n",
    "    - Server side versions"
   ]
  },
  {
   "cell_type": "markdown",
   "id": "61f32fcf",
   "metadata": {},
   "source": [
    "### Today's topics\n",
    "- Databases\n",
    "- Structured Query Language"
   ]
  },
  {
   "cell_type": "markdown",
   "id": "d109ee3d",
   "metadata": {},
   "source": [
    "### Datasets\n",
    "\n",
    "* The Suppliers Database\n",
    "\n",
    "### References\n",
    "\n",
    "* [W3 Schools SQL Tutorial](https://www.w3schools.com/sql/)\n",
    "* [SQL Cheatsheet](https://www.sqltutorial.org/sql-cheat-sheet/)\n",
    "\n",
    "[PDSH]: https://jakevdp.github.io/PythonDataScienceHandbook/\n",
    "[ProGit]: https://git-scm.com/book/\n",
    "[nlpp]: https://www.nltk.org/book/\n",
    "[atap]: https://search.library.ucdavis.edu/primo-explore/fulldisplay?docid=01UCD_ALMA51320822340003126&context=L&vid=01UCD_V1&search_scope=everything_scope&tab=default_tab&lang=en_US"
   ]
  },
  {
   "cell_type": "code",
   "execution_count": null,
   "id": "78267b18",
   "metadata": {},
   "outputs": [],
   "source": [
    "import numpy as np\n",
    "import pandas as pd"
   ]
  },
  {
   "cell_type": "markdown",
   "id": "b3509df3",
   "metadata": {},
   "source": [
    "## Databases\n",
    "\n",
    "A _database_ is a collection of data. There are several different models for how to organize data in a database; these are called _database models_. In this context, \"model\" refers to a design or mental model, not a statistical model.\n",
    "\n",
    "The _relational model_ organizes data as a collection of tables. Tables have rows (also called _tuples_ or _records_) and columns (also called _attributes_). Most tables have a _key_ column that is unique for each row and _relates_ the table to other tables. The relational model is the most popular database model by far, and the one we'll focus on in this course.\n",
    "\n",
    "There are also many different software programs for managing databases, called _database management systems_ (DBMS). Each DBMS usually has its own format for storing data on disk, independent of the database model. Some popular DBMSes are:\n",
    "\n",
    "* [SQLite](https://www.sqlite.org/)\n",
    "* [MySQL](https://www.mysql.com/)\n",
    "* [Microsoft SQL Server](https://www.microsoft.com/en-us/sql-server)\n",
    "* [PostgreSQL](https://www.postgresql.org/)\n",
    "\n",
    "Why use a database? There are several reasons:\n",
    "\n",
    "* Your data may already be in a database, so converting to another format is extra work.\n",
    "* Database operations are highly optimized, so they typically take less time and memory than an equivalent operation in Python.\n",
    "* Database operations can run on datasets that are too large to fit in memory. Doing this in Python requires special programming strategies.\n",
    "* Many DBMSes provide built-in version control, multi-user access, and security checks.\n",
    "* Databases can be updated in real time."
   ]
  },
  {
   "cell_type": "markdown",
   "id": "49b6f464",
   "metadata": {},
   "source": [
    "## Structured Query Language\n",
    "\n",
    "_Structured query language_ (SQL) is a language designed for querying information in relational databases.\n",
    "\n",
    "A free SQL tutorial is available [here](https://www.w3schools.com/sql/).\n",
    "\n",
    "### Getting Connected\n",
    "\n",
    "There are several ways to connect to a database and run SQL queries from Python:\n",
    "\n",
    "* The built-in __sqlite3__ module, which only supports SQLite.\n",
    "* The __sqlalchemy__ package, a unified interface for a variety of different SQL database formats (more than just SQLite). See the [tutorial](http://docs.sqlalchemy.org/en/latest/core/tutorial.html) for more details.\n",
    "\n",
    "We'll use a SQLite database here, since SQLite is possibly [the most-used database engine in the world](https://sqlite.org/mostdeployed.html). SQLite's popularity is partly due to its reliability, easy setup, and broad range of features.\n",
    "\n",
    "Let's connect to the suppliers database:"
   ]
  },
  {
   "cell_type": "code",
   "execution_count": null,
   "id": "cfb52e5f",
   "metadata": {},
   "outputs": [],
   "source": [
    "import sqlite3 as sql"
   ]
  },
  {
   "cell_type": "markdown",
   "id": "7441ea26",
   "metadata": {},
   "source": [
    "To connect to a database, use the module's `connect()` function. This is similar to opening a file; you should close the database when you're done using it."
   ]
  },
  {
   "cell_type": "code",
   "execution_count": null,
   "id": "f90565fd",
   "metadata": {},
   "outputs": [],
   "source": [
    "db = sql.connect(\"../data/suppliers.sqlite\")"
   ]
  },
  {
   "cell_type": "code",
   "execution_count": null,
   "id": "0dc36afe",
   "metadata": {},
   "outputs": [],
   "source": [
    "db"
   ]
  },
  {
   "cell_type": "markdown",
   "id": "7db13aeb",
   "metadata": {},
   "source": [
    "To execute a SQL query, use the connection's `.execute()` method. This returns a _cursor_, which is a pointer to the results in the database (imagine a finger pointing at the results).\n",
    "\n",
    "SQLite databases store metadata in a special table called `sqlite_master`. We can use `sqlite_master` to find out the names of the other tables in the database."
   ]
  },
  {
   "cell_type": "code",
   "execution_count": null,
   "id": "12882d5c",
   "metadata": {},
   "outputs": [],
   "source": [
    "cur = db.execute(\"SELECT * FROM sqlite_master\")"
   ]
  },
  {
   "cell_type": "code",
   "execution_count": null,
   "id": "060edab7",
   "metadata": {},
   "outputs": [],
   "source": [
    "type(cur)"
   ]
  },
  {
   "cell_type": "markdown",
   "id": "c458ff86",
   "metadata": {},
   "source": [
    "To get the results from the database, use one of the cursor's fetch methods. The `.fetchall()` method returns all rows in the result."
   ]
  },
  {
   "cell_type": "code",
   "execution_count": null,
   "id": "dabf9c51",
   "metadata": {
    "scrolled": true
   },
   "outputs": [],
   "source": [
    "cur.fetchall()"
   ]
  },
  {
   "cell_type": "markdown",
   "id": "64f609af",
   "metadata": {},
   "source": [
    "By default, `sqlite3` will return rows as tuples. If you'd rather have the rows as dictionaries indexed by column name, set the `.row_factory` attribute on the database connection."
   ]
  },
  {
   "cell_type": "code",
   "execution_count": null,
   "id": "7f080647",
   "metadata": {},
   "outputs": [],
   "source": [
    "db.row_factory = sql.Row"
   ]
  },
  {
   "cell_type": "code",
   "execution_count": null,
   "id": "8860b802",
   "metadata": {},
   "outputs": [],
   "source": [
    "# db.row_factory_lc = sql.row # be careful about .Row and .row"
   ]
  },
  {
   "cell_type": "markdown",
   "id": "15d273c1",
   "metadata": {},
   "source": [
    "Now the rows will behave like dictionaries:"
   ]
  },
  {
   "cell_type": "code",
   "execution_count": null,
   "id": "21f0723f",
   "metadata": {},
   "outputs": [],
   "source": [
    "cur = db.execute(\"SELECT * FROM sqlite_master\")\n",
    "rows = cur.fetchall()\n",
    "dict(rows[0])"
   ]
  },
  {
   "cell_type": "code",
   "execution_count": null,
   "id": "c1d09221",
   "metadata": {},
   "outputs": [],
   "source": [
    "rows"
   ]
  },
  {
   "cell_type": "markdown",
   "id": "51e851b3",
   "metadata": {},
   "source": [
    "Don't forget to close the database when you're done!"
   ]
  },
  {
   "cell_type": "code",
   "execution_count": null,
   "id": "f13e5423",
   "metadata": {},
   "outputs": [],
   "source": [
    "# db.close()"
   ]
  },
  {
   "cell_type": "markdown",
   "id": "b6478086",
   "metadata": {},
   "source": [
    "We'll generally use the `pd.read_sql()` function in __pandas__ to run our SQL queries. \n",
    "\n",
    "The function takes a SQL query and an open database connection as arguments, so you still need to connect to the database first with `sqlite3` or `sqlalchemy`. The result of the query is returned as a data frame."
   ]
  },
  {
   "cell_type": "markdown",
   "id": "6daaeebe",
   "metadata": {},
   "source": [
    "### `SELECT`\n",
    "\n",
    "The `SELECT` command selects rows from a table. Most of your SQL queries will start with `SELECT`. The syntax is:\n",
    "\n",
    "```sql\n",
    "SELECT col1, col2, ... FROM my_table;\n",
    "```\n",
    "\n",
    "Here `col1`, `col2`, and so on are column names and `my_table` is a table name. You can select all columns with an asterisk  `*`.\n",
    "\n",
    "SQL is not case-sensitive and ignores whitespace, but the convention is to write SQL keywords in uppercase and column/table names in lowercase. A semicolon `;` marks the end of a SQL query, but this is optional for many tools."
   ]
  },
  {
   "cell_type": "code",
   "execution_count": null,
   "id": "77129934",
   "metadata": {},
   "outputs": [],
   "source": [
    "# db.excute(\"SELECT * FROM file_name\")"
   ]
  },
  {
   "cell_type": "code",
   "execution_count": null,
   "id": "82270ad2",
   "metadata": {},
   "outputs": [],
   "source": [
    "pd.read_sql(\"SELECT * FROM sqlite_master\", db) # ; is optional but is preferred"
   ]
  },
  {
   "cell_type": "code",
   "execution_count": null,
   "id": "1eb855f5",
   "metadata": {},
   "outputs": [],
   "source": [
    "# select only name and type from the data\n",
    "pd.read_sql(\"SELECT name, type FROM sqlite_master\", db)"
   ]
  },
  {
   "cell_type": "code",
   "execution_count": null,
   "id": "451ab9be",
   "metadata": {},
   "outputs": [],
   "source": [
    "# select only name and type from the data\n",
    "pd.read_sql(\"SELECT Name, TyPe FROM sqlite_Master;\", db)"
   ]
  },
  {
   "cell_type": "code",
   "execution_count": null,
   "id": "4cd369ce",
   "metadata": {},
   "outputs": [],
   "source": [
    "pd.read_sql(\"SELECT * FROM suppliers;\", db)"
   ]
  },
  {
   "cell_type": "code",
   "execution_count": null,
   "id": "b98d3336",
   "metadata": {},
   "outputs": [],
   "source": [
    "pd.read_sql(\"SELECT * FROM parts;\", db)"
   ]
  },
  {
   "cell_type": "code",
   "execution_count": null,
   "id": "5457d9cc",
   "metadata": {},
   "outputs": [],
   "source": [
    "pd.read_sql(\"SELECT * FROM supplierparts;\", db)"
   ]
  },
  {
   "cell_type": "markdown",
   "id": "5f4678da",
   "metadata": {},
   "source": [
    "### `LIMIT`\n",
    "\n",
    "The `SELECT` command can be extended with many other keywords.\n",
    "\n",
    "The first of these is `LIMIT`, which limits the number of rows returned. `LIMIT` is the SQL equivalent of Pandas' `.head()` method."
   ]
  },
  {
   "cell_type": "code",
   "execution_count": null,
   "id": "6e85095e",
   "metadata": {},
   "outputs": [],
   "source": [
    "pd.read_sql(\"SELECT * FROM supplierparts LIMIT 3\", db)"
   ]
  },
  {
   "cell_type": "markdown",
   "id": "9c55ca53",
   "metadata": {},
   "source": [
    "### `DISTINCT`\n",
    "\n",
    "The `DISTINCT` keyword limits rows to distinct results. `DISTINCT` is the SQL equivalent of Pandas' `.drop_duplicates()` method.\n",
    "\n",
    "Keep in mind that `DISTINCT` applies to all of the selected columns, not just one column."
   ]
  },
  {
   "cell_type": "code",
   "execution_count": null,
   "id": "c161b617",
   "metadata": {},
   "outputs": [],
   "source": [
    "pd.read_sql(\"SELECT color, city FROM parts\", db)"
   ]
  },
  {
   "cell_type": "code",
   "execution_count": null,
   "id": "258a56fb",
   "metadata": {
    "scrolled": true
   },
   "outputs": [],
   "source": [
    "pd.read_sql(\"SELECT DISTINCT color, city FROM parts;\", db)"
   ]
  },
  {
   "cell_type": "markdown",
   "id": "b6d9721a",
   "metadata": {},
   "source": [
    "### `ORDER BY`\n",
    "\n",
    "The `ORDER BY` keyword sorts the returned rows. `ORDER BY` is the SQL equivalent of Pandas' `.sort_values()` method."
   ]
  },
  {
   "cell_type": "code",
   "execution_count": null,
   "id": "6500d80a",
   "metadata": {},
   "outputs": [],
   "source": [
    "pd.read_sql(\"SELECT * FROM parts ORDER BY partid LIMIT 5;\", db)"
   ]
  },
  {
   "cell_type": "markdown",
   "id": "615fe91c",
   "metadata": {},
   "source": [
    "Add the suffix `ASC` for an ascending sort (smallest to largest) and `DESC` for a descending sort (largest to smallest).\n",
    "\n",
    "In SQLite, the default is ascending, but other other databases may differ."
   ]
  },
  {
   "cell_type": "code",
   "execution_count": null,
   "id": "a1dc298b",
   "metadata": {},
   "outputs": [],
   "source": [
    "pd.read_sql(\"SELECT * FROM parts ORDER BY weight DESC;\", db)"
   ]
  },
  {
   "cell_type": "code",
   "execution_count": null,
   "id": "981797a1",
   "metadata": {},
   "outputs": [],
   "source": [
    "pd.read_sql(\"SELECT LOG(partid) FROM parts ORDER BY weight DESC, city;\", db)"
   ]
  },
  {
   "cell_type": "markdown",
   "id": "cecd1014",
   "metadata": {},
   "source": [
    "### `WHERE`\n",
    "\n",
    "`WHERE` puts conditions on the rows returned. `WHERE` is the SQL equivalent of subsetting.\n",
    "\n",
    "You can use `=` to test equality. Other comparison operators, such as `>=`, are also available."
   ]
  },
  {
   "cell_type": "code",
   "execution_count": null,
   "id": "a2a90628",
   "metadata": {},
   "outputs": [],
   "source": [
    "pd.read_sql(\"SELECT * FROM parts\", db)"
   ]
  },
  {
   "cell_type": "code",
   "execution_count": null,
   "id": "c6567b4c",
   "metadata": {},
   "outputs": [],
   "source": [
    "pd.read_sql(\"SELECT * FROM parts WHERE city = 'London' OR color = 'Green';\", db)"
   ]
  },
  {
   "cell_type": "markdown",
   "id": "34b5b66e",
   "metadata": {},
   "source": [
    "You can use `AND` and `OR` to combine conditions. You can also use parenthesis to indicate the order of operations."
   ]
  },
  {
   "cell_type": "code",
   "execution_count": null,
   "id": "8eb24de4",
   "metadata": {},
   "outputs": [],
   "source": [
    "pd.read_sql(\"SELECT * FROM parts WHERE city = 'London' AND color = 'Green';\", db)"
   ]
  },
  {
   "cell_type": "markdown",
   "id": "82844fdb",
   "metadata": {},
   "source": [
    "You can use `IN` to check whether a value is in a collection of values."
   ]
  },
  {
   "cell_type": "code",
   "execution_count": null,
   "id": "d9d8572d",
   "metadata": {},
   "outputs": [],
   "source": [
    "pd.read_sql(\"SELECT * FROM parts WHERE city IN ('Paris', 'London');\", db)"
   ]
  },
  {
   "cell_type": "code",
   "execution_count": null,
   "id": "1e8315a7",
   "metadata": {},
   "outputs": [],
   "source": [
    "pd.read_sql(\"SELECT * FROM parts;\", db)"
   ]
  },
  {
   "cell_type": "markdown",
   "id": "88b65e66",
   "metadata": {},
   "source": [
    "SQL's `LIKE` keyword does simple pattern-matching language for strings. This is less powerful than regular expressions, but still useful.\n",
    "\n",
    "* `%` matches zero or more of any character, similar to regex (re) `.*`\n",
    "* `_` matches any one character, similar to regex `.`\n",
    "\n",
    "In other databases (but not SQLite):\n",
    "* `[]` matches any one of the characters you put inside the brackets, identical to regex `[]`"
   ]
  },
  {
   "cell_type": "code",
   "execution_count": null,
   "id": "c58b8e76",
   "metadata": {},
   "outputs": [],
   "source": [
    "pd.read_sql(\"SELECT * FROM parts WHERE city LIKE '%o%';\", db) #ends with s"
   ]
  },
  {
   "cell_type": "markdown",
   "id": "0f6ba2c9",
   "metadata": {},
   "source": [
    "The `BETWEEN` ... `AND` keyword is useful for selecting ranges."
   ]
  },
  {
   "cell_type": "code",
   "execution_count": null,
   "id": "2a48ab1f",
   "metadata": {},
   "outputs": [],
   "source": [
    "pd.read_sql(\"SELECT * FROM parts WHERE weight BETWEEN 14 AND 19;\", db)"
   ]
  },
  {
   "cell_type": "markdown",
   "id": "ac4c7e63",
   "metadata": {},
   "source": [
    "### Operators\n",
    "\n",
    "You can use arithmetic operators `+`, `-`, `*`, `\\`, `%` on SQL columns to perform columnwise computations. These are the SQL equivalent of vectorized arithmetic."
   ]
  },
  {
   "cell_type": "code",
   "execution_count": null,
   "id": "2ae117a5",
   "metadata": {},
   "outputs": [],
   "source": [
    "pd.read_sql(\"SELECT weight * weight, * FROM parts\", db)\n",
    "\n",
    "# the first *: multiplication, and the second *: reads all columns."
   ]
  },
  {
   "cell_type": "code",
   "execution_count": null,
   "id": "5504aee3",
   "metadata": {},
   "outputs": [],
   "source": [
    "pd.read_sql(\"SELECT weight + weight AS double_weight, * FROM parts\", db)"
   ]
  },
  {
   "cell_type": "code",
   "execution_count": null,
   "id": "6de0c6ce",
   "metadata": {},
   "outputs": [],
   "source": [
    "pd.read_sql('''\n",
    "    SELECT weight + weight, \n",
    "    * FROM parts WHERE weight * weight > 200;\n",
    "''', db)"
   ]
  },
  {
   "cell_type": "markdown",
   "id": "83f2a05f",
   "metadata": {},
   "source": [
    "### `AS`\n",
    "\n",
    "You can rename a column with the `AS` keyword. This keyword is especially useful together with SQL arithmetic operators and functions."
   ]
  },
  {
   "cell_type": "markdown",
   "id": "10afd101",
   "metadata": {},
   "source": [
    "### Functions & Aggregation\n",
    "\n",
    "SQL has built-in functions, which vary from one DBMS to another. The SQL cheatsheet lists most of the functions supported by SQLite.\n",
    "\n",
    "Most SQL functions aggregate data in a column, summarizing that column somehow."
   ]
  },
  {
   "cell_type": "code",
   "execution_count": null,
   "id": "9dc06e51",
   "metadata": {},
   "outputs": [],
   "source": [
    "pd.read_sql('''\n",
    "    SELECT weight * 12 AS multiplied_weight, \n",
    "    * FROM parts;\n",
    "''', db)"
   ]
  },
  {
   "cell_type": "code",
   "execution_count": null,
   "id": "8dc9c272",
   "metadata": {},
   "outputs": [],
   "source": [
    "pd.read_sql(\"SELECT AVG(weight * 12) AS avg_multiplied_weight FROM parts;\", db)"
   ]
  },
  {
   "cell_type": "code",
   "execution_count": null,
   "id": "72bf62da",
   "metadata": {},
   "outputs": [],
   "source": [
    "pd.read_sql(\"SELECT COUNT(*) AS countcolumn FROM parts;\", db)"
   ]
  },
  {
   "cell_type": "code",
   "execution_count": null,
   "id": "eac894f2",
   "metadata": {},
   "outputs": [],
   "source": [
    "pd.read_sql(\"SELECT upper(city) AS uppercity, * FROM parts;\", db)\n",
    "# upper and lower; similar to NLP"
   ]
  },
  {
   "cell_type": "markdown",
   "id": "f7d92790",
   "metadata": {},
   "source": [
    "### `GROUP BY`\n",
    "\n",
    "The `GROUP BY` keyword groups rows before they are aggregated. `GROUP BY` is the SQL equivalent of Pandas' `.groupby()` method."
   ]
  },
  {
   "cell_type": "code",
   "execution_count": null,
   "id": "b1663b07",
   "metadata": {},
   "outputs": [],
   "source": [
    "pd.read_sql(\"SELECT AVG(weight) FROM parts;\", db)"
   ]
  },
  {
   "cell_type": "code",
   "execution_count": null,
   "id": "fa8f2f24",
   "metadata": {},
   "outputs": [],
   "source": [
    "pd.read_sql(\"SELECT AVG(weight), city FROM parts GROUP BY city;\", db)"
   ]
  },
  {
   "cell_type": "code",
   "execution_count": null,
   "id": "33e6b171",
   "metadata": {},
   "outputs": [],
   "source": [
    "pd.read_sql(\"SELECT AVG(weight), city, partname FROM parts GROUP BY city, partname;\", db)"
   ]
  },
  {
   "cell_type": "markdown",
   "id": "f03dc677",
   "metadata": {},
   "source": [
    "### `HAVING`\n",
    "\n",
    "The `WHERE` keyword puts conditions on the rows returned _before computing any aggregate functions._ So use `WHERE` to remove rows before aggregation.\n",
    "\n",
    "The `HAVING` keyword puts conditions on the rows returned _after computing any aggregate functions._ So use `HAVING` to remove rows after aggregation. `HAVING` is most useful for conditions on the result of an aggregate."
   ]
  },
  {
   "cell_type": "code",
   "execution_count": null,
   "id": "a2409a6c",
   "metadata": {},
   "outputs": [],
   "source": [
    "pd.read_sql('''\n",
    "    SELECT city\n",
    "    FROM (SELECT AVG(weight) AS avg_weight, city  \n",
    "          FROM parts \n",
    "          WHERE weight > 15 \n",
    "          GROUP BY city)\n",
    "    WHERE avg_weight <= 17\n",
    "''', db)"
   ]
  },
  {
   "cell_type": "code",
   "execution_count": null,
   "id": "024ea08f",
   "metadata": {},
   "outputs": [],
   "source": [
    "pd.read_sql(''' \n",
    "    SELECT city\n",
    "    FROM parts \n",
    "    WHERE weight > 15 \n",
    "    GROUP BY city\n",
    "    HAVING AVG(weight) <= 17\n",
    "''', db)"
   ]
  },
  {
   "cell_type": "code",
   "execution_count": null,
   "id": "856d7eb7",
   "metadata": {},
   "outputs": [],
   "source": [
    "db.close()"
   ]
  }
 ],
 "metadata": {
  "kernelspec": {
   "display_name": "Python 3 (ipykernel)",
   "language": "python",
   "name": "python3"
  },
  "language_info": {
   "codemirror_mode": {
    "name": "ipython",
    "version": 3
   },
   "file_extension": ".py",
   "mimetype": "text/x-python",
   "name": "python",
   "nbconvert_exporter": "python",
   "pygments_lexer": "ipython3",
   "version": "3.9.12"
  }
 },
 "nbformat": 4,
 "nbformat_minor": 5
}
