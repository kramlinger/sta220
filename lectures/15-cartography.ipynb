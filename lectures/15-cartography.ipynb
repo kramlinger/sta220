{
 "cells": [
  {
   "cell_type": "markdown",
   "id": "63bed565",
   "metadata": {
    "slideshow": {
     "slide_type": "slide"
    }
   },
   "source": [
    "# STA 220 Data & Web Technologies for Data Analysis\n",
    "\n",
    "### Lecture 15, 25/2/25, Interactive Visualization: Cartography"
   ]
  },
  {
   "cell_type": "markdown",
   "id": "5a573709",
   "metadata": {
    "slideshow": {
     "slide_type": "slide"
    }
   },
   "source": [
    "### Announcements \n",
    "\n",
    "- "
   ]
  },
  {
   "cell_type": "markdown",
   "id": "97efca0c",
   "metadata": {},
   "source": [
    "### Last week's topics\n",
    "- Cartography\n",
    "    - Chloropeth maps"
   ]
  },
  {
   "cell_type": "markdown",
   "id": "26b55a4e",
   "metadata": {},
   "source": [
    "<div>\n",
    "    <center>\n",
    "<img src=\"https://upload.wikimedia.org/wikipedia/commons/3/38/Carte_figurative_de_l%27instruction_populaire_de_la_France.jpg\" width=\"300\"/>\n",
    "</center>\n",
    "    </div>"
   ]
  },
  {
   "cell_type": "markdown",
   "id": "1c1a7ad6",
   "metadata": {},
   "source": [
    "<div>\n",
    "    <center>\n",
    "<img src=\"https://upload.wikimedia.org/wikipedia/commons/e/e2/2019UKElectionMap.svg\" width=\"300\"/>\n",
    "</center>\n",
    "</div>"
   ]
  },
  {
   "cell_type": "markdown",
   "id": "d921a04a",
   "metadata": {
    "slideshow": {
     "slide_type": "slide"
    }
   },
   "source": [
    "### Today's topics\n",
    "- Cartography\n",
    "    - Density maps"
   ]
  },
  {
   "cell_type": "markdown",
   "id": "2cfbac15",
   "metadata": {},
   "source": [
    "While gradual color schemes are most appropriate for chloropeth maps, they only allow to show a single feature. \n",
    "\n",
    "Another problem in chloropeth maps is that they do not accurately depict data over geographic space with the use of large blocks. \n",
    "\n",
    "Dasyncretic maps address this issue. They use auxiliary information to portray the data more accurately. They intersect geographical objects to filter out spatial information that does not contribute to the data. E.g., for California, you may consider [this](https://gis.data.ca.gov/datasets/CALFIRE-Forestry::california-land-ownership-1/explore?location=38.944934%2C-120.161746%2C10.45) map. \n",
    "\n",
    "<div>\n",
    "    <center>\n",
    "<img src=\"https://upload.wikimedia.org/wikipedia/commons/7/7e/Utah_Valley_dasymetric_map.png\" width=\"1000\"/>\n",
    "</center>\n",
    "</div>"
   ]
  },
  {
   "cell_type": "markdown",
   "id": "101a004b",
   "metadata": {
    "slideshow": {
     "slide_type": "subslide"
    }
   },
   "source": [
    "Another popular map format are dot maps. Consider the following map from the 1931 Polish census. "
   ]
  },
  {
   "cell_type": "markdown",
   "id": "485d4f2b",
   "metadata": {},
   "source": [
    "<div>\n",
    "    <center>\n",
    "<img src=\"https://upload.wikimedia.org/wikipedia/commons/2/25/GUS_languages1931_Poland.jpg\" width=\"500\" />\n",
    "        </center>\n",
    "</div>"
   ]
  },
  {
   "cell_type": "markdown",
   "id": "cf1e84cf",
   "metadata": {
    "slideshow": {
     "slide_type": "subslide"
    }
   },
   "source": [
    "Lets give this map a modern touch! We will draw from [Paul Dziemielas](https://dziemiela.com/personal/interwar_poland.html) geographical boundaries and census results. "
   ]
  },
  {
   "cell_type": "code",
   "execution_count": null,
   "id": "3d56a0e2",
   "metadata": {},
   "outputs": [],
   "source": [
    "import requests\n",
    "r = requests.get('https://www.dziemiela.com/personal/Interwar_Poland_1934_20142.json', headers = {\n",
    "    'User-Agent': 'Mozilla/5.0 (Macintosh; Intel Mac OS X 10_15_7) AppleWebKit/537.36 (KHTML, like Gecko) Chrome/122.0.0.0 Safari/537.36'\n",
    "})\n",
    "topoJSON = r.json() # this is in topoJSON format!"
   ]
  },
  {
   "cell_type": "code",
   "execution_count": null,
   "id": "0d9eb490",
   "metadata": {
    "scrolled": true
   },
   "outputs": [],
   "source": [
    "topoJSON['objects']['Palatinates']['geometries']"
   ]
  },
  {
   "cell_type": "code",
   "execution_count": null,
   "id": "3169a02c",
   "metadata": {
    "slideshow": {
     "slide_type": "subslide"
    }
   },
   "outputs": [],
   "source": [
    "import folium\n",
    "m = folium.Map(width=800, height=500, tiles = None,\n",
    "               location=[53, 23], zoom_start=5)\n",
    "folium.TileLayer(\n",
    "    tiles='https://server.arcgisonline.com/ArcGIS/rest/services/World_Terrain_Base/MapServer/tile/{z}/{y}/{x}',\n",
    "    attr='Esri',\n",
    "    name='Esri Satellite'\n",
    ").add_to(m)"
   ]
  },
  {
   "cell_type": "code",
   "execution_count": null,
   "id": "9658bab2",
   "metadata": {},
   "outputs": [],
   "source": [
    "#topoJSON['objects']['Districts']['geometries']#[0]['properties']['GEOID']"
   ]
  },
  {
   "cell_type": "code",
   "execution_count": null,
   "id": "f13cfcaa",
   "metadata": {},
   "outputs": [],
   "source": [
    "folium.TopoJson(topoJSON,\n",
    "    object_path='objects.Districts', \n",
    "    style_function=lambda feature: {\n",
    "        \"fillColor\": None,\n",
    "        \"fillOpacity\": 0.0,\n",
    "        \"color\": \"lightgray\",\n",
    "        \"weight\": 1,\n",
    "        \"dashArray\": \"1\",\n",
    "    }, overlay=True, control=False).add_to(m)"
   ]
  },
  {
   "cell_type": "code",
   "execution_count": null,
   "id": "448452a8",
   "metadata": {
    "scrolled": false,
    "slideshow": {
     "slide_type": "subslide"
    }
   },
   "outputs": [],
   "source": [
    "folium.LayerControl().add_to(m)\n",
    "m"
   ]
  },
  {
   "cell_type": "markdown",
   "id": "dac1178c",
   "metadata": {
    "slideshow": {
     "slide_type": "subslide"
    }
   },
   "source": [
    "Lets retrieve the census data from the same source."
   ]
  },
  {
   "cell_type": "code",
   "execution_count": null,
   "id": "21d2aabc",
   "metadata": {
    "slideshow": {
     "slide_type": "-"
    }
   },
   "outputs": [],
   "source": [
    "import requests, zipfile, io\n",
    " \n",
    "r = requests.get('https://www.dziemiela.com/personal/Interwar_Poland_1934_20142.zip', \n",
    "                 headers = {\n",
    "    'User-Agent': 'Mozilla/5.0 (Macintosh; Intel Mac OS X 10_15_7) AppleWebKit/537.36 (KHTML, like Gecko) Chrome/122.0.0.0 Safari/537.36'\n",
    "})\n",
    "z = zipfile.ZipFile(io.BytesIO(r.content))\n",
    "z.extractall(\"../data/polish_census\")"
   ]
  },
  {
   "cell_type": "markdown",
   "id": "992cb9ec",
   "metadata": {
    "slideshow": {
     "slide_type": "subslide"
    }
   },
   "source": [
    "`fiona` is a module to handle geopackages. We have data for the 1931 and 1921 census, and a school census of 1926. We are only interested in the 1931 census. "
   ]
  },
  {
   "cell_type": "code",
   "execution_count": null,
   "id": "75266755",
   "metadata": {
    "slideshow": {
     "slide_type": "-"
    }
   },
   "outputs": [],
   "source": [
    "import fiona\n",
    "fiona.listlayers('../data/polish_census/Interwar_Poland_1934.gpkg')"
   ]
  },
  {
   "cell_type": "code",
   "execution_count": null,
   "id": "8e45c43e",
   "metadata": {
    "slideshow": {
     "slide_type": "subslide"
    }
   },
   "outputs": [],
   "source": [
    "import geopandas\n",
    "districts = geopandas.read_file(\"../data/polish_census/Interwar_Poland_1934.gpkg\", \n",
    "                                layer='Census_1931_Districts') \n",
    "districts.head(3)"
   ]
  },
  {
   "cell_type": "code",
   "execution_count": null,
   "id": "6c9ba1d0",
   "metadata": {
    "scrolled": false,
    "slideshow": {
     "slide_type": "-"
    }
   },
   "outputs": [],
   "source": [
    "print('\\n'.join(districts.columns))"
   ]
  },
  {
   "cell_type": "markdown",
   "id": "ced3ac58",
   "metadata": {
    "slideshow": {
     "slide_type": "subslide"
    }
   },
   "source": [
    "Lets craft the data set that is used to plot dots. "
   ]
  },
  {
   "cell_type": "code",
   "execution_count": null,
   "id": "7d099c80",
   "metadata": {
    "slideshow": {
     "slide_type": "-"
    }
   },
   "outputs": [],
   "source": [
    "import numpy as np\n",
    "import pandas as pd\n",
    "data = districts[['GEOID', 'POLISH', 'UKRAINIAN', 'RUSKI', \n",
    "                    'BELARUSIAN', 'LITHUANIAN', 'GERMAN', 'YIDDISH', 'HEBREW']].set_index('GEOID').dropna()\n",
    "#data.head()"
   ]
  },
  {
   "cell_type": "code",
   "execution_count": null,
   "id": "1cef1b0f",
   "metadata": {},
   "outputs": [],
   "source": [
    "data = data.apply(lambda x: np.floor(x / 10000).astype(int), axis = 1)"
   ]
  },
  {
   "cell_type": "code",
   "execution_count": null,
   "id": "c7371bc9",
   "metadata": {},
   "outputs": [],
   "source": [
    "data.head()"
   ]
  },
  {
   "cell_type": "markdown",
   "id": "63983415",
   "metadata": {
    "slideshow": {
     "slide_type": "subslide"
    }
   },
   "source": [
    "As for the UK election, choose colors for each category. "
   ]
  },
  {
   "cell_type": "code",
   "execution_count": null,
   "id": "a2534ab6",
   "metadata": {
    "slideshow": {
     "slide_type": "-"
    }
   },
   "outputs": [],
   "source": [
    "colorpicker = {lang: color for lang, color in zip(data.columns, \n",
    "    ['#de3e16', '#f7d914', '#1cbd87', '#36a334', '#b569e0', '#64a8ed', '#b9d676', '#f781b2'])}"
   ]
  },
  {
   "cell_type": "code",
   "execution_count": null,
   "id": "0030eba3",
   "metadata": {
    "slideshow": {
     "slide_type": "-"
    }
   },
   "outputs": [],
   "source": [
    "import matplotlib.pyplot as plt\n",
    "\n",
    "y = [0, 1]\n",
    "x = [1, 1]\n",
    "\n",
    "fig, axes = plt.subplots(ncols=4,nrows=2, sharex=True, sharey=True,\n",
    "                         figsize=(5,2), subplot_kw={'xticks': [], 'yticks': []})\n",
    "\n",
    "for ax, key in zip(axes.flat, colorpicker.keys()):\n",
    "    ax.plot(x, y)\n",
    "    ax.fill_betweenx(y, 0, 1, facecolor=colorpicker[key])\n",
    "    ax.set_xlim(0, 0.1)\n",
    "    ax.set_ylim(0, 1)\n",
    "    ax.set_title(str(key))\n",
    "\n",
    "plt.tight_layout()\n",
    "plt.show()"
   ]
  },
  {
   "cell_type": "markdown",
   "id": "3943d201",
   "metadata": {
    "slideshow": {
     "slide_type": "subslide"
    }
   },
   "source": [
    "Even though topoJSON is a more economical data format, we want to generate random points in each geometric object. To do so, we need to recast the topoJSON in to geoJSON format. "
   ]
  },
  {
   "cell_type": "code",
   "execution_count": null,
   "id": "0a751197",
   "metadata": {},
   "outputs": [],
   "source": [
    "from pytopojson import feature\n",
    "feature_ = feature.Feature()\n",
    "geojson = feature_(topoJSON, 'Districts')"
   ]
  },
  {
   "cell_type": "code",
   "execution_count": null,
   "id": "4a58e26a",
   "metadata": {
    "slideshow": {
     "slide_type": "-"
    }
   },
   "outputs": [],
   "source": [
    "geojson['features'][0] # navigate through... / do not print"
   ]
  },
  {
   "cell_type": "code",
   "execution_count": null,
   "id": "3e9acecf",
   "metadata": {
    "slideshow": {
     "slide_type": "subslide"
    }
   },
   "outputs": [],
   "source": [
    "gdf = geopandas.GeoDataFrame.from_features(geojson['features'])\n",
    "gdf.head(2)"
   ]
  },
  {
   "cell_type": "code",
   "execution_count": null,
   "id": "fb8eb43f",
   "metadata": {},
   "outputs": [],
   "source": [
    "gdf['geometry'][2].bounds"
   ]
  },
  {
   "cell_type": "code",
   "execution_count": null,
   "id": "889861a5",
   "metadata": {},
   "outputs": [],
   "source": [
    "gdf['geometry'][2]"
   ]
  },
  {
   "cell_type": "markdown",
   "id": "d10a7ad2",
   "metadata": {
    "slideshow": {
     "slide_type": "subslide"
    }
   },
   "source": [
    "Random (on the cartesian plane) points are generated in each object. "
   ]
  },
  {
   "cell_type": "code",
   "execution_count": null,
   "id": "c4d8a402",
   "metadata": {
    "slideshow": {
     "slide_type": "-"
    }
   },
   "outputs": [],
   "source": [
    "import shapely, random\n",
    "def generate_random_points(number, GEOID):\n",
    "\n",
    "    # Select list entry of given object\n",
    "    polygon = gdf[gdf['GEOID'] == GEOID]['geometry']#[0]\n",
    "    # Extract bounding box (extent) from the GeoDataFrame\n",
    "    minx, miny, maxx, maxy = polygon.bounds.squeeze()\n",
    "    \n",
    "    # Generate random points within the bounding box\n",
    "    random_points = []\n",
    "    while len(random_points) < number:\n",
    "        random_point = shapely.geometry.Point(random.uniform(minx, maxx), random.uniform(miny, maxy))\n",
    "        # Check if the point is inside any of the polygons\n",
    "        if all(random_point.intersects(polygon)):\n",
    "            random_points.append(random_point)\n",
    "\n",
    "    return geopandas.GeoDataFrame(geometry=random_points)['geometry']"
   ]
  },
  {
   "cell_type": "code",
   "execution_count": null,
   "id": "2aca4eeb",
   "metadata": {},
   "outputs": [],
   "source": [
    "generate_random_points(2, 'P1613')"
   ]
  },
  {
   "cell_type": "code",
   "execution_count": null,
   "id": "0d3af9c7",
   "metadata": {},
   "outputs": [],
   "source": [
    "generate_random_points(1, 'P1613')[0]"
   ]
  },
  {
   "cell_type": "markdown",
   "id": "5aa0956c",
   "metadata": {
    "slideshow": {
     "slide_type": "subslide"
    }
   },
   "source": [
    "Finally, lets add the dots to the map. "
   ]
  },
  {
   "cell_type": "code",
   "execution_count": null,
   "id": "84aa0243",
   "metadata": {
    "slideshow": {
     "slide_type": "-"
    }
   },
   "outputs": [],
   "source": [
    "m = folium.Map(width=800, height=500, tiles = None,\n",
    "               location=[53, 23], zoom_start=5)\n",
    "folium.TileLayer(\n",
    "    tiles='https://server.arcgisonline.com/ArcGIS/rest/services/World_Terrain_Base/MapServer/tile/{z}/{y}/{x}',\n",
    "    attr='Esri',\n",
    "    name='Esri Satellite'\n",
    ").add_to(m)\n",
    "\n",
    "folium.TopoJson(topoJSON,\n",
    "    object_path='objects.Districts', \n",
    "    style_function=lambda feature: {\n",
    "        \"fillColor\": None,\n",
    "        \"fillOpacity\": 0.0,\n",
    "        \"color\": \"lightgray\",\n",
    "        \"weight\": 1,\n",
    "        \"dashArray\": \"1\",\n",
    "    }, overlay=True, control=False).add_to(m)"
   ]
  },
  {
   "cell_type": "code",
   "execution_count": null,
   "id": "6f33a59e",
   "metadata": {
    "slideshow": {
     "slide_type": "-"
    }
   },
   "outputs": [],
   "source": [
    "for lang, countsvector in dict(data).items():\n",
    "    color = colorpicker[lang]\n",
    "    fg = folium.FeatureGroup(name=lang).add_to(m)\n",
    "    for GEOID, counts in dict(countsvector).items(): \n",
    "        for point in generate_random_points(counts, GEOID): \n",
    "            folium.CircleMarker(location=[point.y, point.x], \n",
    "                    stroke=False,\n",
    "                    fill=True,\n",
    "                    color=color, \n",
    "                    fill_opacity=1,\n",
    "                    radius=2).add_to(fg)"
   ]
  },
  {
   "cell_type": "code",
   "execution_count": null,
   "id": "3528b595",
   "metadata": {
    "scrolled": false,
    "slideshow": {
     "slide_type": "subslide"
    }
   },
   "outputs": [],
   "source": [
    "folium.LayerControl(collapsed = False).add_to(m)\n",
    "m "
   ]
  },
  {
   "cell_type": "markdown",
   "id": "ba4af00a",
   "metadata": {
    "slideshow": {
     "slide_type": "subslide"
    }
   },
   "source": [
    "<div>\n",
    "    <center>\n",
    "<img src=\"https://upload.wikimedia.org/wikipedia/commons/2/25/GUS_languages1931_Poland.jpg\" width=\"500\"/>\n",
    "</center>\n",
    "    </div>"
   ]
  },
  {
   "cell_type": "markdown",
   "id": "75a4350c",
   "metadata": {
    "slideshow": {
     "slide_type": "subslide"
    }
   },
   "source": [
    "So why did the Polish census agency decide for a dot map? Lets create a plurality map. "
   ]
  },
  {
   "cell_type": "code",
   "execution_count": null,
   "id": "67b4b6e9",
   "metadata": {},
   "outputs": [],
   "source": [
    "district_colors = districts[['GEOID', 'POLISH', 'UKRAINIAN', 'RUSKI', \n",
    "                            'BELARUSIAN', 'LITHUANIAN', 'GERMAN', 'YIDDISH', 'HEBREW']].set_index('GEOID').dropna().idxmax(axis=1)\n",
    "district_colors"
   ]
  },
  {
   "cell_type": "code",
   "execution_count": null,
   "id": "97962407",
   "metadata": {
    "slideshow": {
     "slide_type": "-"
    }
   },
   "outputs": [],
   "source": [
    "colorpicker"
   ]
  },
  {
   "cell_type": "markdown",
   "id": "bd18aac3",
   "metadata": {
    "slideshow": {
     "slide_type": "subslide"
    }
   },
   "source": [
    "Lets add the palatinates as well. "
   ]
  },
  {
   "cell_type": "code",
   "execution_count": null,
   "id": "61be75d7",
   "metadata": {
    "slideshow": {
     "slide_type": "-"
    }
   },
   "outputs": [],
   "source": [
    "palatinates = geopandas.read_file(\"../data/polish_census/Interwar_Poland_1934.gpkg\", layer='Census_1931_Palatinates')\n",
    "palatinate_colors = palatinates[['GEOID', 'POLISH', 'UKRAINIAN', 'RUSKI', \n",
    "                                 'BELARUSIAN', 'LITHUANIAN', 'GERMAN', 'YIDDISH', 'HEBREW']].set_index('GEOID').dropna().idxmax(axis=1) "
   ]
  },
  {
   "cell_type": "code",
   "execution_count": null,
   "id": "b15c7316",
   "metadata": {
    "slideshow": {
     "slide_type": "subslide"
    }
   },
   "outputs": [],
   "source": [
    "m = folium.Map(width=800, height=500, tiles = None,\n",
    "               location=[53, 23], zoom_start=5)\n",
    "base_map = folium.FeatureGroup(name='Basemap', overlay=True, control=False)\n",
    "folium.TileLayer(\n",
    "    tiles='https://server.arcgisonline.com/ArcGIS/rest/services/World_Terrain_Base/MapServer/tile/{z}/{y}/{x}',\n",
    "    attr='Esri',\n",
    "    name='Esri Satellite'\n",
    ").add_to(base_map)\n",
    "base_map.add_to(m)\n",
    "\n",
    "folium.TopoJson(topoJSON,\n",
    "    name = \"Districts\",\n",
    "    object_path='objects.Districts', \n",
    "    style_function=lambda feature: {\n",
    "        \"fillColor\": colorpicker[district_colors[feature['properties']['GEOID']]],\n",
    "        \"fillOpacity\": 0.8,\n",
    "        \"color\": \"lightgray\",\n",
    "        \"weight\": 1,\n",
    "        \"dashArray\": \"1\",\n",
    "    }, overlay=False).add_to(m)\n",
    "\n",
    "folium.TopoJson(topoJSON,\n",
    "    name = 'Palatinates',\n",
    "    object_path='objects.Palatinates', \n",
    "    style_function=lambda feature: {\n",
    "        \"fillColor\": colorpicker[palatinate_colors[feature['properties']['GEOID']]],\n",
    "        \"fillOpacity\": 0.8,\n",
    "        \"color\": \"lightgray\",\n",
    "        \"weight\": 1, \n",
    "        \"dashArray\": \"1\",\n",
    "    }, overlay=False).add_to(m)"
   ]
  },
  {
   "cell_type": "code",
   "execution_count": null,
   "id": "9119ddba",
   "metadata": {
    "slideshow": {
     "slide_type": "subslide"
    }
   },
   "outputs": [],
   "source": [
    "folium.LayerControl(collapsed = False).add_to(m)\n",
    "m"
   ]
  },
  {
   "cell_type": "markdown",
   "id": "7416fd12",
   "metadata": {
    "slideshow": {
     "slide_type": "subslide"
    }
   },
   "source": [
    "The actual map from the census did only consider the categories 'Polish' or 'Other'. "
   ]
  },
  {
   "cell_type": "code",
   "execution_count": null,
   "id": "3c40a283",
   "metadata": {
    "slideshow": {
     "slide_type": "-"
    }
   },
   "outputs": [],
   "source": [
    "district_colors = districts[['GEOID', 'POLISH', 'UKRAINIAN', 'RUSKI', \n",
    "                            'BELARUSIAN', 'LITHUANIAN', 'GERMAN', 'YIDDISH', 'HEBREW']].set_index('GEOID').dropna()\n",
    "\n",
    "district_colors = pd.DataFrame({\"POLISH\": district_colors['POLISH'], \n",
    "                                \"OTHER\": district_colors.drop('POLISH', axis=1).sum(axis=1)}).idxmax(axis=1)"
   ]
  },
  {
   "cell_type": "code",
   "execution_count": null,
   "id": "70d6c032",
   "metadata": {
    "slideshow": {
     "slide_type": "-"
    }
   },
   "outputs": [],
   "source": [
    "palatinates = geopandas.read_file(\"../data/polish_census/Interwar_Poland_1934.gpkg\", layer='Census_1931_Palatinates')\n",
    "palatinate_colors = palatinates[['GEOID', 'POLISH', 'UKRAINIAN', 'RUSKI', \n",
    "                                 'BELARUSIAN', 'LITHUANIAN', 'GERMAN', 'YIDDISH', 'HEBREW']].set_index('GEOID').dropna()\n",
    "\n",
    "palatinate_colors = pd.DataFrame({\"POLISH\": palatinate_colors['POLISH'], \n",
    "                                  \"OTHER\": palatinate_colors.drop('POLISH', axis=1).sum(axis=1)}).idxmax(axis=1)"
   ]
  },
  {
   "cell_type": "code",
   "execution_count": null,
   "id": "0f87dbb7",
   "metadata": {
    "slideshow": {
     "slide_type": "-"
    }
   },
   "outputs": [],
   "source": [
    "colorpicker[\"OTHER\"] = '#b9d676'"
   ]
  },
  {
   "cell_type": "code",
   "execution_count": null,
   "id": "ddfa3f2d",
   "metadata": {
    "slideshow": {
     "slide_type": "subslide"
    }
   },
   "outputs": [],
   "source": [
    "m = folium.Map(width=800, height=500, tiles = None,\n",
    "               location=[53, 23], zoom_start=5)\n",
    "base_map = folium.FeatureGroup(name='Basemap', overlay=True, control=False)\n",
    "folium.TileLayer(\n",
    "    tiles='https://server.arcgisonline.com/ArcGIS/rest/services/World_Terrain_Base/MapServer/tile/{z}/{y}/{x}',\n",
    "    attr='Esri',\n",
    "    name='Esri Satellite'\n",
    ").add_to(base_map)\n",
    "base_map.add_to(m)\n",
    "\n",
    "folium.TopoJson(topoJSON,\n",
    "    name = \"Districts\",\n",
    "    object_path='objects.Districts', \n",
    "    style_function=lambda feature: {\n",
    "        \"fillColor\": colorpicker[district_colors[feature['properties']['GEOID']]],\n",
    "        \"fillOpacity\": 0.8,\n",
    "        \"color\": \"lightgray\",\n",
    "        \"weight\": 1,\n",
    "        \"dashArray\": \"1\",\n",
    "    }, overlay=False).add_to(m)\n",
    "\n",
    "folium.TopoJson(topoJSON,\n",
    "    name = 'Palatinates',\n",
    "    object_path='objects.Palatinates', \n",
    "    style_function=lambda feature: {\n",
    "        \"fillColor\": colorpicker[palatinate_colors[feature['properties']['GEOID']]],\n",
    "        \"fillOpacity\": 0.8,\n",
    "        \"color\": \"lightgray\",\n",
    "        \"weight\": 1,\n",
    "        \"dashArray\": \"1\",\n",
    "    }, overlay=False).add_to(m)"
   ]
  },
  {
   "cell_type": "code",
   "execution_count": null,
   "id": "8e02a492",
   "metadata": {
    "slideshow": {
     "slide_type": "subslide"
    }
   },
   "outputs": [],
   "source": [
    "folium.LayerControl(collapsed = False).add_to(m)\n",
    "m "
   ]
  }
 ],
 "metadata": {
  "celltoolbar": "Slideshow",
  "kernelspec": {
   "display_name": "Python 3 (ipykernel)",
   "language": "python",
   "name": "python3"
  },
  "language_info": {
   "codemirror_mode": {
    "name": "ipython",
    "version": 3
   },
   "file_extension": ".py",
   "mimetype": "text/x-python",
   "name": "python",
   "nbconvert_exporter": "python",
   "pygments_lexer": "ipython3",
   "version": "3.9.12"
  }
 },
 "nbformat": 4,
 "nbformat_minor": 5
}
