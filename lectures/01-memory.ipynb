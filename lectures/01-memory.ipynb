{
 "cells": [
  {
   "cell_type": "markdown",
   "id": "ff704263",
   "metadata": {
    "slideshow": {
     "slide_type": "slide"
    }
   },
   "source": [
    "# STA 220 Data & Web Technologies for Data Analysis\n",
    "\n",
    "### Lecture 1, 1/7/25, Memory handling\n"
   ]
  },
  {
   "cell_type": "markdown",
   "id": "522ed175",
   "metadata": {
    "slideshow": {
     "slide_type": "slide"
    }
   },
   "source": [
    "### Today's topics\n",
    "\n",
    " - Course Organization\n",
    " - Recap and Memory Handling in Python\n",
    "     - Stack and Heap\n",
    "     - Types\n",
    "     - Reference Semantics\n",
    "     - Interning"
   ]
  },
  {
   "cell_type": "markdown",
   "id": "09263068-c6eb-466f-a922-1fc563d62bbd",
   "metadata": {
    "slideshow": {
     "slide_type": "slide"
    }
   },
   "source": [
    "### Course Organization\n",
    "\n",
    "This course covers topics of data acquisition and processing. \n",
    "We will learn how to automatically retrieve information from publicly available sources on the internet. \n",
    "This includes processing these data so that they can then be studied statistically. \n",
    "\n",
    "The course consists of two parts: \n",
    "\n",
    "1. Data acquisition: Web scraping from online sources, where we’ll examine network traffic to understand API calls and learn how to configure our own requests as well as scraping websites and extracting data by navigating HTML files.\n",
    "2. Data Processing: Natural languages and visualization, which involves tokenization, chunking as well as statistical models for language data as LDA and Naive Bayes. "
   ]
  },
  {
   "cell_type": "markdown",
   "id": "7931984d-b1fb-42a9-89b3-27056b36afbd",
   "metadata": {
    "slideshow": {
     "slide_type": "slide"
    }
   },
   "source": [
    "The final grade is determined by \n",
    "- homework assignments (40%),\n",
    "- project due March 16 (60%).\n",
    "\n",
    "For comprehensive and updated information about the course, please consult [Canvas](https://canvas.ucdavis.edu/courses/947187).  \n",
    "\n",
    "The project will be collaborative work with two to three group members. You will use the methods learn in this class to procure a data set, preferably from multiple sources, and process it to make it accessible for further investigation. This involves displaying its properties by visual means, so that statistical hypotheses can be formed. "
   ]
  },
  {
   "cell_type": "markdown",
   "id": "a6b81b9e-c00f-412b-876f-72d8103e7fc2",
   "metadata": {
    "slideshow": {
     "slide_type": "slide"
    }
   },
   "source": [
    "Lecture notes will be made available online [GitHub](https://github.com/kramlinger/sta220). Use [Piazza](https://piazza.com/class/m5f6f5d9l6n3pm/), for any inquiries regarding organization, homework or lectures. We will monitor this site M-F during business hours. Please do not write emails! Screen recordings  will be made available on Canvas. Homework assignments will be published on Piazza.\n",
    "\n",
    "Office hours: \n",
    "* Peter Kramlinger: T, 2-3 PM, MSB 1143\n",
    "* Zhongxuan Liu: t.b.a."
   ]
  },
  {
   "cell_type": "markdown",
   "id": "b12b39ad-cb3a-403c-8e26-4f6a2ceabb9e",
   "metadata": {
    "slideshow": {
     "slide_type": "slide"
    }
   },
   "source": [
    "#### Ethics\n",
    "\n",
    "This is a programming class. Using assistance is part of programming and is encouraged. This can be AI based, or from online sources (e.g., [stackoverflow](https://stackoverflow.com/questions)). \n",
    "\n",
    "However, you will be graded on your proficiency in coding. In all assignments, make sure that you display your own contribution. Submitting AI-generated code, answers from online sources, or even classmates' solutions will not be enough to pass the course. If you pass off someone else's work as your own, then you are engaging in academic misconduct. \n"
   ]
  },
  {
   "cell_type": "markdown",
   "id": "32eb0eb2-8dc0-4cfa-a161-a696b216f089",
   "metadata": {
    "slideshow": {
     "slide_type": "slide"
    }
   },
   "source": [
    "### Python\n",
    "\n",
    "For this course, we will use Python to retrieve data. Today and Thursday we will introduce and review some basic aspects. Due to its simplicity, it is one of the most popular programming languages. "
   ]
  },
  {
   "cell_type": "code",
   "execution_count": null,
   "id": "e37d14d8-3721-47a7-a754-81cbdf70cb1f",
   "metadata": {},
   "outputs": [],
   "source": [
    "import this"
   ]
  },
  {
   "cell_type": "markdown",
   "id": "45d3dec1",
   "metadata": {
    "slideshow": {
     "slide_type": "slide"
    }
   },
   "source": [
    "### Stack and Heap"
   ]
  },
  {
   "cell_type": "code",
   "execution_count": null,
   "id": "c1155bb4",
   "metadata": {
    "slideshow": {
     "slide_type": "-"
    }
   },
   "outputs": [],
   "source": [
    "x = True\n",
    "type(x)"
   ]
  },
  {
   "cell_type": "markdown",
   "id": "168dcdf3",
   "metadata": {},
   "source": [
    "`x` is a variable, which corresponds to an <kbd>bool</kbd> object with value `True`. The variable itself holds merely a reference to a specific object. This reference is stored in local memory (the *stack*). Our compiler takes care in allocating stack memory, we don't have to do that. \n",
    "\n",
    "The <kbd>bool</kbd>-object and its value are stored on the random access memory (RAM, the *heap*). We can access the address of the object on the heap (and, conversely, the reference on the stack): "
   ]
  },
  {
   "cell_type": "code",
   "execution_count": null,
   "id": "3b7802d9",
   "metadata": {},
   "outputs": [],
   "source": [
    "hex(id(x))"
   ]
  },
  {
   "cell_type": "code",
   "execution_count": null,
   "id": "5e4ff36c",
   "metadata": {},
   "outputs": [],
   "source": [
    "y = float(x)\n",
    "hex(id(y))"
   ]
  },
  {
   "cell_type": "markdown",
   "id": "e0c86dc6",
   "metadata": {
    "slideshow": {
     "slide_type": "slide"
    }
   },
   "source": [
    "A new object will be stored at a different location. "
   ]
  },
  {
   "cell_type": "code",
   "execution_count": null,
   "id": "e8af07cd",
   "metadata": {},
   "outputs": [],
   "source": [
    "hex(id(x))"
   ]
  },
  {
   "cell_type": "code",
   "execution_count": null,
   "id": "abeef072",
   "metadata": {},
   "outputs": [],
   "source": [
    "x = int(x)\n",
    "type(x)"
   ]
  },
  {
   "cell_type": "code",
   "execution_count": null,
   "id": "16a0d9a0",
   "metadata": {},
   "outputs": [],
   "source": [
    "hex(id(x))"
   ]
  },
  {
   "cell_type": "markdown",
   "id": "1f756ea0",
   "metadata": {
    "slideshow": {
     "slide_type": "slide"
    }
   },
   "source": [
    "<img src=\"source/memory1.png\" alt=\"\" width=\"1000\"/>"
   ]
  },
  {
   "cell_type": "markdown",
   "id": "b33451dd",
   "metadata": {},
   "source": [
    "As soon as the `x`-variable, which previously referenced to the <kbd>bool</kbd> object is out of scope (either by deletion or recasting), the object on the heap is ready to be overwritten by the garbage collector. \n",
    "\n"
   ]
  },
  {
   "cell_type": "markdown",
   "id": "3c641a41",
   "metadata": {
    "slideshow": {
     "slide_type": "slide"
    }
   },
   "source": [
    "Let's work through the phrases: *Everything in Python is an object*. Some basic default objects (*types*) we have already met are \n",
    "\n",
    "- Numeric: <kbd>int</kbd>, <kbd>floats</kbd>, <kbd>complex</kbd>\n",
    "- Boolean: <kbd>bool</kbd>\n",
    "- String: <kbd>str</kbd>\n",
    "- Sequence: <kbd>list</kbd>, <kbd>tuple</kbd>, <kbd>range</kbd>\n",
    "- Mapping: <kbd>dict</kbd>\n",
    "\n",
    "The function `sys.getsizeof` ([docs](https://docs.python.org/3/library/sys.html?highlight=getsizeof#sys.getsizeof)) returns the size in bytes of the object the variable points to. "
   ]
  },
  {
   "cell_type": "code",
   "execution_count": null,
   "id": "1c6ff0aa",
   "metadata": {},
   "outputs": [],
   "source": [
    "import sys\n",
    "sys.getsizeof(x)"
   ]
  },
  {
   "cell_type": "code",
   "execution_count": null,
   "id": "ce0d41c5",
   "metadata": {},
   "outputs": [],
   "source": [
    "sys.getsizeof(y)"
   ]
  },
  {
   "cell_type": "markdown",
   "id": "b0e02e1e",
   "metadata": {
    "slideshow": {
     "slide_type": "slide"
    }
   },
   "source": [
    "A <kbd>float</kbd> is less expensive than an <kbd>integer</kbd>. This is because <kbd>integer</kbd> stores additional information about size together with the actual value. The larger the integer, the more memory required. "
   ]
  },
  {
   "cell_type": "code",
   "execution_count": null,
   "id": "c2a27001",
   "metadata": {},
   "outputs": [],
   "source": [
    "sys.getsizeof(100 ** 10)"
   ]
  },
  {
   "cell_type": "code",
   "execution_count": null,
   "id": "b0d70e59",
   "metadata": {},
   "outputs": [],
   "source": [
    "sys.getsizeof(100.0 ** 10)"
   ]
  },
  {
   "cell_type": "markdown",
   "id": "9c373a3d",
   "metadata": {
    "slideshow": {
     "slide_type": "slide"
    }
   },
   "source": [
    "However, <kbd>integer</kbd> can store larger values than <kbd>float</kbd>. "
   ]
  },
  {
   "cell_type": "code",
   "execution_count": null,
   "id": "fbe6bb5f",
   "metadata": {},
   "outputs": [],
   "source": [
    "x = 500 ** 500 \n",
    "type(x)"
   ]
  },
  {
   "cell_type": "code",
   "execution_count": null,
   "id": "65f89f7a",
   "metadata": {},
   "outputs": [],
   "source": [
    "x"
   ]
  },
  {
   "cell_type": "code",
   "execution_count": null,
   "id": "91820f76",
   "metadata": {},
   "outputs": [],
   "source": [
    "sys.getsizeof(x)"
   ]
  },
  {
   "cell_type": "code",
   "execution_count": null,
   "id": "8afb2844",
   "metadata": {
    "scrolled": true
   },
   "outputs": [],
   "source": [
    "float(x)"
   ]
  },
  {
   "cell_type": "markdown",
   "id": "0d4ff389",
   "metadata": {
    "slideshow": {
     "slide_type": "slide"
    }
   },
   "source": [
    "The function `range(start, stop, step)` ([docs](https://docs.python.org/3/library/stdtypes.html#range)) creates a <kbd>range</kbd> type object. It starts at `start` and ends at `stop - 1`, but does not instantiate an object of that length. "
   ]
  },
  {
   "cell_type": "code",
   "execution_count": null,
   "id": "2e4c49cb",
   "metadata": {},
   "outputs": [],
   "source": [
    "x = range(0, 500**500)\n",
    "sys.getsizeof(x)"
   ]
  },
  {
   "cell_type": "code",
   "execution_count": null,
   "id": "e40b58bd",
   "metadata": {},
   "outputs": [],
   "source": [
    "sys.getsizeof(500**500)"
   ]
  },
  {
   "cell_type": "markdown",
   "id": "03978048",
   "metadata": {
    "slideshow": {
     "slide_type": "slide"
    }
   },
   "source": [
    "A <kbd>tuple</kbd> is an ordered collection of values. Think of coordinates. <kbd>tuple</kbd> is immutable, which means they can't be changed after they're created."
   ]
  },
  {
   "cell_type": "code",
   "execution_count": null,
   "id": "99a4affa",
   "metadata": {},
   "outputs": [],
   "source": [
    "x = 1, 3.0, \"horse\" # parenthesis are optional, but should be used for clarity \n",
    "x"
   ]
  },
  {
   "cell_type": "code",
   "execution_count": null,
   "id": "f4751e72",
   "metadata": {},
   "outputs": [],
   "source": [
    "type(x)"
   ]
  },
  {
   "cell_type": "code",
   "execution_count": null,
   "id": "f8b186cb",
   "metadata": {},
   "outputs": [],
   "source": [
    "sys.getsizeof(x)"
   ]
  },
  {
   "cell_type": "markdown",
   "id": "f717e01c",
   "metadata": {
    "slideshow": {
     "slide_type": "slide"
    }
   },
   "source": [
    "A <kbd>tuple</kbd> is inmutable. We have learned that once created, it can't be changed!"
   ]
  },
  {
   "cell_type": "code",
   "execution_count": null,
   "id": "c3ca5893",
   "metadata": {},
   "outputs": [],
   "source": [
    "x[2] = 'horsies' "
   ]
  },
  {
   "cell_type": "code",
   "execution_count": null,
   "id": "885ab43f",
   "metadata": {},
   "outputs": [],
   "source": [
    "try: x[2] = 'horsies' \n",
    "except: \n",
    "    print('Tuples are inmutable!')"
   ]
  },
  {
   "cell_type": "markdown",
   "id": "eea5d34c",
   "metadata": {
    "slideshow": {
     "slide_type": "slide"
    }
   },
   "source": [
    "This is a feature, not shortcoming of <kbd>tuple</kbd>. Since they cannot be changed nor appended, they are more  economical than <kbd>list</kbd>. <kbd>list</kbd> is the mutable counterpart of <kbd>tuple</kbd>. They are instantiated with square brackets. "
   ]
  },
  {
   "cell_type": "code",
   "execution_count": null,
   "id": "1eb959b8",
   "metadata": {},
   "outputs": [],
   "source": [
    "y = [1, 3.0, \"horse\"]\n",
    "y"
   ]
  },
  {
   "cell_type": "code",
   "execution_count": null,
   "id": "d987968b",
   "metadata": {},
   "outputs": [],
   "source": [
    "type(y)"
   ]
  },
  {
   "cell_type": "code",
   "execution_count": null,
   "id": "bc4c9202",
   "metadata": {},
   "outputs": [],
   "source": [
    "sys.getsizeof(y)"
   ]
  },
  {
   "cell_type": "markdown",
   "id": "8d50cb44",
   "metadata": {
    "slideshow": {
     "slide_type": "slide"
    }
   },
   "source": [
    "Lists are mutable, and in particular appendable. Since these actions are allowed, <kbd>list</kbd> objects require  more memory. The return of `sys.getsizeof` does not coincide with the values in the list! Instead, `y` is a variable with a reference to a <kbd>list</kbd> object on the heap, *which itself is a collection of adresses*. This collection of adresses takes $120$ bytes. "
   ]
  },
  {
   "cell_type": "code",
   "execution_count": null,
   "id": "587f5b6f",
   "metadata": {},
   "outputs": [],
   "source": [
    "sys.getsizeof(y)"
   ]
  },
  {
   "cell_type": "code",
   "execution_count": null,
   "id": "1a16403f",
   "metadata": {},
   "outputs": [],
   "source": [
    "sum([sys.getsizeof(i) for i in y])"
   ]
  },
  {
   "cell_type": "code",
   "execution_count": null,
   "id": "41606b13",
   "metadata": {},
   "outputs": [],
   "source": [
    "sys.getsizeof(1) + sys.getsizeof(3.0) + sys.getsizeof(\"horse\")"
   ]
  },
  {
   "cell_type": "markdown",
   "id": "f8e2f67c",
   "metadata": {
    "slideshow": {
     "slide_type": "slide"
    }
   },
   "source": [
    "In contrast to <kbd>tuples</kbd>, they are however mutable. "
   ]
  },
  {
   "cell_type": "code",
   "execution_count": null,
   "id": "520d1f7e",
   "metadata": {
    "scrolled": true
   },
   "outputs": [],
   "source": [
    "y[2] = \"horsies\"\n",
    "y"
   ]
  },
  {
   "cell_type": "markdown",
   "id": "27dad8e8",
   "metadata": {
    "slideshow": {
     "slide_type": "slide"
    }
   },
   "source": [
    "### Reference Semantics\n",
    "\n",
    "Lists use *reference semantics*, which means that if you assign a list to two different variables, there's still only one list in memory, and both variables refer to it. As a result, changing the list with one variable changes the list for the other variable."
   ]
  },
  {
   "cell_type": "code",
   "execution_count": null,
   "id": "fd5a7a4f",
   "metadata": {},
   "outputs": [],
   "source": [
    "x = y"
   ]
  },
  {
   "cell_type": "code",
   "execution_count": null,
   "id": "e16a9055",
   "metadata": {},
   "outputs": [],
   "source": [
    "hex(id(x))"
   ]
  },
  {
   "cell_type": "code",
   "execution_count": null,
   "id": "c45f6df0",
   "metadata": {},
   "outputs": [],
   "source": [
    "hex(id(y))"
   ]
  },
  {
   "cell_type": "code",
   "execution_count": null,
   "id": "2e76ec0f",
   "metadata": {},
   "outputs": [],
   "source": [
    "x[0] = \"my\"\n",
    "y"
   ]
  },
  {
   "cell_type": "markdown",
   "id": "46cf316a",
   "metadata": {
    "slideshow": {
     "slide_type": "slide"
    }
   },
   "source": [
    "A new, non-referenced object can be created by slicing. "
   ]
  },
  {
   "cell_type": "code",
   "execution_count": null,
   "id": "fd2348db",
   "metadata": {},
   "outputs": [],
   "source": [
    "z = y[:]"
   ]
  },
  {
   "cell_type": "code",
   "execution_count": null,
   "id": "5868a72b",
   "metadata": {},
   "outputs": [],
   "source": [
    "hex(id(z))"
   ]
  },
  {
   "cell_type": "code",
   "execution_count": null,
   "id": "e3216c71",
   "metadata": {},
   "outputs": [],
   "source": [
    "z"
   ]
  },
  {
   "cell_type": "code",
   "execution_count": null,
   "id": "aecca19e",
   "metadata": {},
   "outputs": [],
   "source": [
    "z[1] = 3"
   ]
  },
  {
   "cell_type": "code",
   "execution_count": null,
   "id": "5fde2bb7",
   "metadata": {},
   "outputs": [],
   "source": [
    "hex(id(z[1]))"
   ]
  },
  {
   "cell_type": "code",
   "execution_count": null,
   "id": "9e3da1ce",
   "metadata": {},
   "outputs": [],
   "source": [
    "hex(id(y[1]))"
   ]
  },
  {
   "cell_type": "markdown",
   "id": "07a3c6e1",
   "metadata": {
    "slideshow": {
     "slide_type": "slide"
    }
   },
   "source": [
    "<img src=\"source/memory2.png\" alt=\"\" width=\"1000\"/>"
   ]
  },
  {
   "cell_type": "markdown",
   "id": "df2c0132",
   "metadata": {
    "slideshow": {
     "slide_type": "slide"
    }
   },
   "source": [
    "Alternatively, we can use the copy method ([docs](https://docs.python.org/3/library/copy.html)) to the original list. "
   ]
  },
  {
   "cell_type": "code",
   "execution_count": null,
   "id": "844716e4",
   "metadata": {},
   "outputs": [],
   "source": [
    "z = y.copy()\n",
    "hex(id(z))"
   ]
  },
  {
   "cell_type": "code",
   "execution_count": null,
   "id": "dd28076b",
   "metadata": {},
   "outputs": [],
   "source": [
    "hex(id(y))"
   ]
  },
  {
   "cell_type": "markdown",
   "id": "9073e74f",
   "metadata": {
    "slideshow": {
     "slide_type": "slide"
    }
   },
   "source": [
    "While the copies `y` and `z` are *equal*, the are not *identical*, because they point to different objects. "
   ]
  },
  {
   "cell_type": "code",
   "execution_count": null,
   "id": "fc6807c9",
   "metadata": {},
   "outputs": [],
   "source": [
    "y == z # equal"
   ]
  },
  {
   "cell_type": "code",
   "execution_count": null,
   "id": "79b45998",
   "metadata": {},
   "outputs": [],
   "source": [
    "y is z # identical"
   ]
  },
  {
   "cell_type": "code",
   "execution_count": null,
   "id": "2fb72ffb",
   "metadata": {
    "scrolled": true
   },
   "outputs": [],
   "source": [
    "y is x # identical"
   ]
  },
  {
   "cell_type": "code",
   "execution_count": null,
   "id": "e16033a7",
   "metadata": {
    "slideshow": {
     "slide_type": "slide"
    }
   },
   "outputs": [],
   "source": [
    "y[1] = 2\n",
    "print(y)\n",
    "print(z) "
   ]
  },
  {
   "cell_type": "markdown",
   "id": "8c79976e",
   "metadata": {
    "slideshow": {
     "slide_type": "-"
    }
   },
   "source": [
    "Attention! This is a *shallow copy*, i.e., objects whithin the list will not be be reinstantiated! Above, the command `y[1] = 2` just instantiates a new <kbd>int</kbd> object of value `2` on the heap and replaces the former reference in `y` with the reference to that new object. "
   ]
  },
  {
   "cell_type": "code",
   "execution_count": null,
   "id": "b1a83353",
   "metadata": {},
   "outputs": [],
   "source": [
    "hex(id(z[1])) == hex(id(y[1]))"
   ]
  },
  {
   "cell_type": "markdown",
   "id": "b30b8b33",
   "metadata": {
    "slideshow": {
     "slide_type": "slide"
    }
   },
   "source": [
    "This becomes tricky if the list references to another list: "
   ]
  },
  {
   "cell_type": "code",
   "execution_count": null,
   "id": "63e8f00e",
   "metadata": {},
   "outputs": [],
   "source": [
    "a = ['a', 'list']"
   ]
  },
  {
   "cell_type": "code",
   "execution_count": null,
   "id": "b391b72c",
   "metadata": {},
   "outputs": [],
   "source": [
    "y = [1, 2, 'three', a]"
   ]
  },
  {
   "cell_type": "code",
   "execution_count": null,
   "id": "0efb7e3b",
   "metadata": {},
   "outputs": [],
   "source": [
    "z = y.copy()"
   ]
  },
  {
   "cell_type": "code",
   "execution_count": null,
   "id": "f7f1d76b",
   "metadata": {},
   "outputs": [],
   "source": [
    "hex(id(y))"
   ]
  },
  {
   "cell_type": "code",
   "execution_count": null,
   "id": "acd4d06a",
   "metadata": {},
   "outputs": [],
   "source": [
    "hex(id(z))"
   ]
  },
  {
   "cell_type": "code",
   "execution_count": null,
   "id": "4a4239a9",
   "metadata": {},
   "outputs": [],
   "source": [
    "hex(id(y[3]))"
   ]
  },
  {
   "cell_type": "code",
   "execution_count": null,
   "id": "258f59f4",
   "metadata": {},
   "outputs": [],
   "source": [
    "hex(id(z[3]))"
   ]
  },
  {
   "cell_type": "code",
   "execution_count": null,
   "id": "6cd6ed1d",
   "metadata": {
    "slideshow": {
     "slide_type": "slide"
    }
   },
   "outputs": [],
   "source": [
    "z[0] = 3"
   ]
  },
  {
   "cell_type": "code",
   "execution_count": null,
   "id": "d5771a4e",
   "metadata": {},
   "outputs": [],
   "source": [
    "y"
   ]
  },
  {
   "cell_type": "code",
   "execution_count": null,
   "id": "d8914ea1",
   "metadata": {},
   "outputs": [],
   "source": [
    "z"
   ]
  },
  {
   "cell_type": "code",
   "execution_count": null,
   "id": "df6cc394",
   "metadata": {},
   "outputs": [],
   "source": [
    "y[3][1] = 'ha'"
   ]
  },
  {
   "cell_type": "code",
   "execution_count": null,
   "id": "83a9106d",
   "metadata": {},
   "outputs": [],
   "source": [
    "print(y)\n",
    "print(z)"
   ]
  },
  {
   "cell_type": "code",
   "execution_count": null,
   "id": "12e51e7c",
   "metadata": {},
   "outputs": [],
   "source": [
    "hex(id(z[3])) == hex(id(y[3])) "
   ]
  },
  {
   "cell_type": "markdown",
   "id": "5d0c515c",
   "metadata": {
    "slideshow": {
     "slide_type": "slide"
    }
   },
   "source": [
    "Although both lists are real copies, they reference to the same other list `a`, which has not been copied. "
   ]
  },
  {
   "cell_type": "code",
   "execution_count": null,
   "id": "c568f092",
   "metadata": {},
   "outputs": [],
   "source": [
    "hex(id(z[3])) == hex(id(y[3]))"
   ]
  },
  {
   "cell_type": "markdown",
   "id": "e777ab77",
   "metadata": {
    "slideshow": {
     "slide_type": "slide"
    }
   },
   "source": [
    "This behaviour is irrespecive of the variable `a`. We can remove it from the scope. Since the list object `a` has pointed to still is in scope, it will not be taken by the garbage collector. "
   ]
  },
  {
   "cell_type": "code",
   "execution_count": null,
   "id": "de95df72",
   "metadata": {},
   "outputs": [],
   "source": [
    "hex(id(a))"
   ]
  },
  {
   "cell_type": "code",
   "execution_count": null,
   "id": "29df1e90",
   "metadata": {},
   "outputs": [],
   "source": [
    "del(a)"
   ]
  },
  {
   "cell_type": "code",
   "execution_count": null,
   "id": "30e1bb12",
   "metadata": {},
   "outputs": [],
   "source": [
    "hex(id(z[3]))"
   ]
  },
  {
   "cell_type": "markdown",
   "id": "99975325",
   "metadata": {
    "slideshow": {
     "slide_type": "slide"
    }
   },
   "source": [
    "We can copy the upper-level lists as well by calling the `copy.deepcopy`. "
   ]
  },
  {
   "cell_type": "code",
   "execution_count": null,
   "id": "8b7325c6",
   "metadata": {},
   "outputs": [],
   "source": [
    "from copy import deepcopy\n",
    "z = deepcopy(y)"
   ]
  },
  {
   "cell_type": "code",
   "execution_count": null,
   "id": "4a637ee3",
   "metadata": {},
   "outputs": [],
   "source": [
    "y"
   ]
  },
  {
   "cell_type": "code",
   "execution_count": null,
   "id": "0d7458a9",
   "metadata": {},
   "outputs": [],
   "source": [
    "hex(id(z[1]))"
   ]
  },
  {
   "cell_type": "code",
   "execution_count": null,
   "id": "67ffc3cd",
   "metadata": {},
   "outputs": [],
   "source": [
    "hex(id(y[1]))"
   ]
  },
  {
   "cell_type": "markdown",
   "id": "8d67efb5",
   "metadata": {
    "slideshow": {
     "slide_type": "slide"
    }
   },
   "source": [
    "While the copies `y` and `z` are *equal*, the are not *identical*, because they point to different objects. "
   ]
  },
  {
   "cell_type": "code",
   "execution_count": null,
   "id": "211d7adf",
   "metadata": {},
   "outputs": [],
   "source": [
    "y == z # equal"
   ]
  },
  {
   "cell_type": "code",
   "execution_count": null,
   "id": "9c8e6317",
   "metadata": {
    "scrolled": true
   },
   "outputs": [],
   "source": [
    "y is z # identical"
   ]
  },
  {
   "cell_type": "markdown",
   "id": "7f28af78",
   "metadata": {
    "slideshow": {
     "slide_type": "slide"
    }
   },
   "source": [
    "### Interning \n",
    "\n",
    "The heap memory is memory that can be accessed and reserved by the programmer. Usually, this is tedious and automatically done. To optimize this process, Python uses *interning* to allocate ressources. Since `x` is merely a pointer to the <kbd>int</kbd> type object with value `1`, any other variable can point to the same adress.  "
   ]
  },
  {
   "cell_type": "code",
   "execution_count": null,
   "id": "d8c0b872",
   "metadata": {},
   "outputs": [],
   "source": [
    "x = 1"
   ]
  },
  {
   "cell_type": "code",
   "execution_count": null,
   "id": "85894156",
   "metadata": {},
   "outputs": [],
   "source": [
    "y = 1"
   ]
  },
  {
   "cell_type": "code",
   "execution_count": null,
   "id": "deca088e",
   "metadata": {},
   "outputs": [],
   "source": [
    "hex(id(x)) == hex(id(y))"
   ]
  },
  {
   "cell_type": "markdown",
   "id": "60e6ab00",
   "metadata": {
    "slideshow": {
     "slide_type": "slide"
    }
   },
   "source": [
    "This does not mean that integers use reference semantics! "
   ]
  },
  {
   "cell_type": "code",
   "execution_count": null,
   "id": "e810c111",
   "metadata": {},
   "outputs": [],
   "source": [
    "y = 2\n",
    "x"
   ]
  },
  {
   "cell_type": "code",
   "execution_count": null,
   "id": "384f9618",
   "metadata": {},
   "outputs": [],
   "source": [
    "hex(id(x)) == hex(id(y))"
   ]
  },
  {
   "cell_type": "markdown",
   "id": "d000b531",
   "metadata": {
    "slideshow": {
     "slide_type": "slide"
    }
   },
   "source": [
    "Integer internalization is only done from `-5` to `255`. "
   ]
  },
  {
   "cell_type": "code",
   "execution_count": null,
   "id": "4b2d2e07",
   "metadata": {},
   "outputs": [],
   "source": [
    "x = 4.0\n",
    "y = 4.0\n",
    "hex(id(x)) == hex(id(y))"
   ]
  },
  {
   "cell_type": "markdown",
   "id": "249e2c10",
   "metadata": {},
   "source": [
    "Interning works for several simple types: "
   ]
  },
  {
   "cell_type": "code",
   "execution_count": null,
   "id": "52d63d22",
   "metadata": {},
   "outputs": [],
   "source": [
    "x = \"Hi\"\n",
    "y = \"Hi\""
   ]
  },
  {
   "cell_type": "code",
   "execution_count": null,
   "id": "31657686",
   "metadata": {},
   "outputs": [],
   "source": [
    "hex(id(x)) == hex(id(y))"
   ]
  },
  {
   "cell_type": "markdown",
   "id": "c5f7d9f3",
   "metadata": {
    "slideshow": {
     "slide_type": "slide"
    }
   },
   "source": [
    "Interning can be forced using `sys.intern`. "
   ]
  },
  {
   "cell_type": "code",
   "execution_count": null,
   "id": "19232506",
   "metadata": {
    "scrolled": true,
    "slideshow": {
     "slide_type": "slide"
    }
   },
   "outputs": [],
   "source": [
    "a = \"This is quite a long string.\"\n",
    "b = \"This is quite a long string.\"\n",
    "hex(id(a)) == hex(id(b))"
   ]
  },
  {
   "cell_type": "code",
   "execution_count": null,
   "id": "83ca4115",
   "metadata": {
    "scrolled": true
   },
   "outputs": [],
   "source": [
    "a = \"This is quite a long string.\"\n",
    "b = a\n",
    "hex(id(a)) == hex(id(b))"
   ]
  },
  {
   "cell_type": "code",
   "execution_count": null,
   "id": "4b101d46",
   "metadata": {
    "slideshow": {
     "slide_type": "-"
    }
   },
   "outputs": [],
   "source": [
    "import sys\n",
    "a = sys.intern(\"This is quite a long string.\")\n",
    "b = sys.intern(\"This is quite a long string.\")\n",
    "hex(id(a)) == hex(id(b))"
   ]
  },
  {
   "cell_type": "code",
   "execution_count": null,
   "id": "eb804379",
   "metadata": {
    "slideshow": {
     "slide_type": "-"
    }
   },
   "outputs": [],
   "source": [
    "c = \"This is quite a long string.\"\n",
    "hex(id(a)) == hex(id(c))"
   ]
  },
  {
   "cell_type": "markdown",
   "id": "e919dfb8",
   "metadata": {
    "slideshow": {
     "slide_type": "slide"
    }
   },
   "source": [
    "When using `sys.intern`, the we can internalize an object without it being pointed to on the heap. "
   ]
  },
  {
   "cell_type": "code",
   "execution_count": null,
   "id": "7d464fef",
   "metadata": {
    "slideshow": {
     "slide_type": "-"
    }
   },
   "outputs": [],
   "source": [
    "a = sys.intern(\"This is quite a long string.\")\n",
    "hex(id(a))"
   ]
  },
  {
   "cell_type": "code",
   "execution_count": null,
   "id": "a02134b9",
   "metadata": {
    "scrolled": true,
    "slideshow": {
     "slide_type": "-"
    }
   },
   "outputs": [],
   "source": [
    "del a\n",
    "b = sys.intern(\"This is quite a long string.\")\n",
    "hex(id(b))"
   ]
  },
  {
   "cell_type": "markdown",
   "id": "e59c6eb2",
   "metadata": {},
   "source": [
    "For reoccuring data, interning allows to use the heap economically. "
   ]
  },
  {
   "cell_type": "markdown",
   "id": "f40076ee",
   "metadata": {
    "slideshow": {
     "slide_type": "slide"
    }
   },
   "source": [
    "### Summary \n",
    "\n",
    "- There is stack and heap memory\n",
    "- All objects are stored on the heap\n",
    "- Lists are versatile, but generally inefficient\n",
    "- Optimize heap usage via interning"
   ]
  }
 ],
 "metadata": {
  "celltoolbar": "Slideshow",
  "kernelspec": {
   "display_name": "Python 3 (ipykernel)",
   "language": "python",
   "name": "python3"
  },
  "language_info": {
   "codemirror_mode": {
    "name": "ipython",
    "version": 3
   },
   "file_extension": ".py",
   "mimetype": "text/x-python",
   "name": "python",
   "nbconvert_exporter": "python",
   "pygments_lexer": "ipython3",
   "version": "3.9.12"
  },
  "rise": {
   "progress": true,
   "scroll": true,
   "theme": "white"
  }
 },
 "nbformat": 4,
 "nbformat_minor": 5
}
