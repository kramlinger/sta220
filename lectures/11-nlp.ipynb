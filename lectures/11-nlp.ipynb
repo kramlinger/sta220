{
 "cells": [
  {
   "cell_type": "markdown",
   "id": "5feab518",
   "metadata": {
    "slideshow": {
     "slide_type": "slide"
    }
   },
   "source": [
    "# STA 220 Data & Web Technologies for Data Analysis\n",
    "\n",
    "### Lecture 11, 2/11/25, Natural language processing\n"
   ]
  },
  {
   "cell_type": "markdown",
   "id": "c2c356f4",
   "metadata": {},
   "source": [
    "### Announcements \n",
    "\n",
    "- HW 3 is published. "
   ]
  },
  {
   "cell_type": "markdown",
   "id": "7ef71142",
   "metadata": {},
   "source": [
    "### Last week's topics\n",
    "\n",
    "- Tokenizing\n",
    "- Tagging\n",
    "- Topic Modelling"
   ]
  },
  {
   "cell_type": "markdown",
   "id": "f0eacb4f",
   "metadata": {
    "slideshow": {
     "slide_type": "slide"
    }
   },
   "source": [
    "### Today's topics\n",
    "- Natural Language Processing\n",
    "    - Naive Bayes\n",
    "    - ROC space"
   ]
  },
  {
   "cell_type": "markdown",
   "id": "fa05021c",
   "metadata": {},
   "source": [
    "The goal of today is to answer the following questions:\n",
    "1. How can we identify particular features of language data that are salient for classifying it?\n",
    "2. How can we construct models of language that can be used to perform language processing tasks automatically?\n",
    "3. What can we learn about language from these models?"
   ]
  },
  {
   "cell_type": "markdown",
   "id": "9434260c",
   "metadata": {
    "slideshow": {
     "slide_type": "slide"
    }
   },
   "source": [
    "### Naive Bayes Classifier\n",
    "\n",
    "We aim to find the probability for a label. The following algorithm first uses the Bayes rule to express $P(label|features)$ in terms of $P(label)$ and $P(features|label)$, where the latter are approximated from the test data set: \n",
    "$$\n",
    "P(label|features) = \\frac{P(features|label)P(label)}{P(features)}\n",
    "$$"
   ]
  },
  {
   "cell_type": "markdown",
   "id": "9babc224",
   "metadata": {
    "slideshow": {
     "slide_type": "slide"
    }
   },
   "source": [
    "As usual for discrete data, the probability in the denominator is not computed directly. Instead, the numerator is normalized. "
   ]
  },
  {
   "cell_type": "markdown",
   "id": "9a2cd813",
   "metadata": {
    "slideshow": {
     "slide_type": "slide"
    }
   },
   "source": [
    "Now, we make the 'naive' assumption that all features are independent, given the label:\n",
    "$$\n",
    "P(label|features) \\propto P(label) P(feature\\ 1|label) \\dots P(feature\\ n|label)\n",
    "$$"
   ]
  },
  {
   "cell_type": "markdown",
   "id": "532d237e",
   "metadata": {
    "slideshow": {
     "slide_type": "slide"
    }
   },
   "source": [
    "To exemplify, we will consider a simple case first, a single feature. "
   ]
  },
  {
   "cell_type": "code",
   "execution_count": 1,
   "id": "0c0848c9",
   "metadata": {},
   "outputs": [],
   "source": [
    "from nltk.corpus import names\n",
    "import nltk\n",
    "import random\n",
    "import numpy as np"
   ]
  },
  {
   "cell_type": "code",
   "execution_count": 2,
   "id": "14dc0761",
   "metadata": {},
   "outputs": [],
   "source": [
    "names = ([(name, 'male') for name in names.words('male.txt')] + \n",
    "         [(name, 'female') for name in names.words('female.txt')])\n",
    "random.shuffle(names)"
   ]
  },
  {
   "cell_type": "code",
   "execution_count": 3,
   "id": "6fbed701",
   "metadata": {},
   "outputs": [
    {
     "data": {
      "text/plain": [
       "[('Anica', 'female'),\n",
       " ('Milly', 'female'),\n",
       " ('Mandie', 'female'),\n",
       " ('Damara', 'female')]"
      ]
     },
     "execution_count": 3,
     "metadata": {},
     "output_type": "execute_result"
    }
   ],
   "source": [
    "names[:4]"
   ]
  },
  {
   "cell_type": "code",
   "execution_count": 4,
   "id": "a653f5b2",
   "metadata": {},
   "outputs": [],
   "source": [
    "def gender_features(word):\n",
    "    return word[-1]"
   ]
  },
  {
   "cell_type": "code",
   "execution_count": 5,
   "id": "e2327baa",
   "metadata": {},
   "outputs": [
    {
     "data": {
      "text/plain": [
       "'y'"
      ]
     },
     "execution_count": 5,
     "metadata": {},
     "output_type": "execute_result"
    }
   ],
   "source": [
    "gender_features(\"Trinity\")"
   ]
  },
  {
   "cell_type": "code",
   "execution_count": 6,
   "id": "95300fe3",
   "metadata": {},
   "outputs": [
    {
     "data": {
      "text/plain": [
       "7944"
      ]
     },
     "execution_count": 6,
     "metadata": {},
     "output_type": "execute_result"
    }
   ],
   "source": [
    "len(names)"
   ]
  },
  {
   "cell_type": "code",
   "execution_count": 7,
   "id": "99bf59da",
   "metadata": {},
   "outputs": [],
   "source": [
    "featuresets = [({'feature': gender_features(n)}, g) for n, g in names]\n",
    "train_set, test_set = featuresets[500:], featuresets[:500]"
   ]
  },
  {
   "cell_type": "code",
   "execution_count": 8,
   "id": "bf66d5b4",
   "metadata": {},
   "outputs": [
    {
     "data": {
      "text/plain": [
       "[({'feature': 'a'}, 'female'),\n",
       " ({'feature': 'y'}, 'female'),\n",
       " ({'feature': 'e'}, 'female')]"
      ]
     },
     "execution_count": 8,
     "metadata": {},
     "output_type": "execute_result"
    }
   ],
   "source": [
    "test_set[:3]"
   ]
  },
  {
   "cell_type": "markdown",
   "id": "bf693bd7",
   "metadata": {},
   "source": [
    "First, lets estimate $P(label)$. "
   ]
  },
  {
   "cell_type": "code",
   "execution_count": 9,
   "id": "597111fa",
   "metadata": {},
   "outputs": [
    {
     "name": "stdout",
     "output_type": "stream",
     "text": [
      "0.3702310585706609\n",
      "0.629768941429339\n"
     ]
    }
   ],
   "source": [
    "P_label = np.mean([True if g[1] == 'male' else False for g in train_set])\n",
    "print(P_label)\n",
    "print(np.mean([True if g[1] == 'female' else False for g in train_set]))"
   ]
  },
  {
   "cell_type": "code",
   "execution_count": 10,
   "id": "148d675b",
   "metadata": {},
   "outputs": [],
   "source": [
    "def likelihood(feature, label): \n",
    "    return np.mean([True if f['feature'] == feature else False \n",
    "                    for f, y in train_set if y == label])"
   ]
  },
  {
   "cell_type": "code",
   "execution_count": 11,
   "id": "961cd63c",
   "metadata": {},
   "outputs": [
    {
     "data": {
      "text/plain": [
       "0.00021331058020477816"
      ]
     },
     "execution_count": 11,
     "metadata": {},
     "output_type": "execute_result"
    }
   ],
   "source": [
    "likelihood(' ', 'female')"
   ]
  },
  {
   "cell_type": "markdown",
   "id": "acb34157",
   "metadata": {},
   "source": [
    "To compute the posterior, lets establish how many features there are. "
   ]
  },
  {
   "cell_type": "code",
   "execution_count": 12,
   "id": "9601a7ad",
   "metadata": {},
   "outputs": [
    {
     "data": {
      "text/plain": [
       "26"
      ]
     },
     "execution_count": 12,
     "metadata": {},
     "output_type": "execute_result"
    }
   ],
   "source": [
    "features = {f['feature'] for f, g in train_set}\n",
    "len(features)"
   ]
  },
  {
   "cell_type": "code",
   "execution_count": 13,
   "id": "287a73a3",
   "metadata": {},
   "outputs": [],
   "source": [
    "#features"
   ]
  },
  {
   "cell_type": "code",
   "execution_count": 14,
   "id": "30eb0804",
   "metadata": {},
   "outputs": [],
   "source": [
    "posterior_male = {f: P_label * likelihood(f, 'male') for f in features}\n",
    "posterior_female = {f: (1 - P_label) * likelihood(f, 'female') for f in features}"
   ]
  },
  {
   "cell_type": "code",
   "execution_count": 15,
   "id": "65ada701",
   "metadata": {},
   "outputs": [],
   "source": [
    "normalization = {k: posterior_male.get(k, 0) + posterior_female.get(k, 0) for k in set(posterior_female) & set(posterior_male)}\n",
    "#normalization"
   ]
  },
  {
   "cell_type": "code",
   "execution_count": 16,
   "id": "5ef68658",
   "metadata": {},
   "outputs": [],
   "source": [
    "posterior_male = {f: P_label * likelihood(f, 'male') / normalization.get(f, 0) for f in features}\n",
    "posterior_female = {f: (1 - P_label) * likelihood(f, 'female') / normalization.get(f, 0) for f in features}"
   ]
  },
  {
   "cell_type": "code",
   "execution_count": 17,
   "id": "94043f7b",
   "metadata": {},
   "outputs": [
    {
     "name": "stdout",
     "output_type": "stream",
     "text": [
      "0.7963800904977375\n",
      "0.2036199095022625\n"
     ]
    }
   ],
   "source": [
    "print(posterior_male.get('r')) # prob of label given feature\n",
    "print(posterior_female.get('r'))"
   ]
  },
  {
   "cell_type": "markdown",
   "id": "4fc41c94",
   "metadata": {},
   "source": [
    "Our classifier is implemented. How well does it do? "
   ]
  },
  {
   "cell_type": "code",
   "execution_count": 18,
   "id": "5ad25aee",
   "metadata": {},
   "outputs": [
    {
     "data": {
      "text/plain": [
       "0.2036199095022625"
      ]
     },
     "execution_count": 18,
     "metadata": {},
     "output_type": "execute_result"
    }
   ],
   "source": [
    "posterior_female.get(gender_features('Esther')) "
   ]
  },
  {
   "cell_type": "code",
   "execution_count": 19,
   "id": "ccbf426a",
   "metadata": {},
   "outputs": [],
   "source": [
    "classifier = nltk.NaiveBayesClassifier.train(train_set)"
   ]
  },
  {
   "cell_type": "code",
   "execution_count": 20,
   "id": "c008fb7f",
   "metadata": {},
   "outputs": [
    {
     "data": {
      "text/plain": [
       "0.7947414790021119"
      ]
     },
     "execution_count": 20,
     "metadata": {},
     "output_type": "execute_result"
    }
   ],
   "source": [
    "classifier.prob_classify({'feature': gender_features('Esther')}).prob('male')"
   ]
  },
  {
   "cell_type": "code",
   "execution_count": 21,
   "id": "7165a674",
   "metadata": {},
   "outputs": [
    {
     "data": {
      "text/plain": [
       "dict_keys(['male', 'female'])"
      ]
     },
     "execution_count": 21,
     "metadata": {},
     "output_type": "execute_result"
    }
   ],
   "source": [
    "classifier.prob_classify({'feature': gender_features('Esther')}).samples()"
   ]
  },
  {
   "cell_type": "code",
   "execution_count": 22,
   "id": "3c4725b0",
   "metadata": {},
   "outputs": [
    {
     "data": {
      "text/plain": [
       "'r'"
      ]
     },
     "execution_count": 22,
     "metadata": {},
     "output_type": "execute_result"
    }
   ],
   "source": [
    "gender_features('Esther')"
   ]
  },
  {
   "cell_type": "markdown",
   "id": "b7d20eed",
   "metadata": {},
   "source": [
    "Lets classify [Moby Dick](https://www.gutenberg.org/files/2701/2701-h/2701-h.htm)."
   ]
  },
  {
   "cell_type": "code",
   "execution_count": 23,
   "id": "aa597672",
   "metadata": {},
   "outputs": [],
   "source": [
    "import re\n",
    "import nltk\n",
    "import numpy as np\n",
    "import pandas as pd"
   ]
  },
  {
   "cell_type": "code",
   "execution_count": 24,
   "id": "aed10877",
   "metadata": {},
   "outputs": [],
   "source": [
    "moby = nltk.corpus.gutenberg.raw(\"melville-moby_dick.txt\")\n",
    "pattern = r\"\\s*(?:EXTRACTS|ETYMOLOGY\\.|Epilogue|CHAPTER \\d+)\\s+.+\\n*.+[\\.!\\?\\)]\\s*\"\n",
    "corpus = re.split(pattern, moby)\n",
    "corpus.pop(0)\n",
    "corpus = [re.sub(r\"\\s+\", \" \", document).lower() for document in corpus]"
   ]
  },
  {
   "cell_type": "code",
   "execution_count": 25,
   "id": "e043dd4a",
   "metadata": {
    "scrolled": true
   },
   "outputs": [
    {
     "data": {
      "text/plain": [
       "138"
      ]
     },
     "execution_count": 25,
     "metadata": {},
     "output_type": "execute_result"
    }
   ],
   "source": [
    "len(corpus)"
   ]
  },
  {
   "cell_type": "markdown",
   "id": "9e6ad5c4",
   "metadata": {},
   "source": [
    "From [here](https://digitalcommons.cwu.edu/cgi/viewcontent.cgi?article=1430&context=etd#:~:text=In%20Chapters%201%2D8%2C%2010,role%20of%20%22I%22%20narrator.). "
   ]
  },
  {
   "cell_type": "code",
   "execution_count": 26,
   "id": "b755b33c",
   "metadata": {},
   "outputs": [],
   "source": [
    "cetological = [0, 1, 26, 27, 33, 46, 55, 57, 58, 59, 60, 61, 63, 64, \\\n",
    "               68, 75, 76, 77, 78, 80, 81, 85, 86, 87, 89, 90, 91, \\\n",
    "               93, 96, 97, 98, 102, 103, 104, 105, 106, 107]"
   ]
  },
  {
   "cell_type": "code",
   "execution_count": 27,
   "id": "1387fe71",
   "metadata": {},
   "outputs": [],
   "source": [
    "label = [i not in cetological for i in range(138)]\n",
    "label = [i for i in map(lambda x: 'story' if x else 'ceto', label)]"
   ]
  },
  {
   "cell_type": "code",
   "execution_count": 28,
   "id": "703ced03",
   "metadata": {},
   "outputs": [
    {
     "data": {
      "text/plain": [
       "['ceto',\n",
       " 'ceto',\n",
       " 'story',\n",
       " 'story',\n",
       " 'story',\n",
       " 'story',\n",
       " 'story',\n",
       " 'story',\n",
       " 'story',\n",
       " 'story']"
      ]
     },
     "execution_count": 28,
     "metadata": {},
     "output_type": "execute_result"
    }
   ],
   "source": [
    "label[:10]"
   ]
  },
  {
   "cell_type": "code",
   "execution_count": 123,
   "id": "14d8d294",
   "metadata": {},
   "outputs": [],
   "source": [
    "def tokenizer(document): \n",
    "    words = re.findall('\\w+', document)\n",
    "    words = [w[0] for a, w in nltk.pos_tag(words) if w[0] in ['N', 'V', 'J', 'R', 'P']]\n",
    "    return words"
   ]
  },
  {
   "cell_type": "code",
   "execution_count": 124,
   "id": "0b369e3a",
   "metadata": {},
   "outputs": [],
   "source": [
    "from sklearn.feature_extraction.text import CountVectorizer\n",
    "vec = CountVectorizer(tokenizer = tokenizer) \n",
    "freq = vec.fit_transform(corpus)"
   ]
  },
  {
   "cell_type": "code",
   "execution_count": 125,
   "id": "f89c30a2",
   "metadata": {
    "scrolled": true
   },
   "outputs": [
    {
     "data": {
      "text/plain": [
       "<138x5 sparse matrix of type '<class 'numpy.int64'>'\n",
       "\twith 690 stored elements in Compressed Sparse Row format>"
      ]
     },
     "execution_count": 125,
     "metadata": {},
     "output_type": "execute_result"
    }
   ],
   "source": [
    "freq"
   ]
  },
  {
   "cell_type": "code",
   "execution_count": 126,
   "id": "25ae8b9f",
   "metadata": {},
   "outputs": [],
   "source": [
    "def get_row_as_dict(i, freq): \n",
    "    row = freq[i,:].todense().tolist()[0]\n",
    "    names = vec.get_feature_names_out()\n",
    "    return {n: r for r, n in zip(row, names)}"
   ]
  },
  {
   "cell_type": "code",
   "execution_count": 127,
   "id": "43272825",
   "metadata": {},
   "outputs": [
    {
     "data": {
      "text/plain": [
       "{'J': 365, 'N': 841, 'P': 248, 'R': 326, 'V': 634}"
      ]
     },
     "execution_count": 127,
     "metadata": {},
     "output_type": "execute_result"
    }
   ],
   "source": [
    "get_row_as_dict(134, freq)"
   ]
  },
  {
   "cell_type": "code",
   "execution_count": 128,
   "id": "6ffa5b62",
   "metadata": {},
   "outputs": [],
   "source": [
    "featuresets = [(get_row_as_dict(i, freq), label[i]) for i, _ in enumerate(corpus)]"
   ]
  },
  {
   "cell_type": "code",
   "execution_count": 129,
   "id": "c73cb691",
   "metadata": {},
   "outputs": [
    {
     "data": {
      "text/plain": [
       "'ceto'"
      ]
     },
     "execution_count": 129,
     "metadata": {},
     "output_type": "execute_result"
    }
   ],
   "source": [
    "featuresets[0][1]"
   ]
  },
  {
   "cell_type": "code",
   "execution_count": 130,
   "id": "799d3522",
   "metadata": {},
   "outputs": [],
   "source": [
    "#random.shuffle(featuresets)\n",
    "train_set, test_set = featuresets[:90], featuresets[90:]"
   ]
  },
  {
   "cell_type": "code",
   "execution_count": 131,
   "id": "d3ae954e",
   "metadata": {},
   "outputs": [],
   "source": [
    "classifier = nltk.NaiveBayesClassifier.train(train_set)"
   ]
  },
  {
   "cell_type": "code",
   "execution_count": 132,
   "id": "52d29161",
   "metadata": {},
   "outputs": [
    {
     "name": "stdout",
     "output_type": "stream",
     "text": [
      "0.4791666666666667\n"
     ]
    }
   ],
   "source": [
    "print(nltk.classify.accuracy(classifier, test_set))"
   ]
  },
  {
   "cell_type": "code",
   "execution_count": 133,
   "id": "afbc4813",
   "metadata": {},
   "outputs": [
    {
     "data": {
      "text/plain": [
       "0.7318840579710145"
      ]
     },
     "execution_count": 133,
     "metadata": {},
     "output_type": "execute_result"
    }
   ],
   "source": [
    "sum([True for i in label if i==\"story\"]) / len(label) #benchmark accuracy"
   ]
  },
  {
   "cell_type": "code",
   "execution_count": 134,
   "id": "05670d4a",
   "metadata": {},
   "outputs": [],
   "source": [
    "fp = fn = tp = tn = 0\n",
    "for test in test_set: \n",
    "    classification = classifier.classify(test[0])\n",
    "    truth = test[1]\n",
    "    if classification == truth and truth == 'story': tp += 1\n",
    "    if classification == truth and truth != 'story': tn += 1\n",
    "    if classification != truth and truth == 'story': fp += 1\n",
    "    if classification != truth and truth != 'story': fn += 1"
   ]
  },
  {
   "cell_type": "code",
   "execution_count": 135,
   "id": "d97ed856",
   "metadata": {
    "scrolled": false
   },
   "outputs": [
    {
     "data": {
      "text/html": [
       "<div>\n",
       "<style scoped>\n",
       "    .dataframe tbody tr th:only-of-type {\n",
       "        vertical-align: middle;\n",
       "    }\n",
       "\n",
       "    .dataframe tbody tr th {\n",
       "        vertical-align: top;\n",
       "    }\n",
       "\n",
       "    .dataframe thead th {\n",
       "        text-align: right;\n",
       "    }\n",
       "</style>\n",
       "<table border=\"1\" class=\"dataframe\">\n",
       "  <thead>\n",
       "    <tr style=\"text-align: right;\">\n",
       "      <th></th>\n",
       "      <th>true story</th>\n",
       "      <th>true ceto</th>\n",
       "    </tr>\n",
       "  </thead>\n",
       "  <tbody>\n",
       "    <tr>\n",
       "      <th>class story</th>\n",
       "      <td>13</td>\n",
       "      <td>2</td>\n",
       "    </tr>\n",
       "    <tr>\n",
       "      <th>class ceto</th>\n",
       "      <td>23</td>\n",
       "      <td>10</td>\n",
       "    </tr>\n",
       "  </tbody>\n",
       "</table>\n",
       "</div>"
      ],
      "text/plain": [
       "             true story  true ceto\n",
       "class story          13          2\n",
       "class ceto           23         10"
      ]
     },
     "execution_count": 135,
     "metadata": {},
     "output_type": "execute_result"
    }
   ],
   "source": [
    "confusion = pd.DataFrame([[tp, fn], [fp, tn]], \n",
    "                         columns = ['true story', 'true ceto'], index = ['class story', 'class ceto'])\n",
    "confusion"
   ]
  },
  {
   "cell_type": "markdown",
   "id": "dffb04c3",
   "metadata": {},
   "source": [
    "We assign a chapter to be either cetological or storyline depending on the respective probability exceeding $0.5$. But this is an arbitrary decision rule.\n",
    "\n",
    "Instead, one should consider choosing cetological chapters based on different thresholds. "
   ]
  },
  {
   "cell_type": "markdown",
   "id": "d4c5fa15",
   "metadata": {
    "slideshow": {
     "slide_type": "slide"
    }
   },
   "source": [
    "| Estimated \\ True      | Success        | Failure       |\n",
    "| ----------- | ----------- | ----------- |\n",
    "| Success        | $n_{1|1}$, true positive   | $n_{1|2}$, false positive |\n",
    "| Failure       | $n_{2|1}$, false negative  | $n_{2|2}$, true negative  |\n",
    "\n",
    "From the values of the confusion matrix the following measures can be calculated for the evaluation of the classification model: \n",
    " - true positive rate (TPR / sensitivity): $\\frac{n_{1|1}}{n_{1|1} + n_{2|1}}$\n",
    " - false negative rate: $\\frac{n_{2|1}}{n_{1|1} + n_{2|1}}$\n",
    " - false positive rate (FPR): $\\frac{n_{1|2}}{n_{1|2} + n_{2|2}}$\n",
    " - true negative rate (specificity): $\\frac{n_{2|2}}{n_{1|2} + n_{2|2}}$\n",
    " - positive prediction rate (precision): $\\frac{n_{1|1}}{n_{1|1} + n_{1|2}}$\n",
    " - false detection rate: $\\frac{n_{1|2}}{n_{1|1} + n_{1|2}}$\n",
    " - negative prediction rate (separability): $\\frac{n_{2|2}}{n_{2|1} + n_{2|2}}$\n",
    " - misclassification rate: $\\frac{n_{2|1}}{n_{2|1} + n_{2|2}}$"
   ]
  },
  {
   "cell_type": "code",
   "execution_count": 136,
   "id": "d8303ff2",
   "metadata": {},
   "outputs": [
    {
     "data": {
      "text/plain": [
       "0.3611111111111111"
      ]
     },
     "execution_count": 136,
     "metadata": {},
     "output_type": "execute_result"
    }
   ],
   "source": [
    "confusion.iloc[0, 0] / (confusion.iloc[0, 0] + confusion.iloc[1, 0]) #TPR"
   ]
  },
  {
   "cell_type": "code",
   "execution_count": 137,
   "id": "84a890fd",
   "metadata": {},
   "outputs": [
    {
     "data": {
      "text/plain": [
       "0.16666666666666666"
      ]
     },
     "execution_count": 137,
     "metadata": {},
     "output_type": "execute_result"
    }
   ],
   "source": [
    "confusion.iloc[0, 1] / (confusion.iloc[0, 1] + confusion.iloc[1, 1]) #FPR"
   ]
  },
  {
   "cell_type": "markdown",
   "id": "20a9055d",
   "metadata": {
    "slideshow": {
     "slide_type": "slide"
    }
   },
   "source": [
    "### ROC Plots\n",
    "\n",
    "A ROC (receiver operating characteristics) plot plots the FPR on the x-axis onto the TPR on the y-axis. \n",
    "\n",
    "The point $(0,0)$ means that a model never classifies a success: $n_{1|1} = n_{1|2} = 0$. \n",
    "This way we avoid false positive errors, at the cost of never having any true positive classifications either. \n",
    "Point $(0,1)$ corresponds to a perfect classification $n_{2|1} = n_{1|2} = 0$. \n",
    "\n",
    "A point is *better in the ROC space* than another point, if its TPR is larger and its FPR smaller than the TPR and FPR of the other point. \n",
    "\n",
    "A point below the bisector $x = y$ corresponds to a point which is worse than a uniformly random classification. The bisector corresponds to a uniform random classification. "
   ]
  },
  {
   "cell_type": "markdown",
   "id": "45ff28e8",
   "metadata": {
    "slideshow": {
     "slide_type": "subslide"
    }
   },
   "source": [
    "We can use classification methods that return decision for the class (e.g., success or failure), or methods that return a probability that the observation belongs to a certain class (e.g., $\\pi$). For the latter, we have to set a threshold $\\tau\\in[0,1]$, to retrieve a true classification. \n",
    "Changing the threshold, will change the TPR and FPR. This leads to a *ROC curve*. \n",
    "\n",
    "Let $\\hat\\pi_i\\in[0,1]$ be the estimate for probability of the i-th observation is a success. \n",
    "Define $f_j$ to be the probability mass function of a random variable $p_j$, $j = 0,1$, where the realizations of $p_j$ are the values $\\hat\\pi_i$ that correspond to $y_i = j$. Now we can interpret the FPR and TRP as functions of the threshold $\\tau$. \n",
    "\n",
    "$$\n",
    "TPR(\\tau) = \\int_\\tau^\\infty f_1(x) dx\\qquad FPR(\\tau) = \\int_\\tau^{\\infty} f_0(x) dx \n",
    "$$\n",
    "\n",
    "This gives the ROC curve $\\tau\\rightarrow(FPR(\\tau), TPR(\\tau))$ as a function of $\\tau$."
   ]
  },
  {
   "cell_type": "code",
   "execution_count": 138,
   "id": "231b775f",
   "metadata": {
    "slideshow": {
     "slide_type": "subslide"
    }
   },
   "outputs": [],
   "source": [
    "def TPR(tau, classifier, featuresets, target = 'story'): \n",
    "    pi = np.array([classifier.prob_classify(chapter[0]).prob(target) for chapter in featuresets if chapter[1] == 'story'])\n",
    "    norm = len([True for chapter in featuresets if chapter[1] == 'story'])\n",
    "    tpr = [sum(pi >= t) / norm for t in tau]\n",
    "    return tpr"
   ]
  },
  {
   "cell_type": "code",
   "execution_count": 139,
   "id": "51d4fe0e",
   "metadata": {
    "slideshow": {
     "slide_type": "subslide"
    }
   },
   "outputs": [
    {
     "data": {
      "text/plain": [
       "[1.0, 0.0]"
      ]
     },
     "execution_count": 139,
     "metadata": {},
     "output_type": "execute_result"
    }
   ],
   "source": [
    "TPR([0, 1], classifier, test_set)"
   ]
  },
  {
   "cell_type": "code",
   "execution_count": 140,
   "id": "a2740f10",
   "metadata": {
    "slideshow": {
     "slide_type": "subslide"
    }
   },
   "outputs": [],
   "source": [
    "def FPR(tau, classifier, featuresets, target = 'story'): \n",
    "    pi = np.array([classifier.prob_classify(chapter[0]).prob(target) for chapter in featuresets if chapter[1] != 'story'])\n",
    "    norm = len([True for chapter in featuresets if chapter[1] != 'story'])\n",
    "    fpr = [sum(pi >= t) / norm for t in tau]\n",
    "    return fpr"
   ]
  },
  {
   "cell_type": "code",
   "execution_count": 141,
   "id": "7728e3bb",
   "metadata": {
    "slideshow": {
     "slide_type": "subslide"
    }
   },
   "outputs": [
    {
     "data": {
      "text/plain": [
       "[1.0, 0.0]"
      ]
     },
     "execution_count": 141,
     "metadata": {},
     "output_type": "execute_result"
    }
   ],
   "source": [
    "FPR([0, 1], classifier, test_set)"
   ]
  },
  {
   "cell_type": "code",
   "execution_count": 142,
   "id": "a7001d2d",
   "metadata": {},
   "outputs": [],
   "source": [
    "tmp = [0, 0.1, 0.2, 0.3, 0.4, 0.5, 0.9, 1] # range of threshold \n",
    "df = pd.DataFrame({\n",
    "    'tau': tmp,\n",
    "    'tpr': TPR(tmp, classifier, test_set),\n",
    "    'fpr': FPR(tmp, classifier, test_set)\n",
    "})"
   ]
  },
  {
   "cell_type": "code",
   "execution_count": 143,
   "id": "71fedbb3",
   "metadata": {},
   "outputs": [],
   "source": [
    "df\n",
    "df['method']='POS frequency'"
   ]
  },
  {
   "cell_type": "code",
   "execution_count": 144,
   "id": "1457b394",
   "metadata": {},
   "outputs": [
    {
     "data": {
      "application/vnd.plotly.v1+json": {
       "config": {
        "plotlyServerURL": "https://plot.ly"
       },
       "data": [
        {
         "hovertemplate": "method=POS frequency<br>fpr=%{x}<br>tpr=%{y}<br>tau=%{text}<extra></extra>",
         "legendgroup": "POS frequency",
         "line": {
          "color": "#636efa",
          "dash": "solid",
          "shape": "hv"
         },
         "marker": {
          "symbol": "circle"
         },
         "mode": "lines+markers+text",
         "name": "POS frequency",
         "orientation": "v",
         "showlegend": true,
         "text": [
          0,
          0.1,
          0.2,
          0.3,
          0.4,
          0.5,
          0.9,
          1
         ],
         "textposition": "bottom right",
         "type": "scatter",
         "x": [
          1,
          0.75,
          0.3333333333333333,
          0.3333333333333333,
          0.3333333333333333,
          0.16666666666666666,
          0,
          0
         ],
         "xaxis": "x",
         "y": [
          1,
          0.9444444444444444,
          0.5555555555555556,
          0.5555555555555556,
          0.5555555555555556,
          0.3611111111111111,
          0,
          0
         ],
         "yaxis": "y"
        }
       ],
       "layout": {
        "legend": {
         "title": {
          "text": "method"
         },
         "tracegroupgap": 0
        },
        "margin": {
         "t": 60
        },
        "template": {
         "data": {
          "bar": [
           {
            "error_x": {
             "color": "#2a3f5f"
            },
            "error_y": {
             "color": "#2a3f5f"
            },
            "marker": {
             "line": {
              "color": "#E5ECF6",
              "width": 0.5
             },
             "pattern": {
              "fillmode": "overlay",
              "size": 10,
              "solidity": 0.2
             }
            },
            "type": "bar"
           }
          ],
          "barpolar": [
           {
            "marker": {
             "line": {
              "color": "#E5ECF6",
              "width": 0.5
             },
             "pattern": {
              "fillmode": "overlay",
              "size": 10,
              "solidity": 0.2
             }
            },
            "type": "barpolar"
           }
          ],
          "carpet": [
           {
            "aaxis": {
             "endlinecolor": "#2a3f5f",
             "gridcolor": "white",
             "linecolor": "white",
             "minorgridcolor": "white",
             "startlinecolor": "#2a3f5f"
            },
            "baxis": {
             "endlinecolor": "#2a3f5f",
             "gridcolor": "white",
             "linecolor": "white",
             "minorgridcolor": "white",
             "startlinecolor": "#2a3f5f"
            },
            "type": "carpet"
           }
          ],
          "choropleth": [
           {
            "colorbar": {
             "outlinewidth": 0,
             "ticks": ""
            },
            "type": "choropleth"
           }
          ],
          "contour": [
           {
            "colorbar": {
             "outlinewidth": 0,
             "ticks": ""
            },
            "colorscale": [
             [
              0,
              "#0d0887"
             ],
             [
              0.1111111111111111,
              "#46039f"
             ],
             [
              0.2222222222222222,
              "#7201a8"
             ],
             [
              0.3333333333333333,
              "#9c179e"
             ],
             [
              0.4444444444444444,
              "#bd3786"
             ],
             [
              0.5555555555555556,
              "#d8576b"
             ],
             [
              0.6666666666666666,
              "#ed7953"
             ],
             [
              0.7777777777777778,
              "#fb9f3a"
             ],
             [
              0.8888888888888888,
              "#fdca26"
             ],
             [
              1,
              "#f0f921"
             ]
            ],
            "type": "contour"
           }
          ],
          "contourcarpet": [
           {
            "colorbar": {
             "outlinewidth": 0,
             "ticks": ""
            },
            "type": "contourcarpet"
           }
          ],
          "heatmap": [
           {
            "colorbar": {
             "outlinewidth": 0,
             "ticks": ""
            },
            "colorscale": [
             [
              0,
              "#0d0887"
             ],
             [
              0.1111111111111111,
              "#46039f"
             ],
             [
              0.2222222222222222,
              "#7201a8"
             ],
             [
              0.3333333333333333,
              "#9c179e"
             ],
             [
              0.4444444444444444,
              "#bd3786"
             ],
             [
              0.5555555555555556,
              "#d8576b"
             ],
             [
              0.6666666666666666,
              "#ed7953"
             ],
             [
              0.7777777777777778,
              "#fb9f3a"
             ],
             [
              0.8888888888888888,
              "#fdca26"
             ],
             [
              1,
              "#f0f921"
             ]
            ],
            "type": "heatmap"
           }
          ],
          "heatmapgl": [
           {
            "colorbar": {
             "outlinewidth": 0,
             "ticks": ""
            },
            "colorscale": [
             [
              0,
              "#0d0887"
             ],
             [
              0.1111111111111111,
              "#46039f"
             ],
             [
              0.2222222222222222,
              "#7201a8"
             ],
             [
              0.3333333333333333,
              "#9c179e"
             ],
             [
              0.4444444444444444,
              "#bd3786"
             ],
             [
              0.5555555555555556,
              "#d8576b"
             ],
             [
              0.6666666666666666,
              "#ed7953"
             ],
             [
              0.7777777777777778,
              "#fb9f3a"
             ],
             [
              0.8888888888888888,
              "#fdca26"
             ],
             [
              1,
              "#f0f921"
             ]
            ],
            "type": "heatmapgl"
           }
          ],
          "histogram": [
           {
            "marker": {
             "pattern": {
              "fillmode": "overlay",
              "size": 10,
              "solidity": 0.2
             }
            },
            "type": "histogram"
           }
          ],
          "histogram2d": [
           {
            "colorbar": {
             "outlinewidth": 0,
             "ticks": ""
            },
            "colorscale": [
             [
              0,
              "#0d0887"
             ],
             [
              0.1111111111111111,
              "#46039f"
             ],
             [
              0.2222222222222222,
              "#7201a8"
             ],
             [
              0.3333333333333333,
              "#9c179e"
             ],
             [
              0.4444444444444444,
              "#bd3786"
             ],
             [
              0.5555555555555556,
              "#d8576b"
             ],
             [
              0.6666666666666666,
              "#ed7953"
             ],
             [
              0.7777777777777778,
              "#fb9f3a"
             ],
             [
              0.8888888888888888,
              "#fdca26"
             ],
             [
              1,
              "#f0f921"
             ]
            ],
            "type": "histogram2d"
           }
          ],
          "histogram2dcontour": [
           {
            "colorbar": {
             "outlinewidth": 0,
             "ticks": ""
            },
            "colorscale": [
             [
              0,
              "#0d0887"
             ],
             [
              0.1111111111111111,
              "#46039f"
             ],
             [
              0.2222222222222222,
              "#7201a8"
             ],
             [
              0.3333333333333333,
              "#9c179e"
             ],
             [
              0.4444444444444444,
              "#bd3786"
             ],
             [
              0.5555555555555556,
              "#d8576b"
             ],
             [
              0.6666666666666666,
              "#ed7953"
             ],
             [
              0.7777777777777778,
              "#fb9f3a"
             ],
             [
              0.8888888888888888,
              "#fdca26"
             ],
             [
              1,
              "#f0f921"
             ]
            ],
            "type": "histogram2dcontour"
           }
          ],
          "mesh3d": [
           {
            "colorbar": {
             "outlinewidth": 0,
             "ticks": ""
            },
            "type": "mesh3d"
           }
          ],
          "parcoords": [
           {
            "line": {
             "colorbar": {
              "outlinewidth": 0,
              "ticks": ""
             }
            },
            "type": "parcoords"
           }
          ],
          "pie": [
           {
            "automargin": true,
            "type": "pie"
           }
          ],
          "scatter": [
           {
            "fillpattern": {
             "fillmode": "overlay",
             "size": 10,
             "solidity": 0.2
            },
            "type": "scatter"
           }
          ],
          "scatter3d": [
           {
            "line": {
             "colorbar": {
              "outlinewidth": 0,
              "ticks": ""
             }
            },
            "marker": {
             "colorbar": {
              "outlinewidth": 0,
              "ticks": ""
             }
            },
            "type": "scatter3d"
           }
          ],
          "scattercarpet": [
           {
            "marker": {
             "colorbar": {
              "outlinewidth": 0,
              "ticks": ""
             }
            },
            "type": "scattercarpet"
           }
          ],
          "scattergeo": [
           {
            "marker": {
             "colorbar": {
              "outlinewidth": 0,
              "ticks": ""
             }
            },
            "type": "scattergeo"
           }
          ],
          "scattergl": [
           {
            "marker": {
             "colorbar": {
              "outlinewidth": 0,
              "ticks": ""
             }
            },
            "type": "scattergl"
           }
          ],
          "scattermapbox": [
           {
            "marker": {
             "colorbar": {
              "outlinewidth": 0,
              "ticks": ""
             }
            },
            "type": "scattermapbox"
           }
          ],
          "scatterpolar": [
           {
            "marker": {
             "colorbar": {
              "outlinewidth": 0,
              "ticks": ""
             }
            },
            "type": "scatterpolar"
           }
          ],
          "scatterpolargl": [
           {
            "marker": {
             "colorbar": {
              "outlinewidth": 0,
              "ticks": ""
             }
            },
            "type": "scatterpolargl"
           }
          ],
          "scatterternary": [
           {
            "marker": {
             "colorbar": {
              "outlinewidth": 0,
              "ticks": ""
             }
            },
            "type": "scatterternary"
           }
          ],
          "surface": [
           {
            "colorbar": {
             "outlinewidth": 0,
             "ticks": ""
            },
            "colorscale": [
             [
              0,
              "#0d0887"
             ],
             [
              0.1111111111111111,
              "#46039f"
             ],
             [
              0.2222222222222222,
              "#7201a8"
             ],
             [
              0.3333333333333333,
              "#9c179e"
             ],
             [
              0.4444444444444444,
              "#bd3786"
             ],
             [
              0.5555555555555556,
              "#d8576b"
             ],
             [
              0.6666666666666666,
              "#ed7953"
             ],
             [
              0.7777777777777778,
              "#fb9f3a"
             ],
             [
              0.8888888888888888,
              "#fdca26"
             ],
             [
              1,
              "#f0f921"
             ]
            ],
            "type": "surface"
           }
          ],
          "table": [
           {
            "cells": {
             "fill": {
              "color": "#EBF0F8"
             },
             "line": {
              "color": "white"
             }
            },
            "header": {
             "fill": {
              "color": "#C8D4E3"
             },
             "line": {
              "color": "white"
             }
            },
            "type": "table"
           }
          ]
         },
         "layout": {
          "annotationdefaults": {
           "arrowcolor": "#2a3f5f",
           "arrowhead": 0,
           "arrowwidth": 1
          },
          "autotypenumbers": "strict",
          "coloraxis": {
           "colorbar": {
            "outlinewidth": 0,
            "ticks": ""
           }
          },
          "colorscale": {
           "diverging": [
            [
             0,
             "#8e0152"
            ],
            [
             0.1,
             "#c51b7d"
            ],
            [
             0.2,
             "#de77ae"
            ],
            [
             0.3,
             "#f1b6da"
            ],
            [
             0.4,
             "#fde0ef"
            ],
            [
             0.5,
             "#f7f7f7"
            ],
            [
             0.6,
             "#e6f5d0"
            ],
            [
             0.7,
             "#b8e186"
            ],
            [
             0.8,
             "#7fbc41"
            ],
            [
             0.9,
             "#4d9221"
            ],
            [
             1,
             "#276419"
            ]
           ],
           "sequential": [
            [
             0,
             "#0d0887"
            ],
            [
             0.1111111111111111,
             "#46039f"
            ],
            [
             0.2222222222222222,
             "#7201a8"
            ],
            [
             0.3333333333333333,
             "#9c179e"
            ],
            [
             0.4444444444444444,
             "#bd3786"
            ],
            [
             0.5555555555555556,
             "#d8576b"
            ],
            [
             0.6666666666666666,
             "#ed7953"
            ],
            [
             0.7777777777777778,
             "#fb9f3a"
            ],
            [
             0.8888888888888888,
             "#fdca26"
            ],
            [
             1,
             "#f0f921"
            ]
           ],
           "sequentialminus": [
            [
             0,
             "#0d0887"
            ],
            [
             0.1111111111111111,
             "#46039f"
            ],
            [
             0.2222222222222222,
             "#7201a8"
            ],
            [
             0.3333333333333333,
             "#9c179e"
            ],
            [
             0.4444444444444444,
             "#bd3786"
            ],
            [
             0.5555555555555556,
             "#d8576b"
            ],
            [
             0.6666666666666666,
             "#ed7953"
            ],
            [
             0.7777777777777778,
             "#fb9f3a"
            ],
            [
             0.8888888888888888,
             "#fdca26"
            ],
            [
             1,
             "#f0f921"
            ]
           ]
          },
          "colorway": [
           "#636efa",
           "#EF553B",
           "#00cc96",
           "#ab63fa",
           "#FFA15A",
           "#19d3f3",
           "#FF6692",
           "#B6E880",
           "#FF97FF",
           "#FECB52"
          ],
          "font": {
           "color": "#2a3f5f"
          },
          "geo": {
           "bgcolor": "white",
           "lakecolor": "white",
           "landcolor": "#E5ECF6",
           "showlakes": true,
           "showland": true,
           "subunitcolor": "white"
          },
          "hoverlabel": {
           "align": "left"
          },
          "hovermode": "closest",
          "mapbox": {
           "style": "light"
          },
          "paper_bgcolor": "white",
          "plot_bgcolor": "#E5ECF6",
          "polar": {
           "angularaxis": {
            "gridcolor": "white",
            "linecolor": "white",
            "ticks": ""
           },
           "bgcolor": "#E5ECF6",
           "radialaxis": {
            "gridcolor": "white",
            "linecolor": "white",
            "ticks": ""
           }
          },
          "scene": {
           "xaxis": {
            "backgroundcolor": "#E5ECF6",
            "gridcolor": "white",
            "gridwidth": 2,
            "linecolor": "white",
            "showbackground": true,
            "ticks": "",
            "zerolinecolor": "white"
           },
           "yaxis": {
            "backgroundcolor": "#E5ECF6",
            "gridcolor": "white",
            "gridwidth": 2,
            "linecolor": "white",
            "showbackground": true,
            "ticks": "",
            "zerolinecolor": "white"
           },
           "zaxis": {
            "backgroundcolor": "#E5ECF6",
            "gridcolor": "white",
            "gridwidth": 2,
            "linecolor": "white",
            "showbackground": true,
            "ticks": "",
            "zerolinecolor": "white"
           }
          },
          "shapedefaults": {
           "line": {
            "color": "#2a3f5f"
           }
          },
          "ternary": {
           "aaxis": {
            "gridcolor": "white",
            "linecolor": "white",
            "ticks": ""
           },
           "baxis": {
            "gridcolor": "white",
            "linecolor": "white",
            "ticks": ""
           },
           "bgcolor": "#E5ECF6",
           "caxis": {
            "gridcolor": "white",
            "linecolor": "white",
            "ticks": ""
           }
          },
          "title": {
           "x": 0.05
          },
          "xaxis": {
           "automargin": true,
           "gridcolor": "white",
           "linecolor": "white",
           "ticks": "",
           "title": {
            "standoff": 15
           },
           "zerolinecolor": "white",
           "zerolinewidth": 2
          },
          "yaxis": {
           "automargin": true,
           "gridcolor": "white",
           "linecolor": "white",
           "ticks": "",
           "title": {
            "standoff": 15
           },
           "zerolinecolor": "white",
           "zerolinewidth": 2
          }
         }
        },
        "xaxis": {
         "anchor": "y",
         "domain": [
          0,
          1
         ],
         "range": [
          -0.1,
          1.1
         ],
         "title": {
          "text": "fpr"
         }
        },
        "yaxis": {
         "anchor": "x",
         "domain": [
          0,
          1
         ],
         "range": [
          -0.1,
          1.1
         ],
         "title": {
          "text": "tpr"
         }
        }
       }
      },
      "text/html": [
       "<div>                            <div id=\"8b09250b-326d-4279-bbab-b7397d6ca371\" class=\"plotly-graph-div\" style=\"height:525px; width:100%;\"></div>            <script type=\"text/javascript\">                require([\"plotly\"], function(Plotly) {                    window.PLOTLYENV=window.PLOTLYENV || {};                                    if (document.getElementById(\"8b09250b-326d-4279-bbab-b7397d6ca371\")) {                    Plotly.newPlot(                        \"8b09250b-326d-4279-bbab-b7397d6ca371\",                        [{\"hovertemplate\":\"method=POS frequency\\u003cbr\\u003efpr=%{x}\\u003cbr\\u003etpr=%{y}\\u003cbr\\u003etau=%{text}\\u003cextra\\u003e\\u003c\\u002fextra\\u003e\",\"legendgroup\":\"POS frequency\",\"line\":{\"color\":\"#636efa\",\"dash\":\"solid\",\"shape\":\"hv\"},\"marker\":{\"symbol\":\"circle\"},\"mode\":\"lines+markers+text\",\"name\":\"POS frequency\",\"orientation\":\"v\",\"showlegend\":true,\"text\":[0.0,0.1,0.2,0.3,0.4,0.5,0.9,1.0],\"x\":[1.0,0.75,0.3333333333333333,0.3333333333333333,0.3333333333333333,0.16666666666666666,0.0,0.0],\"xaxis\":\"x\",\"y\":[1.0,0.9444444444444444,0.5555555555555556,0.5555555555555556,0.5555555555555556,0.3611111111111111,0.0,0.0],\"yaxis\":\"y\",\"type\":\"scatter\",\"textposition\":\"bottom right\"}],                        {\"template\":{\"data\":{\"histogram2dcontour\":[{\"type\":\"histogram2dcontour\",\"colorbar\":{\"outlinewidth\":0,\"ticks\":\"\"},\"colorscale\":[[0.0,\"#0d0887\"],[0.1111111111111111,\"#46039f\"],[0.2222222222222222,\"#7201a8\"],[0.3333333333333333,\"#9c179e\"],[0.4444444444444444,\"#bd3786\"],[0.5555555555555556,\"#d8576b\"],[0.6666666666666666,\"#ed7953\"],[0.7777777777777778,\"#fb9f3a\"],[0.8888888888888888,\"#fdca26\"],[1.0,\"#f0f921\"]]}],\"choropleth\":[{\"type\":\"choropleth\",\"colorbar\":{\"outlinewidth\":0,\"ticks\":\"\"}}],\"histogram2d\":[{\"type\":\"histogram2d\",\"colorbar\":{\"outlinewidth\":0,\"ticks\":\"\"},\"colorscale\":[[0.0,\"#0d0887\"],[0.1111111111111111,\"#46039f\"],[0.2222222222222222,\"#7201a8\"],[0.3333333333333333,\"#9c179e\"],[0.4444444444444444,\"#bd3786\"],[0.5555555555555556,\"#d8576b\"],[0.6666666666666666,\"#ed7953\"],[0.7777777777777778,\"#fb9f3a\"],[0.8888888888888888,\"#fdca26\"],[1.0,\"#f0f921\"]]}],\"heatmap\":[{\"type\":\"heatmap\",\"colorbar\":{\"outlinewidth\":0,\"ticks\":\"\"},\"colorscale\":[[0.0,\"#0d0887\"],[0.1111111111111111,\"#46039f\"],[0.2222222222222222,\"#7201a8\"],[0.3333333333333333,\"#9c179e\"],[0.4444444444444444,\"#bd3786\"],[0.5555555555555556,\"#d8576b\"],[0.6666666666666666,\"#ed7953\"],[0.7777777777777778,\"#fb9f3a\"],[0.8888888888888888,\"#fdca26\"],[1.0,\"#f0f921\"]]}],\"heatmapgl\":[{\"type\":\"heatmapgl\",\"colorbar\":{\"outlinewidth\":0,\"ticks\":\"\"},\"colorscale\":[[0.0,\"#0d0887\"],[0.1111111111111111,\"#46039f\"],[0.2222222222222222,\"#7201a8\"],[0.3333333333333333,\"#9c179e\"],[0.4444444444444444,\"#bd3786\"],[0.5555555555555556,\"#d8576b\"],[0.6666666666666666,\"#ed7953\"],[0.7777777777777778,\"#fb9f3a\"],[0.8888888888888888,\"#fdca26\"],[1.0,\"#f0f921\"]]}],\"contourcarpet\":[{\"type\":\"contourcarpet\",\"colorbar\":{\"outlinewidth\":0,\"ticks\":\"\"}}],\"contour\":[{\"type\":\"contour\",\"colorbar\":{\"outlinewidth\":0,\"ticks\":\"\"},\"colorscale\":[[0.0,\"#0d0887\"],[0.1111111111111111,\"#46039f\"],[0.2222222222222222,\"#7201a8\"],[0.3333333333333333,\"#9c179e\"],[0.4444444444444444,\"#bd3786\"],[0.5555555555555556,\"#d8576b\"],[0.6666666666666666,\"#ed7953\"],[0.7777777777777778,\"#fb9f3a\"],[0.8888888888888888,\"#fdca26\"],[1.0,\"#f0f921\"]]}],\"surface\":[{\"type\":\"surface\",\"colorbar\":{\"outlinewidth\":0,\"ticks\":\"\"},\"colorscale\":[[0.0,\"#0d0887\"],[0.1111111111111111,\"#46039f\"],[0.2222222222222222,\"#7201a8\"],[0.3333333333333333,\"#9c179e\"],[0.4444444444444444,\"#bd3786\"],[0.5555555555555556,\"#d8576b\"],[0.6666666666666666,\"#ed7953\"],[0.7777777777777778,\"#fb9f3a\"],[0.8888888888888888,\"#fdca26\"],[1.0,\"#f0f921\"]]}],\"mesh3d\":[{\"type\":\"mesh3d\",\"colorbar\":{\"outlinewidth\":0,\"ticks\":\"\"}}],\"scatter\":[{\"fillpattern\":{\"fillmode\":\"overlay\",\"size\":10,\"solidity\":0.2},\"type\":\"scatter\"}],\"parcoords\":[{\"type\":\"parcoords\",\"line\":{\"colorbar\":{\"outlinewidth\":0,\"ticks\":\"\"}}}],\"scatterpolargl\":[{\"type\":\"scatterpolargl\",\"marker\":{\"colorbar\":{\"outlinewidth\":0,\"ticks\":\"\"}}}],\"bar\":[{\"error_x\":{\"color\":\"#2a3f5f\"},\"error_y\":{\"color\":\"#2a3f5f\"},\"marker\":{\"line\":{\"color\":\"#E5ECF6\",\"width\":0.5},\"pattern\":{\"fillmode\":\"overlay\",\"size\":10,\"solidity\":0.2}},\"type\":\"bar\"}],\"scattergeo\":[{\"type\":\"scattergeo\",\"marker\":{\"colorbar\":{\"outlinewidth\":0,\"ticks\":\"\"}}}],\"scatterpolar\":[{\"type\":\"scatterpolar\",\"marker\":{\"colorbar\":{\"outlinewidth\":0,\"ticks\":\"\"}}}],\"histogram\":[{\"marker\":{\"pattern\":{\"fillmode\":\"overlay\",\"size\":10,\"solidity\":0.2}},\"type\":\"histogram\"}],\"scattergl\":[{\"type\":\"scattergl\",\"marker\":{\"colorbar\":{\"outlinewidth\":0,\"ticks\":\"\"}}}],\"scatter3d\":[{\"type\":\"scatter3d\",\"line\":{\"colorbar\":{\"outlinewidth\":0,\"ticks\":\"\"}},\"marker\":{\"colorbar\":{\"outlinewidth\":0,\"ticks\":\"\"}}}],\"scattermapbox\":[{\"type\":\"scattermapbox\",\"marker\":{\"colorbar\":{\"outlinewidth\":0,\"ticks\":\"\"}}}],\"scatterternary\":[{\"type\":\"scatterternary\",\"marker\":{\"colorbar\":{\"outlinewidth\":0,\"ticks\":\"\"}}}],\"scattercarpet\":[{\"type\":\"scattercarpet\",\"marker\":{\"colorbar\":{\"outlinewidth\":0,\"ticks\":\"\"}}}],\"carpet\":[{\"aaxis\":{\"endlinecolor\":\"#2a3f5f\",\"gridcolor\":\"white\",\"linecolor\":\"white\",\"minorgridcolor\":\"white\",\"startlinecolor\":\"#2a3f5f\"},\"baxis\":{\"endlinecolor\":\"#2a3f5f\",\"gridcolor\":\"white\",\"linecolor\":\"white\",\"minorgridcolor\":\"white\",\"startlinecolor\":\"#2a3f5f\"},\"type\":\"carpet\"}],\"table\":[{\"cells\":{\"fill\":{\"color\":\"#EBF0F8\"},\"line\":{\"color\":\"white\"}},\"header\":{\"fill\":{\"color\":\"#C8D4E3\"},\"line\":{\"color\":\"white\"}},\"type\":\"table\"}],\"barpolar\":[{\"marker\":{\"line\":{\"color\":\"#E5ECF6\",\"width\":0.5},\"pattern\":{\"fillmode\":\"overlay\",\"size\":10,\"solidity\":0.2}},\"type\":\"barpolar\"}],\"pie\":[{\"automargin\":true,\"type\":\"pie\"}]},\"layout\":{\"autotypenumbers\":\"strict\",\"colorway\":[\"#636efa\",\"#EF553B\",\"#00cc96\",\"#ab63fa\",\"#FFA15A\",\"#19d3f3\",\"#FF6692\",\"#B6E880\",\"#FF97FF\",\"#FECB52\"],\"font\":{\"color\":\"#2a3f5f\"},\"hovermode\":\"closest\",\"hoverlabel\":{\"align\":\"left\"},\"paper_bgcolor\":\"white\",\"plot_bgcolor\":\"#E5ECF6\",\"polar\":{\"bgcolor\":\"#E5ECF6\",\"angularaxis\":{\"gridcolor\":\"white\",\"linecolor\":\"white\",\"ticks\":\"\"},\"radialaxis\":{\"gridcolor\":\"white\",\"linecolor\":\"white\",\"ticks\":\"\"}},\"ternary\":{\"bgcolor\":\"#E5ECF6\",\"aaxis\":{\"gridcolor\":\"white\",\"linecolor\":\"white\",\"ticks\":\"\"},\"baxis\":{\"gridcolor\":\"white\",\"linecolor\":\"white\",\"ticks\":\"\"},\"caxis\":{\"gridcolor\":\"white\",\"linecolor\":\"white\",\"ticks\":\"\"}},\"coloraxis\":{\"colorbar\":{\"outlinewidth\":0,\"ticks\":\"\"}},\"colorscale\":{\"sequential\":[[0.0,\"#0d0887\"],[0.1111111111111111,\"#46039f\"],[0.2222222222222222,\"#7201a8\"],[0.3333333333333333,\"#9c179e\"],[0.4444444444444444,\"#bd3786\"],[0.5555555555555556,\"#d8576b\"],[0.6666666666666666,\"#ed7953\"],[0.7777777777777778,\"#fb9f3a\"],[0.8888888888888888,\"#fdca26\"],[1.0,\"#f0f921\"]],\"sequentialminus\":[[0.0,\"#0d0887\"],[0.1111111111111111,\"#46039f\"],[0.2222222222222222,\"#7201a8\"],[0.3333333333333333,\"#9c179e\"],[0.4444444444444444,\"#bd3786\"],[0.5555555555555556,\"#d8576b\"],[0.6666666666666666,\"#ed7953\"],[0.7777777777777778,\"#fb9f3a\"],[0.8888888888888888,\"#fdca26\"],[1.0,\"#f0f921\"]],\"diverging\":[[0,\"#8e0152\"],[0.1,\"#c51b7d\"],[0.2,\"#de77ae\"],[0.3,\"#f1b6da\"],[0.4,\"#fde0ef\"],[0.5,\"#f7f7f7\"],[0.6,\"#e6f5d0\"],[0.7,\"#b8e186\"],[0.8,\"#7fbc41\"],[0.9,\"#4d9221\"],[1,\"#276419\"]]},\"xaxis\":{\"gridcolor\":\"white\",\"linecolor\":\"white\",\"ticks\":\"\",\"title\":{\"standoff\":15},\"zerolinecolor\":\"white\",\"automargin\":true,\"zerolinewidth\":2},\"yaxis\":{\"gridcolor\":\"white\",\"linecolor\":\"white\",\"ticks\":\"\",\"title\":{\"standoff\":15},\"zerolinecolor\":\"white\",\"automargin\":true,\"zerolinewidth\":2},\"scene\":{\"xaxis\":{\"backgroundcolor\":\"#E5ECF6\",\"gridcolor\":\"white\",\"linecolor\":\"white\",\"showbackground\":true,\"ticks\":\"\",\"zerolinecolor\":\"white\",\"gridwidth\":2},\"yaxis\":{\"backgroundcolor\":\"#E5ECF6\",\"gridcolor\":\"white\",\"linecolor\":\"white\",\"showbackground\":true,\"ticks\":\"\",\"zerolinecolor\":\"white\",\"gridwidth\":2},\"zaxis\":{\"backgroundcolor\":\"#E5ECF6\",\"gridcolor\":\"white\",\"linecolor\":\"white\",\"showbackground\":true,\"ticks\":\"\",\"zerolinecolor\":\"white\",\"gridwidth\":2}},\"shapedefaults\":{\"line\":{\"color\":\"#2a3f5f\"}},\"annotationdefaults\":{\"arrowcolor\":\"#2a3f5f\",\"arrowhead\":0,\"arrowwidth\":1},\"geo\":{\"bgcolor\":\"white\",\"landcolor\":\"#E5ECF6\",\"subunitcolor\":\"white\",\"showland\":true,\"showlakes\":true,\"lakecolor\":\"white\"},\"title\":{\"x\":0.05},\"mapbox\":{\"style\":\"light\"}}},\"xaxis\":{\"anchor\":\"y\",\"domain\":[0.0,1.0],\"title\":{\"text\":\"fpr\"},\"range\":[-0.1,1.1]},\"yaxis\":{\"anchor\":\"x\",\"domain\":[0.0,1.0],\"title\":{\"text\":\"tpr\"},\"range\":[-0.1,1.1]},\"legend\":{\"title\":{\"text\":\"method\"},\"tracegroupgap\":0},\"margin\":{\"t\":60}},                        {\"responsive\": true}                    ).then(function(){\n",
       "                            \n",
       "var gd = document.getElementById('8b09250b-326d-4279-bbab-b7397d6ca371');\n",
       "var x = new MutationObserver(function (mutations, observer) {{\n",
       "        var display = window.getComputedStyle(gd).display;\n",
       "        if (!display || display === 'none') {{\n",
       "            console.log([gd, 'removed!']);\n",
       "            Plotly.purge(gd);\n",
       "            observer.disconnect();\n",
       "        }}\n",
       "}});\n",
       "\n",
       "// Listen for the removal of the full notebook cells\n",
       "var notebookContainer = gd.closest('#notebook-container');\n",
       "if (notebookContainer) {{\n",
       "    x.observe(notebookContainer, {childList: true});\n",
       "}}\n",
       "\n",
       "// Listen for the clearing of the current output cell\n",
       "var outputEl = gd.closest('.output');\n",
       "if (outputEl) {{\n",
       "    x.observe(outputEl, {childList: true});\n",
       "}}\n",
       "\n",
       "                        })                };                });            </script>        </div>"
      ]
     },
     "metadata": {},
     "output_type": "display_data"
    }
   ],
   "source": [
    "import plotly.express as px\n",
    "\n",
    "fig = px.line(df, x=\"fpr\", y=\"tpr\", text = 'tau', line_shape=\"hv\", color = \"method\")\n",
    "fig.update_layout(yaxis_range=[-0.1,1.1], \n",
    "                  xaxis_range=[-0.1,1.1])\n",
    "fig.update_traces(textposition=\"bottom right\")\n",
    "fig.show()"
   ]
  },
  {
   "cell_type": "markdown",
   "id": "dac688b4",
   "metadata": {
    "slideshow": {
     "slide_type": "subslide"
    }
   },
   "source": [
    "To compare different classification methods, we can use the area under the curve (AUC). \n",
    "One can show that the AUC $= P(p_0 > p_1)$. \n",
    "The larger the AUC, the better the method in classifying. "
   ]
  },
  {
   "cell_type": "code",
   "execution_count": 145,
   "id": "216b39cb",
   "metadata": {},
   "outputs": [
    {
     "data": {
      "text/plain": [
       "0.6620370370370371"
      ]
     },
     "execution_count": 145,
     "metadata": {},
     "output_type": "execute_result"
    }
   ],
   "source": [
    "df = df.iloc[::-1]\n",
    "np.trapz(df['tpr'], df['fpr']) # AUC"
   ]
  },
  {
   "cell_type": "markdown",
   "id": "0ae6393c",
   "metadata": {},
   "source": [
    "To what can we compare this to? Try: \n",
    "\n",
    "- New tokenizer\n",
    "- New frequency measure\n",
    "- Combination of both"
   ]
  },
  {
   "cell_type": "code",
   "execution_count": 149,
   "id": "8dd10c42",
   "metadata": {},
   "outputs": [
    {
     "data": {
      "text/plain": [
       "{'the': 14333,\n",
       " 'pale': 19,\n",
       " 'usher': 1,\n",
       " 'threadbare': 1,\n",
       " 'in': 4161,\n",
       " 'coat': 28,\n",
       " 'heart': 91,\n",
       " 'body': 110,\n",
       " 'and': 6413,\n",
       " 'brain': 37,\n",
       " 'i': 2126,\n",
       " 'see': 272,\n",
       " 'him': 1065,\n",
       " 'now': 785,\n",
       " 'he': 1895,\n",
       " 'was': 1644,\n",
       " 'ever': 206,\n",
       " 'dusting': 2,\n",
       " 'his': 2528,\n",
       " 'old': 450,\n",
       " 'lexicons': 1,\n",
       " 'grammars': 2,\n",
       " 'with': 1722,\n",
       " 'a': 4726,\n",
       " 'queer': 44,\n",
       " 'handkerchief': 5,\n",
       " 'mockingly': 1,\n",
       " 'embellished': 3,\n",
       " 'all': 1525,\n",
       " 'gay': 21,\n",
       " 'flags': 1,\n",
       " 'of': 6598,\n",
       " 'known': 80,\n",
       " 'nations': 12,\n",
       " 'world': 176,\n",
       " 'loved': 3,\n",
       " 'to': 4622,\n",
       " 'dust': 10,\n",
       " 'it': 2522,\n",
       " 'somehow': 44,\n",
       " 'mildly': 10,\n",
       " 'reminded': 4,\n",
       " 'mortality': 1,\n",
       " 'while': 246,\n",
       " 'you': 894,\n",
       " 'take': 137,\n",
       " 'hand': 213,\n",
       " 'school': 9,\n",
       " 'others': 39,\n",
       " 'teach': 5,\n",
       " 'them': 474,\n",
       " 'by': 1201,\n",
       " 'what': 618,\n",
       " 'name': 69,\n",
       " 'whale': 1215,\n",
       " 'fish': 167,\n",
       " 'is': 1725,\n",
       " 'be': 1045,\n",
       " 'called': 116,\n",
       " 'our': 207,\n",
       " 'tongue': 11,\n",
       " 'leaving': 38,\n",
       " 'out': 538,\n",
       " 'through': 233,\n",
       " 'ignorance': 11,\n",
       " 'letter': 15,\n",
       " 'h': 3,\n",
       " 'which': 648,\n",
       " 'almost': 195,\n",
       " 'alone': 40,\n",
       " 'maketh': 5,\n",
       " 'signification': 1,\n",
       " 'word': 76,\n",
       " 'deliver': 3,\n",
       " 'that': 3085,\n",
       " 'not': 1151,\n",
       " 'true': 86,\n",
       " 'hackluyt': 3,\n",
       " 'sw': 1,\n",
       " 'dan': 7,\n",
       " 'hval': 1,\n",
       " 'this': 1394,\n",
       " 'animal': 17,\n",
       " 'named': 11,\n",
       " 'from': 1088,\n",
       " 'roundness': 1,\n",
       " 'or': 712,\n",
       " 'rolling': 35,\n",
       " 'for': 1617,\n",
       " 'hvalt': 2,\n",
       " 'arched': 11,\n",
       " 'vaulted': 2,\n",
       " 'webster': 4,\n",
       " 's': 1793,\n",
       " 'dictionary': 5,\n",
       " 'more': 508,\n",
       " 'immediately': 17,\n",
       " 'dut': 1,\n",
       " 'ger': 1,\n",
       " 'wallen': 1,\n",
       " 'walw': 1,\n",
       " 'ian': 1,\n",
       " 'roll': 18,\n",
       " 'wallow': 3,\n",
       " 'richardson': 1,\n",
       " 'ketos': 1,\n",
       " 'greek': 9,\n",
       " 'cetus': 3,\n",
       " 'latin': 5,\n",
       " 'whoel': 1,\n",
       " 'anglo': 1,\n",
       " 'saxon': 2,\n",
       " 'danish': 4,\n",
       " 'wal': 1,\n",
       " 'dutch': 26,\n",
       " 'hwal': 1,\n",
       " 'swedish': 1,\n",
       " 'icelandic': 3,\n",
       " 'english': 49,\n",
       " 'baleine': 1,\n",
       " 'french': 23,\n",
       " 'ballena': 1,\n",
       " 'spanish': 12,\n",
       " 'pekee': 2,\n",
       " 'nuee': 4,\n",
       " 'fegee': 1,\n",
       " 'erromangoan': 1,\n",
       " 'will': 390,\n",
       " 'seen': 165,\n",
       " 'mere': 42,\n",
       " 'painstaking': 1,\n",
       " 'burrower': 1,\n",
       " 'grub': 2,\n",
       " 'worm': 5,\n",
       " 'poor': 114,\n",
       " 'devil': 56,\n",
       " 'sub': 5,\n",
       " 'appears': 7,\n",
       " 'have': 767,\n",
       " 'gone': 59,\n",
       " 'long': 333,\n",
       " 'vaticans': 1,\n",
       " 'street': 12,\n",
       " 'stalls': 1,\n",
       " 'earth': 46,\n",
       " 'picking': 4,\n",
       " 'up': 520,\n",
       " 'whatever': 46,\n",
       " 'random': 5,\n",
       " 'allusions': 7,\n",
       " 'whales': 265,\n",
       " 'could': 216,\n",
       " 'anyways': 2,\n",
       " 'find': 56,\n",
       " 'any': 327,\n",
       " 'book': 60,\n",
       " 'whatsoever': 5,\n",
       " 'sacred': 10,\n",
       " 'profane': 5,\n",
       " 'therefore': 67,\n",
       " 'must': 283,\n",
       " 'every': 232,\n",
       " 'case': 72,\n",
       " 'at': 1319,\n",
       " 'least': 76,\n",
       " 'higgledy': 1,\n",
       " 'piggledy': 1,\n",
       " 'statements': 4,\n",
       " 'however': 95,\n",
       " 'authentic': 3,\n",
       " 'these': 403,\n",
       " 'extracts': 5,\n",
       " 'veritable': 4,\n",
       " 'gospel': 2,\n",
       " 'cetology': 9,\n",
       " 'far': 165,\n",
       " 'as': 1740,\n",
       " 'touching': 46,\n",
       " 'ancient': 28,\n",
       " 'authors': 4,\n",
       " 'generally': 31,\n",
       " 'well': 230,\n",
       " 'poets': 3,\n",
       " 'here': 325,\n",
       " 'appearing': 3,\n",
       " 'are': 598,\n",
       " 'solely': 6,\n",
       " 'valuable': 11,\n",
       " 'entertaining': 2,\n",
       " 'affording': 2,\n",
       " 'glancing': 14,\n",
       " 'bird': 17,\n",
       " 'eye': 88,\n",
       " 'view': 46,\n",
       " 'has': 292,\n",
       " 'been': 415,\n",
       " 'promiscuously': 1,\n",
       " 'said': 304,\n",
       " 'thought': 150,\n",
       " 'fancied': 9,\n",
       " 'sung': 2,\n",
       " 'leviathan': 96,\n",
       " 'many': 166,\n",
       " 'generations': 6,\n",
       " 'including': 8,\n",
       " 'own': 205,\n",
       " 'so': 1065,\n",
       " 'fare': 10,\n",
       " 'thee': 130,\n",
       " 'whose': 87,\n",
       " 'commentator': 1,\n",
       " 'am': 90,\n",
       " 'thou': 271,\n",
       " 'belongest': 1,\n",
       " 'hopeless': 8,\n",
       " 'sallow': 1,\n",
       " 'tribe': 9,\n",
       " 'no': 586,\n",
       " 'wine': 12,\n",
       " 'warm': 24,\n",
       " 'whom': 44,\n",
       " 'even': 191,\n",
       " 'sherry': 1,\n",
       " 'would': 432,\n",
       " 'too': 185,\n",
       " 'rosy': 2,\n",
       " 'strong': 36,\n",
       " 'but': 1818,\n",
       " 'one': 921,\n",
       " 'sometimes': 87,\n",
       " 'loves': 1,\n",
       " 'sit': 16,\n",
       " 'feel': 57,\n",
       " 'devilish': 9,\n",
       " 'grow': 24,\n",
       " 'convivial': 4,\n",
       " 'upon': 566,\n",
       " 'tears': 6,\n",
       " 'say': 244,\n",
       " 'bluntly': 1,\n",
       " 'full': 123,\n",
       " 'eyes': 156,\n",
       " 'empty': 22,\n",
       " 'glasses': 10,\n",
       " 'altogether': 29,\n",
       " 'unpleasant': 3,\n",
       " 'sadness': 2,\n",
       " 'give': 86,\n",
       " 'subs': 1,\n",
       " 'how': 255,\n",
       " 'much': 223,\n",
       " 'pains': 15,\n",
       " 'ye': 472,\n",
       " 'please': 13,\n",
       " 'shall': 97,\n",
       " 'go': 194,\n",
       " 'thankless': 1,\n",
       " 'clear': 41,\n",
       " 'hampton': 1,\n",
       " 'court': 2,\n",
       " 'tuileries': 3,\n",
       " 'gulp': 2,\n",
       " 'down': 377,\n",
       " 'your': 249,\n",
       " 'hie': 1,\n",
       " 'aloft': 61,\n",
       " 'royal': 29,\n",
       " 'mast': 128,\n",
       " 'hearts': 29,\n",
       " 'friends': 17,\n",
       " 'who': 363,\n",
       " 'before': 299,\n",
       " 'clearing': 4,\n",
       " 'seven': 16,\n",
       " 'storied': 4,\n",
       " 'heavens': 17,\n",
       " 'making': 46,\n",
       " 'refugees': 1,\n",
       " 'pampered': 1,\n",
       " 'gabriel': 20,\n",
       " 'michael': 1,\n",
       " 'raphael': 1,\n",
       " 'against': 134,\n",
       " 'coming': 54,\n",
       " 'strike': 32,\n",
       " 'splintered': 7,\n",
       " 'together': 64,\n",
       " 'there': 869,\n",
       " 'unsplinterable': 1,\n",
       " 'god': 152,\n",
       " 'created': 7,\n",
       " 'great': 305,\n",
       " 'genesis': 2,\n",
       " 'path': 10,\n",
       " 'shine': 3,\n",
       " 'after': 270,\n",
       " 'think': 122,\n",
       " 'deep': 70,\n",
       " 'hoary': 2,\n",
       " 'job': 14,\n",
       " 'lord': 66,\n",
       " 'had': 779,\n",
       " 'prepared': 12,\n",
       " 'swallow': 11,\n",
       " 'jonah': 84,\n",
       " 'ships': 87,\n",
       " 'hast': 29,\n",
       " 'made': 178,\n",
       " 'play': 29,\n",
       " 'therein': 6,\n",
       " 'psalms': 2,\n",
       " 'day': 173,\n",
       " 'sore': 3,\n",
       " 'sword': 25,\n",
       " 'punish': 1,\n",
       " 'piercing': 4,\n",
       " 'serpent': 4,\n",
       " 'crooked': 8,\n",
       " 'slay': 4,\n",
       " 'dragon': 6,\n",
       " 'sea': 455,\n",
       " 'isaiah': 2,\n",
       " 'thing': 188,\n",
       " 'soever': 1,\n",
       " 'besides': 50,\n",
       " 'cometh': 1,\n",
       " 'within': 79,\n",
       " 'chaos': 4,\n",
       " 'monster': 49,\n",
       " 'mouth': 61,\n",
       " 'beast': 4,\n",
       " 'boat': 335,\n",
       " 'stone': 18,\n",
       " 'goes': 55,\n",
       " 'incontinently': 1,\n",
       " 'foul': 11,\n",
       " 'perisheth': 1,\n",
       " 'bottomless': 7,\n",
       " 'gulf': 6,\n",
       " 'paunch': 2,\n",
       " 'holland': 7,\n",
       " 'plutarch': 1,\n",
       " 'morals': 1,\n",
       " 'indian': 57,\n",
       " 'breedeth': 1,\n",
       " 'most': 282,\n",
       " 'biggest': 2,\n",
       " 'fishes': 5,\n",
       " 'among': 167,\n",
       " 'whirlpooles': 1,\n",
       " 'balaene': 1,\n",
       " 'length': 78,\n",
       " 'four': 74,\n",
       " 'acres': 3,\n",
       " 'arpens': 1,\n",
       " 'land': 80,\n",
       " 'pliny': 8,\n",
       " 'scarcely': 9,\n",
       " 'we': 460,\n",
       " 'proceeded': 6,\n",
       " 'two': 298,\n",
       " 'days': 82,\n",
       " 'on': 1062,\n",
       " 'when': 606,\n",
       " 'about': 310,\n",
       " 'sunrise': 11,\n",
       " 'other': 416,\n",
       " 'monsters': 9,\n",
       " 'appeared': 10,\n",
       " 'former': 20,\n",
       " 'monstrous': 10,\n",
       " 'size': 12,\n",
       " 'came': 130,\n",
       " 'towards': 113,\n",
       " 'us': 228,\n",
       " 'open': 76,\n",
       " 'mouthed': 5,\n",
       " 'raising': 5,\n",
       " 'waves': 48,\n",
       " 'sides': 28,\n",
       " 'beating': 11,\n",
       " 'into': 523,\n",
       " 'foam': 19,\n",
       " 'tooke': 1,\n",
       " 'lucian': 1,\n",
       " 'history': 23,\n",
       " 'visited': 7,\n",
       " 'country': 25,\n",
       " 'also': 91,\n",
       " 'catching': 7,\n",
       " 'horse': 27,\n",
       " 'bones': 49,\n",
       " 'very': 322,\n",
       " 'value': 6,\n",
       " 'their': 620,\n",
       " 'teeth': 48,\n",
       " 'brought': 38,\n",
       " 'some': 618,\n",
       " 'king': 64,\n",
       " 'best': 66,\n",
       " 'were': 684,\n",
       " 'catched': 1,\n",
       " 'forty': 33,\n",
       " 'eight': 27,\n",
       " 'fifty': 33,\n",
       " 'yards': 27,\n",
       " 'six': 31,\n",
       " 'killed': 35,\n",
       " 'sixty': 17,\n",
       " 'octher': 1,\n",
       " 'verbal': 2,\n",
       " 'narrative': 12,\n",
       " 'taken': 51,\n",
       " 'alfred': 2,\n",
       " 'd': 74,\n",
       " '890': 1,\n",
       " 'whereas': 18,\n",
       " 'things': 132,\n",
       " 'whether': 91,\n",
       " 'vessel': 55,\n",
       " 'enter': 10,\n",
       " 'dreadful': 6,\n",
       " 'lost': 48,\n",
       " 'swallowed': 13,\n",
       " 'gudgeon': 1,\n",
       " 'retires': 1,\n",
       " 'security': 3,\n",
       " 'sleeps': 7,\n",
       " 'montaigne': 1,\n",
       " 'apology': 1,\n",
       " 'raimond': 1,\n",
       " 'sebond': 1,\n",
       " 'let': 158,\n",
       " 'fly': 14,\n",
       " 'nick': 2,\n",
       " 'me': 633,\n",
       " 'if': 481,\n",
       " 'described': 8,\n",
       " 'noble': 44,\n",
       " 'prophet': 15,\n",
       " 'moses': 2,\n",
       " 'life': 173,\n",
       " 'patient': 6,\n",
       " 'rabelais': 2,\n",
       " 'liver': 4,\n",
       " 'cartloads': 1,\n",
       " 'stowe': 1,\n",
       " 'annals': 3,\n",
       " 'seas': 87,\n",
       " 'seethe': 3,\n",
       " 'like': 647,\n",
       " 'boiling': 15,\n",
       " 'pan': 5,\n",
       " 'bacon': 1,\n",
       " 'version': 2,\n",
       " 'bulk': 32,\n",
       " 'ork': 1,\n",
       " 'received': 26,\n",
       " 'nothing': 115,\n",
       " 'certain': 89,\n",
       " 'they': 667,\n",
       " 'exceeding': 12,\n",
       " 'fat': 14,\n",
       " 'insomuch': 2,\n",
       " 'an': 596,\n",
       " 'incredible': 9,\n",
       " 'quantity': 13,\n",
       " 'oil': 90,\n",
       " 'extracted': 5,\n",
       " 'ibid': 3,\n",
       " 'death': 90,\n",
       " 'sovereignest': 1,\n",
       " 'parmacetti': 3,\n",
       " 'inward': 5,\n",
       " 'bruise': 1,\n",
       " 'henry': 3,\n",
       " 'hamlet': 1,\n",
       " 'secure': 12,\n",
       " 'skill': 10,\n",
       " 'leach': 1,\n",
       " 'art': 41,\n",
       " 'mote': 1,\n",
       " 'availle': 1,\n",
       " 'returne': 1,\n",
       " 'againe': 1,\n",
       " 'wound': 17,\n",
       " 'worker': 1,\n",
       " 'lowly': 8,\n",
       " 'dart': 24,\n",
       " 'dinting': 1,\n",
       " 'breast': 7,\n",
       " 'bred': 9,\n",
       " 'restless': 4,\n",
       " 'paine': 1,\n",
       " 'wounded': 9,\n",
       " 'shore': 24,\n",
       " 'flies': 7,\n",
       " 'thro': 1,\n",
       " 'maine': 1,\n",
       " 'faerie': 1,\n",
       " 'queen': 17,\n",
       " 'immense': 16,\n",
       " 'motion': 17,\n",
       " 'vast': 73,\n",
       " 'bodies': 9,\n",
       " 'can': 236,\n",
       " 'peaceful': 6,\n",
       " 'calm': 41,\n",
       " 'trouble': 11,\n",
       " 'ocean': 81,\n",
       " 'til': 1,\n",
       " 'boil': 2,\n",
       " 'sir': 175,\n",
       " 'william': 4,\n",
       " 'davenant': 1,\n",
       " 'preface': 1,\n",
       " 'gondibert': 1,\n",
       " 'spermacetti': 3,\n",
       " 'men': 244,\n",
       " 'might': 183,\n",
       " 'justly': 3,\n",
       " 'doubt': 32,\n",
       " 'since': 65,\n",
       " 'learned': 25,\n",
       " 'hosmannus': 1,\n",
       " 'work': 65,\n",
       " 'thirty': 27,\n",
       " 'years': 96,\n",
       " 'saith': 5,\n",
       " 'plainly': 39,\n",
       " 'nescio': 1,\n",
       " 'quid': 2,\n",
       " 't': 291,\n",
       " 'browne': 6,\n",
       " 'sperma': 3,\n",
       " 'ceti': 3,\n",
       " 'vide': 1,\n",
       " 'v': 7,\n",
       " 'e': 29,\n",
       " 'spencer': 1,\n",
       " 'talus': 1,\n",
       " 'modern': 18,\n",
       " 'flail': 1,\n",
       " 'threatens': 1,\n",
       " 'ruin': 5,\n",
       " 'ponderous': 13,\n",
       " 'tail': 79,\n",
       " 'fixed': 38,\n",
       " 'jav': 1,\n",
       " 'lins': 1,\n",
       " 'side': 208,\n",
       " 'wears': 7,\n",
       " 'back': 164,\n",
       " 'grove': 3,\n",
       " 'pikes': 2,\n",
       " 'waller': 1,\n",
       " 'battle': 31,\n",
       " 'summer': 16,\n",
       " 'islands': 18,\n",
       " 'commonwealth': 1,\n",
       " 'state': 28,\n",
       " 'civitas': 1,\n",
       " 'artificial': 5,\n",
       " 'man': 527,\n",
       " 'opening': 15,\n",
       " 'sentence': 1,\n",
       " 'hobbes': 1,\n",
       " 'silly': 5,\n",
       " 'mansoul': 1,\n",
       " 'without': 156,\n",
       " 'chewing': 1,\n",
       " 'sprat': 1,\n",
       " 'pilgrim': 3,\n",
       " 'progress': 5,\n",
       " 'works': 30,\n",
       " 'hugest': 4,\n",
       " 'swim': 21,\n",
       " 'stream': 11,\n",
       " 'paradise': 5,\n",
       " 'living': 73,\n",
       " 'creatures': 34,\n",
       " 'stretched': 10,\n",
       " 'promontory': 5,\n",
       " 'swims': 8,\n",
       " 'seems': 87,\n",
       " 'moving': 15,\n",
       " 'gills': 4,\n",
       " 'draws': 1,\n",
       " 'breath': 18,\n",
       " 'spouts': 16,\n",
       " 'mighty': 47,\n",
       " 'water': 190,\n",
       " 'swimming': 30,\n",
       " 'fulller': 1,\n",
       " 'holy': 21,\n",
       " 'close': 56,\n",
       " 'behind': 50,\n",
       " 'lie': 27,\n",
       " 'huge': 30,\n",
       " 'attend': 10,\n",
       " 'prey': 14,\n",
       " 'chance': 46,\n",
       " 'fry': 3,\n",
       " 'gaping': 3,\n",
       " 'jaws': 30,\n",
       " 'mistake': 9,\n",
       " 'way': 271,\n",
       " 'dryden': 1,\n",
       " 'annus': 1,\n",
       " 'mirabilis': 1,\n",
       " 'floating': 26,\n",
       " 'stern': 54,\n",
       " 'ship': 517,\n",
       " 'cut': 53,\n",
       " 'off': 220,\n",
       " 'head': 342,\n",
       " 'tow': 16,\n",
       " 'near': 70,\n",
       " 'come': 179,\n",
       " 'aground': 1,\n",
       " 'twelve': 16,\n",
       " 'thirteen': 2,\n",
       " 'feet': 127,\n",
       " 'thomas': 4,\n",
       " 'edge': 8,\n",
       " 'ten': 48,\n",
       " 'voyages': 18,\n",
       " 'spitzbergen': 5,\n",
       " 'purchas': 3,\n",
       " 'saw': 116,\n",
       " 'sporting': 4,\n",
       " 'wantonness': 1,\n",
       " 'fuzzing': 1,\n",
       " 'pipes': 8,\n",
       " 'vents': 1,\n",
       " 'nature': 42,\n",
       " 'placed': 37,\n",
       " 'shoulders': 13,\n",
       " 'herbert': 1,\n",
       " 'asia': 5,\n",
       " 'africa': 8,\n",
       " 'harris': 5,\n",
       " 'coll': 2,\n",
       " 'such': 370,\n",
       " 'troops': 2,\n",
       " 'forced': 19,\n",
       " 'proceed': 15,\n",
       " 'deal': 12,\n",
       " 'caution': 2,\n",
       " 'fear': 33,\n",
       " 'should': 183,\n",
       " 'run': 54,\n",
       " 'schouten': 1,\n",
       " 'sixth': 2,\n",
       " 'circumnavigation': 3,\n",
       " 'set': 76,\n",
       " 'sail': 102,\n",
       " 'elbe': 1,\n",
       " 'wind': 70,\n",
       " 'n': 8,\n",
       " 'jonas': 3,\n",
       " 'fable': 5,\n",
       " 'frequently': 14,\n",
       " 'climb': 4,\n",
       " 'masts': 26,\n",
       " 'first': 231,\n",
       " 'discoverer': 2,\n",
       " 'ducat': 1,\n",
       " 'told': 47,\n",
       " 'shetland': 2,\n",
       " 'above': 58,\n",
       " 'barrel': 5,\n",
       " 'herrings': 1,\n",
       " 'belly': 9,\n",
       " 'harpooneers': 56,\n",
       " 'caught': 45,\n",
       " 'once': 149,\n",
       " 'white': 281,\n",
       " 'over': 408,\n",
       " 'voyage': 103,\n",
       " 'greenland': 36,\n",
       " '1671': 2,\n",
       " 'several': 47,\n",
       " 'coast': 42,\n",
       " 'fife': 2,\n",
       " 'anno': 1,\n",
       " '1652': 1,\n",
       " 'eighty': 4,\n",
       " 'bone': 51,\n",
       " 'kind': 27,\n",
       " 'informed': 4,\n",
       " 'did': 258,\n",
       " 'afford': 9,\n",
       " '500': 2,\n",
       " 'weight': 17,\n",
       " 'baleen': 11,\n",
       " 'stand': 107,\n",
       " 'gate': 5,\n",
       " 'garden': 6,\n",
       " 'pitferren': 1,\n",
       " 'sibbald': 3,\n",
       " 'kinross': 1,\n",
       " 'myself': 69,\n",
       " 'agreed': 3,\n",
       " 'try': 53,\n",
       " 'master': 23,\n",
       " 'kill': 32,\n",
       " 'never': 206,\n",
       " 'hear': 63,\n",
       " 'sort': 152,\n",
       " 'fierceness': 1,\n",
       " 'swiftness': 6,\n",
       " 'richard': 2,\n",
       " 'strafford': 1,\n",
       " 'bermudas': 1,\n",
       " 'phil': 1,\n",
       " 'trans': 1,\n",
       " '1668': 1,\n",
       " 'voice': 48,\n",
       " 'obey': 8,\n",
       " 'primer': 1,\n",
       " 'abundance': 4,\n",
       " 'large': 79,\n",
       " 'being': 225,\n",
       " 'those': 306,\n",
       " 'southern': 12,\n",
       " 'may': 240,\n",
       " 'hundred': 50,\n",
       " 'than': 309,\n",
       " 'northward': 4,\n",
       " 'captain': 329,\n",
       " 'cowley': 1,\n",
       " 'round': 247,\n",
       " 'globe': 24,\n",
       " '1729': 1,\n",
       " 'frequendy': 1,\n",
       " 'attended': 6,\n",
       " 'insupportable': 1,\n",
       " 'smell': 11,\n",
       " 'bring': 19,\n",
       " 'disorder': 1,\n",
       " 'ulloa': 1,\n",
       " 'south': 29,\n",
       " 'america': 12,\n",
       " 'chosen': 3,\n",
       " 'sylphs': 1,\n",
       " 'special': 15,\n",
       " 'note': 6,\n",
       " 'trust': 4,\n",
       " 'important': 19,\n",
       " 'charge': 10,\n",
       " 'petticoat': 1,\n",
       " 'oft': 3,\n",
       " 'fold': 6,\n",
       " 'fence': 2,\n",
       " 'fail': 17,\n",
       " 'tho': 2,\n",
       " 'stuffed': 5,\n",
       " 'hoops': 11,\n",
       " 'armed': 15,\n",
       " 'ribs': 21,\n",
       " 'rape': 1,\n",
       " 'lock': 9,\n",
       " 'compare': 7,\n",
       " 'animals': 5,\n",
       " 'respect': 16,\n",
       " 'magnitude': 21,\n",
       " 'abode': 2,\n",
       " 'appear': 6,\n",
       " 'contemptible': 4,\n",
       " 'comparison': 6,\n",
       " 'doubtless': 13,\n",
       " 'largest': 19,\n",
       " 'creation': 7,\n",
       " 'goldsmith': 3,\n",
       " 'nat': 2,\n",
       " 'hist': 9,\n",
       " 'write': 5,\n",
       " 'little': 249,\n",
       " 'make': 112,\n",
       " 'speak': 52,\n",
       " 'wales': 2,\n",
       " 'johnson': 4,\n",
       " 'afternoon': 10,\n",
       " 'supposed': 15,\n",
       " 'rock': 16,\n",
       " 'found': 115,\n",
       " 'dead': 92,\n",
       " 'asiatics': 2,\n",
       " 'then': 629,\n",
       " 'towing': 14,\n",
       " 'ashore': 34,\n",
       " 'seemed': 283,\n",
       " 'endeavor': 4,\n",
       " 'conceal': 2,\n",
       " 'themselves': 59,\n",
       " 'order': 64,\n",
       " 'avoid': 6,\n",
       " 'cook': 55,\n",
       " 'larger': 9,\n",
       " 'seldom': 25,\n",
       " 'venture': 5,\n",
       " 'attack': 9,\n",
       " 'dread': 12,\n",
       " 'afraid': 15,\n",
       " 'mention': 15,\n",
       " 'names': 13,\n",
       " 'carry': 25,\n",
       " 'dung': 1,\n",
       " 'lime': 1,\n",
       " 'juniper': 1,\n",
       " 'wood': 35,\n",
       " 'articles': 11,\n",
       " 'same': 214,\n",
       " 'boats': 147,\n",
       " 'terrify': 3,\n",
       " 'prevent': 6,\n",
       " 'approach': 5,\n",
       " 'uno': 1,\n",
       " 'von': 2,\n",
       " 'troil': 1,\n",
       " 'letters': 11,\n",
       " 'banks': 7,\n",
       " 'solander': 2,\n",
       " 'iceland': 4,\n",
       " '1772': 1,\n",
       " 'nantuckois': 1,\n",
       " 'active': 8,\n",
       " 'fierce': 11,\n",
       " 'requires': 7,\n",
       " 'address': 4,\n",
       " 'boldness': 2,\n",
       " 'fishermen': 28,\n",
       " 'jefferson': 1,\n",
       " 'memorial': 1,\n",
       " 'minister': 1,\n",
       " '1778': 2,\n",
       " 'pray': 8,\n",
       " 'equal': 14,\n",
       " 'edmund': 3,\n",
       " 'burke': 3,\n",
       " 'reference': 14,\n",
       " 'parliament': 3,\n",
       " 'nantucket': 95,\n",
       " 'fishery': 65,\n",
       " 'spain': 5,\n",
       " 'stranded': 12,\n",
       " 'shores': 7,\n",
       " 'europe': 5,\n",
       " 'somewhere': 24,\n",
       " 'tenth': 4,\n",
       " 'branch': 4,\n",
       " 'ordinary': 19,\n",
       " 'revenue': 2,\n",
       " 'grounded': 3,\n",
       " 'consideration': 8,\n",
       " 'guarding': 1,\n",
       " 'protecting': 1,\n",
       " 'pirates': 11,\n",
       " 'robbers': 1,\n",
       " 'right': 149,\n",
       " 'sturgeon': 3,\n",
       " 'either': 40,\n",
       " 'thrown': 25,\n",
       " 'property': 7,\n",
       " 'blackstone': 3,\n",
       " 'soon': 130,\n",
       " 'sport': 3,\n",
       " 'crews': 17,\n",
       " 'repair': 3,\n",
       " 'rodmond': 1,\n",
       " 'unerring': 3,\n",
       " 'o': 44,\n",
       " 'er': 7,\n",
       " 'suspends': 1,\n",
       " 'barbed': 6,\n",
       " 'steel': 33,\n",
       " 'turn': 61,\n",
       " 'attends': 1,\n",
       " 'falconer': 1,\n",
       " 'shipwreck': 2,\n",
       " 'bright': 25,\n",
       " 'shone': 3,\n",
       " 'roofs': 1,\n",
       " 'domes': 1,\n",
       " 'spires': 6,\n",
       " 'rockets': 1,\n",
       " 'blew': 8,\n",
       " 'self': 25,\n",
       " 'driven': 10,\n",
       " 'hang': 7,\n",
       " 'momentary': 2,\n",
       " 'fire': 76,\n",
       " 'around': 38,\n",
       " 'vault': 3,\n",
       " 'heaven': 51,\n",
       " 'serves': 2,\n",
       " 'high': 108,\n",
       " 'spouted': 6,\n",
       " 'air': 143,\n",
       " 'express': 8,\n",
       " 'unwieldy': 1,\n",
       " 'joy': 17,\n",
       " 'cowper': 2,\n",
       " 'visit': 11,\n",
       " 'london': 14,\n",
       " 'fifteen': 11,\n",
       " 'gallons': 5,\n",
       " 'blood': 62,\n",
       " 'stroke': 16,\n",
       " 'velocity': 10,\n",
       " 'john': 13,\n",
       " 'hunter': 20,\n",
       " 'account': 34,\n",
       " 'dissection': 1,\n",
       " 'small': 128,\n",
       " 'sized': 7,\n",
       " 'aorta': 1,\n",
       " 'bore': 17,\n",
       " 'main': 53,\n",
       " 'pipe': 40,\n",
       " 'bridge': 2,\n",
       " 'roaring': 9,\n",
       " 'its': 376,\n",
       " 'passage': 34,\n",
       " 'inferior': 10,\n",
       " 'impetus': 2,\n",
       " 'gushing': 1,\n",
       " 'paley': 1,\n",
       " 'theology': 2,\n",
       " 'mammiferous': 1,\n",
       " 'hind': 2,\n",
       " 'baron': 5,\n",
       " 'cuvier': 11,\n",
       " '40': 1,\n",
       " 'degrees': 5,\n",
       " 'till': 122,\n",
       " 'covered': 11,\n",
       " 'colnett': 4,\n",
       " 'purpose': 40,\n",
       " 'extending': 8,\n",
       " 'spermaceti': 19,\n",
       " 'free': 32,\n",
       " 'element': 11,\n",
       " 'beneath': 76,\n",
       " 'swam': 20,\n",
       " 'floundered': 3,\n",
       " 'dived': 11,\n",
       " 'chace': 5,\n",
       " 'colour': 16,\n",
       " 'form': 46,\n",
       " 'language': 6,\n",
       " 'cannot': 69,\n",
       " 'paint': 5,\n",
       " 'mariner': 16,\n",
       " 'insect': 3,\n",
       " 'millions': 7,\n",
       " 'peopling': 1,\n",
       " 'wave': 11,\n",
       " 'gather': 4,\n",
       " 'shoals': 8,\n",
       " 'led': 10,\n",
       " 'mysterious': 11,\n",
       " 'instincts': 1,\n",
       " 'waste': 3,\n",
       " 'trackless': 1,\n",
       " 'region': 5,\n",
       " 'though': 384,\n",
       " 'assaulted': 1,\n",
       " 'voracious': 1,\n",
       " 'enemies': 2,\n",
       " 'sharks': 51,\n",
       " 'arm': 88,\n",
       " 'front': 25,\n",
       " 'jaw': 58,\n",
       " 'swords': 2,\n",
       " 'saws': 2,\n",
       " 'spiral': 1,\n",
       " 'horns': 8,\n",
       " 'hooked': 5,\n",
       " 'fangs': 3,\n",
       " 'montgomery': 1,\n",
       " 'flood': 15,\n",
       " 'io': 2,\n",
       " 'paean': 1,\n",
       " 'sing': 22,\n",
       " 'finny': 2,\n",
       " 'people': 46,\n",
       " 'mightier': 2,\n",
       " 'atlantic': 19,\n",
       " 'fatter': 1,\n",
       " 'flounders': 2,\n",
       " 'polar': 13,\n",
       " 'charles': 1,\n",
       " 'lamb': 2,\n",
       " 'triumph': 4,\n",
       " 'year': 27,\n",
       " '1690': 1,\n",
       " 'persons': 6,\n",
       " 'hill': 18,\n",
       " ...}"
      ]
     },
     "execution_count": 149,
     "metadata": {},
     "output_type": "execute_result"
    }
   ],
   "source": [
    "words = [tokenizer(document) for document in corpus]\n",
    "words = [w for l in words for w in l] \n",
    "\n",
    "dictionary = dict(nltk.FreqDist(words))\n",
    "dictionary"
   ]
  },
  {
   "cell_type": "code",
   "execution_count": 150,
   "id": "24a0e6ce",
   "metadata": {},
   "outputs": [],
   "source": [
    "def tokenizer(document): \n",
    "    words = re.findall('\\w+', document)\n",
    "    #words = [w[0] for a, w in nltk.pos_tag(words) if w[0] in ['N', 'V', 'J', 'R', 'P']]\n",
    "    words = [word for word in words if dictionary[word] > 20]\n",
    "    return words"
   ]
  },
  {
   "cell_type": "code",
   "execution_count": 151,
   "id": "34402639",
   "metadata": {},
   "outputs": [],
   "source": [
    "from sklearn.feature_extraction.text import TfidfVectorizer\n",
    "\n",
    "vec = TfidfVectorizer(tokenizer = tokenizer) \n",
    "freq = vec.fit_transform(corpus)"
   ]
  },
  {
   "cell_type": "code",
   "execution_count": 152,
   "id": "37e9318b",
   "metadata": {},
   "outputs": [],
   "source": [
    "featuresets = [(get_row_as_dict(i, freq), label[i]) for i, _ in enumerate(corpus)]"
   ]
  },
  {
   "cell_type": "code",
   "execution_count": 153,
   "id": "7179a3e3",
   "metadata": {
    "scrolled": true
   },
   "outputs": [
    {
     "data": {
      "text/plain": [
       "{'a': 0.23820061043249613,\n",
       " 'about': 0.007215017562551597,\n",
       " 'above': 0.00550718244628176,\n",
       " 'according': 0.0,\n",
       " 'account': 0.013564143175803142,\n",
       " 'across': 0.0,\n",
       " 'act': 0.0,\n",
       " 'added': 0.0,\n",
       " 'advance': 0.0,\n",
       " 'aft': 0.0,\n",
       " 'after': 0.006489768449602373,\n",
       " 'afterwards': 0.0,\n",
       " 'again': 0.0035524185888546693,\n",
       " 'against': 0.0040975213754050185,\n",
       " 'age': 0.0,\n",
       " 'ago': 0.0063363560121460025,\n",
       " 'ah': 0.0,\n",
       " 'ahab': 0.0,\n",
       " 'ahead': 0.0,\n",
       " 'ain': 0.0,\n",
       " 'air': 0.01815736563986941,\n",
       " 'alive': 0.0,\n",
       " 'all': 0.023641935636885818,\n",
       " 'almost': 0.0,\n",
       " 'aloft': 0.006028821648092521,\n",
       " 'alone': 0.0,\n",
       " 'along': 0.0,\n",
       " 'alongside': 0.0,\n",
       " 'already': 0.0,\n",
       " 'also': 0.014246658821136626,\n",
       " 'altogether': 0.013762917597392704,\n",
       " 'always': 0.0,\n",
       " 'am': 0.005074809017429759,\n",
       " 'american': 0.006984903735013339,\n",
       " 'among': 0.016123328101358858,\n",
       " 'an': 0.016577042069605256,\n",
       " 'anchor': 0.0,\n",
       " 'ancient': 0.007323278833258687,\n",
       " 'and': 0.2552345509651646,\n",
       " 'another': 0.004345808535849973,\n",
       " 'answer': 0.0,\n",
       " 'answered': 0.015153790452101811,\n",
       " 'any': 0.013076534732121807,\n",
       " 'anything': 0.0,\n",
       " 'are': 0.03267732263129909,\n",
       " 'arm': 0.005566809880823127,\n",
       " 'arms': 0.0,\n",
       " 'around': 0.020059307237212047,\n",
       " 'art': 0.014185503770757078,\n",
       " 'as': 0.054768863882876856,\n",
       " 'ashore': 0.013372871491474697,\n",
       " 'aside': 0.0,\n",
       " 'aspect': 0.0,\n",
       " 'astern': 0.0,\n",
       " 'at': 0.0399748268435789,\n",
       " 'attached': 0.0,\n",
       " 'avast': 0.0,\n",
       " 'away': 0.0037803518322635926,\n",
       " 'aye': 0.0,\n",
       " 'back': 0.004200966311722005,\n",
       " 'bag': 0.0,\n",
       " 'base': 0.0,\n",
       " 'battle': 0.014893831004565468,\n",
       " 'be': 0.03315408413921051,\n",
       " 'bear': 0.0,\n",
       " 'bearing': 0.0,\n",
       " 'beat': 0.0,\n",
       " 'became': 0.0,\n",
       " 'because': 0.0,\n",
       " 'become': 0.0,\n",
       " 'bed': 0.0,\n",
       " 'been': 0.02288393578121316,\n",
       " 'before': 0.013373225069631572,\n",
       " 'began': 0.0,\n",
       " 'beheld': 0.0,\n",
       " 'behind': 0.011133619761646254,\n",
       " 'being': 0.025646763099089098,\n",
       " 'believe': 0.0,\n",
       " 'below': 0.0,\n",
       " 'beneath': 0.005281785154094895,\n",
       " 'besides': 0.011255748516881589,\n",
       " 'best': 0.005391978560571184,\n",
       " 'better': 0.0056278742584407945,\n",
       " 'between': 0.0,\n",
       " 'beyond': 0.0,\n",
       " 'bildad': 0.0,\n",
       " 'bit': 0.007323278833258687,\n",
       " 'black': 0.0,\n",
       " 'blood': 0.011509206234091593,\n",
       " 'blow': 0.0,\n",
       " 'blows': 0.034965490749795596,\n",
       " 'blubber': 0.0,\n",
       " 'blue': 0.0,\n",
       " 'board': 0.010783957121142367,\n",
       " 'boat': 0.022107287043370765,\n",
       " 'boats': 0.02134513173177192,\n",
       " 'bodily': 0.0,\n",
       " 'body': 0.004748886273712208,\n",
       " 'bone': 0.006686435745737349,\n",
       " 'bones': 0.017872305792472693,\n",
       " 'book': 0.006984903735013339,\n",
       " 'born': 0.0,\n",
       " 'both': 0.0,\n",
       " 'bottom': 0.0,\n",
       " 'bound': 0.007446915502282734,\n",
       " 'bow': 0.006505355226147768,\n",
       " 'bows': 0.0,\n",
       " 'boy': 0.0,\n",
       " 'boys': 0.0,\n",
       " 'brain': 0.007323278833258687,\n",
       " 'break': 0.0,\n",
       " 'bright': 0.014185503770757078,\n",
       " 'broad': 0.0,\n",
       " 'broken': 0.0,\n",
       " 'brought': 0.012838894062853917,\n",
       " 'brow': 0.0,\n",
       " 'bulk': 0.006984903735013339,\n",
       " 'bulwarks': 0.0,\n",
       " 'burst': 0.0,\n",
       " 'business': 0.0,\n",
       " 'but': 0.03439622507086447,\n",
       " 'by': 0.06614658667473935,\n",
       " 'cabin': 0.0,\n",
       " 'call': 0.005391978560571184,\n",
       " 'called': 0.012926443386261616,\n",
       " 'calm': 0.006419447031426958,\n",
       " 'came': 0.013380437795638892,\n",
       " 'can': 0.014430035125103194,\n",
       " 'cannot': 0.00533628293294298,\n",
       " 'cape': 0.0,\n",
       " 'captain': 0.00899886860199599,\n",
       " 'captains': 0.0,\n",
       " 'carpenter': 0.0,\n",
       " 'carried': 0.0,\n",
       " 'carry': 0.0072053948319654865,\n",
       " 'case': 0.005391978560571184,\n",
       " 'cases': 0.0,\n",
       " 'cast': 0.0,\n",
       " 'caught': 0.012838894062853917,\n",
       " 'cause': 0.0,\n",
       " 'centre': 0.0,\n",
       " 'certain': 0.004748886273712208,\n",
       " 'certainly': 0.0,\n",
       " 'chance': 0.006255903253433555,\n",
       " 'chapter': 0.006984903735013339,\n",
       " 'chase': 0.0,\n",
       " 'chest': 0.0,\n",
       " 'chief': 0.0,\n",
       " 'circle': 0.0,\n",
       " 'circumstance': 0.0,\n",
       " 'circumstances': 0.0,\n",
       " 'clear': 0.0063363560121460025,\n",
       " 'close': 0.011255748516881589,\n",
       " 'coast': 0.01251180650686711,\n",
       " 'coat': 0.0,\n",
       " 'coffin': 0.007576895226050906,\n",
       " 'cold': 0.0,\n",
       " 'come': 0.008332026713830936,\n",
       " 'comes': 0.0,\n",
       " 'coming': 0.0056278742584407945,\n",
       " 'command': 0.0,\n",
       " 'commanded': 0.0,\n",
       " 'common': 0.0,\n",
       " 'company': 0.0,\n",
       " 'complete': 0.0,\n",
       " 'completely': 0.0,\n",
       " 'concerning': 0.0,\n",
       " 'consider': 0.0,\n",
       " 'considerable': 0.0,\n",
       " 'considering': 0.0,\n",
       " 'cook': 0.008961863784401046,\n",
       " 'could': 0.011707494967338047,\n",
       " 'country': 0.015153790452101811,\n",
       " 'course': 0.0,\n",
       " 'craft': 0.0,\n",
       " 'creature': 0.0,\n",
       " 'creatures': 0.006782071587901571,\n",
       " 'crew': 0.004883469175943546,\n",
       " 'cried': 0.0,\n",
       " 'cruising': 0.0,\n",
       " 'cry': 0.0,\n",
       " 'curious': 0.0,\n",
       " 'cut': 0.005820426273615346,\n",
       " 'cutting': 0.0,\n",
       " 'd': 0.042715942417998726,\n",
       " 'daggoo': 0.0,\n",
       " 'dark': 0.0,\n",
       " 'darkness': 0.0,\n",
       " 'dart': 0.008012372205869114,\n",
       " 'darted': 0.0,\n",
       " 'dashed': 0.0,\n",
       " 'day': 0.003998134164610237,\n",
       " 'days': 0.010897851759059857,\n",
       " 'de': 0.0,\n",
       " 'dead': 0.004792957802759572,\n",
       " 'deadly': 0.0,\n",
       " 'death': 0.010456869565155558,\n",
       " 'deck': 0.0,\n",
       " 'decks': 0.0,\n",
       " 'deep': 0.015528553492466065,\n",
       " 'degree': 0.0,\n",
       " 'descried': 0.0,\n",
       " 'devil': 0.013372871491474697,\n",
       " 'dick': 0.0,\n",
       " 'did': 0.007327646599739742,\n",
       " 'didn': 0.0,\n",
       " 'die': 0.0,\n",
       " 'different': 0.0072053948319654865,\n",
       " 'distance': 0.006782071587901571,\n",
       " 'distant': 0.0,\n",
       " 'do': 0.0035524185888546693,\n",
       " 'does': 0.0,\n",
       " 'don': 0.0,\n",
       " 'done': 0.0,\n",
       " 'door': 0.0,\n",
       " 'dost': 0.0,\n",
       " 'doubt': 0.006881458798696352,\n",
       " 'down': 0.009312202489295509,\n",
       " 'drawing': 0.0,\n",
       " 'drawn': 0.0,\n",
       " 'drew': 0.0,\n",
       " 'drop': 0.0,\n",
       " 'dropped': 0.0,\n",
       " 'during': 0.0,\n",
       " 'dutch': 0.008012372205869114,\n",
       " 'duty': 0.0,\n",
       " 'e': 0.024527747951587554,\n",
       " 'each': 0.004421457408674153,\n",
       " 'ears': 0.0,\n",
       " 'earth': 0.018086464944277562,\n",
       " 'east': 0.0,\n",
       " 'easy': 0.0,\n",
       " 'eight': 0.015427808433186248,\n",
       " 'either': 0.01853377908332914,\n",
       " 'else': 0.0,\n",
       " 'em': 0.0,\n",
       " 'empty': 0.007446915502282734,\n",
       " 'end': 0.0,\n",
       " 'english': 0.014646557666517374,\n",
       " 'enormous': 0.007323278833258687,\n",
       " 'enough': 0.0,\n",
       " 'entire': 0.0,\n",
       " 'entirely': 0.006782071587901571,\n",
       " 'ere': 0.0,\n",
       " 'escape': 0.0,\n",
       " 'especially': 0.0,\n",
       " 'even': 0.011614215918015702,\n",
       " 'ever': 0.010739441941522264,\n",
       " 'every': 0.025252561468930592,\n",
       " 'evinced': 0.0,\n",
       " 'exactly': 0.0,\n",
       " 'except': 0.0,\n",
       " 'eye': 0.005281785154094895,\n",
       " 'eyeing': 0.0,\n",
       " 'eyes': 0.004166013356915468,\n",
       " 'face': 0.0,\n",
       " 'fact': 0.0,\n",
       " 'fair': 0.0,\n",
       " 'famous': 0.0,\n",
       " 'fancy': 0.0,\n",
       " 'far': 0.007681378367796067,\n",
       " 'fast': 0.0,\n",
       " 'father': 0.0,\n",
       " 'fear': 0.007323278833258687,\n",
       " 'fedallah': 0.0,\n",
       " 'feel': 0.005820426273615346,\n",
       " 'feeling': 0.0,\n",
       " 'feet': 0.013150052069601952,\n",
       " 'fell': 0.006782071587901571,\n",
       " 'fellow': 0.005888004919723171,\n",
       " 'felt': 0.0,\n",
       " 'few': 0.004499434300997995,\n",
       " 'fiery': 0.0,\n",
       " 'fifty': 0.013564143175803142,\n",
       " 'filled': 0.0,\n",
       " 'fin': 0.0,\n",
       " 'final': 0.0,\n",
       " 'finally': 0.006984903735013339,\n",
       " 'find': 0.01101436489256352,\n",
       " 'fine': 0.0,\n",
       " 'fire': 0.011640852547230691,\n",
       " 'first': 0.014319255922029683,\n",
       " 'fish': 0.014246658821136626,\n",
       " 'fishermen': 0.007446915502282734,\n",
       " 'fishery': 0.012204554976571066,\n",
       " 'five': 0.0,\n",
       " 'fixed': 0.006419447031426958,\n",
       " 'flask': 0.0,\n",
       " 'flesh': 0.0,\n",
       " 'flew': 0.0,\n",
       " 'floating': 0.014646557666517374,\n",
       " 'flukes': 0.0,\n",
       " 'flying': 0.0,\n",
       " 'followed': 0.0,\n",
       " 'following': 0.0,\n",
       " 'foot': 0.0,\n",
       " 'for': 0.05955481041853151,\n",
       " 'fore': 0.0,\n",
       " 'forecastle': 0.0,\n",
       " 'forehead': 0.0,\n",
       " 'form': 0.017872305792472693,\n",
       " 'formed': 0.0,\n",
       " 'forth': 0.0,\n",
       " 'forty': 0.01707708108067426,\n",
       " 'forward': 0.005820426273615346,\n",
       " 'found': 0.009766938351887092,\n",
       " 'four': 0.01067256586588596,\n",
       " 'free': 0.013564143175803142,\n",
       " 'french': 0.00835074730411446,\n",
       " 'fresh': 0.006782071587901571,\n",
       " 'friend': 0.0,\n",
       " 'from': 0.0367763443240446,\n",
       " 'front': 0.007713904216593124,\n",
       " 'full': 0.004166013356915468,\n",
       " 'further': 0.0,\n",
       " 'gale': 0.007446915502282734,\n",
       " 'game': 0.0,\n",
       " 'gave': 0.0,\n",
       " 'gay': 0.0,\n",
       " 'gazing': 0.0,\n",
       " 'general': 0.0,\n",
       " 'generally': 0.013564143175803142,\n",
       " 'gentlemen': 0.0,\n",
       " 'get': 0.0,\n",
       " 'getting': 0.0,\n",
       " 'give': 0.010456869565155558,\n",
       " 'given': 0.0,\n",
       " 'giving': 0.0,\n",
       " 'glance': 0.0,\n",
       " 'globe': 0.03856952108296562,\n",
       " 'go': 0.011801932792234843,\n",
       " 'god': 0.01848436806852724,\n",
       " 'gods': 0.0,\n",
       " 'goes': 0.005957435264157564,\n",
       " 'going': 0.0,\n",
       " 'gold': 0.0,\n",
       " 'golden': 0.0,\n",
       " 'gone': 0.011380893099694348,\n",
       " 'good': 0.0,\n",
       " 'got': 0.0,\n",
       " 'grand': 0.005957435264157564,\n",
       " 'great': 0.047876017630743804,\n",
       " 'green': 0.006255903253433555,\n",
       " 'greenland': 0.015427808433186248,\n",
       " 'ground': 0.0,\n",
       " 'grow': 0.016024744411738227,\n",
       " 'gunwale': 0.0,\n",
       " 'ha': 0.0,\n",
       " 'had': 0.03780170861735579,\n",
       " 'hailed': 0.0,\n",
       " 'hair': 0.0,\n",
       " 'half': 0.004166013356915468,\n",
       " 'hammer': 0.0,\n",
       " 'hammock': 0.0,\n",
       " 'hand': 0.0,\n",
       " 'hands': 0.004499434300997995,\n",
       " 'hard': 0.0,\n",
       " 'hardly': 0.0,\n",
       " 'harpoon': 0.0,\n",
       " 'harpooneer': 0.006782071587901571,\n",
       " 'harpooneers': 0.006102277488285533,\n",
       " 'harpoons': 0.0,\n",
       " 'has': 0.01388786332056888,\n",
       " 'hast': 0.007446915502282734,\n",
       " 'hat': 0.0,\n",
       " 'have': 0.03812543032186595,\n",
       " 'having': 0.00533628293294298,\n",
       " 'he': 0.047283871273771635,\n",
       " 'head': 0.028419348710837355,\n",
       " 'headed': 0.0,\n",
       " 'heads': 0.00550718244628176,\n",
       " 'hear': 0.005957435264157564,\n",
       " 'heard': 0.0,\n",
       " 'heart': 0.009766938351887092,\n",
       " 'hearts': 0.021278255656135617,\n",
       " 'heaven': 0.006102277488285533,\n",
       " 'heavy': 0.0,\n",
       " 'held': 0.0,\n",
       " 'helm': 0.0,\n",
       " 'help': 0.0,\n",
       " 'hence': 0.0,\n",
       " 'her': 0.007931705696954536,\n",
       " 'here': 0.013782824078115725,\n",
       " 'hidden': 0.0,\n",
       " 'high': 0.008920291863759262,\n",
       " 'higher': 0.0,\n",
       " 'him': 0.019621449331671967,\n",
       " 'himself': 0.0040975213754050185,\n",
       " 'hint': 0.0,\n",
       " 'hinted': 0.0,\n",
       " 'his': 0.08285886666926123,\n",
       " 'history': 0.03270366393545007,\n",
       " 'ho': 0.0,\n",
       " 'hoisted': 0.0,\n",
       " 'hold': 0.0,\n",
       " 'holding': 0.0,\n",
       " 'hole': 0.0,\n",
       " 'holy': 0.008175915983862518,\n",
       " 'home': 0.005820426273615346,\n",
       " 'honour': 0.0,\n",
       " 'hope': 0.0,\n",
       " 'horn': 0.0,\n",
       " 'horse': 0.007576895226050906,\n",
       " 'hot': 0.0,\n",
       " 'hour': 0.0,\n",
       " 'hours': 0.0,\n",
       " 'house': 0.0,\n",
       " 'how': 0.010575948604978005,\n",
       " 'however': 0.005025602635466011,\n",
       " 'huge': 0.014185503770757078,\n",
       " 'hull': 0.0,\n",
       " 'human': 0.0,\n",
       " 'hump': 0.0,\n",
       " 'hundred': 0.006505355226147768,\n",
       " 'hung': 0.0,\n",
       " 'hunt': 0.0,\n",
       " 'hunters': 0.0,\n",
       " 'i': 0.0326789402758851,\n",
       " 'ice': 0.0,\n",
       " 'idea': 0.0,\n",
       " 'if': 0.017439054759335038,\n",
       " 'in': 0.2322634413782998,\n",
       " 'indeed': 0.0,\n",
       " 'indian': 0.006102277488285533,\n",
       " 'instances': 0.0,\n",
       " 'instant': 0.005754603117045796,\n",
       " 'instantly': 0.0,\n",
       " 'instead': 0.0,\n",
       " 'interval': 0.0,\n",
       " 'intervals': 0.0,\n",
       " 'into': 0.017823994162526776,\n",
       " 'invested': 0.0,\n",
       " 'iron': 0.0,\n",
       " 'is': 0.07880645212295272,\n",
       " 'island': 0.0072053948319654865,\n",
       " 'it': 0.05828312808454693,\n",
       " 'its': 0.015750711923898247,\n",
       " 'itself': 0.004662978078991399,\n",
       " 'ivory': 0.0,\n",
       " 'jacket': 0.0,\n",
       " 'jaw': 0.012838894062853917,\n",
       " 'jaws': 0.027939614940053356,\n",
       " 'jet': 0.0,\n",
       " 'jolly': 0.0,\n",
       " 'jonah': 0.018406768909436586,\n",
       " 'just': 0.0,\n",
       " 'keel': 0.0,\n",
       " 'keep': 0.0,\n",
       " 'kept': 0.0,\n",
       " 'kill': 0.007092751885378539,\n",
       " 'killed': 0.03440729399348176,\n",
       " 'kind': 0.013762917597392704,\n",
       " 'king': 0.042201751536647646,\n",
       " 'knew': 0.0,\n",
       " 'knife': 0.0,\n",
       " 'know': 0.0,\n",
       " 'known': 0.016346777638589785,\n",
       " 'knows': 0.0,\n",
       " 'lad': 0.0,\n",
       " 'laid': 0.007576895226050906,\n",
       " 'lakeman': 0.0,\n",
       " 'lamp': 0.0,\n",
       " 'lance': 0.006782071587901571,\n",
       " 'lances': 0.0,\n",
       " 'land': 0.016175935681713553,\n",
       " 'landlord': 0.0,\n",
       " 'large': 0.021795703518119713,\n",
       " 'last': 0.0,\n",
       " 'late': 0.0072053948319654865,\n",
       " 'law': 0.0,\n",
       " 'lay': 0.005754603117045796,\n",
       " 'leaning': 0.0,\n",
       " 'learned': 0.007576895226050906,\n",
       " 'least': 0.010051205270932022,\n",
       " 'leaving': 0.0,\n",
       " 'leeward': 0.0,\n",
       " 'left': 0.0,\n",
       " 'leg': 0.0,\n",
       " 'legs': 0.0,\n",
       " 'length': 0.01652154733884528,\n",
       " 'less': 0.012057643296185042,\n",
       " 'let': 0.013037425607549918,\n",
       " 'level': 0.0,\n",
       " 'leviathan': 0.07932960734771193,\n",
       " 'lie': 0.006881458798696352,\n",
       " 'life': 0.012191871963539361,\n",
       " 'light': 0.0,\n",
       " 'lightning': 0.008175915983862518,\n",
       " 'like': 0.02226297966025434,\n",
       " 'likewise': 0.0,\n",
       " 'line': 0.005074809017429759,\n",
       " 'lines': 0.0,\n",
       " 'little': 0.007681378367796067,\n",
       " 'live': 0.0,\n",
       " 'lives': 0.007323278833258687,\n",
       " 'living': 0.010897851759059857,\n",
       " 'll': 0.0,\n",
       " 'lofty': 0.0,\n",
       " 'log': 0.0,\n",
       " 'long': 0.009520493522598691,\n",
       " 'look': 0.007867955194823228,\n",
       " 'looked': 0.0,\n",
       " 'looking': 0.0,\n",
       " 'looks': 0.0,\n",
       " 'loose': 0.0,\n",
       " 'lord': 0.017263809351137388,\n",
       " 'lost': 0.012204554976571066,\n",
       " 'love': 0.007713904216593124,\n",
       " 'low': 0.0,\n",
       " 'lower': 0.0,\n",
       " 'm': 0.0,\n",
       " 'mad': 0.007092751885378539,\n",
       " 'made': 0.008263071934575221,\n",
       " 'magnitude': 0.008175915983862518,\n",
       " 'main': 0.01251180650686711,\n",
       " 'make': 0.008766701379734634,\n",
       " 'makes': 0.0,\n",
       " 'making': 0.005888004919723171,\n",
       " 'man': 0.006028714553842079,\n",
       " 'manner': 0.006177926361109713,\n",
       " 'many': 0.016526143869150443,\n",
       " 'mariners': 0.0,\n",
       " 'mark': 0.0,\n",
       " 'mass': 0.006594278351678902,\n",
       " 'mast': 0.02070473798995475,\n",
       " 'master': 0.007858746440721093,\n",
       " 'masts': 0.007446915502282734,\n",
       " 'mate': 0.01251180650686711,\n",
       " 'mates': 0.0,\n",
       " 'matter': 0.009766938351887092,\n",
       " 'may': 0.013782824078115725,\n",
       " 'me': 0.010105562681475699,\n",
       " 'mean': 0.0,\n",
       " 'means': 0.0,\n",
       " 'meantime': 0.0,\n",
       " 'meanwhile': 0.0,\n",
       " 'men': 0.0037803518322635926,\n",
       " 'mere': 0.012057643296185042,\n",
       " 'middle': 0.0,\n",
       " 'midnight': 0.0,\n",
       " 'might': 0.011077370781283102,\n",
       " 'mighty': 0.011914870528315129,\n",
       " 'mild': 0.0,\n",
       " 'miles': 0.021278255656135617,\n",
       " 'mind': 0.0,\n",
       " 'mine': 0.0,\n",
       " 'minutes': 0.0,\n",
       " 'moby': 0.0,\n",
       " 'moment': 0.005025602635466011,\n",
       " 'monster': 0.019258341094280877,\n",
       " 'more': 0.01188266277501785,\n",
       " 'morning': 0.0,\n",
       " 'mortal': 0.0,\n",
       " 'most': 0.019761704635020166,\n",
       " 'mouth': 0.03168178006073001,\n",
       " 'mr': 0.012672712024292005,\n",
       " 'much': 0.010657255766564008,\n",
       " 'must': 0.006254000447015974,\n",
       " 'my': 0.006538267366060903,\n",
       " 'myself': 0.011255748516881589,\n",
       " 'name': 0.0,\n",
       " 'nantucket': 0.04313582848456947,\n",
       " 'nantucketer': 0.0,\n",
       " 'natural': 0.0,\n",
       " 'nature': 0.012838894062853917,\n",
       " 'nay': 0.0,\n",
       " 'near': 0.034142679299083045,\n",
       " 'nearly': 0.006594278351678902,\n",
       " 'negro': 0.0,\n",
       " 'never': 0.012191871963539361,\n",
       " 'nevertheless': 0.0,\n",
       " 'new': 0.009766938351887092,\n",
       " 'next': 0.0,\n",
       " 'nigh': 0.0,\n",
       " 'night': 0.0047055681411464325,\n",
       " 'no': 0.014219684175747302,\n",
       " 'noble': 0.006255903253433555,\n",
       " 'none': 0.0,\n",
       " 'nor': 0.0,\n",
       " 'nose': 0.0,\n",
       " 'not': 0.02101505389945406,\n",
       " 'nothing': 0.0047055681411464325,\n",
       " 'now': 0.013814201724671045,\n",
       " 'number': 0.0,\n",
       " 'o': 0.013188556703357803,\n",
       " 'oar': 0.0,\n",
       " 'oars': 0.0,\n",
       " 'object': 0.006419447031426958,\n",
       " 'ocean': 0.0550718244628176,\n",
       " 'of': 0.34463067041297313,\n",
       " 'off': 0.010822526343827396,\n",
       " 'often': 0.0,\n",
       " 'oh': 0.004837809399243342,\n",
       " 'oil': 0.024115286592370083,\n",
       " 'old': 0.0063941411202568426,\n",
       " 'on': 0.05862974603724905,\n",
       " 'once': 0.011994402493830712,\n",
       " 'one': 0.037309838387340304,\n",
       " 'only': 0.00884729756613262,\n",
       " 'open': 0.020913739130311117,\n",
       " 'or': 0.06256661037328812,\n",
       " 'order': 0.017071339649541523,\n",
       " 'orders': 0.0,\n",
       " 'original': 0.0,\n",
       " 'other': 0.017823994162526776,\n",
       " 'others': 0.0,\n",
       " 'otherwise': 0.0,\n",
       " 'our': 0.013618024229902057,\n",
       " 'out': 0.030143572769210394,\n",
       " 'over': 0.018218933101944074,\n",
       " 'overboard': 0.0,\n",
       " 'owing': 0.0,\n",
       " 'own': 0.007560703664527185,\n",
       " 'pacific': 0.013762917597392704,\n",
       " 'pagan': 0.0,\n",
       " 'parsee': 0.0,\n",
       " 'part': 0.0,\n",
       " 'particular': 0.0,\n",
       " 'parts': 0.0,\n",
       " 'pass': 0.0,\n",
       " 'passage': 0.020644376396089056,\n",
       " 'passed': 0.0,\n",
       " 'passing': 0.0,\n",
       " 'peculiar': 0.005888004919723171,\n",
       " 'peleg': 0.0,\n",
       " 'people': 0.006028821648092521,\n",
       " 'pequod': 0.0,\n",
       " 'perhaps': 0.004929966793301791,\n",
       " 'perils': 0.0,\n",
       " 'person': 0.0,\n",
       " 'pilot': 0.008175915983862518,\n",
       " 'pip': 0.0,\n",
       " 'pipe': 0.014893831004565468,\n",
       " 'place': 0.0,\n",
       " 'placed': 0.006594278351678902,\n",
       " 'plain': 0.0,\n",
       " 'plainly': 0.006102277488285533,\n",
       " 'planks': 0.0,\n",
       " 'play': 0.013969807470026678,\n",
       " 'point': 0.004837809399243342,\n",
       " 'pointed': 0.0,\n",
       " 'pole': 0.0,\n",
       " 'poor': 0.014789900379905373,\n",
       " 'port': 0.0,\n",
       " 'possible': 0.0072053948319654865,\n",
       " 'possibly': 0.0,\n",
       " 'post': 0.0,\n",
       " 'power': 0.0,\n",
       " 'precisely': 0.0,\n",
       " 'present': 0.0,\n",
       " 'pretty': 0.006594278351678902,\n",
       " 'previous': 0.0,\n",
       " 'proper': 0.0,\n",
       " 'prow': 0.0,\n",
       " 'pull': 0.0,\n",
       " 'pulling': 0.0,\n",
       " 'purpose': 0.006177926361109713,\n",
       " 'pursuit': 0.007323278833258687,\n",
       " 'put': 0.0,\n",
       " 'quarter': 0.0,\n",
       " 'queequeg': 0.0,\n",
       " 'queer': 0.0,\n",
       " 'question': 0.0,\n",
       " 'quick': 0.0,\n",
       " 'quickly': 0.0,\n",
       " 'quite': 0.0,\n",
       " 'radney': 0.0,\n",
       " 'ran': 0.0,\n",
       " 'rather': 0.0,\n",
       " 'read': 0.0,\n",
       " 'ready': 0.0,\n",
       " 'real': 0.0,\n",
       " 'really': 0.0,\n",
       " 'rear': 0.0,\n",
       " 'reason': 0.0,\n",
       " 'received': 0.006984903735013339,\n",
       " 'red': 0.0,\n",
       " 'regarded': 0.007446915502282734,\n",
       " 'regular': 0.0072053948319654865,\n",
       " 'remain': 0.0,\n",
       " 'remained': 0.0,\n",
       " 'remains': 0.0,\n",
       " 'repeated': 0.0,\n",
       " 'rest': 0.0,\n",
       " 'ribs': 0.02688559135320314,\n",
       " 'rigging': 0.0,\n",
       " 'right': 0.01815736563986941,\n",
       " 'rising': 0.0,\n",
       " 'rolled': 0.0,\n",
       " 'rolling': 0.0,\n",
       " 'room': 0.0,\n",
       " 'rope': 0.006505355226147768,\n",
       " 'rose': 0.0,\n",
       " 'round': 0.010181966813455134,\n",
       " 'royal': 0.014410789663930973,\n",
       " 'run': 0.005820426273615346,\n",
       " 'running': 0.0,\n",
       " 's': 0.15938805238698034,\n",
       " 'said': 0.020830066784577342,\n",
       " 'sail': 0.009859933586603581,\n",
       " 'sailed': 0.0,\n",
       " 'sailing': 0.0,\n",
       " 'sailor': 0.0,\n",
       " 'sailors': 0.0,\n",
       " 'sails': 0.0,\n",
       " 'same': 0.006686612534815786,\n",
       " 'sat': 0.006686435745737349,\n",
       " 'savage': 0.0,\n",
       " 'saw': 0.050832012188449904,\n",
       " 'say': 0.010739441941522264,\n",
       " 'saying': 0.0,\n",
       " 'says': 0.0,\n",
       " 'scene': 0.0,\n",
       " 'scuttle': 0.0,\n",
       " 'sea': 0.05973012116989558,\n",
       " 'seamen': 0.0,\n",
       " 'seas': 0.016175935681713553,\n",
       " 'seated': 0.0,\n",
       " 'second': 0.0,\n",
       " 'secret': 0.0,\n",
       " 'see': 0.010739441941522264,\n",
       " 'seeing': 0.0,\n",
       " 'seem': 0.004977333575150515,\n",
       " 'seemed': 0.0040308320253397145,\n",
       " 'seems': 0.004748886273712208,\n",
       " 'seen': 0.016255829284719147,\n",
       " 'seldom': 0.006881458798696352,\n",
       " 'self': 0.006881458798696352,\n",
       " 'set': 0.010352368994977375,\n",
       " 'seventy': 0.0,\n",
       " 'several': 0.005957435264157564,\n",
       " 'shall': 0.026408925770474472,\n",
       " 'shark': 0.0,\n",
       " 'sharks': 0.007446915502282734,\n",
       " 'sharp': 0.0,\n",
       " 'she': 0.032017697597657886,\n",
       " 'ship': 0.030777439905478158,\n",
       " 'shipmates': 0.0,\n",
       " 'ships': 0.010897851759059857,\n",
       " 'shore': 0.0223407465068482,\n",
       " 'short': 0.00550718244628176,\n",
       " 'shot': 0.006686435745737349,\n",
       " 'should': 0.014655293199479485,\n",
       " 'show': 0.0,\n",
       " 'side': 0.007620681856775134,\n",
       " 'sides': 0.006984903735013339,\n",
       " 'sideways': 0.0,\n",
       " 'sight': 0.0,\n",
       " 'sign': 0.0,\n",
       " 'silent': 0.0,\n",
       " 'similar': 0.0,\n",
       " 'since': 0.005176184497488688,\n",
       " 'sing': 0.02561562162101139,\n",
       " 'single': 0.0,\n",
       " 'sink': 0.0,\n",
       " 'sir': 0.05121401894862457,\n",
       " 'sitting': 0.0,\n",
       " 'six': 0.013762917597392704,\n",
       " 'skeleton': 0.0,\n",
       " 'skin': 0.0,\n",
       " 'skull': 0.0,\n",
       " 'sky': 0.0,\n",
       " 'sleep': 0.0,\n",
       " 'sleeping': 0.0,\n",
       " 'slowly': 0.006102277488285533,\n",
       " 'small': 0.003965852848477268,\n",
       " 'smoke': 0.0,\n",
       " 'snow': 0.0,\n",
       " 'so': 0.03175036160387489,\n",
       " 'soft': 0.0,\n",
       " 'some': 0.02742965348562435,\n",
       " 'somehow': 0.0,\n",
       " 'something': 0.0043088144620872055,\n",
       " 'sometimes': 0.014513428197730023,\n",
       " 'somewhat': 0.0,\n",
       " 'somewhere': 0.0072053948319654865,\n",
       " 'soon': 0.004460145931879631,\n",
       " 'sort': 0.004236408134871364,\n",
       " 'soul': 0.0,\n",
       " 'souls': 0.0,\n",
       " 'sound': 0.0,\n",
       " 'south': 0.014646557666517374,\n",
       " 'spare': 0.0,\n",
       " 'speak': 0.005690446549847174,\n",
       " 'speaking': 0.0,\n",
       " 'species': 0.007713904216593124,\n",
       " 'sperm': 0.03264084655293979,\n",
       " 'spot': 0.0,\n",
       " 'spout': 0.0,\n",
       " 'spread': 0.0,\n",
       " 'spring': 0.0,\n",
       " 'st': 0.0,\n",
       " 'stand': 0.009585915605519144,\n",
       " 'standing': 0.0,\n",
       " 'stands': 0.0,\n",
       " 'starbuck': 0.0,\n",
       " 'start': 0.0,\n",
       " 'started': 0.0,\n",
       " 'state': 0.014646557666517374,\n",
       " 'steady': 0.014893831004565468,\n",
       " 'steel': 0.007323278833258687,\n",
       " 'steelkilt': 0.0,\n",
       " 'step': 0.0,\n",
       " 'stern': 0.018767709760300663,\n",
       " 'still': 0.0,\n",
       " 'stood': 0.0,\n",
       " 'stop': 0.0,\n",
       " 'storm': 0.007576895226050906,\n",
       " 'story': 0.0,\n",
       " 'stove': 0.007858746440721093,\n",
       " 'straight': 0.0,\n",
       " 'strange': 0.0,\n",
       " 'strangely': 0.0,\n",
       " 'stranger': 0.0,\n",
       " 'strength': 0.0,\n",
       " 'strike': 0.014410789663930973,\n",
       " 'striking': 0.013969807470026678,\n",
       " 'strong': 0.013564143175803142,\n",
       " 'struck': 0.006102277488285533,\n",
       " 'stubb': 0.0,\n",
       " 'substance': 0.0,\n",
       " 'such': 0.009591211680385263,\n",
       " 'sudden': 0.0,\n",
       " 'suddenly': 0.006177926361109713,\n",
       " 'sun': 0.0,\n",
       " 'supper': 0.0,\n",
       " 'suppose': 0.0,\n",
       " 'sure': 0.006028821648092521,\n",
       " 'surface': 0.0,\n",
       " 'suspended': 0.0,\n",
       " 'sweet': 0.0,\n",
       " 'swift': 0.0,\n",
       " 'swim': 0.015153790452101811,\n",
       " 'swimming': 0.015153790452101811,\n",
       " 'sword': 0.008012372205869114,\n",
       " 't': 0.019719867173207162,\n",
       " 'table': 0.0,\n",
       " 'tail': 0.019258341094280877,\n",
       " 'take': 0.02585288677252323,\n",
       " 'taken': 0.011640852547230691,\n",
       " 'takes': 0.0,\n",
       " 'taking': 0.005566809880823127,\n",
       " 'talk': 0.0,\n",
       " 'tall': 0.0,\n",
       " 'tashtego': 0.0,\n",
       " 'teeth': 0.006102277488285533,\n",
       " 'tell': 0.0,\n",
       " 'ten': 0.011776009839446343,\n",
       " 'terrible': 0.0,\n",
       " 'terror': 0.0,\n",
       " 'terrors': 0.0,\n",
       " 'than': 0.023055322074190195,\n",
       " 'that': 0.09882791283901436,\n",
       " 'the': 0.6284441636942452,\n",
       " 'thee': 0.005391978560571184,\n",
       " 'their': 0.0475306511000714,\n",
       " 'them': 0.02393933857021319,\n",
       " 'themselves': 0.00550718244628176,\n",
       " 'then': 0.005565744915063585,\n",
       " 'there': 0.04235127160912326,\n",
       " 'therefore': 0.005228434782577779,\n",
       " 'these': 0.028143002011571883,\n",
       " 'they': 0.053471982487580325,\n",
       " 'thick': 0.0,\n",
       " 'thing': 0.007442835605712868,\n",
       " 'things': 0.008691617071699947,\n",
       " 'think': 0.004421457408674153,\n",
       " 'thinking': 0.0,\n",
       " 'third': 0.0,\n",
       " 'thirty': 0.006881458798696352,\n",
       " 'this': 0.02868845251007835,\n",
       " 'those': 0.010991469899609613,\n",
       " 'thou': 0.010352368994977375,\n",
       " 'though': 0.006489768449602373,\n",
       " 'thought': 0.0043088144620872055,\n",
       " 'thoughts': 0.0,\n",
       " 'thousand': 0.005820426273615346,\n",
       " 'three': 0.007560703664527185,\n",
       " 'through': 0.021314511533128015,\n",
       " 'thrown': 0.014646557666517374,\n",
       " 'thunder': 0.0072053948319654865,\n",
       " 'thus': 0.0,\n",
       " 'thy': 0.0,\n",
       " 'thyself': 0.0,\n",
       " 'till': 0.00924218403426362,\n",
       " 'time': 0.006686612534815786,\n",
       " 'times': 0.0,\n",
       " 'tis': 0.008175915983862518,\n",
       " 'to': 0.20163529526248006,\n",
       " 'together': 0.005566809880823127,\n",
       " 'told': 0.02752583519478541,\n",
       " 'too': 0.011431022785162701,\n",
       " 'took': 0.0,\n",
       " 'top': 0.0,\n",
       " 'tossed': 0.0,\n",
       " 'touch': 0.0,\n",
       " 'touching': 0.012204554976571066,\n",
       " 'towards': 0.004662978078991399,\n",
       " 'town': 0.0,\n",
       " 'tree': 0.007576895226050906,\n",
       " 'true': 0.009497772547424416,\n",
       " 'truly': 0.0,\n",
       " 'truth': 0.0,\n",
       " 'try': 0.006255903253433555,\n",
       " 'turn': 0.005820426273615346,\n",
       " 'turned': 0.0,\n",
       " 'turning': 0.005754603117045796,\n",
       " 'turns': 0.0,\n",
       " 'twenty': 0.0,\n",
       " 'two': 0.017228530097644655,\n",
       " 'under': 0.004200966311722005,\n",
       " 'unknown': 0.0,\n",
       " 'unless': 0.0,\n",
       " 'up': 0.03670443539457349,\n",
       " 'upon': 0.014323115323481251,\n",
       " 'upper': 0.0,\n",
       " 'us': 0.021729042679249865,\n",
       " 'use': 0.0,\n",
       " 'used': 0.0,\n",
       " 'vain': 0.0,\n",
       " 'various': 0.0,\n",
       " 'vast': 0.02695989280285592,\n",
       " 've': 0.0,\n",
       " 'very': 0.009955020194982598,\n",
       " 'vessel': 0.023552019678892686,\n",
       " 'vessels': 0.008012372205869114,\n",
       " 'view': 0.017461278820846037,\n",
       " 'visible': 0.0,\n",
       " 'voice': 0.005957435264157564,\n",
       " 'voyage': 0.03484133502605361,\n",
       " 'wake': 0.006686435745737349,\n",
       " 'wall': 0.0,\n",
       " 'want': 0.0,\n",
       " 'war': 0.0,\n",
       " 'warm': 0.007323278833258687,\n",
       " 'was': 0.04517468971639814,\n",
       " 'watch': 0.0,\n",
       " 'water': 0.032511658569438294,\n",
       " 'waters': 0.0,\n",
       " 'watery': 0.0,\n",
       " 'waves': 0.0063363560121460025,\n",
       " 'way': 0.006636680129988398,\n",
       " 'we': 0.04823988427340504,\n",
       " 'weather': 0.0,\n",
       " 'well': 0.011341055496790778,\n",
       " 'went': 0.0,\n",
       " 'were': 0.019907557846046222,\n",
       " 'whale': 0.22038879224666036,\n",
       " 'whaleman': 0.006255903253433555,\n",
       " 'whalemen': 0.005391978560571184,\n",
       " 'whales': 0.09986551101928175,\n",
       " 'whaling': 0.02418904699621671,\n",
       " 'what': 0.01706362101089676,\n",
       " 'whatever': 0.005957435264157564,\n",
       " 'when': 0.013814201724671045,\n",
       " 'where': 0.011252140481538598,\n",
       " 'whether': 0.015374969538782377,\n",
       " 'which': 0.061036691657672636,\n",
       " 'while': 0.010657255766564008,\n",
       " 'white': 0.0043088144620872055,\n",
       " 'whiteness': 0.0,\n",
       " 'who': 0.00938100067052396,\n",
       " 'whole': 0.0,\n",
       " 'wholly': 0.0,\n",
       " 'whom': 0.019009068036438006,\n",
       " 'whose': 0.00995466715030103,\n",
       " 'why': 0.0,\n",
       " 'wide': 0.012057643296185042,\n",
       " 'wife': 0.0,\n",
       " 'wild': 0.0,\n",
       " 'will': 0.028773635041155793,\n",
       " 'wind': 0.011914870528315129,\n",
       " 'windlass': 0.0,\n",
       " 'winds': 0.0,\n",
       " 'windward': 0.0,\n",
       " 'wise': 0.0,\n",
       " 'with': 0.07250150833560357,\n",
       " 'within': 0.009859933586603581,\n",
       " 'without': 0.012191871963539361,\n",
       " 'woe': 0.0,\n",
       " 'won': 0.0,\n",
       " 'wonder': 0.0,\n",
       " 'wonderful': 0.0,\n",
       " 'wondrous': 0.0,\n",
       " 'wood': 0.006881458798696352,\n",
       " 'wooden': 0.0,\n",
       " 'word': 0.0,\n",
       " 'words': 0.0,\n",
       " 'work': 0.005820426273615346,\n",
       " 'works': 0.01670149460822892,\n",
       " 'world': 0.015362756735592134,\n",
       " 'worse': 0.0,\n",
       " 'would': 0.017566288089958564,\n",
       " 'yards': 0.015153790452101811,\n",
       " 'ye': 0.02118204067435682,\n",
       " 'year': 0.014646557666517374,\n",
       " 'years': 0.015528553492466065,\n",
       " 'yellow': 0.0,\n",
       " 'yes': 0.0,\n",
       " 'yet': 0.0,\n",
       " ...}"
      ]
     },
     "execution_count": 153,
     "metadata": {},
     "output_type": "execute_result"
    }
   ],
   "source": [
    "get_row_as_dict(1, freq)"
   ]
  },
  {
   "cell_type": "code",
   "execution_count": 154,
   "id": "8f704759",
   "metadata": {},
   "outputs": [],
   "source": [
    "train_set, test_set = featuresets[:90], featuresets[90:]"
   ]
  },
  {
   "cell_type": "code",
   "execution_count": 155,
   "id": "1d324fba",
   "metadata": {},
   "outputs": [
    {
     "name": "stdout",
     "output_type": "stream",
     "text": [
      "0.375\n"
     ]
    }
   ],
   "source": [
    "classifier = nltk.NaiveBayesClassifier.train(train_set)\n",
    "\n",
    "print(nltk.classify.accuracy(classifier, test_set))"
   ]
  },
  {
   "cell_type": "code",
   "execution_count": 156,
   "id": "72fbf2e5",
   "metadata": {},
   "outputs": [
    {
     "data": {
      "text/plain": [
       "[1.0, 0.1111111111111111]"
      ]
     },
     "execution_count": 156,
     "metadata": {},
     "output_type": "execute_result"
    }
   ],
   "source": [
    "TPR([0, 1], classifier, test_set)"
   ]
  },
  {
   "cell_type": "code",
   "execution_count": 157,
   "id": "59ca106f",
   "metadata": {},
   "outputs": [
    {
     "data": {
      "text/plain": [
       "[1.0, 0.08333333333333333]"
      ]
     },
     "execution_count": 157,
     "metadata": {},
     "output_type": "execute_result"
    }
   ],
   "source": [
    "FPR([0, 1], classifier, test_set)"
   ]
  },
  {
   "cell_type": "code",
   "execution_count": 158,
   "id": "50a50dcb",
   "metadata": {},
   "outputs": [],
   "source": [
    "import plotly.graph_objects as go\n",
    "\n",
    "\n",
    "df1 = pd.DataFrame({\n",
    "    'tau': tmp,\n",
    "    'tpr': TPR(tmp, classifier, test_set),\n",
    "    'fpr': FPR(tmp, classifier, test_set)\n",
    "})\n",
    "\n",
    "df1"
   ]
  },
  {
   "cell_type": "code",
   "execution_count": 161,
   "id": "b3f95eda",
   "metadata": {},
   "outputs": [
    {
     "data": {
      "application/vnd.plotly.v1+json": {
       "config": {
        "plotlyServerURL": "https://plot.ly"
       },
       "data": [
        {
         "hovertemplate": "method=POS frequency<br>fpr=%{x}<br>tpr=%{y}<br>tau=%{text}<extra></extra>",
         "legendgroup": "POS frequency",
         "line": {
          "color": "#636efa",
          "dash": "solid",
          "shape": "hv"
         },
         "marker": {
          "symbol": "circle"
         },
         "mode": "lines+markers+text",
         "name": "POS frequency",
         "orientation": "v",
         "showlegend": true,
         "text": [
          0,
          0.1,
          0.2,
          0.3,
          0.4,
          0.5,
          0.9,
          1
         ],
         "textposition": "bottom right",
         "type": "scatter",
         "x": [
          1,
          0.75,
          0.3333333333333333,
          0.3333333333333333,
          0.3333333333333333,
          0.16666666666666666,
          0,
          0
         ],
         "xaxis": "x",
         "y": [
          1,
          0.9444444444444444,
          0.5555555555555556,
          0.5555555555555556,
          0.5555555555555556,
          0.3611111111111111,
          0,
          0
         ],
         "yaxis": "y"
        },
        {
         "line": {
          "shape": "hv"
         },
         "name": "common words with tfidf",
         "type": "scatter",
         "x": [
          1,
          0.16666666666666666,
          0.16666666666666666,
          0.16666666666666666,
          0.16666666666666666,
          0.16666666666666666,
          0.16666666666666666,
          0.08333333333333333
         ],
         "y": [
          1,
          0.25,
          0.2222222222222222,
          0.2222222222222222,
          0.2222222222222222,
          0.2222222222222222,
          0.2222222222222222,
          0.1111111111111111
         ]
        }
       ],
       "layout": {
        "legend": {
         "title": {
          "text": "method"
         },
         "tracegroupgap": 0
        },
        "margin": {
         "t": 60
        },
        "template": {
         "data": {
          "bar": [
           {
            "error_x": {
             "color": "#2a3f5f"
            },
            "error_y": {
             "color": "#2a3f5f"
            },
            "marker": {
             "line": {
              "color": "#E5ECF6",
              "width": 0.5
             },
             "pattern": {
              "fillmode": "overlay",
              "size": 10,
              "solidity": 0.2
             }
            },
            "type": "bar"
           }
          ],
          "barpolar": [
           {
            "marker": {
             "line": {
              "color": "#E5ECF6",
              "width": 0.5
             },
             "pattern": {
              "fillmode": "overlay",
              "size": 10,
              "solidity": 0.2
             }
            },
            "type": "barpolar"
           }
          ],
          "carpet": [
           {
            "aaxis": {
             "endlinecolor": "#2a3f5f",
             "gridcolor": "white",
             "linecolor": "white",
             "minorgridcolor": "white",
             "startlinecolor": "#2a3f5f"
            },
            "baxis": {
             "endlinecolor": "#2a3f5f",
             "gridcolor": "white",
             "linecolor": "white",
             "minorgridcolor": "white",
             "startlinecolor": "#2a3f5f"
            },
            "type": "carpet"
           }
          ],
          "choropleth": [
           {
            "colorbar": {
             "outlinewidth": 0,
             "ticks": ""
            },
            "type": "choropleth"
           }
          ],
          "contour": [
           {
            "colorbar": {
             "outlinewidth": 0,
             "ticks": ""
            },
            "colorscale": [
             [
              0,
              "#0d0887"
             ],
             [
              0.1111111111111111,
              "#46039f"
             ],
             [
              0.2222222222222222,
              "#7201a8"
             ],
             [
              0.3333333333333333,
              "#9c179e"
             ],
             [
              0.4444444444444444,
              "#bd3786"
             ],
             [
              0.5555555555555556,
              "#d8576b"
             ],
             [
              0.6666666666666666,
              "#ed7953"
             ],
             [
              0.7777777777777778,
              "#fb9f3a"
             ],
             [
              0.8888888888888888,
              "#fdca26"
             ],
             [
              1,
              "#f0f921"
             ]
            ],
            "type": "contour"
           }
          ],
          "contourcarpet": [
           {
            "colorbar": {
             "outlinewidth": 0,
             "ticks": ""
            },
            "type": "contourcarpet"
           }
          ],
          "heatmap": [
           {
            "colorbar": {
             "outlinewidth": 0,
             "ticks": ""
            },
            "colorscale": [
             [
              0,
              "#0d0887"
             ],
             [
              0.1111111111111111,
              "#46039f"
             ],
             [
              0.2222222222222222,
              "#7201a8"
             ],
             [
              0.3333333333333333,
              "#9c179e"
             ],
             [
              0.4444444444444444,
              "#bd3786"
             ],
             [
              0.5555555555555556,
              "#d8576b"
             ],
             [
              0.6666666666666666,
              "#ed7953"
             ],
             [
              0.7777777777777778,
              "#fb9f3a"
             ],
             [
              0.8888888888888888,
              "#fdca26"
             ],
             [
              1,
              "#f0f921"
             ]
            ],
            "type": "heatmap"
           }
          ],
          "heatmapgl": [
           {
            "colorbar": {
             "outlinewidth": 0,
             "ticks": ""
            },
            "colorscale": [
             [
              0,
              "#0d0887"
             ],
             [
              0.1111111111111111,
              "#46039f"
             ],
             [
              0.2222222222222222,
              "#7201a8"
             ],
             [
              0.3333333333333333,
              "#9c179e"
             ],
             [
              0.4444444444444444,
              "#bd3786"
             ],
             [
              0.5555555555555556,
              "#d8576b"
             ],
             [
              0.6666666666666666,
              "#ed7953"
             ],
             [
              0.7777777777777778,
              "#fb9f3a"
             ],
             [
              0.8888888888888888,
              "#fdca26"
             ],
             [
              1,
              "#f0f921"
             ]
            ],
            "type": "heatmapgl"
           }
          ],
          "histogram": [
           {
            "marker": {
             "pattern": {
              "fillmode": "overlay",
              "size": 10,
              "solidity": 0.2
             }
            },
            "type": "histogram"
           }
          ],
          "histogram2d": [
           {
            "colorbar": {
             "outlinewidth": 0,
             "ticks": ""
            },
            "colorscale": [
             [
              0,
              "#0d0887"
             ],
             [
              0.1111111111111111,
              "#46039f"
             ],
             [
              0.2222222222222222,
              "#7201a8"
             ],
             [
              0.3333333333333333,
              "#9c179e"
             ],
             [
              0.4444444444444444,
              "#bd3786"
             ],
             [
              0.5555555555555556,
              "#d8576b"
             ],
             [
              0.6666666666666666,
              "#ed7953"
             ],
             [
              0.7777777777777778,
              "#fb9f3a"
             ],
             [
              0.8888888888888888,
              "#fdca26"
             ],
             [
              1,
              "#f0f921"
             ]
            ],
            "type": "histogram2d"
           }
          ],
          "histogram2dcontour": [
           {
            "colorbar": {
             "outlinewidth": 0,
             "ticks": ""
            },
            "colorscale": [
             [
              0,
              "#0d0887"
             ],
             [
              0.1111111111111111,
              "#46039f"
             ],
             [
              0.2222222222222222,
              "#7201a8"
             ],
             [
              0.3333333333333333,
              "#9c179e"
             ],
             [
              0.4444444444444444,
              "#bd3786"
             ],
             [
              0.5555555555555556,
              "#d8576b"
             ],
             [
              0.6666666666666666,
              "#ed7953"
             ],
             [
              0.7777777777777778,
              "#fb9f3a"
             ],
             [
              0.8888888888888888,
              "#fdca26"
             ],
             [
              1,
              "#f0f921"
             ]
            ],
            "type": "histogram2dcontour"
           }
          ],
          "mesh3d": [
           {
            "colorbar": {
             "outlinewidth": 0,
             "ticks": ""
            },
            "type": "mesh3d"
           }
          ],
          "parcoords": [
           {
            "line": {
             "colorbar": {
              "outlinewidth": 0,
              "ticks": ""
             }
            },
            "type": "parcoords"
           }
          ],
          "pie": [
           {
            "automargin": true,
            "type": "pie"
           }
          ],
          "scatter": [
           {
            "fillpattern": {
             "fillmode": "overlay",
             "size": 10,
             "solidity": 0.2
            },
            "type": "scatter"
           }
          ],
          "scatter3d": [
           {
            "line": {
             "colorbar": {
              "outlinewidth": 0,
              "ticks": ""
             }
            },
            "marker": {
             "colorbar": {
              "outlinewidth": 0,
              "ticks": ""
             }
            },
            "type": "scatter3d"
           }
          ],
          "scattercarpet": [
           {
            "marker": {
             "colorbar": {
              "outlinewidth": 0,
              "ticks": ""
             }
            },
            "type": "scattercarpet"
           }
          ],
          "scattergeo": [
           {
            "marker": {
             "colorbar": {
              "outlinewidth": 0,
              "ticks": ""
             }
            },
            "type": "scattergeo"
           }
          ],
          "scattergl": [
           {
            "marker": {
             "colorbar": {
              "outlinewidth": 0,
              "ticks": ""
             }
            },
            "type": "scattergl"
           }
          ],
          "scattermapbox": [
           {
            "marker": {
             "colorbar": {
              "outlinewidth": 0,
              "ticks": ""
             }
            },
            "type": "scattermapbox"
           }
          ],
          "scatterpolar": [
           {
            "marker": {
             "colorbar": {
              "outlinewidth": 0,
              "ticks": ""
             }
            },
            "type": "scatterpolar"
           }
          ],
          "scatterpolargl": [
           {
            "marker": {
             "colorbar": {
              "outlinewidth": 0,
              "ticks": ""
             }
            },
            "type": "scatterpolargl"
           }
          ],
          "scatterternary": [
           {
            "marker": {
             "colorbar": {
              "outlinewidth": 0,
              "ticks": ""
             }
            },
            "type": "scatterternary"
           }
          ],
          "surface": [
           {
            "colorbar": {
             "outlinewidth": 0,
             "ticks": ""
            },
            "colorscale": [
             [
              0,
              "#0d0887"
             ],
             [
              0.1111111111111111,
              "#46039f"
             ],
             [
              0.2222222222222222,
              "#7201a8"
             ],
             [
              0.3333333333333333,
              "#9c179e"
             ],
             [
              0.4444444444444444,
              "#bd3786"
             ],
             [
              0.5555555555555556,
              "#d8576b"
             ],
             [
              0.6666666666666666,
              "#ed7953"
             ],
             [
              0.7777777777777778,
              "#fb9f3a"
             ],
             [
              0.8888888888888888,
              "#fdca26"
             ],
             [
              1,
              "#f0f921"
             ]
            ],
            "type": "surface"
           }
          ],
          "table": [
           {
            "cells": {
             "fill": {
              "color": "#EBF0F8"
             },
             "line": {
              "color": "white"
             }
            },
            "header": {
             "fill": {
              "color": "#C8D4E3"
             },
             "line": {
              "color": "white"
             }
            },
            "type": "table"
           }
          ]
         },
         "layout": {
          "annotationdefaults": {
           "arrowcolor": "#2a3f5f",
           "arrowhead": 0,
           "arrowwidth": 1
          },
          "autotypenumbers": "strict",
          "coloraxis": {
           "colorbar": {
            "outlinewidth": 0,
            "ticks": ""
           }
          },
          "colorscale": {
           "diverging": [
            [
             0,
             "#8e0152"
            ],
            [
             0.1,
             "#c51b7d"
            ],
            [
             0.2,
             "#de77ae"
            ],
            [
             0.3,
             "#f1b6da"
            ],
            [
             0.4,
             "#fde0ef"
            ],
            [
             0.5,
             "#f7f7f7"
            ],
            [
             0.6,
             "#e6f5d0"
            ],
            [
             0.7,
             "#b8e186"
            ],
            [
             0.8,
             "#7fbc41"
            ],
            [
             0.9,
             "#4d9221"
            ],
            [
             1,
             "#276419"
            ]
           ],
           "sequential": [
            [
             0,
             "#0d0887"
            ],
            [
             0.1111111111111111,
             "#46039f"
            ],
            [
             0.2222222222222222,
             "#7201a8"
            ],
            [
             0.3333333333333333,
             "#9c179e"
            ],
            [
             0.4444444444444444,
             "#bd3786"
            ],
            [
             0.5555555555555556,
             "#d8576b"
            ],
            [
             0.6666666666666666,
             "#ed7953"
            ],
            [
             0.7777777777777778,
             "#fb9f3a"
            ],
            [
             0.8888888888888888,
             "#fdca26"
            ],
            [
             1,
             "#f0f921"
            ]
           ],
           "sequentialminus": [
            [
             0,
             "#0d0887"
            ],
            [
             0.1111111111111111,
             "#46039f"
            ],
            [
             0.2222222222222222,
             "#7201a8"
            ],
            [
             0.3333333333333333,
             "#9c179e"
            ],
            [
             0.4444444444444444,
             "#bd3786"
            ],
            [
             0.5555555555555556,
             "#d8576b"
            ],
            [
             0.6666666666666666,
             "#ed7953"
            ],
            [
             0.7777777777777778,
             "#fb9f3a"
            ],
            [
             0.8888888888888888,
             "#fdca26"
            ],
            [
             1,
             "#f0f921"
            ]
           ]
          },
          "colorway": [
           "#636efa",
           "#EF553B",
           "#00cc96",
           "#ab63fa",
           "#FFA15A",
           "#19d3f3",
           "#FF6692",
           "#B6E880",
           "#FF97FF",
           "#FECB52"
          ],
          "font": {
           "color": "#2a3f5f"
          },
          "geo": {
           "bgcolor": "white",
           "lakecolor": "white",
           "landcolor": "#E5ECF6",
           "showlakes": true,
           "showland": true,
           "subunitcolor": "white"
          },
          "hoverlabel": {
           "align": "left"
          },
          "hovermode": "closest",
          "mapbox": {
           "style": "light"
          },
          "paper_bgcolor": "white",
          "plot_bgcolor": "#E5ECF6",
          "polar": {
           "angularaxis": {
            "gridcolor": "white",
            "linecolor": "white",
            "ticks": ""
           },
           "bgcolor": "#E5ECF6",
           "radialaxis": {
            "gridcolor": "white",
            "linecolor": "white",
            "ticks": ""
           }
          },
          "scene": {
           "xaxis": {
            "backgroundcolor": "#E5ECF6",
            "gridcolor": "white",
            "gridwidth": 2,
            "linecolor": "white",
            "showbackground": true,
            "ticks": "",
            "zerolinecolor": "white"
           },
           "yaxis": {
            "backgroundcolor": "#E5ECF6",
            "gridcolor": "white",
            "gridwidth": 2,
            "linecolor": "white",
            "showbackground": true,
            "ticks": "",
            "zerolinecolor": "white"
           },
           "zaxis": {
            "backgroundcolor": "#E5ECF6",
            "gridcolor": "white",
            "gridwidth": 2,
            "linecolor": "white",
            "showbackground": true,
            "ticks": "",
            "zerolinecolor": "white"
           }
          },
          "shapedefaults": {
           "line": {
            "color": "#2a3f5f"
           }
          },
          "ternary": {
           "aaxis": {
            "gridcolor": "white",
            "linecolor": "white",
            "ticks": ""
           },
           "baxis": {
            "gridcolor": "white",
            "linecolor": "white",
            "ticks": ""
           },
           "bgcolor": "#E5ECF6",
           "caxis": {
            "gridcolor": "white",
            "linecolor": "white",
            "ticks": ""
           }
          },
          "title": {
           "x": 0.05
          },
          "xaxis": {
           "automargin": true,
           "gridcolor": "white",
           "linecolor": "white",
           "ticks": "",
           "title": {
            "standoff": 15
           },
           "zerolinecolor": "white",
           "zerolinewidth": 2
          },
          "yaxis": {
           "automargin": true,
           "gridcolor": "white",
           "linecolor": "white",
           "ticks": "",
           "title": {
            "standoff": 15
           },
           "zerolinecolor": "white",
           "zerolinewidth": 2
          }
         }
        },
        "xaxis": {
         "anchor": "y",
         "domain": [
          0,
          1
         ],
         "range": [
          -0.1,
          1.1
         ],
         "title": {
          "text": "fpr"
         }
        },
        "yaxis": {
         "anchor": "x",
         "domain": [
          0,
          1
         ],
         "range": [
          -0.1,
          1.1
         ],
         "title": {
          "text": "tpr"
         }
        }
       }
      },
      "text/html": [
       "<div>                            <div id=\"5b660f73-c32c-4687-a5c9-c39bf31ccbb3\" class=\"plotly-graph-div\" style=\"height:525px; width:100%;\"></div>            <script type=\"text/javascript\">                require([\"plotly\"], function(Plotly) {                    window.PLOTLYENV=window.PLOTLYENV || {};                                    if (document.getElementById(\"5b660f73-c32c-4687-a5c9-c39bf31ccbb3\")) {                    Plotly.newPlot(                        \"5b660f73-c32c-4687-a5c9-c39bf31ccbb3\",                        [{\"hovertemplate\":\"method=POS frequency\\u003cbr\\u003efpr=%{x}\\u003cbr\\u003etpr=%{y}\\u003cbr\\u003etau=%{text}\\u003cextra\\u003e\\u003c\\u002fextra\\u003e\",\"legendgroup\":\"POS frequency\",\"line\":{\"color\":\"#636efa\",\"dash\":\"solid\",\"shape\":\"hv\"},\"marker\":{\"symbol\":\"circle\"},\"mode\":\"lines+markers+text\",\"name\":\"POS frequency\",\"orientation\":\"v\",\"showlegend\":true,\"text\":[0.0,0.1,0.2,0.3,0.4,0.5,0.9,1.0],\"x\":[1.0,0.75,0.3333333333333333,0.3333333333333333,0.3333333333333333,0.16666666666666666,0.0,0.0],\"xaxis\":\"x\",\"y\":[1.0,0.9444444444444444,0.5555555555555556,0.5555555555555556,0.5555555555555556,0.3611111111111111,0.0,0.0],\"yaxis\":\"y\",\"type\":\"scatter\",\"textposition\":\"bottom right\"},{\"line\":{\"shape\":\"hv\"},\"name\":\"common words with tfidf\",\"x\":[1.0,0.16666666666666666,0.16666666666666666,0.16666666666666666,0.16666666666666666,0.16666666666666666,0.16666666666666666,0.08333333333333333],\"y\":[1.0,0.25,0.2222222222222222,0.2222222222222222,0.2222222222222222,0.2222222222222222,0.2222222222222222,0.1111111111111111],\"type\":\"scatter\"}],                        {\"template\":{\"data\":{\"histogram2dcontour\":[{\"type\":\"histogram2dcontour\",\"colorbar\":{\"outlinewidth\":0,\"ticks\":\"\"},\"colorscale\":[[0.0,\"#0d0887\"],[0.1111111111111111,\"#46039f\"],[0.2222222222222222,\"#7201a8\"],[0.3333333333333333,\"#9c179e\"],[0.4444444444444444,\"#bd3786\"],[0.5555555555555556,\"#d8576b\"],[0.6666666666666666,\"#ed7953\"],[0.7777777777777778,\"#fb9f3a\"],[0.8888888888888888,\"#fdca26\"],[1.0,\"#f0f921\"]]}],\"choropleth\":[{\"type\":\"choropleth\",\"colorbar\":{\"outlinewidth\":0,\"ticks\":\"\"}}],\"histogram2d\":[{\"type\":\"histogram2d\",\"colorbar\":{\"outlinewidth\":0,\"ticks\":\"\"},\"colorscale\":[[0.0,\"#0d0887\"],[0.1111111111111111,\"#46039f\"],[0.2222222222222222,\"#7201a8\"],[0.3333333333333333,\"#9c179e\"],[0.4444444444444444,\"#bd3786\"],[0.5555555555555556,\"#d8576b\"],[0.6666666666666666,\"#ed7953\"],[0.7777777777777778,\"#fb9f3a\"],[0.8888888888888888,\"#fdca26\"],[1.0,\"#f0f921\"]]}],\"heatmap\":[{\"type\":\"heatmap\",\"colorbar\":{\"outlinewidth\":0,\"ticks\":\"\"},\"colorscale\":[[0.0,\"#0d0887\"],[0.1111111111111111,\"#46039f\"],[0.2222222222222222,\"#7201a8\"],[0.3333333333333333,\"#9c179e\"],[0.4444444444444444,\"#bd3786\"],[0.5555555555555556,\"#d8576b\"],[0.6666666666666666,\"#ed7953\"],[0.7777777777777778,\"#fb9f3a\"],[0.8888888888888888,\"#fdca26\"],[1.0,\"#f0f921\"]]}],\"heatmapgl\":[{\"type\":\"heatmapgl\",\"colorbar\":{\"outlinewidth\":0,\"ticks\":\"\"},\"colorscale\":[[0.0,\"#0d0887\"],[0.1111111111111111,\"#46039f\"],[0.2222222222222222,\"#7201a8\"],[0.3333333333333333,\"#9c179e\"],[0.4444444444444444,\"#bd3786\"],[0.5555555555555556,\"#d8576b\"],[0.6666666666666666,\"#ed7953\"],[0.7777777777777778,\"#fb9f3a\"],[0.8888888888888888,\"#fdca26\"],[1.0,\"#f0f921\"]]}],\"contourcarpet\":[{\"type\":\"contourcarpet\",\"colorbar\":{\"outlinewidth\":0,\"ticks\":\"\"}}],\"contour\":[{\"type\":\"contour\",\"colorbar\":{\"outlinewidth\":0,\"ticks\":\"\"},\"colorscale\":[[0.0,\"#0d0887\"],[0.1111111111111111,\"#46039f\"],[0.2222222222222222,\"#7201a8\"],[0.3333333333333333,\"#9c179e\"],[0.4444444444444444,\"#bd3786\"],[0.5555555555555556,\"#d8576b\"],[0.6666666666666666,\"#ed7953\"],[0.7777777777777778,\"#fb9f3a\"],[0.8888888888888888,\"#fdca26\"],[1.0,\"#f0f921\"]]}],\"surface\":[{\"type\":\"surface\",\"colorbar\":{\"outlinewidth\":0,\"ticks\":\"\"},\"colorscale\":[[0.0,\"#0d0887\"],[0.1111111111111111,\"#46039f\"],[0.2222222222222222,\"#7201a8\"],[0.3333333333333333,\"#9c179e\"],[0.4444444444444444,\"#bd3786\"],[0.5555555555555556,\"#d8576b\"],[0.6666666666666666,\"#ed7953\"],[0.7777777777777778,\"#fb9f3a\"],[0.8888888888888888,\"#fdca26\"],[1.0,\"#f0f921\"]]}],\"mesh3d\":[{\"type\":\"mesh3d\",\"colorbar\":{\"outlinewidth\":0,\"ticks\":\"\"}}],\"scatter\":[{\"fillpattern\":{\"fillmode\":\"overlay\",\"size\":10,\"solidity\":0.2},\"type\":\"scatter\"}],\"parcoords\":[{\"type\":\"parcoords\",\"line\":{\"colorbar\":{\"outlinewidth\":0,\"ticks\":\"\"}}}],\"scatterpolargl\":[{\"type\":\"scatterpolargl\",\"marker\":{\"colorbar\":{\"outlinewidth\":0,\"ticks\":\"\"}}}],\"bar\":[{\"error_x\":{\"color\":\"#2a3f5f\"},\"error_y\":{\"color\":\"#2a3f5f\"},\"marker\":{\"line\":{\"color\":\"#E5ECF6\",\"width\":0.5},\"pattern\":{\"fillmode\":\"overlay\",\"size\":10,\"solidity\":0.2}},\"type\":\"bar\"}],\"scattergeo\":[{\"type\":\"scattergeo\",\"marker\":{\"colorbar\":{\"outlinewidth\":0,\"ticks\":\"\"}}}],\"scatterpolar\":[{\"type\":\"scatterpolar\",\"marker\":{\"colorbar\":{\"outlinewidth\":0,\"ticks\":\"\"}}}],\"histogram\":[{\"marker\":{\"pattern\":{\"fillmode\":\"overlay\",\"size\":10,\"solidity\":0.2}},\"type\":\"histogram\"}],\"scattergl\":[{\"type\":\"scattergl\",\"marker\":{\"colorbar\":{\"outlinewidth\":0,\"ticks\":\"\"}}}],\"scatter3d\":[{\"type\":\"scatter3d\",\"line\":{\"colorbar\":{\"outlinewidth\":0,\"ticks\":\"\"}},\"marker\":{\"colorbar\":{\"outlinewidth\":0,\"ticks\":\"\"}}}],\"scattermapbox\":[{\"type\":\"scattermapbox\",\"marker\":{\"colorbar\":{\"outlinewidth\":0,\"ticks\":\"\"}}}],\"scatterternary\":[{\"type\":\"scatterternary\",\"marker\":{\"colorbar\":{\"outlinewidth\":0,\"ticks\":\"\"}}}],\"scattercarpet\":[{\"type\":\"scattercarpet\",\"marker\":{\"colorbar\":{\"outlinewidth\":0,\"ticks\":\"\"}}}],\"carpet\":[{\"aaxis\":{\"endlinecolor\":\"#2a3f5f\",\"gridcolor\":\"white\",\"linecolor\":\"white\",\"minorgridcolor\":\"white\",\"startlinecolor\":\"#2a3f5f\"},\"baxis\":{\"endlinecolor\":\"#2a3f5f\",\"gridcolor\":\"white\",\"linecolor\":\"white\",\"minorgridcolor\":\"white\",\"startlinecolor\":\"#2a3f5f\"},\"type\":\"carpet\"}],\"table\":[{\"cells\":{\"fill\":{\"color\":\"#EBF0F8\"},\"line\":{\"color\":\"white\"}},\"header\":{\"fill\":{\"color\":\"#C8D4E3\"},\"line\":{\"color\":\"white\"}},\"type\":\"table\"}],\"barpolar\":[{\"marker\":{\"line\":{\"color\":\"#E5ECF6\",\"width\":0.5},\"pattern\":{\"fillmode\":\"overlay\",\"size\":10,\"solidity\":0.2}},\"type\":\"barpolar\"}],\"pie\":[{\"automargin\":true,\"type\":\"pie\"}]},\"layout\":{\"autotypenumbers\":\"strict\",\"colorway\":[\"#636efa\",\"#EF553B\",\"#00cc96\",\"#ab63fa\",\"#FFA15A\",\"#19d3f3\",\"#FF6692\",\"#B6E880\",\"#FF97FF\",\"#FECB52\"],\"font\":{\"color\":\"#2a3f5f\"},\"hovermode\":\"closest\",\"hoverlabel\":{\"align\":\"left\"},\"paper_bgcolor\":\"white\",\"plot_bgcolor\":\"#E5ECF6\",\"polar\":{\"bgcolor\":\"#E5ECF6\",\"angularaxis\":{\"gridcolor\":\"white\",\"linecolor\":\"white\",\"ticks\":\"\"},\"radialaxis\":{\"gridcolor\":\"white\",\"linecolor\":\"white\",\"ticks\":\"\"}},\"ternary\":{\"bgcolor\":\"#E5ECF6\",\"aaxis\":{\"gridcolor\":\"white\",\"linecolor\":\"white\",\"ticks\":\"\"},\"baxis\":{\"gridcolor\":\"white\",\"linecolor\":\"white\",\"ticks\":\"\"},\"caxis\":{\"gridcolor\":\"white\",\"linecolor\":\"white\",\"ticks\":\"\"}},\"coloraxis\":{\"colorbar\":{\"outlinewidth\":0,\"ticks\":\"\"}},\"colorscale\":{\"sequential\":[[0.0,\"#0d0887\"],[0.1111111111111111,\"#46039f\"],[0.2222222222222222,\"#7201a8\"],[0.3333333333333333,\"#9c179e\"],[0.4444444444444444,\"#bd3786\"],[0.5555555555555556,\"#d8576b\"],[0.6666666666666666,\"#ed7953\"],[0.7777777777777778,\"#fb9f3a\"],[0.8888888888888888,\"#fdca26\"],[1.0,\"#f0f921\"]],\"sequentialminus\":[[0.0,\"#0d0887\"],[0.1111111111111111,\"#46039f\"],[0.2222222222222222,\"#7201a8\"],[0.3333333333333333,\"#9c179e\"],[0.4444444444444444,\"#bd3786\"],[0.5555555555555556,\"#d8576b\"],[0.6666666666666666,\"#ed7953\"],[0.7777777777777778,\"#fb9f3a\"],[0.8888888888888888,\"#fdca26\"],[1.0,\"#f0f921\"]],\"diverging\":[[0,\"#8e0152\"],[0.1,\"#c51b7d\"],[0.2,\"#de77ae\"],[0.3,\"#f1b6da\"],[0.4,\"#fde0ef\"],[0.5,\"#f7f7f7\"],[0.6,\"#e6f5d0\"],[0.7,\"#b8e186\"],[0.8,\"#7fbc41\"],[0.9,\"#4d9221\"],[1,\"#276419\"]]},\"xaxis\":{\"gridcolor\":\"white\",\"linecolor\":\"white\",\"ticks\":\"\",\"title\":{\"standoff\":15},\"zerolinecolor\":\"white\",\"automargin\":true,\"zerolinewidth\":2},\"yaxis\":{\"gridcolor\":\"white\",\"linecolor\":\"white\",\"ticks\":\"\",\"title\":{\"standoff\":15},\"zerolinecolor\":\"white\",\"automargin\":true,\"zerolinewidth\":2},\"scene\":{\"xaxis\":{\"backgroundcolor\":\"#E5ECF6\",\"gridcolor\":\"white\",\"linecolor\":\"white\",\"showbackground\":true,\"ticks\":\"\",\"zerolinecolor\":\"white\",\"gridwidth\":2},\"yaxis\":{\"backgroundcolor\":\"#E5ECF6\",\"gridcolor\":\"white\",\"linecolor\":\"white\",\"showbackground\":true,\"ticks\":\"\",\"zerolinecolor\":\"white\",\"gridwidth\":2},\"zaxis\":{\"backgroundcolor\":\"#E5ECF6\",\"gridcolor\":\"white\",\"linecolor\":\"white\",\"showbackground\":true,\"ticks\":\"\",\"zerolinecolor\":\"white\",\"gridwidth\":2}},\"shapedefaults\":{\"line\":{\"color\":\"#2a3f5f\"}},\"annotationdefaults\":{\"arrowcolor\":\"#2a3f5f\",\"arrowhead\":0,\"arrowwidth\":1},\"geo\":{\"bgcolor\":\"white\",\"landcolor\":\"#E5ECF6\",\"subunitcolor\":\"white\",\"showland\":true,\"showlakes\":true,\"lakecolor\":\"white\"},\"title\":{\"x\":0.05},\"mapbox\":{\"style\":\"light\"}}},\"xaxis\":{\"anchor\":\"y\",\"domain\":[0.0,1.0],\"title\":{\"text\":\"fpr\"},\"range\":[-0.1,1.1]},\"yaxis\":{\"anchor\":\"x\",\"domain\":[0.0,1.0],\"title\":{\"text\":\"tpr\"},\"range\":[-0.1,1.1]},\"legend\":{\"title\":{\"text\":\"method\"},\"tracegroupgap\":0},\"margin\":{\"t\":60}},                        {\"responsive\": true}                    ).then(function(){\n",
       "                            \n",
       "var gd = document.getElementById('5b660f73-c32c-4687-a5c9-c39bf31ccbb3');\n",
       "var x = new MutationObserver(function (mutations, observer) {{\n",
       "        var display = window.getComputedStyle(gd).display;\n",
       "        if (!display || display === 'none') {{\n",
       "            console.log([gd, 'removed!']);\n",
       "            Plotly.purge(gd);\n",
       "            observer.disconnect();\n",
       "        }}\n",
       "}});\n",
       "\n",
       "// Listen for the removal of the full notebook cells\n",
       "var notebookContainer = gd.closest('#notebook-container');\n",
       "if (notebookContainer) {{\n",
       "    x.observe(notebookContainer, {childList: true});\n",
       "}}\n",
       "\n",
       "// Listen for the clearing of the current output cell\n",
       "var outputEl = gd.closest('.output');\n",
       "if (outputEl) {{\n",
       "    x.observe(outputEl, {childList: true});\n",
       "}}\n",
       "\n",
       "                        })                };                });            </script>        </div>"
      ]
     },
     "metadata": {},
     "output_type": "display_data"
    }
   ],
   "source": [
    "fig.add_trace(go.Scatter(x=df1[\"fpr\"], y=df1[\"tpr\"], line_shape=\"hv\", name=\n",
    "                         'common words with tfidf'))\n",
    "fig.show()"
   ]
  },
  {
   "cell_type": "code",
   "execution_count": null,
   "id": "a669478a",
   "metadata": {},
   "outputs": [],
   "source": []
  },
  {
   "cell_type": "code",
   "execution_count": null,
   "id": "5312aa33",
   "metadata": {},
   "outputs": [],
   "source": []
  },
  {
   "cell_type": "code",
   "execution_count": null,
   "id": "094039e0",
   "metadata": {},
   "outputs": [],
   "source": []
  }
 ],
 "metadata": {
  "kernelspec": {
   "display_name": "Python 3 (ipykernel)",
   "language": "python",
   "name": "python3"
  },
  "language_info": {
   "codemirror_mode": {
    "name": "ipython",
    "version": 3
   },
   "file_extension": ".py",
   "mimetype": "text/x-python",
   "name": "python",
   "nbconvert_exporter": "python",
   "pygments_lexer": "ipython3",
   "version": "3.9.12"
  },
  "vscode": {
   "interpreter": {
    "hash": "b2b12ec50b0a525a62abe739e766b0c808eccd181e3f804cedbbca00f4d5b392"
   }
  }
 },
 "nbformat": 4,
 "nbformat_minor": 5
}
