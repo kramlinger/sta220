{
 "cells": [
  {
   "cell_type": "markdown",
   "id": "e3b6fcc3",
   "metadata": {
    "slideshow": {
     "slide_type": "slide"
    }
   },
   "source": [
    "# STA 220 Data & Web Technologies for Data Analysis\n",
    "\n",
    "### Lecture 16, 2/27/25, Interactive Visualization"
   ]
  },
  {
   "cell_type": "markdown",
   "id": "7f8a4dc4",
   "metadata": {
    "slideshow": {
     "slide_type": "slide"
    }
   },
   "source": [
    "### Announcements\n",
    "\n",
    "- HW 4 is published"
   ]
  },
  {
   "cell_type": "markdown",
   "id": "247780c0",
   "metadata": {
    "slideshow": {
     "slide_type": "slide"
    }
   },
   "source": [
    "### Today's topics\n",
    "- Animated Visualizations \n",
    "    - Flipbook\n",
    "- Custom Interactive Visualizations\n",
    "    - Client Side\n",
    "    - Server Side\n",
    "    "
   ]
  },
  {
   "cell_type": "markdown",
   "id": "49a92b0a",
   "metadata": {},
   "source": [
    "### Datasets\n",
    "\n",
    "* The Gapminder Dataset"
   ]
  },
  {
   "cell_type": "markdown",
   "id": "4629ee03",
   "metadata": {
    "slideshow": {
     "slide_type": "slide"
    }
   },
   "source": [
    "### References\n",
    "\n",
    "* [The Best Stats You've Ever Seen (Gapminder)](https://www.youtube.com/watch?v=hVimVzgtD6w&t=338s)\n",
    "* JavaScript (for web visualizations)\n",
    "    + [Learn X in Y Minutes, X = JavaScript][js-intro] -- a brief intro\n",
    "    + [MDN JavaScript Guide][js-guide] -- a detailed guide\n",
    "    + [MDN Learning Materials][web-intro] -- more information about web development\n",
    "\n",
    "[PDSH]: https://jakevdp.github.io/PythonDataScienceHandbook/\n",
    "[ProGit]: https://git-scm.com/book/\n",
    "[nlpp]: https://www.nltk.org/book/\n",
    "[atap]: https://search.library.ucdavis.edu/primo-explore/fulldisplay?docid=01UCD_ALMA51320822340003126&context=L&vid=01UCD_V1&search_scope=everything_scope&tab=default_tab&lang=en_US\n",
    "[js-intro]: https://learnxinyminutes.com/docs/javascript/\n",
    "[js-guide]: https://developer.mozilla.org/en-US/docs/Web/JavaScript/Guide\n",
    "[web-intro]: https://developer.mozilla.org/en-US/docs/Learn"
   ]
  },
  {
   "cell_type": "markdown",
   "id": "de092419",
   "metadata": {
    "slideshow": {
     "slide_type": "subslide"
    }
   },
   "source": [
    "When you choose a visualization package, there are three major decisions to make. Consider whether your visualization will:\n",
    "\n",
    "* Be interactive, animated, or static?\n",
    "* Display two dimensions, or three?\n",
    "* Be an image, a video, a web page, or something else?\n",
    "\n",
    "So far we've made visualizations static 2-dimensional images.\n",
    "\n",
    "Now we're going to study how to make other kinds of visualizations."
   ]
  },
  {
   "cell_type": "code",
   "execution_count": null,
   "id": "b8ed95cc",
   "metadata": {
    "slideshow": {
     "slide_type": "subslide"
    }
   },
   "outputs": [],
   "source": [
    "# NEW PACKAGES\n",
    "import bokeh.io       # conda install bokeh\n",
    "import imageio        # conda install -c conda-forge imageio\n",
    "import folium         # conda install -c conda-forge folium\n",
    "# For feather files:  # conda install -c conda-forge pyarrow\n",
    "\n",
    "# DATA SCIENCE TOOLKIT\n",
    "import matplotlib.pyplot as plt\n",
    "import numpy as np\n",
    "import pandas as pd\n",
    "import seaborn as sns\n",
    "\n",
    "%matplotlib inline"
   ]
  },
  {
   "cell_type": "markdown",
   "id": "dbce262b",
   "metadata": {
    "slideshow": {
     "slide_type": "slide"
    }
   },
   "source": [
    "## Animated Visualizations\n",
    "\n",
    "__matplotlib__ can also make animated videos. The `matplotlib.animation` submodule ([docs](https://matplotlib.org/stable/api/animation_api.html)) provides support for animation.\n",
    "\n",
    "There are examples online:\n",
    "\n",
    "* [Drawing animated GIFs with matplotlib](https://eli.thegreenplace.net/2016/drawing-animated-gifs-with-matplotlib/)\n",
    "* [How to Create Animated Graphs in Python](https://towardsdatascience.com/how-to-create-animated-graphs-in-python-bb619cc2dec1)\n",
    "* [Animated histogram](https://matplotlib.org/stable/gallery/animation/animated_histogram.html)"
   ]
  },
  {
   "cell_type": "markdown",
   "id": "77296c67",
   "metadata": {
    "slideshow": {
     "slide_type": "slide"
    }
   },
   "source": [
    "## Flipbook Strategy\n",
    "\n",
    "There's another simple strategy for making animated visualizations. The strategy is the same as an old-fashioned pen-and-paper flipbook: create lots of still images and flip through them quickly.\n",
    "\n",
    "A good thing about this strategy is that it works with any package that can make static visualizations. The tradeoff is that you have to write code to create the images -- but usually this isn't too hard.\n",
    "\n",
    "To use this strategy, you'll need a Python package that can save animated images. Let's look at an example using the __imageio__ package to save a GIF image. We'll use the Gapminder Dataset, which contains statistics for countries from 1800 to 2015. This dataset is based on data from the [Gapminder Project](https://www.gapminder.org/)."
   ]
  },
  {
   "cell_type": "code",
   "execution_count": null,
   "id": "e59f922d",
   "metadata": {
    "slideshow": {
     "slide_type": "-"
    }
   },
   "outputs": [],
   "source": [
    "import pandas as pd \n",
    "import numpy as np"
   ]
  },
  {
   "cell_type": "code",
   "execution_count": null,
   "id": "ff13886b",
   "metadata": {
    "slideshow": {
     "slide_type": "subslide"
    }
   },
   "outputs": [],
   "source": [
    "gapminder = pd.read_csv(\"../data/gapminder.csv\")\n",
    "gapminder.tail(n = 10)"
   ]
  },
  {
   "cell_type": "code",
   "execution_count": null,
   "id": "1b3fc162",
   "metadata": {},
   "outputs": [],
   "source": [
    "gapminder.shape"
   ]
  },
  {
   "cell_type": "code",
   "execution_count": null,
   "id": "d174093d",
   "metadata": {
    "scrolled": true
   },
   "outputs": [],
   "source": [
    "np.sqrt(gapminder['population'])"
   ]
  },
  {
   "cell_type": "code",
   "execution_count": null,
   "id": "6102ebfd",
   "metadata": {
    "slideshow": {
     "slide_type": "subslide"
    }
   },
   "outputs": [],
   "source": [
    "gap2000 = gapminder[gapminder[\"year\"] == 1970]\n",
    "ax = sns.scatterplot(x = \"fertility_rate\", y = \"life_expectancy\", \n",
    "                     size = 'population', data = gap2000) # !\n",
    "ax.set_title(\"1970\")\n",
    "ax.set_xlabel(\"Fertility Rate (# of children)\")\n",
    "ax.set_ylabel(\"Life Expectancy (years)\")\n",
    "ax.set_xlim(0, 10)\n",
    "ax.set_ylim(0, 95)"
   ]
  },
  {
   "cell_type": "code",
   "execution_count": null,
   "id": "50ba3a80",
   "metadata": {
    "slideshow": {
     "slide_type": "subslide"
    }
   },
   "outputs": [],
   "source": [
    "def render_frame(year, data):\n",
    "    \"\"\"\n",
    "    Render a single frame (plot) in an animated visualization.\n",
    "    \n",
    "    Adapted from: https://ndres.me/post/matplotlib-animated-gifs-easily/\n",
    "    \"\"\"\n",
    "    # Create a matplotlib figure to plot into.\n",
    "    fig = plt.figure(figsize = (10, 5))\n",
    "    \n",
    "    # -------------------- Visualization Code\n",
    "    data_subset = data[data[\"year\"] == year]\n",
    "    ax = sns.scatterplot(x = \"fertility_rate\", y = \"life_expectancy\", size = \"population\", \n",
    "                         data = data_subset)\n",
    "    ax.set_title(str(year))\n",
    "    ax.set_xlabel(\"Fertility Rate (# of children)\")\n",
    "    ax.set_ylabel(\"Life Expectancy (years)\")\n",
    "    ax.set_xlim(0, 10)\n",
    "    ax.set_ylim(0, 95)\n",
    "\n",
    "    # -------------------- End Visualization Code\n",
    "\n",
    "    # Draw the figure and then convert it to a Numpy array.\n",
    "    fig.canvas.draw()\n",
    "    \n",
    "    image = np.frombuffer(fig.canvas.tostring_rgb(), dtype = \"uint8\")\n",
    "    image = image.reshape(fig.canvas.get_width_height()[::-1] + (3,))\n",
    "    \n",
    "    # Close the matplotlib figure (we're done with it)\n",
    "    plt.close()\n",
    "    return image"
   ]
  },
  {
   "cell_type": "code",
   "execution_count": null,
   "id": "7db32715",
   "metadata": {
    "slideshow": {
     "slide_type": "subslide"
    }
   },
   "outputs": [],
   "source": [
    "type(render_frame(1960, gapminder)[240])"
   ]
  },
  {
   "cell_type": "code",
   "execution_count": null,
   "id": "3b5f6034",
   "metadata": {
    "slideshow": {
     "slide_type": "-"
    }
   },
   "outputs": [],
   "source": [
    "render_frame(1960, gapminder).shape"
   ]
  },
  {
   "cell_type": "markdown",
   "id": "cd2ec3ca",
   "metadata": {},
   "source": [
    "That corresponds to the color [white](https://rgb.to/rgb/255,255,255). "
   ]
  },
  {
   "cell_type": "code",
   "execution_count": null,
   "id": "a836e12c",
   "metadata": {
    "slideshow": {
     "slide_type": "subslide"
    }
   },
   "outputs": [],
   "source": [
    "years = gapminder[\"year\"].unique()"
   ]
  },
  {
   "cell_type": "code",
   "execution_count": null,
   "id": "2207a2b5",
   "metadata": {
    "slideshow": {
     "slide_type": "subslide"
    }
   },
   "outputs": [],
   "source": [
    "years"
   ]
  },
  {
   "cell_type": "code",
   "execution_count": null,
   "id": "08519c13",
   "metadata": {
    "slideshow": {
     "slide_type": "subslide"
    }
   },
   "outputs": [],
   "source": [
    "plots = [render_frame(y, gapminder) for y in years]"
   ]
  },
  {
   "cell_type": "code",
   "execution_count": null,
   "id": "0d4810e9",
   "metadata": {
    "scrolled": true
   },
   "outputs": [],
   "source": [
    "plots[0].shape"
   ]
  },
  {
   "cell_type": "code",
   "execution_count": null,
   "id": "df4b75fc",
   "metadata": {
    "slideshow": {
     "slide_type": "-"
    }
   },
   "outputs": [],
   "source": [
    "imageio.mimsave(\"./source/gapminder.gif\", plots, fps = 5) # Save a list of images as a GIF file."
   ]
  },
  {
   "cell_type": "markdown",
   "id": "d04f0761",
   "metadata": {
    "slideshow": {
     "slide_type": "slide"
    }
   },
   "source": [
    "![SegmentLocal](./source/gapminder.gif \"segment\")"
   ]
  },
  {
   "cell_type": "code",
   "execution_count": null,
   "id": "d519188f",
   "metadata": {
    "slideshow": {
     "slide_type": "subslide"
    }
   },
   "outputs": [],
   "source": [
    "gapminder[\"year\"].unique() "
   ]
  },
  {
   "cell_type": "code",
   "execution_count": null,
   "id": "7c9d84e4",
   "metadata": {
    "slideshow": {
     "slide_type": "-"
    }
   },
   "outputs": [],
   "source": [
    "len(gapminder[\"year\"].unique() )"
   ]
  },
  {
   "cell_type": "markdown",
   "id": "26111df3",
   "metadata": {
    "slideshow": {
     "slide_type": "slide"
    }
   },
   "source": [
    "## Web Visualizations\n",
    "\n",
    "Web browsers support interactivity via JavaScript, so the web is an excellent platform for visualizations. Web visualizations are powered by a few important JavaScript libraries:\n",
    "\n",
    "*   __[D3.js](https://d3js.org/)__: Short for Data-Driven Documents, D3 allows you to bind data\n",
    "    to HTML tags. In other words, you can use data to control the structure and\n",
    "    style of a web page.\n",
    "\n",
    "*   __[Vega](https://vega.github.io/vega/)__ & __[Vega Lite](https://vega.github.io/vega-lite/)__: A visualization grammar (the same idea as\n",
    "    ggplot) built on top of D3. You write a description of what you want in\n",
    "    JSON, and Vega produces a D3 visualization. Vega Lite adds support for\n",
    "    common statistical graphics.\n",
    "\n",
    "\n",
    "*   __[three.js](https://threejs.org/)__: A 3-dimensional graphics library.\n",
    "\n",
    "\n",
    "*   __[Leaflet](https://leafletjs.com/)__: An interactive maps library."
   ]
  },
  {
   "cell_type": "markdown",
   "id": "2aeaea91",
   "metadata": {
    "slideshow": {
     "slide_type": "subslide"
    }
   },
   "source": [
    "There are many more JavaScript libraries, but the ones listed here are the most popular. They also have the best support from Python packages. Packages for creating web visualizations from Python include:\n",
    "\n",
    "Package     | JS Library    | Description\n",
    "----------  | ------------- | -----------\n",
    "[mpld3][]   | [D3.js][]     | Matplotlib-like interface to D3\n",
    "[bqplot][]  | [D3.js][]     | Bloomberg News' interface to D3\n",
    "[plotly][]  | [D3.js][]     | Unified interface for interactive visualization across multiple languages\n",
    "[altair][]  | [Vega Lite][] | Declarative interface to Vega & Vega Lite\n",
    "[bokeh][]   | [BokehJS][]   | Unified interface for interactive visualization across multiple languages\n",
    "[hvPlot][]  | [BokehJS][]   | Pandas-like interface to Bokeh\n",
    "[Toyplot][] | -             | Interactive visualizations for Python\n",
    "[folium][]  | [Leaflet][]   | Interface to Leaflet\n",
    "\n",
    "Also worth mentioning is the [pygal](http://www.pygal.org/en/stable/) package, which produces SVG plots that can be viewed in a web browser but do not require any JavaScript library.\n",
    "\n",
    "[D3.js]: https://d3js.org/\n",
    "[Vega]: https://vega.github.io/vega/\n",
    "[Vega Lite]: https://vega.github.io/vega-lite/\n",
    "[three.js]: https://threejs.org/\n",
    "[BokehJS]: http://bokeh.pydata.org/en/latest/docs/dev_guide/bokehjs.html\n",
    "[Leaflet]: http://leafletjs.com/\n",
    "\n",
    "[mpld3]: http://mpld3.github.io/\n",
    "[altair]: https://altair-viz.github.io/\n",
    "[plotly]: https://plot.ly/python/\n",
    "[bokeh]: http://bokeh.pydata.org/\n",
    "[folium]: https://github.com/python-visualization/folium\n",
    "[hvPlot]: https://hvplot.pyviz.org/\n",
    "[bqplot]: https://github.com/bloomberg/bqplot\n",
    "[Toyplot]: https://toyplot.readthedocs.io/en/stable/"
   ]
  },
  {
   "cell_type": "markdown",
   "id": "897beed9",
   "metadata": {
    "slideshow": {
     "slide_type": "slide"
    }
   },
   "source": [
    "## Basic Interactivity\n",
    "\n",
    "Let's start by looking at Bokeh. We'll make a scatter plot with the simplest kind of interactivity: a pan tool and a zoom tool.\n",
    "\n",
    "To display Bokeh plots in a Jupyter notebook, first you must call the setup function `output_notebook()`. You don't have to do this if you're going to save your plots to HTML instead."
   ]
  },
  {
   "cell_type": "code",
   "execution_count": null,
   "id": "ffb1e75c",
   "metadata": {},
   "outputs": [],
   "source": [
    "bokeh.io.output_notebook()"
   ]
  },
  {
   "cell_type": "markdown",
   "id": "5bd71f2f",
   "metadata": {
    "slideshow": {
     "slide_type": "subslide"
    }
   },
   "source": [
    "Now we can make a plot. Bokeh's plotting functions work with data frames in [tidy](http://vita.had.co.nz/papers/tidy-data.pdf) form.\n",
    "\n",
    "The starting point is `bokeh.plotting.figure`, which creates a figure. We also need `bokeh.plotting.show` to display the figure."
   ]
  },
  {
   "cell_type": "code",
   "execution_count": null,
   "id": "ea11d1fd",
   "metadata": {},
   "outputs": [],
   "source": [
    "gapminder.head()"
   ]
  },
  {
   "cell_type": "code",
   "execution_count": null,
   "id": "144455d1",
   "metadata": {
    "slideshow": {
     "slide_type": "subslide"
    }
   },
   "outputs": [],
   "source": [
    "from bokeh.plotting import figure, show\n",
    "\n",
    "fig = figure(height = 500, width = 600, \n",
    "             y_axis_label = \"Life Expectancy\", x_axis_label = \"Fertility Rate\")\n",
    "\n",
    "gap2000 = gapminder[gapminder[\"year\"] == 2000].copy()\n",
    "gap2000[\"sqrt_population\"] = np.sqrt(gap2000[\"population\"]) / 1000\n",
    "\n",
    "fig.scatter(\"fertility_rate\", \"life_expectancy\", \n",
    "            size = \"sqrt_population\", source = gap2000, alpha = 0.5)"
   ]
  },
  {
   "cell_type": "code",
   "execution_count": null,
   "id": "a1750ca9",
   "metadata": {
    "slideshow": {
     "slide_type": "subslide"
    }
   },
   "outputs": [],
   "source": [
    "show(fig)"
   ]
  },
  {
   "cell_type": "markdown",
   "id": "2f54cd0d",
   "metadata": {
    "slideshow": {
     "slide_type": "subslide"
    }
   },
   "source": [
    "Bokeh is a relatively low-level plotting package. It does not provide built-in functions for many basic statistical plots."
   ]
  },
  {
   "cell_type": "markdown",
   "id": "b13326a3",
   "metadata": {
    "slideshow": {
     "slide_type": "slide"
    }
   },
   "source": [
    "## Custom Interactive Visualizations\n",
    "\n",
    "In order to make a visualization interactive, you need to run some code when the user clicks on a widget. The code can run _client-side_ on the user's machine, or _server-side_ on your server.\n",
    "\n",
    "For client-side interactivity:\n",
    "\n",
    "* Your code must be written in JavaScript.\n",
    "* You can host your visualization on any web server. No special setup is needed.\n",
    "* Your visualization will use the user's CPU and memory."
   ]
  },
  {
   "cell_type": "markdown",
   "id": "d40609b9",
   "metadata": {
    "slideshow": {
     "slide_type": "subslide"
    }
   },
   "source": [
    "For server-side interactivity:\n",
    "\n",
    "* Your code can be written in any language the server supports. This may require special setup.\n",
    "* Your visualization will use the server's CPU and memory.\n",
    "* You can update the data in real-time.\n",
    "* You can save data submitted by the user.\n",
    "\n",
    "There are lots of server-side frameworks for Python. Two of the most popular are [Django][django] and [Flask][flask].\n",
    "\n",
    "[Panel][panel] and [Dash][dash] are relatively new server-side frameworks designed specifically for creating dashboards for data analytics. The purpose and functionality of these is similar to R's Shiny package.\n",
    "\n",
    "[Bokeh][bokeh] is unique because it provides both a client-side and a server-side API.\n",
    "\n",
    "[django]: https://www.djangoproject.com/\n",
    "[flask]: http://flask.pocoo.org/\n",
    "[panel]: https://panel.pyviz.org/\n",
    "[dash]: https://plot.ly/products/dash/\n",
    "[bokeh]: http://bokeh.pydata.org/"
   ]
  },
  {
   "cell_type": "markdown",
   "id": "a424dbd1",
   "metadata": {
    "slideshow": {
     "slide_type": "slide"
    }
   },
   "source": [
    "### Client-side\n",
    "\n",
    "Let's use __bokeh__ to make a client-side interactive version of the Gapminder plot. The x-axis will still show fertility rate, and the y-axis will still show life expectancy. We'll use a slider widget to let the user control the year."
   ]
  },
  {
   "cell_type": "markdown",
   "id": "d715264d",
   "metadata": {
    "slideshow": {
     "slide_type": "subslide"
    }
   },
   "source": [
    "To create the plot, we need several tools from `bokeh.models`:\n",
    "\n",
    "* `widgets.Slider` creates a slider widget.\n",
    "* `CustomJS` adds custom JavaScript code to a plot.\n",
    "* `ColumnDataSource` creates a data source for a plot that can be manipulated from JavaScript code.\n",
    "* `CDSView` creates a \"view\" of a data source based on some kind of filter.\n",
    "* `GroupFilter` filters a data source based on a category.\n",
    "\n",
    "We can also use `bokeh.layouts` to organize our slider and plot on the page.\n",
    "\n",
    "We need to write some JavaScript code to make the visualization work. You can quickly learn the syntax and basic semantics of JavaScript (and many other languages) from [Learn X in Y Minutes, X = JavaScript](https://learnxinyminutes.com/docs/javascript/). See the references at the top of this notebook for more thorough, in-depth tutorials."
   ]
  },
  {
   "cell_type": "code",
   "execution_count": null,
   "id": "05111c9f",
   "metadata": {
    "slideshow": {
     "slide_type": "subslide"
    }
   },
   "outputs": [],
   "source": [
    "import bokeh.models\n",
    "\n",
    "# Set up the slider.\n",
    "start = gapminder[\"year\"].min()\n",
    "end = gapminder[\"year\"].max()\n",
    "slider = bokeh.models.Slider(start = start, end = end, step = 1, value = start)"
   ]
  },
  {
   "cell_type": "code",
   "execution_count": null,
   "id": "4e8f269b",
   "metadata": {},
   "outputs": [],
   "source": [
    "type(slider)"
   ]
  },
  {
   "cell_type": "code",
   "execution_count": null,
   "id": "19033e7b",
   "metadata": {
    "scrolled": true,
    "slideshow": {
     "slide_type": "-"
    }
   },
   "outputs": [],
   "source": [
    "years = gapminder[\"year\"].unique()\n",
    "years"
   ]
  },
  {
   "cell_type": "code",
   "execution_count": null,
   "id": "8b972813",
   "metadata": {
    "slideshow": {
     "slide_type": "subslide"
    }
   },
   "outputs": [],
   "source": [
    "# Set up figure.\n",
    "p = figure(title = str(start), \n",
    "           width = 600, height = 400,\n",
    "           x_range = (0, 10), y_range = (10, 100))\n",
    "p.xaxis.axis_label = \"Fertility Rate\"\n",
    "p.yaxis.axis_label = \"Life Expectancy\""
   ]
  },
  {
   "cell_type": "code",
   "execution_count": null,
   "id": "28aa4311",
   "metadata": {},
   "outputs": [],
   "source": [
    "# Set up data sources.\n",
    "df = gapminder.copy()\n",
    "df[\"sqrt_population\"] = np.sqrt(df[\"population\"]) / 1000\n",
    "df[\"year\"] = df[\"year\"].astype(str)\n",
    "\n",
    "source = bokeh.models.ColumnDataSource(df)\n",
    "view = bokeh.models.CDSView(filter = bokeh.models.GroupFilter(\n",
    "    column_name = \"year\", group = str(start)))"
   ]
  },
  {
   "cell_type": "markdown",
   "id": "2c0e9a1c",
   "metadata": {
    "slideshow": {
     "slide_type": "fragment"
    }
   },
   "source": [
    "This object, by itself, does not interact with the data. "
   ]
  },
  {
   "cell_type": "code",
   "execution_count": null,
   "id": "277b818e",
   "metadata": {
    "slideshow": {
     "slide_type": "subslide"
    }
   },
   "outputs": [],
   "source": [
    "# Add the plot.\n",
    "p.scatter(\"fertility_rate\",  \n",
    "          \"life_expectancy\", \n",
    "          size  = \"sqrt_population\", \n",
    "          source = source, view = view, fill_alpha = 0.2)"
   ]
  },
  {
   "cell_type": "code",
   "execution_count": null,
   "id": "dd8fc5e2",
   "metadata": {
    "slideshow": {
     "slide_type": "subslide"
    }
   },
   "outputs": [],
   "source": [
    "cb = bokeh.models.CustomJS(args = {\n",
    "    \"source\": source, \n",
    "    \"view\": view, \n",
    "    \"figure\": p, \n",
    "    \"years\": years}, code = \"\"\"\n",
    "    // This is the JavaScript code that will run whenever the slider is changed.\n",
    "    // You can use the console.log() function to print values.\n",
    "    \n",
    "    var value = cb_obj.value.toString();\n",
    "    console.log(value)\n",
    "    \n",
    "    view.filters[0].group = value;\n",
    "    figure.title.text = value;\n",
    "    \n",
    "    // Let Bokeh know the data source has changed.\n",
    "    source.change.emit();\n",
    "\"\"\")"
   ]
  },
  {
   "cell_type": "code",
   "execution_count": null,
   "id": "2259d60e",
   "metadata": {
    "slideshow": {
     "slide_type": "subslide"
    }
   },
   "outputs": [],
   "source": [
    "slider.js_on_change(\"value\", cb)"
   ]
  },
  {
   "cell_type": "code",
   "execution_count": null,
   "id": "c9df777e",
   "metadata": {
    "slideshow": {
     "slide_type": "subslide"
    }
   },
   "outputs": [],
   "source": [
    "layout = bokeh.layouts.Column(slider , p)\n",
    "show(layout) "
   ]
  },
  {
   "cell_type": "code",
   "execution_count": null,
   "id": "4fdee609",
   "metadata": {
    "slideshow": {
     "slide_type": "subslide"
    }
   },
   "outputs": [],
   "source": [
    "# Set up the JavaScript callback.\n",
    "# Use cb_obj to refer to the caller widget from a JavaScript callback.\n",
    "cbck = bokeh.models.CustomJS(\n",
    "    args = {\"source\": source, \n",
    "            \"view\": view, \n",
    "            \"figure\": p, \n",
    "            \"years\": years}, \n",
    "    code = \"\"\"\n",
    "    // This is the JavaScript code that will run whenever the slider is changed.\n",
    "    // You can use the console.log() function to print values.\n",
    "    \n",
    "    var year = 1800;\n",
    "    var best_d = 50;\n",
    "    for (var y of years) {\n",
    "        var d = Math.abs(y - cb_obj.value);\n",
    "        \n",
    "        if (d < best_d) {\n",
    "            year = y;\n",
    "            best_d = d;\n",
    "        }\n",
    "    }\n",
    "    \n",
    "    console.log(best_d)\n",
    "    console.log(year)\n",
    "    \n",
    "    var value = year.toString();\n",
    "    view.filters[0].group = value;\n",
    "    figure.title.text = value;\n",
    "    \n",
    "    // Let Bokeh know the data source has changed.\n",
    "    source.change.emit();\n",
    "\"\"\")"
   ]
  },
  {
   "cell_type": "code",
   "execution_count": null,
   "id": "17c29a90",
   "metadata": {
    "slideshow": {
     "slide_type": "subslide"
    }
   },
   "outputs": [],
   "source": [
    "slider.js_on_change(\"value\", cbck)"
   ]
  },
  {
   "cell_type": "code",
   "execution_count": null,
   "id": "8364e759",
   "metadata": {
    "slideshow": {
     "slide_type": "subslide"
    }
   },
   "outputs": [],
   "source": [
    "# Finally, set up the layout and show everything.\n",
    "layout = bokeh.layouts.Column(slider , p)\n",
    "show(layout)"
   ]
  },
  {
   "cell_type": "markdown",
   "id": "6965568b",
   "metadata": {
    "slideshow": {
     "slide_type": "slide"
    }
   },
   "source": [
    "### Server-side\n",
    "\n",
    "Now let's use __bokeh__ make a server-side interactive version of the Gapminder plot. You can use your own computer as a server to test the visualization.\n",
    "\n",
    "The core of a server-side visualization (or \"app\") is a script that controls what's displayed on the page.\n",
    "\n",
    "The following code is located at `gapminder.py`. "
   ]
  },
  {
   "cell_type": "code",
   "execution_count": null,
   "id": "5ae38d49",
   "metadata": {
    "slideshow": {
     "slide_type": "subslide"
    }
   },
   "outputs": [],
   "source": [
    "# Server-side Gapminder Visualization\n",
    "#\n",
    "# Run this script in an Anaconda Prompt with:\n",
    "#\n",
    "#   python -m bokeh serve --show myapp.py\n",
    "#\n",
    "\n",
    "import numpy as np\n",
    "import pandas as pd\n",
    "import copy\n",
    "import bokeh.layouts\n",
    "from bokeh.models import ColumnDataSource, CustomJS, CDSView, GroupFilter\n",
    "from bokeh.models.widgets import Slider\n",
    "from bokeh.plotting import figure, curdoc\n",
    "\n",
    "gapminder = pd.read_csv(\"../data/gapminder.csv\")\n",
    "\n",
    "# Set up the slider.\n",
    "lower = gapminder[\"year\"].min()\n",
    "upper = gapminder[\"year\"].max()\n",
    "slider = Slider(start = lower, end = upper, value = lower, step = 1,\n",
    "        title = \"Year\")\n",
    "\n",
    "# Set up figure.\n",
    "p = figure(title = str(lower), width = 800, height = 600, x_range = (0, 10),\n",
    "        y_range = (10, 100))\n",
    "p.xaxis.axis_label = \"Fertility Rate\"\n",
    "p.yaxis.axis_label = \"Life Expectancy\"\n",
    "\n",
    "# Set up data sources.\n",
    "gapminder[\"sqrt_population\"] = np.sqrt(gapminder[\"population\"]) / 1000\n",
    "is_year = gapminder[\"year\"] == lower\n",
    "source = ColumnDataSource(gapminder[is_year])\n",
    "\n",
    "# Add the plot.\n",
    "p.scatter(\"fertility_rate\", \"life_expectancy\", size = \"sqrt_population\",\n",
    "        source = source, fill_alpha = 0.2)"
   ]
  },
  {
   "cell_type": "code",
   "execution_count": null,
   "id": "9bd82779",
   "metadata": {
    "slideshow": {
     "slide_type": "subslide"
    }
   },
   "outputs": [],
   "source": [
    "# ------------------------------------------------------------\n",
    "# Set up the Python callback.\n",
    "years = gapminder[\"year\"].unique()\n",
    "\n",
    "def callback(attr, old, new):\n",
    "    # Compute the closest year to the slider year.\n",
    "    idx = np.abs(years - slider.value).argmin()\n",
    "    value = years[idx]\n",
    "\n",
    "    # Subset the data with the year.\n",
    "    is_year = gapminder[\"year\"] == value\n",
    "    new_source = ColumnDataSource(gapminder[is_year])\n",
    "\n",
    "    # Set the title and update the data source.\n",
    "    p.title.text = str(value)\n",
    "    source.data = dict(new_source.data)\n",
    "\n",
    "slider.on_change(\"value\", callback)\n",
    "# ------------------------------------------------------------"
   ]
  },
  {
   "cell_type": "code",
   "execution_count": null,
   "id": "50284b74",
   "metadata": {
    "scrolled": true,
    "slideshow": {
     "slide_type": "subslide"
    }
   },
   "outputs": [],
   "source": [
    "# Finally, set up the layout and show everything.\n",
    "layout = bokeh.layouts.column(slider, p)\n",
    "\n",
    "curdoc().add_root(layout) "
   ]
  },
  {
   "cell_type": "markdown",
   "id": "a9654006",
   "metadata": {
    "slideshow": {
     "slide_type": "slide"
    }
   },
   "source": [
    "### Running the App\n",
    "\n",
    "In order to see the visualization, we have to run a __bokeh__ server. You can start a __bokeh__ server for `myapp.py` in an Anaconda Prompt (or Terminal) with the command:\n",
    "\n",
    "```sh\n",
    "python -m bokeh serve --show myapp.py\n",
    "```\n",
    "\n",
    "Be careful to specify the path to `myapp.py` correctly relative to the working directory!"
   ]
  },
  {
   "cell_type": "code",
   "execution_count": null,
   "id": "b2550b41",
   "metadata": {},
   "outputs": [],
   "source": [
    "#"
   ]
  },
  {
   "cell_type": "code",
   "execution_count": null,
   "id": "a226a8e5",
   "metadata": {
    "scrolled": true
   },
   "outputs": [],
   "source": [
    "!python -m bokeh serve --show ../data/myapp.py"
   ]
  },
  {
   "cell_type": "markdown",
   "id": "234064f2",
   "metadata": {
    "slideshow": {
     "slide_type": "slide"
    }
   },
   "source": [
    "### Summary \n",
    "\n",
    "- Communicate knowledge through graphics.\n",
    "- Best if user can explore on her own. \n",
    "- Make sure that your plots adequate to the data, spatial data to maps, temporal to with slider, ect. "
   ]
  }
 ],
 "metadata": {
  "celltoolbar": "Slideshow",
  "kernelspec": {
   "display_name": "Python 3 (ipykernel)",
   "language": "python",
   "name": "python3"
  },
  "language_info": {
   "codemirror_mode": {
    "name": "ipython",
    "version": 3
   },
   "file_extension": ".py",
   "mimetype": "text/x-python",
   "name": "python",
   "nbconvert_exporter": "python",
   "pygments_lexer": "ipython3",
   "version": "3.9.12"
  },
  "vscode": {
   "interpreter": {
    "hash": "b2b12ec50b0a525a62abe739e766b0c808eccd181e3f804cedbbca00f4d5b392"
   }
  }
 },
 "nbformat": 4,
 "nbformat_minor": 5
}
